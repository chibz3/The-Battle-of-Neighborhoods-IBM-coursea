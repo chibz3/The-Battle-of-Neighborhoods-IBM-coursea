{
 "cells": [
  {
   "cell_type": "markdown",
   "metadata": {},
   "source": [
    "\n",
    "# Report: The Battle of the Neighborhoods\n",
    "Table of contents\n",
    "\n",
    "Introduction:\n",
    "\n",
    "- Business Problem\n",
    "- Data\n",
    "- Methodology\n",
    "- Analysis\n",
    "- Results and Discussion\n",
    "- Conclusion\n",
    "\n",
    "\n",
    "## Introduction\n",
    "In this project we will explore data from the city of New York.\n",
    "\n",
    "The aim is to identify the best place to open a new Chinese food restaurant in the city, which location would be the most appropriate taking into account the competitors and the inhabitants of the different neighborhoods of the city.\n",
    "\n",
    "## Business Problem\n",
    "New York City is one of the most populous city in United States with a population of 8.39 million in 2020. It is a hub of diverse cultures combining all facets of the globe.\n",
    "\n",
    "NYC is a major industrial center and the financial capital of the world. There are 5 boroughs in the city, and with such a large geographical area there is a huge competition between companies. Thus there is big challenge in figuring out the most ideal spots to open up a new business and maximizing profits.\n",
    "\n",
    "## Target Audience of this project and some demographic facts\n",
    "This project is particularly useful to developers and investors looking to open or\n",
    "invest in a Chinese restaurantin the city of New York. Overall, New York is a\n",
    "great place to open a restaurant with an ethnical cuisine. As New York is the most\n",
    "diverse city in the world (800 languages are spoken in New York). With its diverse\n",
    "culture, comes diversity in the food items. There are many restaurants in New York\n",
    "City, each belonging to different categories like Chinese, Indian, French, etc. Why\n",
    "did we decide to focus on Japanese cuisine in our project? Now when the idea of\n",
    "a healthy lifestyle conquered the minds of people all over the country, Chinese restaurants became extremely popular, as they offer a healthy alternative to\n",
    "regular American eating habits.\n",
    "\n",
    "\n",
    "## Data\n",
    "For the below analysis we will get data from wikipedia as given below: New York Population New York City Demographics Cuisine of New York City\n",
    "\n",
    "https://en.wikipedia.org/wiki/New_York_City\n",
    "https://en.wikipedia.org/wiki/Economy_of_New_York_City\n",
    "https://en.wikipedia.org/wiki/Portal:New_York_City\n",
    "https://en.wikipedia.org/wiki/Cuisine_of_New_York_City\n",
    "https://en.wikipedia.org/wiki/List_of_Michelin_starred_restaurants_in_New_York_City\n",
    "New York City geographical coordinates data will be utilized as input for the Foursquare API, that will be leveraged to provision venues information for each neighborhood. We will use the Foursquare API to explore neighborhoods in New York City. The below is image of the Foursquare API data.\n",
    "\n",
    "\n",
    "\n",
    "## Methodology\n",
    "The main motto of this project is to find the best location to open a new restaurant in NYC; based on competition in different localities & their population.\n",
    "\n",
    "So, to do this I have used two different data sets available as mentioned above. Those two data sets contain locality information of NYC, different age groups of people, & population.\n",
    "\n",
    "To solve this problem I am going to use the “K-Means Clustering Algorithm\". K-means clustering is a type of unsupervised learning, which is used when you have unlabeled data (i.e., data without defined categories or groups). The goal of this algorithm is to find groups in the data, with the number of groups represented by the variable K. The algorithm works iteratively to assign each data point to one of K groups based on the features that are provided. Data points are clustered based on feature similarity. The results of the K-means clustering algorithm are:\n",
    "\n",
    "- The centroids of the K clusters, which can be used to label new data labels for the training data (each data point is assigned to a single cluster).\n",
    "I will be utilizing different maps in-order to give a more clear vision to the target audience.\n",
    "\n",
    "Steps I took for the analysis:\n",
    "\n",
    "- Collected required data: location and type (category) of every restaurant within our lat and lng. We also have the particular type of resutaurants locality.\n",
    "\n",
    "- Explored the \"restaurant density\" across different areas of NYC - we will use K- means to identify a few promising areas close to the center with low number of restaurants & their type.\n",
    "\n",
    "- Explored the most promising areas & within those create clusters of locations that meet some basic requirements established in discussion with stakeholders. We will take into consideration locations with less restaurants in radius of 500 meters. We will also present the map of all such locations but also create clusters (using K-means clustering) of those locations to explore the neighborhoods.\n",
    "\n",
    "\n",
    "\n",
    "## Analysis\n",
    "### Data identifiaction, capturing and cleaning.\n",
    "\n",
    "Search & identify the relevant data source & capture it. Here we are using Wikipedia to get data about New York City. Then we remove all the redundant values (Data Cleaning). Then we combine neighborhoods similar to the Bronx. Now the data is cleaned & ready to use.\n",
    "\n",
    "### Combining different data source and sorting neighborhood based on Longitude and latitude\n",
    "Now, we will combine the neighborhood datasets with the postal address' alongside the dataset with Latitude & Longitude and save them into seperate data frames. The resulting data frame will contain details about Postal Codes, Broughs, Neighborhoods, and Latitude & Longitude. We finally then visualize it using the folium map.\n",
    "\n",
    "### Explore the NYC's neighborhoods\n",
    "Firstly, we explored all the neighborhoods in the city of New york, using the Latitude & Longitude data, using Foresquare API to get the Restaurant venues available in NYC.Explore the unique categories in the neighborhood.Filter the Venues details for all possible ‘Chinese Restaurants’. Find each neighborhood along with the top most common venues.Identify the top 10 venues for each neighborhood.\n",
    "\n",
    "### Clustering\n",
    "With an assumption of 5 clusters, use K-Cluster algorithm to come up with 5 different clusters in NYC with similar set of Venues.Explore each cluster and determine the discriminating venue categories that distinguish each cluster. Identify the clusters & Boroughs/Neighborhoods with Maximum number restaurants and their types.\n",
    "\n",
    "### Results and Discussion\n",
    "Results\n",
    "The results of our analysis showed below:\n",
    "- We see that Queens has the highest number of Neighborhoods.\n",
    "\n"
   ]
  },
  {
   "attachments": {},
   "cell_type": "markdown",
   "metadata": {},
   "source": [
    "![image.png](NYC_1.png)"
   ]
  },
  {
   "cell_type": "markdown",
   "metadata": {},
   "source": [
    "- Queens also has the highest number of chinese restaurants"
   ]
  },
  {
   "attachments": {},
   "cell_type": "markdown",
   "metadata": {},
   "source": [
    "![image.png](NYC_2.png)"
   ]
  },
  {
   "cell_type": "markdown",
   "metadata": {},
   "source": [
    "- Chinatown in manhattan  has the highest number of chinese resturant "
   ]
  },
  {
   "attachments": {},
   "cell_type": "markdown",
   "metadata": {},
   "source": [
    "![image.png](NYC_3.png)"
   ]
  },
  {
   "cell_type": "code",
   "execution_count": null,
   "metadata": {},
   "outputs": [],
   "source": []
  },
  {
   "cell_type": "markdown",
   "metadata": {},
   "source": [
    "## Discussion Section\n",
    "Based on the results of our analysis, I would state that Manhattan and Brooklyn\n",
    "are the best locations for Chinese cuisine in NYC. To have the best shot of\n",
    "success, I would open a Chinese restaurant in Brooklyn. Brooklyn has multiple\n",
    "neighborhoods with average ratings exceeding 8.0 on a scale of 1.0 to 10.0 and\n",
    "has less amount of Chinese restaurants than Manhattan, making competition\n",
    "easier. In addition, we should keep in mind, that real estate prices in Brooklyn are\n",
    "much cheaper than in Manhattan. Particularly, I would recommend considering\n",
    "opening a chinese Restaurant either in Cobble Hill or in North Side, because both\n",
    "of these neighborhoods have the highest rating for Chinese restaurants. "
   ]
  },
  {
   "cell_type": "markdown",
   "metadata": {},
   "source": [
    "## Limitations and suggestions for future researches\n",
    "All of the above analysis is depended on the accuracy of Four Square data.\n",
    "Besides, during this project, we used a free Sandbox Tier Account of Foursquare\n",
    "API that goes with limitations as to the number of API calls and results\n",
    "returned. To get better results, future research work and more comprehensive\n",
    "analysis could consider using a paid account to bypass these limitations as well as\n",
    "incorporating data from other external databases."
   ]
  },
  {
   "cell_type": "markdown",
   "metadata": {},
   "source": [
    "## Conclusions\n",
    "In the project we have gone through the process of identifying the business\n",
    "problem, specifying the data required, extracting and preparing the data,\n",
    "performing data analysis, and lastly providing recommendations to the\n",
    "investors/developers. During the project, we applied different data science\n",
    "methods and instruments to get the answer to our main question: “Where in the\n",
    "City of New York,should the investor open a Chinese Restaurant?” The findings\n",
    "of this project will help the relevant investor better understand the advantages\n",
    "and disadvantages of different New York neighborhoods/boroughs in terms of\n",
    "opening a Chinese restaurant."
   ]
  },
  {
   "cell_type": "code",
   "execution_count": null,
   "metadata": {},
   "outputs": [],
   "source": []
  }
 ],
 "metadata": {
  "kernelspec": {
   "display_name": "Python 3",
   "language": "python",
   "name": "python3"
  },
  "language_info": {
   "codemirror_mode": {
    "name": "ipython",
    "version": 3
   },
   "file_extension": ".py",
   "mimetype": "text/x-python",
   "name": "python",
   "nbconvert_exporter": "python",
   "pygments_lexer": "ipython3",
   "version": "3.7.6"
  }
 },
 "nbformat": 4,
 "nbformat_minor": 4
}

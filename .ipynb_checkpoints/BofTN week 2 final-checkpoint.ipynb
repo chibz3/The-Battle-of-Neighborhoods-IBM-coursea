{
 "cells": [
  {
   "cell_type": "code",
   "execution_count": 2,
   "metadata": {},
   "outputs": [
    {
     "name": "stdout",
     "output_type": "stream",
     "text": [
      "Collecting package metadata (current_repodata.json): done\n",
      "Solving environment: done\n",
      "\n",
      "# All requested packages already installed.\n",
      "\n",
      "Libraries imported.\n"
     ]
    }
   ],
   "source": [
    "import numpy as np # library to handle data in a vectorized manner\n",
    "\n",
    "import pandas as pd # library for data analsysis\n",
    "pd.set_option('display.max_columns', None)\n",
    "pd.set_option('display.max_rows', None)\n",
    "\n",
    "import requests # library to handle requests\n",
    "\n",
    "#from bs4 import BeautifulSoup\n",
    "import os\n",
    "\n",
    "!conda install -c conda-forge folium=0.5.0 --yes\n",
    "import folium # map rendering library\n",
    "\n",
    "#!conda install -c conda-forge geopy --yes\n",
    "from geopy.geocoders import Nominatim # convert an address into latitude and longitude values\n",
    "import requests # library to handle requests\n",
    "\n",
    "# Matplotlib and associated plotting modules\n",
    "import matplotlib.pyplot as plt\n",
    "import matplotlib.cm as cm\n",
    "import matplotlib.colors as colors\n",
    "%matplotlib inline\n",
    "\n",
    "import seaborn as sns\n",
    "\n",
    "print('Libraries imported.')"
   ]
  },
  {
   "cell_type": "markdown",
   "metadata": {},
   "source": [
    "### My key\n"
   ]
  },
  {
   "cell_type": "code",
   "execution_count": 15,
   "metadata": {},
   "outputs": [],
   "source": [
    "CLIENT_ID = 'QEF4SFROUUVOQKNPAFNNRDUW4ACAWSYYG312LM3BKEDDKPIZ' # your Foursquare ID\n",
    "CLIENT_SECRET = 'CCBFW1WDVTUYDLPFX3SR0QBB5R2UKRYOZ3F1JDJ3PLQMPDRM' # your Foursquare Secret\n",
    "VERSION = '20180604'\n"
   ]
  },
  {
   "cell_type": "markdown",
   "metadata": {},
   "source": [
    "### Function"
   ]
  },
  {
   "cell_type": "code",
   "execution_count": 16,
   "metadata": {},
   "outputs": [],
   "source": [
    "def geo_location(address):\n",
    "    # get geo location of address\n",
    "    geolocator = Nominatim(user_agent=\"foursquare_agent\")\n",
    "    location = geolocator.geocode(address)\n",
    "    latitude = location.latitude\n",
    "    longitude = location.longitude\n",
    "    return latitude,longitude\n",
    "\n",
    "\n",
    "def get_venues(lat,lng):\n",
    "    #set variables\n",
    "    radius=400\n",
    "    LIMIT=100\n",
    "    #url to fetch data from foursquare api\n",
    "    url = 'https://api.foursquare.com/v2/venues/explore?&client_id={}&client_secret={}&v={}&ll={},{}&radius={}&limit={}'.format(\n",
    "            CLIENT_ID, \n",
    "            CLIENT_SECRET, \n",
    "            VERSION, \n",
    "            lat, \n",
    "            lng, \n",
    "            radius, \n",
    "            LIMIT)\n",
    "    # get all the data\n",
    "    results = requests.get(url).json()\n",
    "    venue_data=results['response']['groups'][0]['items']\n",
    "    venue_details=[]\n",
    "    for row in venue_data:\n",
    "        try:\n",
    "            venue_id=row['venue']['id']\n",
    "            venue_name=row['venue']['name']\n",
    "            venue_category=row['venue']['categories'][0]['name']\n",
    "            venue_details.append([venue_id,venue_name,venue_category])\n",
    "        except KeyError:\n",
    "            pass\n",
    "    column_names=['ID','Name','Category']\n",
    "    df = pd.DataFrame(venue_details,columns=column_names)\n",
    "    return df\n",
    "\n",
    "\n",
    "def get_venue_details(venue_id):\n",
    "    #url to fetch data from foursquare api\n",
    "    url = 'https://api.foursquare.com/v2/venues/{}?&client_id={}&client_secret={}&v={}'.format(\n",
    "            venue_id,\n",
    "            CLIENT_ID, \n",
    "            CLIENT_SECRET, \n",
    "            VERSION)\n",
    "    # get all the data\n",
    "    results = requests.get(url).json()\n",
    "    print(results)\n",
    "    venue_data=results['response']['venue']\n",
    "    venue_details=[]\n",
    "    try:\n",
    "        venue_id=venue_data['id']\n",
    "        venue_name=venue_data['name']\n",
    "        venue_likes=venue_data['likes']['count']\n",
    "        venue_rating=venue_data['rating']\n",
    "        venue_tips=venue_data['tips']['count']\n",
    "        venue_details.append([venue_id,venue_name,venue_likes,venue_rating,venue_tips])\n",
    "    except KeyError:\n",
    "        pass\n",
    "    column_names=['ID','Name','Likes','Rating','Tips']\n",
    "    df = pd.DataFrame(venue_details,columns=column_names)\n",
    "    return df\n",
    "\n",
    "\n",
    "def get_new_york_data():\n",
    "    url='https://cocl.us/new_york_dataset'\n",
    "    resp=requests.get(url).json()\n",
    "    # all data is present in features label\n",
    "    features=resp['features']\n",
    "    # define the dataframe columns\n",
    "    column_names = ['Borough', 'Neighborhood', 'Latitude', 'Longitude'] \n",
    "    # instantiate the dataframe\n",
    "    new_york_data = pd.DataFrame(columns=column_names)\n",
    "    for data in features:\n",
    "        borough = data['properties']['borough'] \n",
    "        neighborhood_name = data['properties']['name']\n",
    "        neighborhood_latlon = data['geometry']['coordinates']\n",
    "        neighborhood_lat = neighborhood_latlon[1]\n",
    "        neighborhood_lon = neighborhood_latlon[0]\n",
    "        new_york_data = new_york_data.append({'Borough': borough,\n",
    "                                          'Neighborhood': neighborhood_name,\n",
    "                                          'Latitude': neighborhood_lat,\n",
    "                                          'Longitude': neighborhood_lon}, ignore_index=True)\n",
    "    return new_york_data"
   ]
  },
  {
   "cell_type": "markdown",
   "metadata": {},
   "source": [
    "### NYC data"
   ]
  },
  {
   "cell_type": "code",
   "execution_count": 17,
   "metadata": {},
   "outputs": [
    {
     "data": {
      "text/html": [
       "<div>\n",
       "<style scoped>\n",
       "    .dataframe tbody tr th:only-of-type {\n",
       "        vertical-align: middle;\n",
       "    }\n",
       "\n",
       "    .dataframe tbody tr th {\n",
       "        vertical-align: top;\n",
       "    }\n",
       "\n",
       "    .dataframe thead th {\n",
       "        text-align: right;\n",
       "    }\n",
       "</style>\n",
       "<table border=\"1\" class=\"dataframe\">\n",
       "  <thead>\n",
       "    <tr style=\"text-align: right;\">\n",
       "      <th></th>\n",
       "      <th>Borough</th>\n",
       "      <th>Neighborhood</th>\n",
       "      <th>Latitude</th>\n",
       "      <th>Longitude</th>\n",
       "    </tr>\n",
       "  </thead>\n",
       "  <tbody>\n",
       "    <tr>\n",
       "      <th>0</th>\n",
       "      <td>Bronx</td>\n",
       "      <td>Wakefield</td>\n",
       "      <td>40.894705</td>\n",
       "      <td>-73.847201</td>\n",
       "    </tr>\n",
       "    <tr>\n",
       "      <th>1</th>\n",
       "      <td>Bronx</td>\n",
       "      <td>Co-op City</td>\n",
       "      <td>40.874294</td>\n",
       "      <td>-73.829939</td>\n",
       "    </tr>\n",
       "    <tr>\n",
       "      <th>2</th>\n",
       "      <td>Bronx</td>\n",
       "      <td>Eastchester</td>\n",
       "      <td>40.887556</td>\n",
       "      <td>-73.827806</td>\n",
       "    </tr>\n",
       "    <tr>\n",
       "      <th>3</th>\n",
       "      <td>Bronx</td>\n",
       "      <td>Fieldston</td>\n",
       "      <td>40.895437</td>\n",
       "      <td>-73.905643</td>\n",
       "    </tr>\n",
       "    <tr>\n",
       "      <th>4</th>\n",
       "      <td>Bronx</td>\n",
       "      <td>Riverdale</td>\n",
       "      <td>40.890834</td>\n",
       "      <td>-73.912585</td>\n",
       "    </tr>\n",
       "  </tbody>\n",
       "</table>\n",
       "</div>"
      ],
      "text/plain": [
       "  Borough Neighborhood   Latitude  Longitude\n",
       "0   Bronx    Wakefield  40.894705 -73.847201\n",
       "1   Bronx   Co-op City  40.874294 -73.829939\n",
       "2   Bronx  Eastchester  40.887556 -73.827806\n",
       "3   Bronx    Fieldston  40.895437 -73.905643\n",
       "4   Bronx    Riverdale  40.890834 -73.912585"
      ]
     },
     "execution_count": 17,
     "metadata": {},
     "output_type": "execute_result"
    }
   ],
   "source": [
    "\n",
    "ny_data = get_new_york_data()\n",
    "ny_data.head()"
   ]
  },
  {
   "cell_type": "code",
   "execution_count": 18,
   "metadata": {},
   "outputs": [
    {
     "data": {
      "text/plain": [
       "(306, 4)"
      ]
     },
     "execution_count": 18,
     "metadata": {},
     "output_type": "execute_result"
    }
   ],
   "source": [
    "ny_data.shape\n"
   ]
  },
  {
   "cell_type": "markdown",
   "metadata": {},
   "source": [
    "### Exploratory Data Analysis"
   ]
  },
  {
   "cell_type": "code",
   "execution_count": 19,
   "metadata": {},
   "outputs": [
    {
     "data": {
      "image/png": "[encoded data removed]",
      "text/plain": [
       "<Figure size 720x360 with 1 Axes>"
      ]
     },
     "metadata": {
      "needs_background": "light"
     },
     "output_type": "display_data"
    }
   ],
   "source": [
    "clr = \"green\"\n",
    "ny_data.groupby('Borough')['Neighborhood'].count().plot.bar(figsize=(10,5), color=clr)\n",
    "plt.title('Neighborhoods per Borough: NYC', fontsize = 20)\n",
    "plt.xlabel('Borough', fontsize = 15)\n",
    "plt.ylabel('No. Neighborhoods',fontsize = 15)\n",
    "plt.xticks(rotation = 'horizontal')\n",
    "plt.legend()\n",
    "plt.show()"
   ]
  },
  {
   "cell_type": "markdown",
   "metadata": {},
   "source": [
    "\n",
    "### Let's analyze further and see how many Chinese restaurants there are in each neighborhood and borough. After it, graph the results"
   ]
  },
  {
   "cell_type": "code",
   "execution_count": 26,
   "metadata": {},
   "outputs": [
    {
     "name": "stdout",
     "output_type": "stream",
     "text": [
      "( 1 / 306 ) Chinese Restaurants in Wakefield, Bronx:0\n",
      "['Bronx', 'Wakefield', 40.89470517661, -73.84720052054902]\n",
      "( 1 / 306 ) Chinese Restaurants in Co-op City, Bronx:0\n",
      "['Bronx', 'Co-op City', 40.87429419303012, -73.82993910812398]\n",
      "( 1 / 306 ) Chinese Restaurants in Eastchester, Bronx:0\n",
      "['Bronx', 'Eastchester', 40.887555677350775, -73.82780644716412]\n",
      "( 1 / 306 ) Chinese Restaurants in Fieldston, Bronx:0\n",
      "['Bronx', 'Fieldston', 40.89543742690383, -73.90564259591682]\n",
      "( 1 / 306 ) Chinese Restaurants in Riverdale, Bronx:0\n",
      "['Bronx', 'Riverdale', 40.890834493891305, -73.9125854610857]\n",
      "( 1 / 306 ) Chinese Restaurants in Kingsbridge, Bronx:0\n",
      "['Bronx', 'Kingsbridge', 40.88168737120521, -73.90281798724604]\n",
      "( 1 / 306 ) Chinese Restaurants in Marble Hill, Manhattan:0\n",
      "['Manhattan', 'Marble Hill', 40.87655077879964, -73.91065965862981]\n",
      "( 1 / 306 ) Chinese Restaurants in Woodlawn, Bronx:0\n",
      "['Bronx', 'Woodlawn', 40.89827261213805, -73.86731496814176]\n",
      "( 1 / 306 ) Chinese Restaurants in Norwood, Bronx:0\n",
      "['Bronx', 'Norwood', 40.87722415599446, -73.8793907395681]\n",
      "( 1 / 306 ) Chinese Restaurants in Williamsbridge, Bronx:0\n",
      "['Bronx', 'Williamsbridge', 40.88103887819211, -73.85744642974207]\n",
      "( 1 / 306 ) Chinese Restaurants in Baychester, Bronx:0\n",
      "['Bronx', 'Baychester', 40.866858107252696, -73.83579759808117]\n",
      "( 1 / 306 ) Chinese Restaurants in Pelham Parkway, Bronx:0\n",
      "['Bronx', 'Pelham Parkway', 40.85741349808865, -73.85475564017999]\n",
      "( 1 / 306 ) Chinese Restaurants in City Island, Bronx:0\n",
      "['Bronx', 'City Island', 40.84724670491813, -73.78648845267413]\n",
      "( 1 / 306 ) Chinese Restaurants in Bedford Park, Bronx:0\n",
      "['Bronx', 'Bedford Park', 40.870185164975325, -73.8855121841913]\n",
      "( 1 / 306 ) Chinese Restaurants in University Heights, Bronx:0\n",
      "['Bronx', 'University Heights', 40.85572707719664, -73.9104159619131]\n",
      "( 1 / 306 ) Chinese Restaurants in Morris Heights, Bronx:0\n",
      "['Bronx', 'Morris Heights', 40.84789792606271, -73.91967159119565]\n",
      "( 1 / 306 ) Chinese Restaurants in Fordham, Bronx:0\n",
      "['Bronx', 'Fordham', 40.86099679638654, -73.89642655981623]\n",
      "( 1 / 306 ) Chinese Restaurants in East Tremont, Bronx:0\n",
      "['Bronx', 'East Tremont', 40.84269615786053, -73.88735617532338]\n",
      "( 1 / 306 ) Chinese Restaurants in West Farms, Bronx:0\n",
      "['Bronx', 'West Farms', 40.83947505672653, -73.87774474910545]\n",
      "( 1 / 306 ) Chinese Restaurants in High  Bridge, Bronx:0\n",
      "['Bronx', 'High  Bridge', 40.836623010706056, -73.9261020935813]\n",
      "( 1 / 306 ) Chinese Restaurants in Melrose, Bronx:0\n",
      "['Bronx', 'Melrose', 40.819754370594936, -73.90942160757436]\n",
      "( 1 / 306 ) Chinese Restaurants in Mott Haven, Bronx:0\n",
      "['Bronx', 'Mott Haven', 40.80623874935177, -73.91609987487575]\n",
      "( 1 / 306 ) Chinese Restaurants in Port Morris, Bronx:0\n",
      "['Bronx', 'Port Morris', 40.801663627756206, -73.91322139386135]\n",
      "( 1 / 306 ) Chinese Restaurants in Longwood, Bronx:0\n",
      "['Bronx', 'Longwood', 40.81509904545822, -73.8957882009446]\n",
      "( 1 / 306 ) Chinese Restaurants in Hunts Point, Bronx:0\n",
      "['Bronx', 'Hunts Point', 40.80972987938709, -73.88331505955291]\n",
      "( 1 / 306 ) Chinese Restaurants in Morrisania, Bronx:0\n",
      "['Bronx', 'Morrisania', 40.82359198585534, -73.90150648943059]\n",
      "( 1 / 306 ) Chinese Restaurants in Soundview, Bronx:0\n",
      "['Bronx', 'Soundview', 40.821012197914015, -73.86574609554924]\n",
      "( 1 / 306 ) Chinese Restaurants in Clason Point, Bronx:0\n",
      "['Bronx', 'Clason Point', 40.80655112003589, -73.85414416189266]\n",
      "( 1 / 306 ) Chinese Restaurants in Throgs Neck, Bronx:0\n",
      "['Bronx', 'Throgs Neck', 40.81510925804005, -73.81635002158441]\n",
      "( 1 / 306 ) Chinese Restaurants in Country Club, Bronx:0\n",
      "['Bronx', 'Country Club', 40.844245936947374, -73.8240992675385]\n",
      "( 1 / 306 ) Chinese Restaurants in Parkchester, Bronx:0\n",
      "['Bronx', 'Parkchester', 40.837937822267286, -73.85600310535783]\n",
      "( 1 / 306 ) Chinese Restaurants in Westchester Square, Bronx:0\n",
      "['Bronx', 'Westchester Square', 40.8406194964327, -73.84219407604444]\n",
      "( 1 / 306 ) Chinese Restaurants in Van Nest, Bronx:0\n",
      "['Bronx', 'Van Nest', 40.84360847124718, -73.8662991807561]\n",
      "( 1 / 306 ) Chinese Restaurants in Morris Park, Bronx:0\n",
      "['Bronx', 'Morris Park', 40.847549063536334, -73.85040178030421]\n",
      "( 1 / 306 ) Chinese Restaurants in Belmont, Bronx:0\n",
      "['Bronx', 'Belmont', 40.85727710073895, -73.88845196134804]\n",
      "( 1 / 306 ) Chinese Restaurants in Spuyten Duyvil, Bronx:0\n",
      "['Bronx', 'Spuyten Duyvil', 40.88139497727086, -73.91719048210393]\n",
      "( 1 / 306 ) Chinese Restaurants in North Riverdale, Bronx:0\n",
      "['Bronx', 'North Riverdale', 40.90854282950666, -73.90453054908927]\n",
      "( 1 / 306 ) Chinese Restaurants in Pelham Bay, Bronx:0\n",
      "['Bronx', 'Pelham Bay', 40.85064140940335, -73.8320737824047]\n",
      "( 1 / 306 ) Chinese Restaurants in Schuylerville, Bronx:0\n",
      "['Bronx', 'Schuylerville', 40.82657951686922, -73.82620275994073]\n",
      "( 1 / 306 ) Chinese Restaurants in Edgewater Park, Bronx:0\n",
      "['Bronx', 'Edgewater Park', 40.821986118163494, -73.81388514428619]\n",
      "( 1 / 306 ) Chinese Restaurants in Castle Hill, Bronx:0\n",
      "['Bronx', 'Castle Hill', 40.819014376988314, -73.84802729582735]\n",
      "( 1 / 306 ) Chinese Restaurants in Olinville, Bronx:0\n",
      "['Bronx', 'Olinville', 40.87137078192371, -73.86332361652777]\n",
      "( 1 / 306 ) Chinese Restaurants in Pelham Gardens, Bronx:0\n",
      "['Bronx', 'Pelham Gardens', 40.86296562477998, -73.84161194831223]\n",
      "( 1 / 306 ) Chinese Restaurants in Concourse, Bronx:0\n",
      "['Bronx', 'Concourse', 40.83428380733851, -73.91558941773444]\n",
      "( 1 / 306 ) Chinese Restaurants in Unionport, Bronx:0\n",
      "['Bronx', 'Unionport', 40.82977429787161, -73.85053524451935]\n",
      "( 1 / 306 ) Chinese Restaurants in Edenwald, Bronx:0\n",
      "['Bronx', 'Edenwald', 40.88456130303732, -73.84808271877168]\n",
      "( 1 / 306 ) Chinese Restaurants in Bay Ridge, Brooklyn:0\n",
      "['Brooklyn', 'Bay Ridge', 40.625801065010656, -74.03062069353813]\n",
      "( 1 / 306 ) Chinese Restaurants in Bensonhurst, Brooklyn:0\n",
      "['Brooklyn', 'Bensonhurst', 40.61100890202044, -73.99517998380729]\n",
      "( 1 / 306 ) Chinese Restaurants in Sunset Park, Brooklyn:0\n",
      "['Brooklyn', 'Sunset Park', 40.64510294925429, -74.01031618527784]\n",
      "( 1 / 306 ) Chinese Restaurants in Greenpoint, Brooklyn:0\n",
      "['Brooklyn', 'Greenpoint', 40.7302009848647, -73.95424093127393]\n",
      "( 1 / 306 ) Chinese Restaurants in Gravesend, Brooklyn:0\n",
      "['Brooklyn', 'Gravesend', 40.59526001306593, -73.97347087708445]\n",
      "( 1 / 306 ) Chinese Restaurants in Brighton Beach, Brooklyn:0\n",
      "['Brooklyn', 'Brighton Beach', 40.57682506566604, -73.96509448785336]\n",
      "( 1 / 306 ) Chinese Restaurants in Sheepshead Bay, Brooklyn:0\n",
      "['Brooklyn', 'Sheepshead Bay', 40.58689012678384, -73.94318640482979]\n",
      "( 1 / 306 ) Chinese Restaurants in Manhattan Terrace, Brooklyn:0\n",
      "['Brooklyn', 'Manhattan Terrace', 40.61443251335098, -73.95743840559939]\n",
      "( 1 / 306 ) Chinese Restaurants in Flatbush, Brooklyn:0\n",
      "['Brooklyn', 'Flatbush', 40.63632589026677, -73.95840106533903]\n",
      "( 1 / 306 ) Chinese Restaurants in Crown Heights, Brooklyn:0\n",
      "['Brooklyn', 'Crown Heights', 40.67082917695294, -73.94329119073582]\n",
      "( 1 / 306 ) Chinese Restaurants in East Flatbush, Brooklyn:0\n",
      "['Brooklyn', 'East Flatbush', 40.64171776668961, -73.93610256185836]\n",
      "( 1 / 306 ) Chinese Restaurants in Kensington, Brooklyn:0\n",
      "['Brooklyn', 'Kensington', 40.642381958003526, -73.98042110559474]\n",
      "( 1 / 306 ) Chinese Restaurants in Windsor Terrace, Brooklyn:0\n",
      "['Brooklyn', 'Windsor Terrace', 40.65694583575104, -73.98007340430172]\n",
      "( 1 / 306 ) Chinese Restaurants in Prospect Heights, Brooklyn:0\n",
      "['Brooklyn', 'Prospect Heights', 40.676822262254724, -73.9648592426269]\n",
      "( 1 / 306 ) Chinese Restaurants in Brownsville, Brooklyn:0\n",
      "['Brooklyn', 'Brownsville', 40.66394994339755, -73.91023536176607]\n",
      "( 1 / 306 ) Chinese Restaurants in Williamsburg, Brooklyn:0\n",
      "['Brooklyn', 'Williamsburg', 40.70714439344251, -73.95811529220927]\n",
      "( 1 / 306 ) Chinese Restaurants in Bushwick, Brooklyn:0\n",
      "['Brooklyn', 'Bushwick', 40.69811611017901, -73.92525797487045]\n",
      "( 1 / 306 ) Chinese Restaurants in Bedford Stuyvesant, Brooklyn:0\n",
      "['Brooklyn', 'Bedford Stuyvesant', 40.687231607720456, -73.94178488690297]\n",
      "( 1 / 306 ) Chinese Restaurants in Brooklyn Heights, Brooklyn:0\n",
      "['Brooklyn', 'Brooklyn Heights', 40.695863722724084, -73.99378225496424]\n",
      "( 1 / 306 ) Chinese Restaurants in Cobble Hill, Brooklyn:0\n",
      "['Brooklyn', 'Cobble Hill', 40.687919722485574, -73.99856139218463]\n",
      "( 1 / 306 ) Chinese Restaurants in Carroll Gardens, Brooklyn:0\n",
      "['Brooklyn', 'Carroll Gardens', 40.680540231076485, -73.99465372828006]\n"
     ]
    },
    {
     "name": "stdout",
     "output_type": "stream",
     "text": [
      "( 1 / 306 ) Chinese Restaurants in Red Hook, Brooklyn:0\n",
      "['Brooklyn', 'Red Hook', 40.676253230250886, -74.0127589747356]\n",
      "( 1 / 306 ) Chinese Restaurants in Gowanus, Brooklyn:0\n",
      "['Brooklyn', 'Gowanus', 40.673931143187154, -73.99444087145339]\n",
      "( 1 / 306 ) Chinese Restaurants in Fort Greene, Brooklyn:0\n",
      "['Brooklyn', 'Fort Greene', 40.68852726018977, -73.97290574369092]\n",
      "( 1 / 306 ) Chinese Restaurants in Park Slope, Brooklyn:0\n",
      "['Brooklyn', 'Park Slope', 40.67232052268197, -73.97705030183924]\n",
      "( 1 / 306 ) Chinese Restaurants in Cypress Hills, Brooklyn:0\n",
      "['Brooklyn', 'Cypress Hills', 40.68239101144211, -73.87661596457296]\n",
      "( 1 / 306 ) Chinese Restaurants in East New York, Brooklyn:0\n",
      "['Brooklyn', 'East New York', 40.669925700847045, -73.88069863917366]\n",
      "( 1 / 306 ) Chinese Restaurants in Starrett City, Brooklyn:0\n",
      "['Brooklyn', 'Starrett City', 40.64758905230874, -73.87936970045875]\n",
      "( 1 / 306 ) Chinese Restaurants in Canarsie, Brooklyn:0\n",
      "['Brooklyn', 'Canarsie', 40.63556432797428, -73.90209269778966]\n",
      "( 1 / 306 ) Chinese Restaurants in Flatlands, Brooklyn:0\n",
      "['Brooklyn', 'Flatlands', 40.630446043757466, -73.92911302644674]\n",
      "( 1 / 306 ) Chinese Restaurants in Mill Island, Brooklyn:0\n",
      "['Brooklyn', 'Mill Island', 40.606336421685626, -73.90818571777423]\n",
      "( 1 / 306 ) Chinese Restaurants in Manhattan Beach, Brooklyn:0\n",
      "['Brooklyn', 'Manhattan Beach', 40.57791350308657, -73.94353722891886]\n",
      "( 1 / 306 ) Chinese Restaurants in Coney Island, Brooklyn:0\n",
      "['Brooklyn', 'Coney Island', 40.57429256471601, -73.98868295821637]\n",
      "( 1 / 306 ) Chinese Restaurants in Bath Beach, Brooklyn:0\n",
      "['Brooklyn', 'Bath Beach', 40.59951870282238, -73.99875221443519]\n",
      "( 1 / 306 ) Chinese Restaurants in Borough Park, Brooklyn:0\n",
      "['Brooklyn', 'Borough Park', 40.633130512758015, -73.99049823044811]\n",
      "( 1 / 306 ) Chinese Restaurants in Dyker Heights, Brooklyn:0\n",
      "['Brooklyn', 'Dyker Heights', 40.619219457722636, -74.01931375636022]\n",
      "( 1 / 306 ) Chinese Restaurants in Gerritsen Beach, Brooklyn:0\n",
      "['Brooklyn', 'Gerritsen Beach', 40.590848433902046, -73.93010170691196]\n",
      "( 1 / 306 ) Chinese Restaurants in Marine Park, Brooklyn:0\n",
      "['Brooklyn', 'Marine Park', 40.609747779894604, -73.93134404108497]\n",
      "( 1 / 306 ) Chinese Restaurants in Clinton Hill, Brooklyn:0\n",
      "['Brooklyn', 'Clinton Hill', 40.693229421881504, -73.96784306216367]\n",
      "( 1 / 306 ) Chinese Restaurants in Sea Gate, Brooklyn:0\n",
      "['Brooklyn', 'Sea Gate', 40.57637537890224, -74.0078731120024]\n",
      "( 1 / 306 ) Chinese Restaurants in Downtown, Brooklyn:0\n",
      "['Brooklyn', 'Downtown', 40.69084402109802, -73.98346337431099]\n",
      "( 1 / 306 ) Chinese Restaurants in Boerum Hill, Brooklyn:0\n",
      "['Brooklyn', 'Boerum Hill', 40.685682912091444, -73.98374824115798]\n",
      "( 1 / 306 ) Chinese Restaurants in Prospect Lefferts Gardens, Brooklyn:0\n",
      "['Brooklyn', 'Prospect Lefferts Gardens', 40.658420017469815, -73.95489867077713]\n",
      "( 1 / 306 ) Chinese Restaurants in Ocean Hill, Brooklyn:0\n",
      "['Brooklyn', 'Ocean Hill', 40.678402554795355, -73.91306831787395]\n",
      "( 1 / 306 ) Chinese Restaurants in City Line, Brooklyn:0\n",
      "['Brooklyn', 'City Line', 40.67856995727479, -73.86797598081334]\n",
      "( 1 / 306 ) Chinese Restaurants in Bergen Beach, Brooklyn:0\n",
      "['Brooklyn', 'Bergen Beach', 40.61514955045308, -73.89855633630317]\n",
      "( 1 / 306 ) Chinese Restaurants in Midwood, Brooklyn:0\n",
      "['Brooklyn', 'Midwood', 40.62559589869843, -73.95759523489838]\n",
      "( 1 / 306 ) Chinese Restaurants in Prospect Park South, Brooklyn:0\n",
      "['Brooklyn', 'Prospect Park South', 40.647008603185185, -73.96261316716048]\n",
      "( 1 / 306 ) Chinese Restaurants in Georgetown, Brooklyn:0\n",
      "['Brooklyn', 'Georgetown', 40.62384524478419, -73.91607483951324]\n",
      "( 1 / 306 ) Chinese Restaurants in East Williamsburg, Brooklyn:0\n",
      "['Brooklyn', 'East Williamsburg', 40.70849241041548, -73.93885815269195]\n",
      "( 1 / 306 ) Chinese Restaurants in North Side, Brooklyn:0\n",
      "['Brooklyn', 'North Side', 40.714822906532014, -73.95880857587582]\n",
      "( 1 / 306 ) Chinese Restaurants in South Side, Brooklyn:0\n",
      "['Brooklyn', 'South Side', 40.71086147265064, -73.95800095153331]\n",
      "( 1 / 306 ) Chinese Restaurants in Ocean Parkway, Brooklyn:0\n",
      "['Brooklyn', 'Ocean Parkway', 40.61305976667942, -73.96836678035541]\n",
      "( 1 / 306 ) Chinese Restaurants in Fort Hamilton, Brooklyn:0\n",
      "['Brooklyn', 'Fort Hamilton', 40.61476812694226, -74.03197914537984]\n",
      "( 1 / 306 ) Chinese Restaurants in Chinatown, Manhattan:0\n",
      "['Manhattan', 'Chinatown', 40.71561842231432, -73.99427936255978]\n",
      "( 1 / 306 ) Chinese Restaurants in Washington Heights, Manhattan:0\n",
      "['Manhattan', 'Washington Heights', 40.85190252555305, -73.93690027985234]\n",
      "( 1 / 306 ) Chinese Restaurants in Inwood, Manhattan:0\n",
      "['Manhattan', 'Inwood', 40.86768396449915, -73.92121042203897]\n",
      "( 1 / 306 ) Chinese Restaurants in Hamilton Heights, Manhattan:0\n",
      "['Manhattan', 'Hamilton Heights', 40.823604284811935, -73.94968791883366]\n",
      "( 1 / 306 ) Chinese Restaurants in Manhattanville, Manhattan:0\n",
      "['Manhattan', 'Manhattanville', 40.8169344294978, -73.9573853935188]\n",
      "( 1 / 306 ) Chinese Restaurants in Central Harlem, Manhattan:0\n",
      "['Manhattan', 'Central Harlem', 40.81597606742414, -73.94321112603905]\n",
      "( 1 / 306 ) Chinese Restaurants in East Harlem, Manhattan:0\n",
      "['Manhattan', 'East Harlem', 40.79224946663033, -73.94418223148524]\n",
      "( 1 / 306 ) Chinese Restaurants in Upper East Side, Manhattan:0\n",
      "['Manhattan', 'Upper East Side', 40.775638573301805, -73.96050763135]\n",
      "( 1 / 306 ) Chinese Restaurants in Yorkville, Manhattan:0\n",
      "['Manhattan', 'Yorkville', 40.775929849884875, -73.94711784471826]\n",
      "( 1 / 306 ) Chinese Restaurants in Lenox Hill, Manhattan:0\n",
      "['Manhattan', 'Lenox Hill', 40.76811265828733, -73.9588596881376]\n",
      "( 1 / 306 ) Chinese Restaurants in Roosevelt Island, Manhattan:0\n",
      "['Manhattan', 'Roosevelt Island', 40.76215960576283, -73.94916769227953]\n",
      "( 1 / 306 ) Chinese Restaurants in Upper West Side, Manhattan:0\n",
      "['Manhattan', 'Upper West Side', 40.787657998534854, -73.97705923630603]\n",
      "( 1 / 306 ) Chinese Restaurants in Lincoln Square, Manhattan:0\n",
      "['Manhattan', 'Lincoln Square', 40.77352888942166, -73.98533777001262]\n",
      "( 1 / 306 ) Chinese Restaurants in Clinton, Manhattan:0\n",
      "['Manhattan', 'Clinton', 40.75910089146212, -73.99611936309479]\n",
      "( 1 / 306 ) Chinese Restaurants in Midtown, Manhattan:0\n",
      "['Manhattan', 'Midtown', 40.75469110270623, -73.98166882730304]\n",
      "( 1 / 306 ) Chinese Restaurants in Murray Hill, Manhattan:0\n",
      "['Manhattan', 'Murray Hill', 40.748303077252174, -73.97833207924127]\n",
      "( 1 / 306 ) Chinese Restaurants in Chelsea, Manhattan:0\n",
      "['Manhattan', 'Chelsea', 40.744034706747975, -74.00311633472813]\n",
      "( 1 / 306 ) Chinese Restaurants in Greenwich Village, Manhattan:0\n",
      "['Manhattan', 'Greenwich Village', 40.72693288536128, -73.99991402945902]\n",
      "( 1 / 306 ) Chinese Restaurants in East Village, Manhattan:0\n",
      "['Manhattan', 'East Village', 40.727846777270244, -73.98222616506416]\n",
      "( 1 / 306 ) Chinese Restaurants in Lower East Side, Manhattan:0\n",
      "['Manhattan', 'Lower East Side', 40.71780674892765, -73.98089031999291]\n",
      "( 1 / 306 ) Chinese Restaurants in Tribeca, Manhattan:0\n",
      "['Manhattan', 'Tribeca', 40.721521967443216, -74.01068328559087]\n",
      "( 1 / 306 ) Chinese Restaurants in Little Italy, Manhattan:0\n",
      "['Manhattan', 'Little Italy', 40.71932379395907, -73.99730467208073]\n",
      "( 1 / 306 ) Chinese Restaurants in Soho, Manhattan:0\n",
      "['Manhattan', 'Soho', 40.72218384131794, -74.00065666959759]\n",
      "( 1 / 306 ) Chinese Restaurants in West Village, Manhattan:0\n",
      "['Manhattan', 'West Village', 40.73443393572434, -74.00617998126812]\n",
      "( 1 / 306 ) Chinese Restaurants in Manhattan Valley, Manhattan:0\n",
      "['Manhattan', 'Manhattan Valley', 40.797307041702865, -73.96428617740655]\n",
      "( 1 / 306 ) Chinese Restaurants in Morningside Heights, Manhattan:0\n",
      "['Manhattan', 'Morningside Heights', 40.807999738165826, -73.96389627905332]\n",
      "( 1 / 306 ) Chinese Restaurants in Gramercy, Manhattan:0\n",
      "['Manhattan', 'Gramercy', 40.737209832715, -73.98137594833541]\n",
      "( 1 / 306 ) Chinese Restaurants in Battery Park City, Manhattan:0\n",
      "['Manhattan', 'Battery Park City', 40.71193198394565, -74.01686930508617]\n",
      "( 1 / 306 ) Chinese Restaurants in Financial District, Manhattan:0\n",
      "['Manhattan', 'Financial District', 40.70710710727048, -74.0106654452127]\n",
      "( 1 / 306 ) Chinese Restaurants in Astoria, Queens:0\n",
      "['Queens', 'Astoria', 40.76850859335492, -73.91565374304234]\n",
      "( 1 / 306 ) Chinese Restaurants in Woodside, Queens:0\n",
      "['Queens', 'Woodside', 40.74634908860222, -73.90184166838284]\n"
     ]
    },
    {
     "name": "stdout",
     "output_type": "stream",
     "text": [
      "( 1 / 306 ) Chinese Restaurants in Jackson Heights, Queens:0\n",
      "['Queens', 'Jackson Heights', 40.75198138007367, -73.88282109164365]\n",
      "( 1 / 306 ) Chinese Restaurants in Elmhurst, Queens:0\n",
      "['Queens', 'Elmhurst', 40.744048505122024, -73.88165622288388]\n",
      "( 1 / 306 ) Chinese Restaurants in Howard Beach, Queens:0\n",
      "['Queens', 'Howard Beach', 40.65422527738487, -73.8381376460028]\n",
      "( 1 / 306 ) Chinese Restaurants in Corona, Queens:0\n",
      "['Queens', 'Corona', 40.74238175015667, -73.85682497345258]\n",
      "( 1 / 306 ) Chinese Restaurants in Forest Hills, Queens:0\n",
      "['Queens', 'Forest Hills', 40.72526378216503, -73.84447500788983]\n",
      "( 1 / 306 ) Chinese Restaurants in Kew Gardens, Queens:0\n",
      "['Queens', 'Kew Gardens', 40.7051790354148, -73.82981905825703]\n",
      "( 1 / 306 ) Chinese Restaurants in Richmond Hill, Queens:0\n",
      "['Queens', 'Richmond Hill', 40.69794731471763, -73.83183321446887]\n",
      "( 1 / 306 ) Chinese Restaurants in Flushing, Queens:0\n",
      "['Queens', 'Flushing', 40.76445419697846, -73.83177300329582]\n",
      "( 1 / 306 ) Chinese Restaurants in Long Island City, Queens:0\n",
      "['Queens', 'Long Island City', 40.75021734610528, -73.93920223915505]\n",
      "( 1 / 306 ) Chinese Restaurants in Sunnyside, Queens:0\n",
      "['Queens', 'Sunnyside', 40.74017628351924, -73.92691617561577]\n",
      "( 1 / 306 ) Chinese Restaurants in East Elmhurst, Queens:0\n",
      "['Queens', 'East Elmhurst', 40.76407323883091, -73.86704147658772]\n",
      "( 1 / 306 ) Chinese Restaurants in Maspeth, Queens:0\n",
      "['Queens', 'Maspeth', 40.725427374093606, -73.89621713626859]\n",
      "( 1 / 306 ) Chinese Restaurants in Ridgewood, Queens:0\n",
      "['Queens', 'Ridgewood', 40.70832315613858, -73.90143517559589]\n",
      "( 1 / 306 ) Chinese Restaurants in Glendale, Queens:0\n",
      "['Queens', 'Glendale', 40.70276242967838, -73.87074167435605]\n",
      "( 1 / 306 ) Chinese Restaurants in Rego Park, Queens:0\n",
      "['Queens', 'Rego Park', 40.72897409480735, -73.8578268690537]\n",
      "( 1 / 306 ) Chinese Restaurants in Woodhaven, Queens:0\n",
      "['Queens', 'Woodhaven', 40.68988687915789, -73.8581104655432]\n",
      "( 1 / 306 ) Chinese Restaurants in Ozone Park, Queens:0\n",
      "['Queens', 'Ozone Park', 40.680708468265415, -73.84320266173447]\n",
      "( 1 / 306 ) Chinese Restaurants in South Ozone Park, Queens:0\n",
      "['Queens', 'South Ozone Park', 40.66854957767195, -73.80986478649041]\n",
      "( 1 / 306 ) Chinese Restaurants in College Point, Queens:0\n",
      "['Queens', 'College Point', 40.784902749260205, -73.84304528896125]\n",
      "( 1 / 306 ) Chinese Restaurants in Whitestone, Queens:0\n",
      "['Queens', 'Whitestone', 40.78129076602694, -73.81420216610863]\n",
      "( 1 / 306 ) Chinese Restaurants in Bayside, Queens:0\n",
      "['Queens', 'Bayside', 40.76604063281064, -73.7742736306867]\n",
      "( 1 / 306 ) Chinese Restaurants in Auburndale, Queens:0\n",
      "['Queens', 'Auburndale', 40.76172954903262, -73.79176243728061]\n",
      "( 1 / 306 ) Chinese Restaurants in Little Neck, Queens:0\n",
      "['Queens', 'Little Neck', 40.7708261928267, -73.7388977558074]\n",
      "( 1 / 306 ) Chinese Restaurants in Douglaston, Queens:0\n",
      "['Queens', 'Douglaston', 40.76684609790763, -73.7424982072733]\n",
      "( 1 / 306 ) Chinese Restaurants in Glen Oaks, Queens:0\n",
      "['Queens', 'Glen Oaks', 40.74944079974332, -73.71548118999145]\n",
      "( 1 / 306 ) Chinese Restaurants in Bellerose, Queens:0\n",
      "['Queens', 'Bellerose', 40.72857318176675, -73.72012814826903]\n",
      "( 1 / 306 ) Chinese Restaurants in Kew Gardens Hills, Queens:0\n",
      "['Queens', 'Kew Gardens Hills', 40.722578244228046, -73.82087764933566]\n",
      "( 1 / 306 ) Chinese Restaurants in Fresh Meadows, Queens:0\n",
      "['Queens', 'Fresh Meadows', 40.7343944653313, -73.78271337003264]\n",
      "( 1 / 306 ) Chinese Restaurants in Briarwood, Queens:0\n",
      "['Queens', 'Briarwood', 40.71093547252271, -73.81174822458634]\n",
      "( 1 / 306 ) Chinese Restaurants in Jamaica Center, Queens:0\n",
      "['Queens', 'Jamaica Center', 40.70465736068717, -73.79690165888289]\n",
      "( 1 / 306 ) Chinese Restaurants in Oakland Gardens, Queens:0\n",
      "['Queens', 'Oakland Gardens', 40.74561857141855, -73.75494976234332]\n",
      "( 1 / 306 ) Chinese Restaurants in Queens Village, Queens:0\n",
      "['Queens', 'Queens Village', 40.718893092167356, -73.73871484578424]\n",
      "( 1 / 306 ) Chinese Restaurants in Hollis, Queens:0\n",
      "['Queens', 'Hollis', 40.71124344191904, -73.75925009335594]\n",
      "( 1 / 306 ) Chinese Restaurants in South Jamaica, Queens:0\n",
      "['Queens', 'South Jamaica', 40.696911253789885, -73.7904261313554]\n",
      "( 1 / 306 ) Chinese Restaurants in St. Albans, Queens:0\n",
      "['Queens', 'St. Albans', 40.69444538522359, -73.75867603727717]\n",
      "( 1 / 306 ) Chinese Restaurants in Rochdale, Queens:0\n",
      "['Queens', 'Rochdale', 40.67521139591733, -73.77258787620906]\n",
      "( 1 / 306 ) Chinese Restaurants in Springfield Gardens, Queens:0\n",
      "['Queens', 'Springfield Gardens', 40.666230490368584, -73.76042092682287]\n",
      "( 1 / 306 ) Chinese Restaurants in Cambria Heights, Queens:0\n",
      "['Queens', 'Cambria Heights', 40.692774639160845, -73.73526873708026]\n",
      "( 1 / 306 ) Chinese Restaurants in Rosedale, Queens:0\n",
      "['Queens', 'Rosedale', 40.659816433428084, -73.73526079428278]\n",
      "( 1 / 306 ) Chinese Restaurants in Far Rockaway, Queens:0\n",
      "['Queens', 'Far Rockaway', 40.603134432500894, -73.75497968043872]\n",
      "( 1 / 306 ) Chinese Restaurants in Broad Channel, Queens:0\n",
      "['Queens', 'Broad Channel', 40.60302658351238, -73.8200548911032]\n",
      "( 1 / 306 ) Chinese Restaurants in Breezy Point, Queens:0\n",
      "['Queens', 'Breezy Point', 40.55740128845452, -73.92551196994168]\n",
      "( 1 / 306 ) Chinese Restaurants in Steinway, Queens:0\n",
      "['Queens', 'Steinway', 40.775923015642896, -73.90228960391673]\n",
      "( 1 / 306 ) Chinese Restaurants in Beechhurst, Queens:0\n",
      "['Queens', 'Beechhurst', 40.79278140360048, -73.80436451720988]\n",
      "( 1 / 306 ) Chinese Restaurants in Bay Terrace, Queens:0\n",
      "['Queens', 'Bay Terrace', 40.782842806245554, -73.7768022262158]\n",
      "( 1 / 306 ) Chinese Restaurants in Edgemere, Queens:0\n",
      "['Queens', 'Edgemere', 40.595641807368494, -73.77613282391705]\n",
      "( 1 / 306 ) Chinese Restaurants in Arverne, Queens:0\n",
      "['Queens', 'Arverne', 40.58914394372971, -73.79199233136943]\n",
      "( 1 / 306 ) Chinese Restaurants in Rockaway Beach, Queens:0\n",
      "['Queens', 'Rockaway Beach', 40.582801696845586, -73.82236121088751]\n",
      "( 1 / 306 ) Chinese Restaurants in Neponsit, Queens:0\n",
      "['Queens', 'Neponsit', 40.572036730217015, -73.85754672410827]\n",
      "( 1 / 306 ) Chinese Restaurants in Murray Hill, Queens:0\n",
      "['Queens', 'Murray Hill', 40.764126122614066, -73.81276269135866]\n"
     ]
    },
    {
     "ename": "KeyError",
     "evalue": "'groups'",
     "output_type": "error",
     "traceback": [
      "\u001b[0;31m---------------------------------------------------------------------------\u001b[0m",
      "\u001b[0;31mKeyError\u001b[0m                                  Traceback (most recent call last)",
      "\u001b[0;32m<ipython-input-26-8ecd2e543dfd>\u001b[0m in \u001b[0;36m<module>\u001b[0;34m\u001b[0m\n\u001b[1;32m      6\u001b[0m \u001b[0;32mfor\u001b[0m \u001b[0mrow\u001b[0m \u001b[0;32min\u001b[0m \u001b[0mny_data\u001b[0m\u001b[0;34m.\u001b[0m\u001b[0mvalues\u001b[0m\u001b[0;34m.\u001b[0m\u001b[0mtolist\u001b[0m\u001b[0;34m(\u001b[0m\u001b[0;34m)\u001b[0m\u001b[0;34m:\u001b[0m\u001b[0;34m\u001b[0m\u001b[0;34m\u001b[0m\u001b[0m\n\u001b[1;32m      7\u001b[0m     \u001b[0mBorough\u001b[0m\u001b[0;34m,\u001b[0m \u001b[0mNeighborhood\u001b[0m\u001b[0;34m,\u001b[0m \u001b[0mLatitude\u001b[0m\u001b[0;34m,\u001b[0m \u001b[0mLongitude\u001b[0m\u001b[0;34m=\u001b[0m\u001b[0mrow\u001b[0m\u001b[0;34m\u001b[0m\u001b[0;34m\u001b[0m\u001b[0m\n\u001b[0;32m----> 8\u001b[0;31m     \u001b[0mvenues\u001b[0m \u001b[0;34m=\u001b[0m \u001b[0mget_venues\u001b[0m\u001b[0;34m(\u001b[0m\u001b[0mLatitude\u001b[0m\u001b[0;34m,\u001b[0m\u001b[0mLongitude\u001b[0m\u001b[0;34m)\u001b[0m\u001b[0;34m\u001b[0m\u001b[0;34m\u001b[0m\u001b[0m\n\u001b[0m\u001b[1;32m      9\u001b[0m     \u001b[0mchinese_restaurants\u001b[0m\u001b[0;34m=\u001b[0m\u001b[0mvenues\u001b[0m\u001b[0;34m[\u001b[0m\u001b[0mvenues\u001b[0m\u001b[0;34m[\u001b[0m\u001b[0;34m'Category'\u001b[0m\u001b[0;34m]\u001b[0m\u001b[0;34m==\u001b[0m\u001b[0;34m'Chinese Restaurant'\u001b[0m\u001b[0;34m]\u001b[0m\u001b[0;34m\u001b[0m\u001b[0;34m\u001b[0m\u001b[0m\n\u001b[1;32m     10\u001b[0m     \u001b[0mprint\u001b[0m\u001b[0;34m(\u001b[0m\u001b[0;34m'('\u001b[0m\u001b[0;34m,\u001b[0m\u001b[0mcount\u001b[0m\u001b[0;34m,\u001b[0m\u001b[0;34m'/'\u001b[0m\u001b[0;34m,\u001b[0m\u001b[0mlen\u001b[0m\u001b[0;34m(\u001b[0m\u001b[0mny_data\u001b[0m\u001b[0;34m)\u001b[0m\u001b[0;34m,\u001b[0m\u001b[0;34m')'\u001b[0m\u001b[0;34m,\u001b[0m\u001b[0;34m'Chinese Restaurants in '\u001b[0m\u001b[0;34m+\u001b[0m\u001b[0mNeighborhood\u001b[0m\u001b[0;34m+\u001b[0m\u001b[0;34m', '\u001b[0m\u001b[0;34m+\u001b[0m\u001b[0mBorough\u001b[0m\u001b[0;34m+\u001b[0m\u001b[0;34m':'\u001b[0m\u001b[0;34m+\u001b[0m\u001b[0mstr\u001b[0m\u001b[0;34m(\u001b[0m\u001b[0mlen\u001b[0m\u001b[0;34m(\u001b[0m\u001b[0mChinese_restaurants\u001b[0m\u001b[0;34m)\u001b[0m\u001b[0;34m)\u001b[0m\u001b[0;34m)\u001b[0m\u001b[0;34m\u001b[0m\u001b[0;34m\u001b[0m\u001b[0m\n",
      "\u001b[0;32m<ipython-input-16-84733b02a2aa>\u001b[0m in \u001b[0;36mget_venues\u001b[0;34m(lat, lng)\u001b[0m\n\u001b[1;32m     23\u001b[0m     \u001b[0;31m# get all the data\u001b[0m\u001b[0;34m\u001b[0m\u001b[0;34m\u001b[0m\u001b[0;34m\u001b[0m\u001b[0m\n\u001b[1;32m     24\u001b[0m     \u001b[0mresults\u001b[0m \u001b[0;34m=\u001b[0m \u001b[0mrequests\u001b[0m\u001b[0;34m.\u001b[0m\u001b[0mget\u001b[0m\u001b[0;34m(\u001b[0m\u001b[0murl\u001b[0m\u001b[0;34m)\u001b[0m\u001b[0;34m.\u001b[0m\u001b[0mjson\u001b[0m\u001b[0;34m(\u001b[0m\u001b[0;34m)\u001b[0m\u001b[0;34m\u001b[0m\u001b[0;34m\u001b[0m\u001b[0m\n\u001b[0;32m---> 25\u001b[0;31m     \u001b[0mvenue_data\u001b[0m\u001b[0;34m=\u001b[0m\u001b[0mresults\u001b[0m\u001b[0;34m[\u001b[0m\u001b[0;34m'response'\u001b[0m\u001b[0;34m]\u001b[0m\u001b[0;34m[\u001b[0m\u001b[0;34m'groups'\u001b[0m\u001b[0;34m]\u001b[0m\u001b[0;34m[\u001b[0m\u001b[0;36m0\u001b[0m\u001b[0;34m]\u001b[0m\u001b[0;34m[\u001b[0m\u001b[0;34m'items'\u001b[0m\u001b[0;34m]\u001b[0m\u001b[0;34m\u001b[0m\u001b[0;34m\u001b[0m\u001b[0m\n\u001b[0m\u001b[1;32m     26\u001b[0m     \u001b[0mvenue_details\u001b[0m\u001b[0;34m=\u001b[0m\u001b[0;34m[\u001b[0m\u001b[0;34m]\u001b[0m\u001b[0;34m\u001b[0m\u001b[0;34m\u001b[0m\u001b[0m\n\u001b[1;32m     27\u001b[0m     \u001b[0;32mfor\u001b[0m \u001b[0mrow\u001b[0m \u001b[0;32min\u001b[0m \u001b[0mvenue_data\u001b[0m\u001b[0;34m:\u001b[0m\u001b[0;34m\u001b[0m\u001b[0;34m\u001b[0m\u001b[0m\n",
      "\u001b[0;31mKeyError\u001b[0m: 'groups'"
     ]
    }
   ],
   "source": [
    "\n",
    "# queens has most neighborhoods\n",
    "# prepare neighborhood list that contains Chinese restaurants\n",
    "column_names=['Borough', 'Neighborhood', 'ID','Name']\n",
    "chinese_rest_ny=pd.DataFrame(columns=column_names)\n",
    "count=1\n",
    "for row in ny_data.values.tolist():\n",
    "    Borough, Neighborhood, Latitude, Longitude=row\n",
    "    venues = get_venues(Latitude,Longitude)\n",
    "    chinese_restaurants=venues[venues['Category']=='Chinese Restaurant']   \n",
    "    print('(',count,'/',len(ny_data),')','Chinese Restaurants in '+Neighborhood+', '+Borough+':'+str(len(Chinese_restaurants)))\n",
    "    print(row)\n",
    "    for resturant_detail in chinese_restaurants.values.tolist():\n",
    "        id, name , category=resturant_detail\n",
    "        chinese_rest_ny = chinese_rest_ny.append({'Borough': Borough,\n",
    "                                                'Neighborhood': Neighborhood, \n",
    "                                                'ID': id,\n",
    "                                                'Name' : name\n",
    "                                               }, ignore_index=True)"
   ]
  },
  {
   "cell_type": "code",
   "execution_count": 25,
   "metadata": {},
   "outputs": [
    {
     "data": {
      "text/html": [
       "<div>\n",
       "<style scoped>\n",
       "    .dataframe tbody tr th:only-of-type {\n",
       "        vertical-align: middle;\n",
       "    }\n",
       "\n",
       "    .dataframe tbody tr th {\n",
       "        vertical-align: top;\n",
       "    }\n",
       "\n",
       "    .dataframe thead th {\n",
       "        text-align: right;\n",
       "    }\n",
       "</style>\n",
       "<table border=\"1\" class=\"dataframe\">\n",
       "  <thead>\n",
       "    <tr style=\"text-align: right;\">\n",
       "      <th></th>\n",
       "      <th>Borough</th>\n",
       "      <th>Neighborhood</th>\n",
       "      <th>ID</th>\n",
       "      <th>Name</th>\n",
       "    </tr>\n",
       "  </thead>\n",
       "  <tbody>\n",
       "    <tr>\n",
       "      <th>0</th>\n",
       "      <td>Bronx</td>\n",
       "      <td>Co-op City</td>\n",
       "      <td>4c9d5f2654c8a1cd2e71834b</td>\n",
       "      <td>Guang Hui Chinese Restaurant</td>\n",
       "    </tr>\n",
       "    <tr>\n",
       "      <th>1</th>\n",
       "      <td>Bronx</td>\n",
       "      <td>Eastchester</td>\n",
       "      <td>4dabc3dc93a04642f09ccabd</td>\n",
       "      <td>Xing Lung Chinese Restaurant</td>\n",
       "    </tr>\n",
       "    <tr>\n",
       "      <th>2</th>\n",
       "      <td>Bronx</td>\n",
       "      <td>Norwood</td>\n",
       "      <td>4e41d2c4b61ca5ba3b1f9c6b</td>\n",
       "      <td>Ming Liang Kitchen</td>\n",
       "    </tr>\n",
       "    <tr>\n",
       "      <th>3</th>\n",
       "      <td>Bronx</td>\n",
       "      <td>Pelham Parkway</td>\n",
       "      <td>4b9d6b45f964a52078ab36e3</td>\n",
       "      <td>Mr. Q's Chinese Restaurant</td>\n",
       "    </tr>\n",
       "    <tr>\n",
       "      <th>4</th>\n",
       "      <td>Bronx</td>\n",
       "      <td>Bedford Park</td>\n",
       "      <td>4e4d0387bd413c4cc66dfd72</td>\n",
       "      <td>Hung Hing Chinese Restaurant</td>\n",
       "    </tr>\n",
       "  </tbody>\n",
       "</table>\n",
       "</div>"
      ],
      "text/plain": [
       "  Borough    Neighborhood                        ID  \\\n",
       "0   Bronx      Co-op City  4c9d5f2654c8a1cd2e71834b   \n",
       "1   Bronx     Eastchester  4dabc3dc93a04642f09ccabd   \n",
       "2   Bronx         Norwood  4e41d2c4b61ca5ba3b1f9c6b   \n",
       "3   Bronx  Pelham Parkway  4b9d6b45f964a52078ab36e3   \n",
       "4   Bronx    Bedford Park  4e4d0387bd413c4cc66dfd72   \n",
       "\n",
       "                           Name  \n",
       "0  Guang Hui Chinese Restaurant  \n",
       "1  Xing Lung Chinese Restaurant  \n",
       "2            Ming Liang Kitchen  \n",
       "3    Mr. Q's Chinese Restaurant  \n",
       "4  Hung Hing Chinese Restaurant  "
      ]
     },
     "execution_count": 25,
     "metadata": {},
     "output_type": "execute_result"
    }
   ],
   "source": [
    "chinese_rest_ny.head()"
   ]
  },
  {
   "cell_type": "code",
   "execution_count": 27,
   "metadata": {},
   "outputs": [
    {
     "data": {
      "text/plain": [
       "(134, 4)"
      ]
     },
     "execution_count": 27,
     "metadata": {},
     "output_type": "execute_result"
    }
   ],
   "source": [
    "chinese_rest_ny.shape\n"
   ]
  },
  {
   "cell_type": "code",
   "execution_count": 32,
   "metadata": {},
   "outputs": [],
   "source": [
    "df_c =pd.read_csv('chinese_rest.csv', index_col=0)"
   ]
  },
  {
   "cell_type": "code",
   "execution_count": 33,
   "metadata": {},
   "outputs": [
    {
     "data": {
      "text/html": [
       "<div>\n",
       "<style scoped>\n",
       "    .dataframe tbody tr th:only-of-type {\n",
       "        vertical-align: middle;\n",
       "    }\n",
       "\n",
       "    .dataframe tbody tr th {\n",
       "        vertical-align: top;\n",
       "    }\n",
       "\n",
       "    .dataframe thead th {\n",
       "        text-align: right;\n",
       "    }\n",
       "</style>\n",
       "<table border=\"1\" class=\"dataframe\">\n",
       "  <thead>\n",
       "    <tr style=\"text-align: right;\">\n",
       "      <th></th>\n",
       "      <th>Borough</th>\n",
       "      <th>Neighborhood</th>\n",
       "      <th>ID</th>\n",
       "      <th>Name</th>\n",
       "    </tr>\n",
       "  </thead>\n",
       "  <tbody>\n",
       "    <tr>\n",
       "      <th>0</th>\n",
       "      <td>Bronx</td>\n",
       "      <td>Co-op City</td>\n",
       "      <td>4c9d5f2654c8a1cd2e71834b</td>\n",
       "      <td>Guang Hui Chinese Restaurant</td>\n",
       "    </tr>\n",
       "    <tr>\n",
       "      <th>1</th>\n",
       "      <td>Bronx</td>\n",
       "      <td>Eastchester</td>\n",
       "      <td>4dabc3dc93a04642f09ccabd</td>\n",
       "      <td>Xing Lung Chinese Restaurant</td>\n",
       "    </tr>\n",
       "    <tr>\n",
       "      <th>2</th>\n",
       "      <td>Bronx</td>\n",
       "      <td>Norwood</td>\n",
       "      <td>4e41d2c4b61ca5ba3b1f9c6b</td>\n",
       "      <td>Ming Liang Kitchen</td>\n",
       "    </tr>\n",
       "    <tr>\n",
       "      <th>3</th>\n",
       "      <td>Bronx</td>\n",
       "      <td>Pelham Parkway</td>\n",
       "      <td>4b9d6b45f964a52078ab36e3</td>\n",
       "      <td>Mr. Q's Chinese Restaurant</td>\n",
       "    </tr>\n",
       "    <tr>\n",
       "      <th>4</th>\n",
       "      <td>Bronx</td>\n",
       "      <td>Bedford Park</td>\n",
       "      <td>4e4d0387bd413c4cc66dfd72</td>\n",
       "      <td>Hung Hing Chinese Restaurant</td>\n",
       "    </tr>\n",
       "  </tbody>\n",
       "</table>\n",
       "</div>"
      ],
      "text/plain": [
       "  Borough    Neighborhood                        ID  \\\n",
       "0   Bronx      Co-op City  4c9d5f2654c8a1cd2e71834b   \n",
       "1   Bronx     Eastchester  4dabc3dc93a04642f09ccabd   \n",
       "2   Bronx         Norwood  4e41d2c4b61ca5ba3b1f9c6b   \n",
       "3   Bronx  Pelham Parkway  4b9d6b45f964a52078ab36e3   \n",
       "4   Bronx    Bedford Park  4e4d0387bd413c4cc66dfd72   \n",
       "\n",
       "                           Name  \n",
       "0  Guang Hui Chinese Restaurant  \n",
       "1  Xing Lung Chinese Restaurant  \n",
       "2            Ming Liang Kitchen  \n",
       "3    Mr. Q's Chinese Restaurant  \n",
       "4  Hung Hing Chinese Restaurant  "
      ]
     },
     "execution_count": 33,
     "metadata": {},
     "output_type": "execute_result"
    }
   ],
   "source": [
    "df_c.head()"
   ]
  },
  {
   "cell_type": "code",
   "execution_count": 35,
   "metadata": {},
   "outputs": [
    {
     "data": {
      "image/png": "[encoded data removed]",
      "text/plain": [
       "<Figure size 720x360 with 1 Axes>"
      ]
     },
     "metadata": {
      "needs_background": "light"
     },
     "output_type": "display_data"
    }
   ],
   "source": [
    "df_c.groupby('Borough')['ID'].count().plot.bar(figsize=(10,5), color=clr)\n",
    "plt.title('Japanese Restaurants per Borough: NYC', fontsize = 20)\n",
    "plt.xlabel('Borough', fontsize = 15)\n",
    "plt.ylabel('No. of Chinese Restaurants', fontsize=15)\n",
    "plt.xticks(rotation = 'horizontal')\n",
    "plt.legend()\n",
    "plt.show()"
   ]
  },
  {
   "cell_type": "code",
   "execution_count": 40,
   "metadata": {},
   "outputs": [
    {
     "data": {
      "image/png": "[encoded data removed]",
      "text/plain": [
       "<Figure size 720x360 with 1 Axes>"
      ]
     },
     "metadata": {
      "needs_background": "light"
     },
     "output_type": "display_data"
    }
   ],
   "source": [
    "NOofNeigh = 6 # top number for graphing all the same past 6\n",
    "df_c.groupby('Neighborhood')['ID'].count().nlargest(NOofNeigh).plot.bar(figsize=(10,5), color= 'orange')\n",
    "plt.title('Chinese Restaurants per Neighborhood: NYC', fontsize = 20)\n",
    "plt.xlabel('Neighborhood', fontsize = 15)\n",
    "plt.ylabel('No. of Chinese Restaurants', fontsize=15)\n",
    "plt.xticks(rotation = 'horizontal')\n",
    "plt.legend()\n",
    "plt.show()"
   ]
  },
  {
   "cell_type": "code",
   "execution_count": 41,
   "metadata": {},
   "outputs": [
    {
     "data": {
      "text/html": [
       "<div>\n",
       "<style scoped>\n",
       "    .dataframe tbody tr th:only-of-type {\n",
       "        vertical-align: middle;\n",
       "    }\n",
       "\n",
       "    .dataframe tbody tr th {\n",
       "        vertical-align: top;\n",
       "    }\n",
       "\n",
       "    .dataframe thead th {\n",
       "        text-align: right;\n",
       "    }\n",
       "</style>\n",
       "<table border=\"1\" class=\"dataframe\">\n",
       "  <thead>\n",
       "    <tr style=\"text-align: right;\">\n",
       "      <th></th>\n",
       "      <th>Borough</th>\n",
       "      <th>Neighborhood</th>\n",
       "      <th>ID</th>\n",
       "      <th>Name</th>\n",
       "    </tr>\n",
       "  </thead>\n",
       "  <tbody>\n",
       "    <tr>\n",
       "      <th>54</th>\n",
       "      <td>Manhattan</td>\n",
       "      <td>Chinatown</td>\n",
       "      <td>4db3374590a0843f295fb69b</td>\n",
       "      <td>Spicy Village</td>\n",
       "    </tr>\n",
       "    <tr>\n",
       "      <th>55</th>\n",
       "      <td>Manhattan</td>\n",
       "      <td>Chinatown</td>\n",
       "      <td>4a96bf8ff964a520ce2620e3</td>\n",
       "      <td>Wah Fung Number 1 Fast Food 華豐快餐店</td>\n",
       "    </tr>\n",
       "    <tr>\n",
       "      <th>56</th>\n",
       "      <td>Manhattan</td>\n",
       "      <td>Chinatown</td>\n",
       "      <td>5894c9a15e56b417cf79e553</td>\n",
       "      <td>Xi'an Famous Foods</td>\n",
       "    </tr>\n",
       "    <tr>\n",
       "      <th>57</th>\n",
       "      <td>Manhattan</td>\n",
       "      <td>Chinatown</td>\n",
       "      <td>5c965dad5455b2002c058659</td>\n",
       "      <td>Yi Ji Shi Mo Noodle Corp</td>\n",
       "    </tr>\n",
       "    <tr>\n",
       "      <th>58</th>\n",
       "      <td>Manhattan</td>\n",
       "      <td>Chinatown</td>\n",
       "      <td>59d828f0916bc1155fde2c04</td>\n",
       "      <td>Hwa Yuan</td>\n",
       "    </tr>\n",
       "    <tr>\n",
       "      <th>59</th>\n",
       "      <td>Manhattan</td>\n",
       "      <td>Chinatown</td>\n",
       "      <td>3fd66200f964a520b1ea1ee3</td>\n",
       "      <td>Great N.Y. Noodletown</td>\n",
       "    </tr>\n",
       "    <tr>\n",
       "      <th>60</th>\n",
       "      <td>Manhattan</td>\n",
       "      <td>Chinatown</td>\n",
       "      <td>59ad625a2619ee5cdded881f</td>\n",
       "      <td>House Special 甘來飯店</td>\n",
       "    </tr>\n",
       "    <tr>\n",
       "      <th>61</th>\n",
       "      <td>Manhattan</td>\n",
       "      <td>Chinatown</td>\n",
       "      <td>3fd66200f964a520ede41ee3</td>\n",
       "      <td>Big Wong King 大旺</td>\n",
       "    </tr>\n",
       "  </tbody>\n",
       "</table>\n",
       "</div>"
      ],
      "text/plain": [
       "      Borough Neighborhood                        ID  \\\n",
       "54  Manhattan    Chinatown  4db3374590a0843f295fb69b   \n",
       "55  Manhattan    Chinatown  4a96bf8ff964a520ce2620e3   \n",
       "56  Manhattan    Chinatown  5894c9a15e56b417cf79e553   \n",
       "57  Manhattan    Chinatown  5c965dad5455b2002c058659   \n",
       "58  Manhattan    Chinatown  59d828f0916bc1155fde2c04   \n",
       "59  Manhattan    Chinatown  3fd66200f964a520b1ea1ee3   \n",
       "60  Manhattan    Chinatown  59ad625a2619ee5cdded881f   \n",
       "61  Manhattan    Chinatown  3fd66200f964a520ede41ee3   \n",
       "\n",
       "                                 Name  \n",
       "54                      Spicy Village  \n",
       "55  Wah Fung Number 1 Fast Food 華豐快餐店  \n",
       "56                 Xi'an Famous Foods  \n",
       "57           Yi Ji Shi Mo Noodle Corp  \n",
       "58                           Hwa Yuan  \n",
       "59              Great N.Y. Noodletown  \n",
       "60                 House Special 甘來飯店  \n",
       "61                   Big Wong King 大旺  "
      ]
     },
     "execution_count": 41,
     "metadata": {},
     "output_type": "execute_result"
    }
   ],
   "source": [
    "df_c[df_c['Neighborhood']=='Chinatown']"
   ]
  },
  {
   "cell_type": "markdown",
   "metadata": {},
   "source": [
    "So the Chinatown in Manhattan has the highest number of chinese Restaurants with a total count of 8.\n",
    "\n",
    "Now we will get the ranking of each restaurant for further analysis."
   ]
  },
  {
   "cell_type": "code",
   "execution_count": 42,
   "metadata": {},
   "outputs": [
    {
     "name": "stdout",
     "output_type": "stream",
     "text": [
      "{'meta': {'code': 200, 'requestId': '5fc9547b2aa0530e5a1cbf90'}, 'response': {'venue': {'id': '4c9d5f2654c8a1cd2e71834b', 'name': 'Guang Hui Chinese Restaurant', 'contact': {'phone': '7188623288', 'formattedPhone': '(718) 862-3288'}, 'location': {'address': '125 Dreiser Loop', 'lat': 40.876651, 'lng': -73.829092, 'labeledLatLngs': [{'label': 'display', 'lat': 40.876651, 'lng': -73.829092}, {'label': 'entrance', 'lat': 40.876084, 'lng': -73.829209}], 'postalCode': '10475', 'cc': 'US', 'city': 'Bronx', 'state': 'NY', 'country': 'United States', 'formattedAddress': ['125 Dreiser Loop', 'Bronx, NY 10475', 'United States']}, 'canonicalUrl': 'https://foursquare.com/v/guang-hui-chinese-restaurant/4c9d5f2654c8a1cd2e71834b', 'categories': [{'id': '4bf58dd8d48988d145941735', 'name': 'Chinese Restaurant', 'pluralName': 'Chinese Restaurants', 'shortName': 'Chinese', 'icon': {'prefix': 'https://ss3.4sqi.net/img/categories_v2/food/asian_', 'suffix': '.png'}, 'primary': True}], 'verified': False, 'stats': {'tipCount': 0}, 'price': {'tier': 1, 'message': 'Cheap', 'currency': '$'}, 'likes': {'count': 0, 'groups': []}, 'dislike': False, 'ok': False, 'allowMenuUrlEdit': True, 'beenHere': {'count': 0, 'unconfirmedCount': 0, 'marked': False, 'lastCheckinExpiredAt': 0}, 'specials': {'count': 0, 'items': []}, 'photos': {'count': 0, 'groups': []}, 'reasons': {'count': 0, 'items': []}, 'hereNow': {'count': 0, 'summary': 'Nobody here', 'groups': []}, 'createdAt': 1285381926, 'tips': {'count': 0, 'groups': []}, 'shortUrl': 'http://4sq.com/bYhRoP', 'timeZone': 'America/New_York', 'listed': {'count': 1, 'groups': [{'type': 'others', 'name': 'Lists from other people', 'count': 1, 'items': [{'id': '4f885264e4b03a0f2460c6fa', 'name': 'Quik Eats', 'description': '', 'type': 'others', 'user': {'isSanctioned': False, 'firstName': 'Carolyn', 'lastName': 'J', 'countryCode': 'US'}, 'editable': False, 'public': True, 'collaborative': False, 'url': '/user/24615301/list/quik-eats', 'canonicalUrl': 'https://foursquare.com/user/24615301/list/quik-eats', 'createdAt': 1334334052, 'updatedAt': 1404215420, 'followers': {'count': 0}, 'listItems': {'count': 6, 'items': [{'id': 'v4c9d5f2654c8a1cd2e71834b', 'createdAt': 1404215420}]}}]}]}, 'hours': {'status': 'Open until 9:00 PM', 'richStatus': {'entities': [], 'text': 'Open until 9:00 PM'}, 'isOpen': True, 'isLocalHoliday': False, 'dayData': [], 'timeframes': [{'days': 'Mon–Sun', 'includesToday': True, 'open': [{'renderedTime': '11:00 AM–9:00 PM'}], 'segments': []}]}, 'popular': {'status': 'Likely open', 'richStatus': {'entities': [], 'text': 'Likely open'}, 'isOpen': True, 'isLocalHoliday': False, 'timeframes': [{'days': 'Today', 'includesToday': True, 'open': [{'renderedTime': '10:00 AM–11:00 PM'}], 'segments': []}, {'days': 'Fri', 'open': [{'renderedTime': 'Noon–8:00 PM'}], 'segments': []}, {'days': 'Sat', 'open': [{'renderedTime': '9:00 AM–3:00 PM'}, {'renderedTime': '5:00 PM–9:00 PM'}], 'segments': []}, {'days': 'Sun', 'open': [{'renderedTime': '11:00 AM–10:00 PM'}], 'segments': []}, {'days': 'Mon', 'open': [{'renderedTime': '7:00 AM–8:00 AM'}, {'renderedTime': '10:00 AM–11:00 AM'}, {'renderedTime': '1:00 PM–2:00 PM'}, {'renderedTime': '4:00 PM–10:00 PM'}], 'segments': []}, {'days': 'Tue', 'open': [{'renderedTime': '9:00 AM–3:00 PM'}, {'renderedTime': '5:00 PM–Midnight'}], 'segments': []}, {'days': 'Wed', 'open': [{'renderedTime': '7:00 AM–10:00 AM'}, {'renderedTime': '3:00 PM–9:00 PM'}], 'segments': []}]}, 'seasonalHours': [], 'defaultHours': {'status': 'Open until 9:00 PM', 'richStatus': {'entities': [], 'text': 'Open until 9:00 PM'}, 'isOpen': True, 'isLocalHoliday': False, 'dayData': [], 'timeframes': [{'days': 'Mon–Sun', 'includesToday': True, 'open': [{'renderedTime': '11:00 AM–9:00 PM'}], 'segments': []}]}, 'pageUpdates': {'count': 0, 'items': []}, 'inbox': {'count': 0, 'items': []}, 'attributes': {'groups': [{'type': 'price', 'name': 'Price', 'summary': '$', 'count': 1, 'items': [{'displayName': 'Price', 'displayValue': '$', 'priceTier': 1}]}]}}}}\n",
      "Empty DataFrame\n",
      "Columns: [ID, Name, Likes, Rating, Tips]\n",
      "Index: []\n",
      "No data available for id= 4c9d5f2654c8a1cd2e71834b\n",
      "( 1 / 180 ) processed\n",
      "{'meta': {'code': 200, 'requestId': '5fc9547b37f45509dfad0828'}, 'response': {'venue': {'id': '4dabc3dc93a04642f09ccabd', 'name': 'Xing Lung Chinese Restaurant', 'contact': {'phone': '7183241014', 'formattedPhone': '(718) 324-1014'}, 'location': {'address': '3828 B Dyre Ave', 'crossStreet': 'E 233 St', 'lat': 40.8887854684858, 'lng': -73.83122576835156, 'labeledLatLngs': [{'label': 'display', 'lat': 40.8887854684858, 'lng': -73.83122576835156}], 'postalCode': '10466', 'cc': 'US', 'city': 'Bronx', 'state': 'NY', 'country': 'United States', 'formattedAddress': ['3828 B Dyre Ave (E 233 St)', 'Bronx, NY 10466', 'United States']}, 'canonicalUrl': 'https://foursquare.com/v/xing-lung-chinese-restaurant/4dabc3dc93a04642f09ccabd', 'categories': [{'id': '4bf58dd8d48988d145941735', 'name': 'Chinese Restaurant', 'pluralName': 'Chinese Restaurants', 'shortName': 'Chinese', 'icon': {'prefix': 'https://ss3.4sqi.net/img/categories_v2/food/asian_', 'suffix': '.png'}, 'primary': True}], 'verified': False, 'stats': {'tipCount': 0}, 'price': {'tier': 1, 'message': 'Cheap', 'currency': '$'}, 'likes': {'count': 6, 'groups': [{'type': 'others', 'count': 6, 'items': [{'isSanctioned': False, 'firstName': 'David', 'lastName': 'S', 'countryCode': 'US'}, {'isSanctioned': False, 'firstName': 'Atodd', 'countryCode': 'PL'}, {'isSanctioned': False, 'firstName': 'D', 'lastName': 'K', 'countryCode': 'US'}]}], 'summary': '6 Likes'}, 'dislike': False, 'ok': False, 'rating': 6.7, 'ratingColor': 'FFC800', 'ratingSignals': 8, 'delivery': {'id': '2184417', 'url': 'https://www.seamless.com/menu/xing-lung-chinese-restaurant-3828-dyre-avenue-bronx/2184417?affiliate=1131&utm_source=foursquare-affiliate-network&utm_medium=affiliate&utm_campaign=1131&utm_content=2184417', 'provider': {'name': 'seamless', 'icon': {'prefix': 'https://fastly.4sqi.net/img/general/cap/', 'sizes': [40, 50], 'name': '/delivery_provider_seamless_20180129.png'}}}, 'allowMenuUrlEdit': True, 'beenHere': {'count': 0, 'unconfirmedCount': 0, 'marked': False, 'lastCheckinExpiredAt': 0}, 'specials': {'count': 0, 'items': []}, 'photos': {'count': 0, 'groups': []}, 'reasons': {'count': 0, 'items': []}, 'hereNow': {'count': 0, 'summary': 'Nobody here', 'groups': []}, 'createdAt': 1303102428, 'tips': {'count': 0, 'groups': []}, 'shortUrl': 'http://4sq.com/fcBSKA', 'timeZone': 'America/New_York', 'listed': {'count': 4, 'groups': [{'type': 'others', 'name': 'Lists from other people', 'count': 4, 'items': [{'id': '518a34dd498e98bca95fed25', 'name': \"Sweet N' Sour Check-In- New York Venues\", 'description': '', 'type': 'others', 'user': {'isSanctioned': False, 'firstName': '!!!!ⓢⓔⓛ🅾ⓡ♏™©®👂👍', 'countryCode': 'US'}, 'editable': False, 'public': True, 'collaborative': False, 'url': '/selormofori/list/sweet-n-sour-checkin-new-york-venues', 'canonicalUrl': 'https://foursquare.com/selormofori/list/sweet-n-sour-checkin-new-york-venues', 'createdAt': 1368011997, 'updatedAt': 1368014446, 'photo': {'id': '518a34fe2fc69080a6db5359', 'createdAt': 1368012030, 'prefix': 'https://fastly.4sqi.net/img/general/', 'suffix': '/20456061_js33PbkH7rxYwAQW2-eJshcHnaTEJYPaUIm-TjCqQXk.png', 'width': 300, 'height': 300, 'user': {'isSanctioned': False, 'firstName': '!!!!ⓢⓔⓛ🅾ⓡ♏™©®👂👍', 'countryCode': 'US'}, 'visibility': 'public'}, 'followers': {'count': 191}, 'listItems': {'count': 50, 'items': [{'id': 'v4dabc3dc93a04642f09ccabd', 'createdAt': 1368014446}]}}, {'id': '518b879f498ea1ec559a28c8', 'name': 'Sweet n sour', 'description': '', 'type': 'others', 'user': {'isSanctioned': False, 'firstName': 'Diane J ✨\\uf8ff✨', 'countryCode': 'US'}, 'editable': False, 'public': True, 'collaborative': False, 'url': '/user/3798856/list/sweet-n-sour', 'canonicalUrl': 'https://foursquare.com/user/3798856/list/sweet-n-sour', 'createdAt': 1368098719, 'updatedAt': 1368801781, 'followers': {'count': 2}, 'listItems': {'count': 39, 'items': [{'id': 'v4dabc3dc93a04642f09ccabd', 'createdAt': 1368270785}]}}]}]}, 'seasonalHours': [], 'pageUpdates': {'count': 0, 'items': []}, 'inbox': {'count': 0, 'items': []}, 'attributes': {'groups': [{'type': 'price', 'name': 'Price', 'summary': '$', 'count': 1, 'items': [{'displayName': 'Price', 'displayValue': '$', 'priceTier': 1}]}, {'type': 'reservations', 'name': 'Reservations', 'count': 3, 'items': [{'displayName': 'Reservations', 'displayValue': 'No'}]}, {'type': 'payments', 'name': 'Credit Cards', 'summary': 'No Credit Cards', 'count': 7, 'items': [{'displayName': 'Credit Cards', 'displayValue': 'No'}]}, {'type': 'outdoorSeating', 'name': 'Outdoor Seating', 'summary': 'Outdoor Seating', 'count': 1, 'items': [{'displayName': 'Outdoor Seating', 'displayValue': 'Yes'}]}]}}}}\n",
      "                         ID                          Name  Likes  Rating  Tips\n",
      "0  4dabc3dc93a04642f09ccabd  Xing Lung Chinese Restaurant      6     6.7     0\n",
      "( 2 / 180 ) processed\n"
     ]
    },
    {
     "name": "stdout",
     "output_type": "stream",
     "text": [
      "{'meta': {'code': 200, 'requestId': '5fc9547bdffa6f58c5b95bee'}, 'response': {'venue': {'id': '4e41d2c4b61ca5ba3b1f9c6b', 'name': 'Ming Liang Kitchen', 'contact': {'phone': '71854707780779', 'formattedPhone': '71854707780779'}, 'location': {'address': '236 E Gun Hill Rd', 'crossStreet': 'Kings College Place', 'lat': 40.879876, 'lng': -73.87662900000001, 'labeledLatLngs': [{'label': 'display', 'lat': 40.879876, 'lng': -73.87662900000001}, {'label': 'entrance', 'lat': 40.879844, 'lng': -73.87664}], 'postalCode': '10467', 'cc': 'US', 'city': 'Bronx', 'state': 'NY', 'country': 'United States', 'formattedAddress': ['236 E Gun Hill Rd (Kings College Place)', 'Bronx, NY 10467', 'United States']}, 'canonicalUrl': 'https://foursquare.com/v/ming-liang-kitchen/4e41d2c4b61ca5ba3b1f9c6b', 'categories': [{'id': '4bf58dd8d48988d145941735', 'name': 'Chinese Restaurant', 'pluralName': 'Chinese Restaurants', 'shortName': 'Chinese', 'icon': {'prefix': 'https://ss3.4sqi.net/img/categories_v2/food/asian_', 'suffix': '.png'}, 'primary': True}], 'verified': False, 'stats': {'tipCount': 1}, 'price': {'tier': 1, 'message': 'Cheap', 'currency': '$'}, 'likes': {'count': 1, 'groups': [{'type': 'others', 'count': 1, 'items': [{'isSanctioned': False, 'firstName': 'Dorian', 'lastName': 'L', 'countryCode': 'US'}]}], 'summary': '1 Like'}, 'dislike': False, 'ok': False, 'allowMenuUrlEdit': True, 'beenHere': {'count': 0, 'unconfirmedCount': 0, 'marked': False, 'lastCheckinExpiredAt': 0}, 'specials': {'count': 0, 'items': []}, 'photos': {'count': 0, 'groups': []}, 'reasons': {'count': 0, 'items': []}, 'hereNow': {'count': 0, 'summary': 'Nobody here', 'groups': []}, 'createdAt': 1312936644, 'tips': {'count': 1, 'groups': [{'type': 'others', 'name': 'All tips', 'count': 1, 'items': [{'id': '4f8019ffe4b0e533abee9401', 'createdAt': 1333795327, 'text': 'This Chinese Restaurant is like no other! It actually take Great!!! Love it! :D', 'type': 'user', 'canonicalUrl': 'https://foursquare.com/item/4f8019ffe4b0e533abee9401', 'lang': 'en', 'likes': {'count': 0, 'groups': []}, 'logView': True, 'agreeCount': 0, 'disagreeCount': 0, 'todo': {'count': 0}, 'user': {'isSanctioned': False, 'firstName': 'Shelly', 'lastName': 'T', 'countryCode': 'US'}}]}]}, 'shortUrl': 'http://4sq.com/qqNV2D', 'timeZone': 'America/New_York', 'listed': {'count': 0, 'groups': [{'type': 'others', 'name': 'Lists from other people', 'count': 0, 'items': []}]}, 'seasonalHours': [], 'pageUpdates': {'count': 0, 'items': []}, 'inbox': {'count': 0, 'items': []}, 'attributes': {'groups': [{'type': 'price', 'name': 'Price', 'summary': '$', 'count': 1, 'items': [{'displayName': 'Price', 'displayValue': '$', 'priceTier': 1}]}]}}}}\n",
      "Empty DataFrame\n",
      "Columns: [ID, Name, Likes, Rating, Tips]\n",
      "Index: []\n",
      "No data available for id= 4e41d2c4b61ca5ba3b1f9c6b\n",
      "( 3 / 180 ) processed\n",
      "{'meta': {'code': 200, 'requestId': '5fc9547ca788655b3e2f3905'}, 'response': {'venue': {'id': '4b9d6b45f964a52078ab36e3', 'name': \"Mr. Q's Chinese Restaurant\", 'contact': {'phone': '7188232424', 'formattedPhone': '(718) 823-2424'}, 'location': {'address': '2115 Williamsbridge Rd', 'lat': 40.85579022389548, 'lng': -73.8554550059393, 'labeledLatLngs': [{'label': 'display', 'lat': 40.85579022389548, 'lng': -73.8554550059393}, {'label': 'entrance', 'lat': 40.855784, 'lng': -73.855745}], 'postalCode': '10461', 'cc': 'US', 'city': 'Bronx', 'state': 'NY', 'country': 'United States', 'formattedAddress': ['2115 Williamsbridge Rd', 'Bronx, NY 10461', 'United States']}, 'canonicalUrl': 'https://foursquare.com/v/mr-qs-chinese-restaurant/4b9d6b45f964a52078ab36e3', 'categories': [{'id': '4bf58dd8d48988d145941735', 'name': 'Chinese Restaurant', 'pluralName': 'Chinese Restaurants', 'shortName': 'Chinese', 'icon': {'prefix': 'https://ss3.4sqi.net/img/categories_v2/food/asian_', 'suffix': '.png'}, 'primary': True}], 'verified': False, 'stats': {'tipCount': 10}, 'price': {'tier': 1, 'message': 'Cheap', 'currency': '$'}, 'likes': {'count': 9, 'groups': [{'type': 'others', 'count': 9, 'items': [{'isSanctioned': False, 'firstName': 'Wardell', 'lastName': 'M', 'countryCode': 'US'}, {'isSanctioned': False, 'firstName': 'Theresa', 'lastName': 'M', 'countryCode': 'US'}, {'isSanctioned': False, 'firstName': 'Sue', 'lastName': 'E', 'countryCode': 'US'}]}], 'summary': '9 Likes'}, 'dislike': False, 'ok': False, 'rating': 7.6, 'ratingColor': 'C5DE35', 'ratingSignals': 20, 'allowMenuUrlEdit': True, 'beenHere': {'count': 0, 'unconfirmedCount': 0, 'marked': False, 'lastCheckinExpiredAt': 0}, 'specials': {'count': 0, 'items': []}, 'photos': {'count': 11, 'groups': [{'type': 'venue', 'name': 'Venue photos', 'count': 11, 'items': [{'id': '59c58d46b3c9613aaea04903', 'createdAt': 1506118982, 'source': {'name': 'Swarm for iOS', 'url': 'https://www.swarmapp.com'}, 'prefix': 'https://fastly.4sqi.net/img/general/', 'suffix': '/65541645_3IS7pTvEjRvw4v9W7S2pzI0mIm3i5vHYZKVc_gwJgzE.jpg', 'width': 1440, 'height': 1920, 'user': {'isSanctioned': False, 'firstName': 'Michelle', 'lastName': 'A', 'countryCode': 'US'}, 'visibility': 'public'}]}]}, 'reasons': {'count': 0, 'items': []}, 'hereNow': {'count': 0, 'summary': 'Nobody here', 'groups': []}, 'createdAt': 1268607813, 'tips': {'count': 10, 'groups': [{'type': 'others', 'name': 'All tips', 'count': 10, 'items': [{'id': '4f8a520ee4b0ab5c88c8d5ec', 'createdAt': 1334465038, 'text': 'I used to really enjoy their food- until I found a screw in my food.  And the service could be better for such a small place. No wonder they got a B.', 'type': 'user', 'canonicalUrl': 'https://foursquare.com/item/4f8a520ee4b0ab5c88c8d5ec', 'lang': 'en', 'likes': {'count': 1, 'groups': [{'type': 'others', 'count': 1, 'items': [{'isSanctioned': False, 'firstName': 'Fred', 'lastName': 'G', 'countryCode': 'US'}]}], 'summary': '1 like'}, 'logView': True, 'agreeCount': 1, 'disagreeCount': 0, 'todo': {'count': 0}, 'user': {'isSanctioned': False, 'firstName': 'Kristin', 'lastName': 'K', 'countryCode': 'US'}}]}]}, 'shortUrl': 'http://4sq.com/ap2oJR', 'timeZone': 'America/New_York', 'listed': {'count': 3, 'groups': [{'type': 'others', 'name': 'Lists from other people', 'count': 3, 'items': [{'id': '4e965eaac2ee3612d896c5f1', 'name': 'Favorite Food', 'description': '', 'type': 'others', 'user': {'isSanctioned': False, 'firstName': 'Sylvia', 'lastName': 'H', 'countryCode': 'US'}, 'editable': False, 'public': True, 'collaborative': False, 'url': '/siovino/list/favorite-food', 'canonicalUrl': 'https://foursquare.com/siovino/list/favorite-food', 'createdAt': 1318477482, 'updatedAt': 1386204020, 'followers': {'count': 2}, 'listItems': {'count': 17, 'items': [{'id': 'v4b9d6b45f964a52078ab36e3', 'createdAt': 1318685275}]}}, {'id': '59ef891b8b98fd7142eb4b21', 'name': 'The Bronx', 'description': '', 'type': 'others', 'user': {'isSanctioned': False, 'firstName': 'Tonia', 'lastName': 'E', 'countryCode': 'US'}, 'editable': False, 'public': True, 'collaborative': False, 'url': '/user/165275360/list/the-bronx', 'canonicalUrl': 'https://foursquare.com/user/165275360/list/the-bronx', 'createdAt': 1508870427, 'updatedAt': 1520118452, 'photo': {'id': '50ea5249e4b0620206785a40', 'createdAt': 1357533769, 'prefix': 'https://fastly.4sqi.net/img/general/', 'suffix': '/11659264_EmSyfnl8a-nH7TKwrGRT6Xy5RzLMc9Oc4HLh4Pv-zrY.jpg', 'width': 720, 'height': 538, 'user': {'isSanctioned': False, 'firstName': 'Mike', 'lastName': 'N', 'countryCode': 'US'}, 'visibility': 'public'}, 'followers': {'count': 0}, 'listItems': {'count': 14, 'items': [{'id': 'v4b9d6b45f964a52078ab36e3', 'createdAt': 1520118452}]}}]}]}, 'popular': {'isOpen': False, 'isLocalHoliday': False, 'timeframes': [{'days': 'Today', 'includesToday': True, 'open': [{'renderedTime': 'Noon–2:00 PM'}, {'renderedTime': '5:00 PM–10:00 PM'}], 'segments': []}, {'days': 'Fri', 'open': [{'renderedTime': '5:00 PM–11:00 PM'}], 'segments': []}, {'days': 'Sat', 'open': [{'renderedTime': 'Noon–11:00 PM'}], 'segments': []}, {'days': 'Sun', 'open': [{'renderedTime': '2:00 PM–10:00 PM'}], 'segments': []}, {'days': 'Mon–Tue', 'open': [{'renderedTime': 'Noon–11:00 PM'}], 'segments': []}, {'days': 'Wed', 'open': [{'renderedTime': '10:00 AM–11:00 AM'}, {'renderedTime': '1:00 PM–9:00 PM'}], 'segments': []}]}, 'seasonalHours': [], 'pageUpdates': {'count': 0, 'items': []}, 'inbox': {'count': 0, 'items': []}, 'attributes': {'groups': [{'type': 'price', 'name': 'Price', 'summary': '$', 'count': 1, 'items': [{'displayName': 'Price', 'displayValue': '$', 'priceTier': 1}]}, {'type': 'payments', 'name': 'Credit Cards', 'summary': 'Credit Cards', 'count': 7, 'items': [{'displayName': 'Credit Cards', 'displayValue': 'Yes (incl. Discover & Visa)'}]}, {'type': 'outdoorSeating', 'name': 'Outdoor Seating', 'count': 1, 'items': [{'displayName': 'Outdoor Seating', 'displayValue': 'No'}]}, {'type': 'serves', 'name': 'Menus', 'summary': 'Brunch', 'count': 8, 'items': [{'displayName': 'Brunch', 'displayValue': 'Brunch'}]}, {'type': 'drinks', 'name': 'Drinks', 'summary': 'Full Bar', 'count': 5, 'items': [{'displayName': 'Full Bar', 'displayValue': 'Full Bar'}]}]}, 'bestPhoto': {'id': '59c58d46b3c9613aaea04903', 'createdAt': 1506118982, 'source': {'name': 'Swarm for iOS', 'url': 'https://www.swarmapp.com'}, 'prefix': 'https://fastly.4sqi.net/img/general/', 'suffix': '/65541645_3IS7pTvEjRvw4v9W7S2pzI0mIm3i5vHYZKVc_gwJgzE.jpg', 'width': 1440, 'height': 1920, 'visibility': 'public'}, 'colors': {'highlightColor': {'photoId': '59c58d46b3c9613aaea04903', 'value': -3092280}, 'highlightTextColor': {'photoId': '59c58d46b3c9613aaea04903', 'value': -16777216}, 'algoVersion': 3}}}}\n",
      "                         ID                        Name  Likes  Rating  Tips\n",
      "0  4b9d6b45f964a52078ab36e3  Mr. Q's Chinese Restaurant      9     7.6    10\n",
      "( 4 / 180 ) processed\n"
     ]
    },
    {
     "name": "stdout",
     "output_type": "stream",
     "text": [
      "{'meta': {'code': 200, 'requestId': '5fc9547c27dc4e1dbbadcda0'}, 'response': {'venue': {'id': '4e4d0387bd413c4cc66dfd72', 'name': 'Hung Hing Chinese Restaurant', 'contact': {'phone': '7185625050', 'formattedPhone': '(718) 562-5050'}, 'location': {'address': '239 Bedford Park Blvd', 'lat': 40.871181206606806, 'lng': -73.88675855253665, 'labeledLatLngs': [{'label': 'display', 'lat': 40.871181206606806, 'lng': -73.88675855253665}, {'label': 'entrance', 'lat': 40.871189, 'lng': -73.886476}], 'postalCode': '10458', 'cc': 'US', 'city': 'Bronx', 'state': 'NY', 'country': 'United States', 'formattedAddress': ['239 Bedford Park Blvd', 'Bronx, NY 10458', 'United States']}, 'canonicalUrl': 'https://foursquare.com/v/hung-hing-chinese-restaurant/4e4d0387bd413c4cc66dfd72', 'categories': [{'id': '4bf58dd8d48988d145941735', 'name': 'Chinese Restaurant', 'pluralName': 'Chinese Restaurants', 'shortName': 'Chinese', 'icon': {'prefix': 'https://ss3.4sqi.net/img/categories_v2/food/asian_', 'suffix': '.png'}, 'primary': True}], 'verified': False, 'stats': {'tipCount': 2}, 'price': {'tier': 1, 'message': 'Cheap', 'currency': '$'}, 'hasMenu': True, 'likes': {'count': 5, 'groups': [{'type': 'others', 'count': 5, 'items': [{'isSanctioned': False, 'firstName': 'Caroline', 'lastName': 'O', 'countryCode': 'US'}, {'isSanctioned': False, 'firstName': 'Co', 'lastName': 'G', 'countryCode': 'US'}, {'isSanctioned': False, 'firstName': 'KD', 'lastName': 'A', 'countryCode': 'US'}, {'isSanctioned': False, 'firstName': 'Nehemoth', 'countryCode': 'DO'}]}], 'summary': '5 Likes'}, 'dislike': False, 'ok': False, 'rating': 6.3, 'ratingColor': 'FFC800', 'ratingSignals': 8, 'menu': {'type': 'Menu', 'label': 'Menu', 'anchor': 'View Menu', 'url': 'https://foursquare.com/v/hung-hing-chinese-restaurant/4e4d0387bd413c4cc66dfd72/menu', 'mobileUrl': 'https://foursquare.com/v/4e4d0387bd413c4cc66dfd72/device_menu'}, 'allowMenuUrlEdit': True, 'beenHere': {'count': 0, 'unconfirmedCount': 0, 'marked': False, 'lastCheckinExpiredAt': 0}, 'specials': {'count': 0, 'items': []}, 'photos': {'count': 1, 'groups': [{'type': 'venue', 'name': 'Venue photos', 'count': 1, 'items': [{'id': '4fc58fe1e4b064a3155cd912', 'createdAt': 1338347489, 'source': {'name': 'Foursquare for Android', 'url': 'https://foursquare.com/download/#/android'}, 'prefix': 'https://fastly.4sqi.net/img/general/', 'suffix': '/KYZx4we5yT52gVlVbB1OJjnfYM1zakg4lXDdT2qNDRk.jpg', 'width': 720, 'height': 480, 'user': {'isSanctioned': False, 'firstName': 'Kira', 'lastName': 'B', 'countryCode': 'US'}, 'visibility': 'public'}]}]}, 'reasons': {'count': 0, 'items': []}, 'hereNow': {'count': 0, 'summary': 'Nobody here', 'groups': []}, 'createdAt': 1313670023, 'tips': {'count': 2, 'groups': [{'type': 'others', 'name': 'All tips', 'count': 2, 'items': [{'id': '5066477ae4b0058e9c65cdff', 'createdAt': 1348880250, 'text': 'Food is good home made ice tea is the shit', 'type': 'user', 'canonicalUrl': 'https://foursquare.com/item/5066477ae4b0058e9c65cdff', 'lang': 'en', 'likes': {'count': 0, 'groups': []}, 'logView': True, 'agreeCount': 0, 'disagreeCount': 0, 'todo': {'count': 1}, 'user': {'isSanctioned': False, 'firstName': 'Christopher', 'lastName': 'V', 'countryCode': 'US'}, 'authorInteractionType': 'meh'}]}]}, 'shortUrl': 'http://4sq.com/pcUoxX', 'timeZone': 'America/New_York', 'listed': {'count': 0, 'groups': [{'type': 'others', 'name': 'Lists from other people', 'count': 0, 'items': []}]}, 'seasonalHours': [], 'pageUpdates': {'count': 0, 'items': []}, 'inbox': {'count': 0, 'items': []}, 'attributes': {'groups': [{'type': 'price', 'name': 'Price', 'summary': '$', 'count': 1, 'items': [{'displayName': 'Price', 'displayValue': '$', 'priceTier': 1}]}]}, 'bestPhoto': {'id': '4fc58fe1e4b064a3155cd912', 'createdAt': 1338347489, 'source': {'name': 'Foursquare for Android', 'url': 'https://foursquare.com/download/#/android'}, 'prefix': 'https://fastly.4sqi.net/img/general/', 'suffix': '/KYZx4we5yT52gVlVbB1OJjnfYM1zakg4lXDdT2qNDRk.jpg', 'width': 720, 'height': 480, 'visibility': 'public'}, 'colors': {'highlightColor': {'photoId': '4fc58fe1e4b064a3155cd912', 'value': -15198184}, 'highlightTextColor': {'photoId': '4fc58fe1e4b064a3155cd912', 'value': -1}, 'algoVersion': 3}}}}\n",
      "                         ID                          Name  Likes  Rating  Tips\n",
      "0  4e4d0387bd413c4cc66dfd72  Hung Hing Chinese Restaurant      5     6.3     2\n",
      "( 5 / 180 ) processed\n",
      "{'meta': {'code': 200, 'requestId': '5fc9547c98a3b92a7fb0cd0c'}, 'response': {'venue': {'id': '4cba4a550180721ebb739961', 'name': 'Rose Flower Chinese', 'contact': {'phone': '7183643542', 'formattedPhone': '(718) 364-3542'}, 'location': {'address': '383 Bedford Park Blvd', 'crossStreet': 'decatur avenue', 'lat': 40.867958, 'lng': -73.88385799999999, 'labeledLatLngs': [{'label': 'display', 'lat': 40.867958, 'lng': -73.88385799999999}, {'label': 'entrance', 'lat': 40.867904, 'lng': -73.883944}], 'postalCode': '10458', 'cc': 'US', 'city': 'Bronx', 'state': 'NY', 'country': 'United States', 'formattedAddress': ['383 Bedford Park Blvd (decatur avenue)', 'Bronx, NY 10458', 'United States']}, 'canonicalUrl': 'https://foursquare.com/v/rose-flower-chinese/4cba4a550180721ebb739961', 'categories': [{'id': '4bf58dd8d48988d145941735', 'name': 'Chinese Restaurant', 'pluralName': 'Chinese Restaurants', 'shortName': 'Chinese', 'icon': {'prefix': 'https://ss3.4sqi.net/img/categories_v2/food/asian_', 'suffix': '.png'}, 'primary': True}], 'verified': False, 'stats': {'tipCount': 3}, 'price': {'tier': 1, 'message': 'Cheap', 'currency': '$'}, 'likes': {'count': 1, 'groups': [{'type': 'others', 'count': 1, 'items': [{'isSanctioned': False, 'firstName': 'Danny', 'lastName': 'L', 'countryCode': 'US'}]}], 'summary': '1 Like'}, 'dislike': False, 'ok': False, 'allowMenuUrlEdit': True, 'beenHere': {'count': 0, 'unconfirmedCount': 0, 'marked': False, 'lastCheckinExpiredAt': 0}, 'specials': {'count': 0, 'items': []}, 'photos': {'count': 0, 'groups': []}, 'reasons': {'count': 0, 'items': []}, 'hereNow': {'count': 0, 'summary': 'Nobody here', 'groups': []}, 'createdAt': 1287277141, 'tips': {'count': 3, 'groups': [{'type': 'others', 'name': 'All tips', 'count': 3, 'items': [{'id': '4cba4a95adcd5481cd5722a2', 'createdAt': 1287277205, 'text': 'Best pork fried rice EVER', 'type': 'user', 'canonicalUrl': 'https://foursquare.com/item/4cba4a95adcd5481cd5722a2', 'lang': 'en', 'likes': {'count': 2, 'groups': [{'type': 'others', 'count': 2, 'items': [{'isSanctioned': False, 'firstName': 'Danny', 'lastName': 'L', 'countryCode': 'US'}, {'isSanctioned': False, 'firstName': 'Rambo', 'lastName': 'S', 'countryCode': 'US'}]}], 'summary': '2 likes'}, 'logView': True, 'agreeCount': 2, 'disagreeCount': 0, 'todo': {'count': 0}, 'user': {'isSanctioned': False, 'firstName': 'Jose', 'lastName': 'V', 'countryCode': 'US'}}]}]}, 'shortUrl': 'http://4sq.com/cHP4rw', 'timeZone': 'America/New_York', 'listed': {'count': 0, 'groups': [{'type': 'others', 'name': 'Lists from other people', 'count': 0, 'items': []}]}, 'seasonalHours': [], 'pageUpdates': {'count': 0, 'items': []}, 'inbox': {'count': 0, 'items': []}, 'attributes': {'groups': [{'type': 'price', 'name': 'Price', 'summary': '$', 'count': 1, 'items': [{'displayName': 'Price', 'displayValue': '$', 'priceTier': 1}]}, {'type': 'outdoorSeating', 'name': 'Outdoor Seating', 'count': 1, 'items': [{'displayName': 'Outdoor Seating', 'displayValue': 'No'}]}]}}}}\n",
      "Empty DataFrame\n",
      "Columns: [ID, Name, Likes, Rating, Tips]\n",
      "Index: []\n",
      "No data available for id= 4cba4a550180721ebb739961\n",
      "( 6 / 180 ) processed\n",
      "{'meta': {'code': 200, 'requestId': '5fc9547d4e19e45ea5abff9f'}, 'response': {'venue': {'id': '4d081644e554721e5423c0f8', 'name': 'Wai Kang Kitchen Chinese Food', 'contact': {'phone': '7189332797', 'formattedPhone': '(718) 933-2797'}, 'location': {'address': '39 Bedford Park Blvd W', 'crossStreet': 'Grand concourse', 'lat': 40.8726151696897, 'lng': -73.88842540381232, 'labeledLatLngs': [{'label': 'display', 'lat': 40.8726151696897, 'lng': -73.88842540381232}], 'postalCode': '10468', 'cc': 'US', 'city': 'Bronx', 'state': 'NY', 'country': 'United States', 'formattedAddress': ['39 Bedford Park Blvd W (Grand concourse)', 'Bronx, NY 10468', 'United States']}, 'canonicalUrl': 'https://foursquare.com/v/wai-kang-kitchen-chinese-food/4d081644e554721e5423c0f8', 'categories': [{'id': '4bf58dd8d48988d145941735', 'name': 'Chinese Restaurant', 'pluralName': 'Chinese Restaurants', 'shortName': 'Chinese', 'icon': {'prefix': 'https://ss3.4sqi.net/img/categories_v2/food/asian_', 'suffix': '.png'}, 'primary': True}], 'verified': False, 'stats': {'tipCount': 1}, 'price': {'tier': 1, 'message': 'Cheap', 'currency': '$'}, 'likes': {'count': 2, 'groups': [{'type': 'others', 'count': 2, 'items': [{'isSanctioned': False, 'firstName': 'Erin', 'lastName': 'E', 'countryCode': 'US'}, {'isSanctioned': False, 'firstName': 'Michael', 'lastName': 'D', 'countryCode': 'US'}]}], 'summary': '2 Likes'}, 'dislike': False, 'ok': False, 'allowMenuUrlEdit': True, 'beenHere': {'count': 0, 'unconfirmedCount': 0, 'marked': False, 'lastCheckinExpiredAt': 0}, 'specials': {'count': 0, 'items': []}, 'photos': {'count': 2, 'groups': [{'type': 'venue', 'name': 'Venue photos', 'count': 2, 'items': [{'id': '54626217498e5caf263e593a', 'createdAt': 1415733783, 'source': {'name': 'Swarm for Android', 'url': 'https://www.swarmapp.com'}, 'prefix': 'https://fastly.4sqi.net/img/general/', 'suffix': '/30437949_lqC8WikPxnhd4VuIeSekYGyComoQte1MjjmosRZAREo.jpg', 'width': 1440, 'height': 810, 'user': {'isSanctioned': False, 'firstName': 'Michael', 'lastName': 'D', 'countryCode': 'US'}, 'visibility': 'public'}]}]}, 'reasons': {'count': 0, 'items': []}, 'hereNow': {'count': 0, 'summary': 'Nobody here', 'groups': []}, 'createdAt': 1292375620, 'tips': {'count': 1, 'groups': [{'type': 'others', 'name': 'All tips', 'count': 1, 'items': [{'id': '54860c7b498e1b3f779ba249', 'createdAt': 1418071163, 'text': 'Best Shrimp and Broccoli out of all Chinese takeout spots.', 'type': 'user', 'canonicalUrl': 'https://foursquare.com/item/54860c7b498e1b3f779ba249', 'lang': 'en', 'likes': {'count': 0, 'groups': []}, 'logView': True, 'agreeCount': 1, 'disagreeCount': 0, 'todo': {'count': 0}, 'user': {'isSanctioned': False, 'firstName': 'Michael', 'lastName': 'D', 'countryCode': 'US'}, 'authorInteractionType': 'liked'}]}]}, 'shortUrl': 'http://4sq.com/gozdq8', 'timeZone': 'America/New_York', 'listed': {'count': 0, 'groups': [{'type': 'others', 'name': 'Lists from other people', 'count': 0, 'items': []}]}, 'seasonalHours': [], 'pageUpdates': {'count': 0, 'items': []}, 'inbox': {'count': 0, 'items': []}, 'attributes': {'groups': [{'type': 'price', 'name': 'Price', 'summary': '$', 'count': 1, 'items': [{'displayName': 'Price', 'displayValue': '$', 'priceTier': 1}]}, {'type': 'reservations', 'name': 'Reservations', 'count': 3, 'items': [{'displayName': 'Reservations', 'displayValue': 'No'}]}, {'type': 'payments', 'name': 'Credit Cards', 'summary': 'No Credit Cards', 'count': 7, 'items': [{'displayName': 'Credit Cards', 'displayValue': 'No'}]}]}, 'bestPhoto': {'id': '54626217498e5caf263e593a', 'createdAt': 1415733783, 'source': {'name': 'Swarm for Android', 'url': 'https://www.swarmapp.com'}, 'prefix': 'https://fastly.4sqi.net/img/general/', 'suffix': '/30437949_lqC8WikPxnhd4VuIeSekYGyComoQte1MjjmosRZAREo.jpg', 'width': 1440, 'height': 810, 'visibility': 'public'}, 'colors': {'highlightColor': {'photoId': '54626217498e5caf263e593a', 'value': -14669784}, 'highlightTextColor': {'photoId': '54626217498e5caf263e593a', 'value': -1}, 'algoVersion': 3}}}}\n",
      "Empty DataFrame\n",
      "Columns: [ID, Name, Likes, Rating, Tips]\n",
      "Index: []\n",
      "No data available for id= 4d081644e554721e5423c0f8\n",
      "( 7 / 180 ) processed\n"
     ]
    },
    {
     "name": "stdout",
     "output_type": "stream",
     "text": [
      "{'meta': {'code': 200, 'requestId': '5fc9547d85adf10fc1aadf97'}, 'response': {'venue': {'id': '4cf30a837e93f04d366a5669', 'name': 'China Wok II', 'contact': {'phone': '7185842488', 'formattedPhone': '(718) 584-2488'}, 'location': {'address': '2459 Webster Ave', 'crossStreet': '188th street', 'lat': 40.860219, 'lng': -73.893323, 'labeledLatLngs': [{'label': 'display', 'lat': 40.860219, 'lng': -73.893323}, {'label': 'entrance', 'lat': 40.860154, 'lng': -73.893174}], 'postalCode': '10458', 'cc': 'US', 'city': 'Bronx', 'state': 'NY', 'country': 'United States', 'formattedAddress': ['2459 Webster Ave (188th street)', 'Bronx, NY 10458', 'United States']}, 'canonicalUrl': 'https://foursquare.com/v/china-wok-ii/4cf30a837e93f04d366a5669', 'categories': [{'id': '4bf58dd8d48988d145941735', 'name': 'Chinese Restaurant', 'pluralName': 'Chinese Restaurants', 'shortName': 'Chinese', 'icon': {'prefix': 'https://ss3.4sqi.net/img/categories_v2/food/asian_', 'suffix': '.png'}, 'primary': True}], 'verified': False, 'stats': {'tipCount': 0}, 'url': 'http://chinawokky.com', 'price': {'tier': 1, 'message': 'Cheap', 'currency': '$'}, 'likes': {'count': 0, 'groups': []}, 'dislike': False, 'ok': False, 'allowMenuUrlEdit': True, 'beenHere': {'count': 0, 'unconfirmedCount': 0, 'marked': False, 'lastCheckinExpiredAt': 0}, 'specials': {'count': 0, 'items': []}, 'photos': {'count': 1, 'groups': [{'type': 'venue', 'name': 'Venue photos', 'count': 1, 'items': [{'id': '5275633811d2b8a3c2510553', 'createdAt': 1383424824, 'source': {'name': 'Foursquare for iOS', 'url': 'https://foursquare.com/download/#/iphone'}, 'prefix': 'https://fastly.4sqi.net/img/general/', 'suffix': '/39047400_9YNoA7SZyFpb1BqPJR7_ZMS48Virwpxd4-_I5Xm77-g.jpg', 'width': 960, 'height': 720, 'user': {'isSanctioned': False, 'firstName': 'Wilson', 'lastName': 'D', 'countryCode': 'US'}, 'visibility': 'public'}]}]}, 'reasons': {'count': 0, 'items': []}, 'hereNow': {'count': 0, 'summary': 'Nobody here', 'groups': []}, 'createdAt': 1290996355, 'tips': {'count': 0, 'groups': []}, 'shortUrl': 'http://4sq.com/eKBcky', 'timeZone': 'America/New_York', 'listed': {'count': 0, 'groups': [{'type': 'others', 'name': 'Lists from other people', 'count': 0, 'items': []}]}, 'seasonalHours': [], 'pageUpdates': {'count': 0, 'items': []}, 'inbox': {'count': 0, 'items': []}, 'attributes': {'groups': [{'type': 'price', 'name': 'Price', 'summary': '$', 'count': 1, 'items': [{'displayName': 'Price', 'displayValue': '$', 'priceTier': 1}]}, {'type': 'reservations', 'name': 'Reservations', 'count': 3, 'items': [{'displayName': 'Reservations', 'displayValue': 'No'}]}, {'type': 'payments', 'name': 'Credit Cards', 'summary': 'No Credit Cards', 'count': 7, 'items': [{'displayName': 'Credit Cards', 'displayValue': 'No'}]}]}, 'bestPhoto': {'id': '5275633811d2b8a3c2510553', 'createdAt': 1383424824, 'source': {'name': 'Foursquare for iOS', 'url': 'https://foursquare.com/download/#/iphone'}, 'prefix': 'https://fastly.4sqi.net/img/general/', 'suffix': '/39047400_9YNoA7SZyFpb1BqPJR7_ZMS48Virwpxd4-_I5Xm77-g.jpg', 'width': 960, 'height': 720, 'visibility': 'public'}}}}\n",
      "Empty DataFrame\n",
      "Columns: [ID, Name, Likes, Rating, Tips]\n",
      "Index: []\n",
      "No data available for id= 4cf30a837e93f04d366a5669\n",
      "( 8 / 180 ) processed\n",
      "{'meta': {'code': 200, 'requestId': '5fc9547e70ed9c382ac27bd1'}, 'response': {'venue': {'id': '4ccf58277f56a1434cfec6a6', 'name': 'Wings Chinese Restaurant', 'contact': {'phone': '7182994613', 'formattedPhone': '(718) 299-4613'}, 'location': {'address': '879 E Tremont Ave', 'lat': 40.843266, 'lng': -73.88590500000001, 'labeledLatLngs': [{'label': 'display', 'lat': 40.843266, 'lng': -73.88590500000001}, {'label': 'entrance', 'lat': 40.842944, 'lng': -73.885881}], 'postalCode': '10460', 'cc': 'US', 'city': 'Bronx', 'state': 'NY', 'country': 'United States', 'formattedAddress': ['879 E Tremont Ave', 'Bronx, NY 10460', 'United States']}, 'canonicalUrl': 'https://foursquare.com/v/wings-chinese-restaurant/4ccf58277f56a1434cfec6a6', 'categories': [{'id': '4bf58dd8d48988d145941735', 'name': 'Chinese Restaurant', 'pluralName': 'Chinese Restaurants', 'shortName': 'Chinese', 'icon': {'prefix': 'https://ss3.4sqi.net/img/categories_v2/food/asian_', 'suffix': '.png'}, 'primary': True}], 'verified': False, 'stats': {'tipCount': 0}, 'price': {'tier': 1, 'message': 'Cheap', 'currency': '$'}, 'hasMenu': True, 'likes': {'count': 0, 'groups': []}, 'dislike': False, 'ok': False, 'menu': {'type': 'Menu', 'label': 'Menu', 'anchor': 'View Menu', 'url': 'https://foursquare.com/v/wings-chinese-restaurant/4ccf58277f56a1434cfec6a6/menu', 'mobileUrl': 'https://foursquare.com/v/4ccf58277f56a1434cfec6a6/device_menu'}, 'allowMenuUrlEdit': True, 'beenHere': {'count': 0, 'unconfirmedCount': 0, 'marked': False, 'lastCheckinExpiredAt': 0}, 'specials': {'count': 0, 'items': []}, 'photos': {'count': 0, 'groups': []}, 'reasons': {'count': 0, 'items': []}, 'hereNow': {'count': 0, 'summary': 'Nobody here', 'groups': []}, 'createdAt': 1288656935, 'tips': {'count': 0, 'groups': []}, 'shortUrl': 'http://4sq.com/auddKu', 'timeZone': 'America/New_York', 'listed': {'count': 1, 'groups': [{'type': 'others', 'name': 'Lists from other people', 'count': 1, 'items': [{'id': '518c79e9498edfc9a4e1fd42', 'name': \"Sweet n' Sour Check-In\", 'description': '', 'type': 'others', 'user': {'isSanctioned': False, 'firstName': 'Markus', 'lastName': 'P', 'countryCode': 'DE'}, 'editable': False, 'public': True, 'collaborative': False, 'url': '/user/2893900/list/sweet-n-sour-checkin', 'canonicalUrl': 'https://foursquare.com/user/2893900/list/sweet-n-sour-checkin', 'createdAt': 1368160745, 'updatedAt': 1391632274, 'photo': {'id': '518c7ac65019d968d03fd79a', 'createdAt': 1368160966, 'prefix': 'https://fastly.4sqi.net/img/general/', 'suffix': '/2893900_js33PbkH7rxYwAQW2-eJshcHnaTEJYPaUIm-TjCqQXk.png', 'width': 300, 'height': 300, 'user': {'isSanctioned': False, 'firstName': 'Markus', 'lastName': 'P', 'countryCode': 'DE'}, 'visibility': 'public'}, 'followers': {'count': 2}, 'listItems': {'count': 55, 'items': [{'id': 'v4ccf58277f56a1434cfec6a6', 'createdAt': 1368272403}]}}]}]}, 'seasonalHours': [], 'pageUpdates': {'count': 0, 'items': []}, 'inbox': {'count': 0, 'items': []}, 'attributes': {'groups': [{'type': 'price', 'name': 'Price', 'summary': '$', 'count': 1, 'items': [{'displayName': 'Price', 'displayValue': '$', 'priceTier': 1}]}, {'type': 'reservations', 'name': 'Reservations', 'count': 3, 'items': [{'displayName': 'Reservations', 'displayValue': 'No'}]}]}}}}\n",
      "Empty DataFrame\n",
      "Columns: [ID, Name, Likes, Rating, Tips]\n",
      "Index: []\n",
      "No data available for id= 4ccf58277f56a1434cfec6a6\n",
      "( 9 / 180 ) processed\n",
      "{'meta': {'code': 200, 'requestId': '5fc9547e96525d38225849bf'}, 'response': {'venue': {'id': '4cd0d4d77b6854810401c4f8', 'name': 'Food Hai', 'contact': {'phone': '7188930353', 'formattedPhone': '(718) 893-0353'}, 'location': {'address': '20-20-2030 Boston Rd', 'lat': 40.840579, 'lng': -73.87948, 'labeledLatLngs': [{'label': 'display', 'lat': 40.840579, 'lng': -73.87948}], 'postalCode': '10460', 'cc': 'US', 'city': 'Bronx', 'state': 'NY', 'country': 'United States', 'formattedAddress': ['20-20-2030 Boston Rd', 'Bronx, NY 10460', 'United States']}, 'canonicalUrl': 'https://foursquare.com/v/food-hai/4cd0d4d77b6854810401c4f8', 'categories': [{'id': '4bf58dd8d48988d145941735', 'name': 'Chinese Restaurant', 'pluralName': 'Chinese Restaurants', 'shortName': 'Chinese', 'icon': {'prefix': 'https://ss3.4sqi.net/img/categories_v2/food/asian_', 'suffix': '.png'}, 'primary': True}], 'verified': False, 'stats': {'tipCount': 0}, 'price': {'tier': 1, 'message': 'Cheap', 'currency': '$'}, 'likes': {'count': 0, 'groups': []}, 'dislike': False, 'ok': False, 'allowMenuUrlEdit': True, 'beenHere': {'count': 0, 'unconfirmedCount': 0, 'marked': False, 'lastCheckinExpiredAt': 0}, 'specials': {'count': 0, 'items': []}, 'photos': {'count': 0, 'groups': []}, 'reasons': {'count': 0, 'items': []}, 'hereNow': {'count': 0, 'summary': 'Nobody here', 'groups': []}, 'createdAt': 1288754391, 'tips': {'count': 0, 'groups': []}, 'shortUrl': 'http://4sq.com/drI1Ox', 'timeZone': 'America/New_York', 'listed': {'count': 0, 'groups': [{'type': 'others', 'name': 'Lists from other people', 'count': 0, 'items': []}]}, 'seasonalHours': [], 'pageUpdates': {'count': 0, 'items': []}, 'inbox': {'count': 0, 'items': []}, 'attributes': {'groups': [{'type': 'price', 'name': 'Price', 'summary': '$', 'count': 1, 'items': [{'displayName': 'Price', 'displayValue': '$', 'priceTier': 1}]}, {'type': 'reservations', 'name': 'Reservations', 'count': 3, 'items': [{'displayName': 'Reservations', 'displayValue': 'No'}]}]}}}}\n",
      "Empty DataFrame\n",
      "Columns: [ID, Name, Likes, Rating, Tips]\n",
      "Index: []\n",
      "No data available for id= 4cd0d4d77b6854810401c4f8\n",
      "( 10 / 180 ) processed\n"
     ]
    },
    {
     "name": "stdout",
     "output_type": "stream",
     "text": [
      "{'meta': {'code': 200, 'requestId': '5fc9547ef5ceae3a1202dd68'}, 'response': {'venue': {'id': '4cd88b521891236a79d8360b', 'name': 'Hong Kong', 'contact': {'phone': '7187920219', 'formattedPhone': '(718) 792-0219'}, 'location': {'address': '459 Morris Park Ave', 'lat': 40.8408088684082, 'lng': -73.87335205078125, 'labeledLatLngs': [{'label': 'entrance', 'lat': 40.840752, 'lng': -73.873093}, {'label': 'display', 'lat': 40.8408088684082, 'lng': -73.87335205078125}], 'postalCode': '10460', 'cc': 'US', 'city': 'Bronx', 'state': 'NY', 'country': 'United States', 'formattedAddress': ['459 Morris Park Ave', 'Bronx, NY 10460', 'United States']}, 'canonicalUrl': 'https://foursquare.com/v/hong-kong/4cd88b521891236a79d8360b', 'categories': [{'id': '4bf58dd8d48988d145941735', 'name': 'Chinese Restaurant', 'pluralName': 'Chinese Restaurants', 'shortName': 'Chinese', 'icon': {'prefix': 'https://ss3.4sqi.net/img/categories_v2/food/asian_', 'suffix': '.png'}, 'primary': True}], 'verified': False, 'stats': {'tipCount': 2}, 'price': {'tier': 1, 'message': 'Cheap', 'currency': '$'}, 'hasMenu': True, 'likes': {'count': 0, 'groups': []}, 'dislike': False, 'ok': False, 'menu': {'type': 'Menu', 'label': 'Menu', 'anchor': 'View Menu', 'url': 'https://foursquare.com/v/hong-kong/4cd88b521891236a79d8360b/menu', 'mobileUrl': 'https://foursquare.com/v/4cd88b521891236a79d8360b/device_menu'}, 'allowMenuUrlEdit': True, 'beenHere': {'count': 0, 'unconfirmedCount': 0, 'marked': False, 'lastCheckinExpiredAt': 0}, 'specials': {'count': 0, 'items': []}, 'photos': {'count': 2, 'groups': [{'type': 'venue', 'name': 'Venue photos', 'count': 2, 'items': [{'id': '52e082e2498e4715dda410a3', 'createdAt': 1390445282, 'source': {'name': 'Foursquare for Android', 'url': 'https://foursquare.com/download/#/android'}, 'prefix': 'https://fastly.4sqi.net/img/general/', 'suffix': '/60330_4LXOZT2SKvkT7jf12qaIh-aonauD9VTqXYMexGR8Dds.jpg', 'width': 720, 'height': 960, 'user': {'isSanctioned': False, 'firstName': 'DJ', 'lastName': 'R', 'countryCode': 'US'}, 'visibility': 'public'}]}]}, 'reasons': {'count': 0, 'items': []}, 'hereNow': {'count': 0, 'summary': 'Nobody here', 'groups': []}, 'createdAt': 1289259858, 'tips': {'count': 2, 'groups': [{'type': 'others', 'name': 'All tips', 'count': 2, 'items': [{'id': '4f161855e4b0297e5ae9cdd8', 'createdAt': 1326848085, 'text': 'Ask the mayor! She knows!', 'type': 'user', 'canonicalUrl': 'https://foursquare.com/item/4f161855e4b0297e5ae9cdd8', 'lang': 'en', 'likes': {'count': 1, 'groups': [{'type': 'others', 'count': 1, 'items': []}], 'summary': '1 like'}, 'logView': True, 'agreeCount': 0, 'disagreeCount': 0, 'todo': {'count': 0}, 'user': {'isSanctioned': False, 'firstName': 'Omar', 'lastName': 'R', 'countryCode': 'US'}}]}]}, 'shortUrl': 'http://4sq.com/d2mP0A', 'timeZone': 'America/New_York', 'listed': {'count': 0, 'groups': [{'type': 'others', 'name': 'Lists from other people', 'count': 0, 'items': []}]}, 'seasonalHours': [], 'pageUpdates': {'count': 0, 'items': []}, 'inbox': {'count': 0, 'items': []}, 'attributes': {'groups': [{'type': 'price', 'name': 'Price', 'summary': '$', 'count': 1, 'items': [{'displayName': 'Price', 'displayValue': '$', 'priceTier': 1}]}]}, 'bestPhoto': {'id': '52e082e2498e4715dda410a3', 'createdAt': 1390445282, 'source': {'name': 'Foursquare for Android', 'url': 'https://foursquare.com/download/#/android'}, 'prefix': 'https://fastly.4sqi.net/img/general/', 'suffix': '/60330_4LXOZT2SKvkT7jf12qaIh-aonauD9VTqXYMexGR8Dds.jpg', 'width': 720, 'height': 960, 'visibility': 'public'}}}}\n",
      "Empty DataFrame\n",
      "Columns: [ID, Name, Likes, Rating, Tips]\n",
      "Index: []\n",
      "No data available for id= 4cd88b521891236a79d8360b\n",
      "( 11 / 180 ) processed\n",
      "{'meta': {'code': 200, 'requestId': '5fc9547e85adf10fc1aae413'}, 'response': {'venue': {'id': '4da0c70b7aee5481bda6b2fe', 'name': 'wah yong', 'contact': {}, 'location': {'address': '112 W 168th St', 'crossStreet': 'nelson ave', 'lat': 40.83821105957031, 'lng': -73.92478942871094, 'labeledLatLngs': [{'label': 'entrance', 'lat': 40.838237, 'lng': -73.92469}, {'label': 'display', 'lat': 40.83821105957031, 'lng': -73.92478942871094}], 'postalCode': '10452', 'cc': 'US', 'city': 'Bronx', 'state': 'NY', 'country': 'United States', 'formattedAddress': ['112 W 168th St (nelson ave)', 'Bronx, NY 10452', 'United States']}, 'canonicalUrl': 'https://foursquare.com/v/wah-yong/4da0c70b7aee5481bda6b2fe', 'categories': [{'id': '4bf58dd8d48988d145941735', 'name': 'Chinese Restaurant', 'pluralName': 'Chinese Restaurants', 'shortName': 'Chinese', 'icon': {'prefix': 'https://ss3.4sqi.net/img/categories_v2/food/asian_', 'suffix': '.png'}, 'primary': True}], 'verified': False, 'stats': {'tipCount': 0}, 'price': {'tier': 1, 'message': 'Cheap', 'currency': '$'}, 'likes': {'count': 0, 'groups': []}, 'dislike': False, 'ok': False, 'allowMenuUrlEdit': True, 'beenHere': {'count': 0, 'unconfirmedCount': 0, 'marked': False, 'lastCheckinExpiredAt': 0}, 'specials': {'count': 0, 'items': []}, 'photos': {'count': 0, 'groups': []}, 'reasons': {'count': 0, 'items': []}, 'hereNow': {'count': 0, 'summary': 'Nobody here', 'groups': []}, 'createdAt': 1302382347, 'tips': {'count': 0, 'groups': []}, 'shortUrl': 'http://4sq.com/fztJdC', 'timeZone': 'America/New_York', 'listed': {'count': 0, 'groups': [{'type': 'others', 'name': 'Lists from other people', 'count': 0, 'items': []}]}, 'seasonalHours': [], 'pageUpdates': {'count': 0, 'items': []}, 'inbox': {'count': 0, 'items': []}, 'attributes': {'groups': [{'type': 'price', 'name': 'Price', 'summary': '$', 'count': 1, 'items': [{'displayName': 'Price', 'displayValue': '$', 'priceTier': 1}]}]}}}}\n",
      "Empty DataFrame\n",
      "Columns: [ID, Name, Likes, Rating, Tips]\n",
      "Index: []\n",
      "No data available for id= 4da0c70b7aee5481bda6b2fe\n",
      "( 12 / 180 ) processed\n",
      "{'meta': {'code': 200, 'requestId': '5fc9547f6ef0be321d8f13c9'}, 'response': {'venue': {'id': '4df3e68688772e1f81559d14', 'name': 'Good Choice Chinese Restaurant', 'contact': {'phone': '7185858866', 'formattedPhone': '(718) 585-8866'}, 'location': {'address': '570 E 138th St', 'crossStreet': 'at St. Anns Ave.', 'lat': 40.806515999999995, 'lng': -73.917477, 'labeledLatLngs': [{'label': 'display', 'lat': 40.806515999999995, 'lng': -73.917477}, {'label': 'entrance', 'lat': 40.806629, 'lng': -73.917397}], 'postalCode': '10454', 'cc': 'US', 'city': 'Bronx', 'state': 'NY', 'country': 'United States', 'formattedAddress': ['570 E 138th St (at St. Anns Ave.)', 'Bronx, NY 10454', 'United States']}, 'canonicalUrl': 'https://foursquare.com/v/good-choice-chinese-restaurant/4df3e68688772e1f81559d14', 'categories': [{'id': '4bf58dd8d48988d145941735', 'name': 'Chinese Restaurant', 'pluralName': 'Chinese Restaurants', 'shortName': 'Chinese', 'icon': {'prefix': 'https://ss3.4sqi.net/img/categories_v2/food/asian_', 'suffix': '.png'}, 'primary': True}], 'verified': False, 'stats': {'tipCount': 0}, 'price': {'tier': 1, 'message': 'Cheap', 'currency': '$'}, 'likes': {'count': 0, 'groups': []}, 'dislike': False, 'ok': False, 'allowMenuUrlEdit': True, 'beenHere': {'count': 0, 'unconfirmedCount': 0, 'marked': False, 'lastCheckinExpiredAt': 0}, 'specials': {'count': 0, 'items': []}, 'photos': {'count': 1, 'groups': [{'type': 'venue', 'name': 'Venue photos', 'count': 1, 'items': [{'id': '5286702e11d2a8464c171cc9', 'createdAt': 1384542254, 'source': {'name': 'Foursquare for iOS', 'url': 'https://foursquare.com/download/#/iphone'}, 'prefix': 'https://fastly.4sqi.net/img/general/', 'suffix': '/69571401_SGvqN3wmDb_DncW04SrrCgqv0Rq3q8eovBH49jobtaA.jpg', 'width': 720, 'height': 960, 'user': {'isSanctioned': False, 'firstName': 'Alexis', 'lastName': 'W', 'countryCode': 'US'}, 'visibility': 'public'}]}]}, 'reasons': {'count': 0, 'items': []}, 'hereNow': {'count': 0, 'summary': 'Nobody here', 'groups': []}, 'createdAt': 1307829894, 'tips': {'count': 0, 'groups': []}, 'shortUrl': 'http://4sq.com/kDKdbl', 'timeZone': 'America/New_York', 'listed': {'count': 0, 'groups': [{'type': 'others', 'name': 'Lists from other people', 'count': 0, 'items': []}]}, 'seasonalHours': [], 'pageUpdates': {'count': 0, 'items': []}, 'inbox': {'count': 0, 'items': []}, 'attributes': {'groups': [{'type': 'price', 'name': 'Price', 'summary': '$', 'count': 1, 'items': [{'displayName': 'Price', 'displayValue': '$', 'priceTier': 1}]}, {'type': 'reservations', 'name': 'Reservations', 'count': 3, 'items': [{'displayName': 'Reservations', 'displayValue': 'No'}]}]}, 'bestPhoto': {'id': '5286702e11d2a8464c171cc9', 'createdAt': 1384542254, 'source': {'name': 'Foursquare for iOS', 'url': 'https://foursquare.com/download/#/iphone'}, 'prefix': 'https://fastly.4sqi.net/img/general/', 'suffix': '/69571401_SGvqN3wmDb_DncW04SrrCgqv0Rq3q8eovBH49jobtaA.jpg', 'width': 720, 'height': 960, 'visibility': 'public'}, 'colors': {'highlightColor': {'photoId': '5286702e11d2a8464c171cc9', 'value': -15196136}, 'highlightTextColor': {'photoId': '5286702e11d2a8464c171cc9', 'value': -1}, 'algoVersion': 3}}}}\n",
      "Empty DataFrame\n",
      "Columns: [ID, Name, Likes, Rating, Tips]\n",
      "Index: []\n",
      "No data available for id= 4df3e68688772e1f81559d14\n",
      "( 13 / 180 ) processed\n"
     ]
    },
    {
     "name": "stdout",
     "output_type": "stream",
     "text": [
      "{'meta': {'code': 200, 'requestId': '5fc9547fdffa6f58c5b969d2'}, 'response': {'venue': {'id': '4cfece683f846dcb83408d37', 'name': 'Great Wall Chinese Food', 'contact': {'phone': '7188424075', 'formattedPhone': '(718) 842-4075', 'twitter': 'thegreatwallma'}, 'location': {'address': '991 Prospect Ave', 'lat': 40.823273182797735, 'lng': -73.90004240721701, 'labeledLatLngs': [{'label': 'display', 'lat': 40.823273182797735, 'lng': -73.90004240721701}, {'label': 'entrance', 'lat': 40.823287, 'lng': -73.900314}], 'postalCode': '10459', 'cc': 'US', 'city': 'Bronx', 'state': 'NY', 'country': 'United States', 'formattedAddress': ['991 Prospect Ave', 'Bronx, NY 10459', 'United States']}, 'canonicalUrl': 'https://foursquare.com/v/great-wall-chinese-food/4cfece683f846dcb83408d37', 'categories': [{'id': '4bf58dd8d48988d145941735', 'name': 'Chinese Restaurant', 'pluralName': 'Chinese Restaurants', 'shortName': 'Chinese', 'icon': {'prefix': 'https://ss3.4sqi.net/img/categories_v2/food/asian_', 'suffix': '.png'}, 'primary': True}], 'verified': False, 'stats': {'tipCount': 0}, 'url': 'http://greatwallbedford.com', 'price': {'tier': 2, 'message': 'Moderate', 'currency': '$'}, 'likes': {'count': 0, 'groups': []}, 'dislike': False, 'ok': False, 'allowMenuUrlEdit': True, 'beenHere': {'count': 0, 'unconfirmedCount': 0, 'marked': False, 'lastCheckinExpiredAt': 0}, 'specials': {'count': 0, 'items': []}, 'photos': {'count': 0, 'groups': []}, 'reasons': {'count': 0, 'items': []}, 'hereNow': {'count': 0, 'summary': 'Nobody here', 'groups': []}, 'createdAt': 1291767400, 'tips': {'count': 0, 'groups': []}, 'shortUrl': 'http://4sq.com/gJRIiH', 'timeZone': 'America/New_York', 'listed': {'count': 0, 'groups': [{'type': 'others', 'name': 'Lists from other people', 'count': 0, 'items': []}]}, 'seasonalHours': [], 'pageUpdates': {'count': 0, 'items': []}, 'inbox': {'count': 0, 'items': []}, 'attributes': {'groups': [{'type': 'price', 'name': 'Price', 'summary': '$$', 'count': 1, 'items': [{'displayName': 'Price', 'displayValue': '$$', 'priceTier': 2}]}, {'type': 'reservations', 'name': 'Reservations', 'count': 3, 'items': [{'displayName': 'Reservations', 'displayValue': 'No'}]}]}}}}\n",
      "Empty DataFrame\n",
      "Columns: [ID, Name, Likes, Rating, Tips]\n",
      "Index: []\n",
      "No data available for id= 4cfece683f846dcb83408d37\n",
      "( 14 / 180 ) processed\n",
      "{'meta': {'code': 200, 'requestId': '5fc9547f98a3b92a7fb0d76b'}, 'response': {'venue': {'id': '4cc63e36bde8f04dcbfeb54b', 'name': 'Golden City Chinese Restaurant', 'contact': {}, 'location': {'address': '805 Soundview Ave', 'lat': 40.82143531101194, 'lng': -73.86637130850734, 'labeledLatLngs': [{'label': 'display', 'lat': 40.82143531101194, 'lng': -73.86637130850734}], 'postalCode': '10473', 'cc': 'US', 'city': 'Bronx', 'state': 'NY', 'country': 'United States', 'formattedAddress': ['805 Soundview Ave', 'Bronx, NY 10473', 'United States']}, 'canonicalUrl': 'https://foursquare.com/v/golden-city-chinese-restaurant/4cc63e36bde8f04dcbfeb54b', 'categories': [{'id': '4bf58dd8d48988d145941735', 'name': 'Chinese Restaurant', 'pluralName': 'Chinese Restaurants', 'shortName': 'Chinese', 'icon': {'prefix': 'https://ss3.4sqi.net/img/categories_v2/food/asian_', 'suffix': '.png'}, 'primary': True}], 'verified': False, 'stats': {'tipCount': 0}, 'price': {'tier': 1, 'message': 'Cheap', 'currency': '$'}, 'likes': {'count': 0, 'groups': []}, 'dislike': False, 'ok': False, 'allowMenuUrlEdit': True, 'beenHere': {'count': 0, 'unconfirmedCount': 0, 'marked': False, 'lastCheckinExpiredAt': 0}, 'specials': {'count': 0, 'items': []}, 'photos': {'count': 3, 'groups': [{'type': 'venue', 'name': 'Venue photos', 'count': 3, 'items': [{'id': '509d75b0e4b01b6886009ec8', 'createdAt': 1352496560, 'source': {'name': 'Foursquare for Android', 'url': 'https://foursquare.com/download/#/android'}, 'prefix': 'https://fastly.4sqi.net/img/general/', 'suffix': '/20704152_UpG5BkSWAiuaE0qQEJptoHMdAaeWJPU00tw3JdJjDF8.jpg', 'width': 540, 'height': 720, 'user': {'isSanctioned': False, 'firstName': 'JoNeZEE', 'countryCode': 'US'}, 'visibility': 'public'}]}]}, 'reasons': {'count': 0, 'items': []}, 'hereNow': {'count': 0, 'summary': 'Nobody here', 'groups': []}, 'createdAt': 1288060470, 'tips': {'count': 0, 'groups': []}, 'shortUrl': 'http://4sq.com/cfq1Sb', 'timeZone': 'America/New_York', 'listed': {'count': 0, 'groups': [{'type': 'others', 'name': 'Lists from other people', 'count': 0, 'items': []}]}, 'seasonalHours': [], 'pageUpdates': {'count': 0, 'items': []}, 'inbox': {'count': 0, 'items': []}, 'attributes': {'groups': [{'type': 'price', 'name': 'Price', 'summary': '$', 'count': 1, 'items': [{'displayName': 'Price', 'displayValue': '$', 'priceTier': 1}]}]}, 'bestPhoto': {'id': '509d75b0e4b01b6886009ec8', 'createdAt': 1352496560, 'source': {'name': 'Foursquare for Android', 'url': 'https://foursquare.com/download/#/android'}, 'prefix': 'https://fastly.4sqi.net/img/general/', 'suffix': '/20704152_UpG5BkSWAiuaE0qQEJptoHMdAaeWJPU00tw3JdJjDF8.jpg', 'width': 540, 'height': 720, 'visibility': 'public'}}}}\n",
      "Empty DataFrame\n",
      "Columns: [ID, Name, Likes, Rating, Tips]\n",
      "Index: []\n",
      "No data available for id= 4cc63e36bde8f04dcbfeb54b\n",
      "( 15 / 180 ) processed\n",
      "{'meta': {'code': 200, 'requestId': '5fc9548082244217e68fbaf7'}, 'response': {'venue': {'id': '4e656e8252b1260c14683b4b', 'name': 'Kee Hing Restaurant', 'contact': {'phone': '7189911105', 'formattedPhone': '(718) 991-1105'}, 'location': {'address': '845 Soundview Ave', 'crossStreet': 'Story Ave.', 'lat': 40.822140999999995, 'lng': -73.8677, 'labeledLatLngs': [{'label': 'display', 'lat': 40.822140999999995, 'lng': -73.8677}, {'label': 'entrance', 'lat': 40.822374, 'lng': -73.867704}], 'postalCode': '10473', 'cc': 'US', 'city': 'Bronx', 'state': 'NY', 'country': 'United States', 'formattedAddress': ['845 Soundview Ave (Story Ave.)', 'Bronx, NY 10473', 'United States']}, 'canonicalUrl': 'https://foursquare.com/v/kee-hing-restaurant/4e656e8252b1260c14683b4b', 'categories': [{'id': '4bf58dd8d48988d145941735', 'name': 'Chinese Restaurant', 'pluralName': 'Chinese Restaurants', 'shortName': 'Chinese', 'icon': {'prefix': 'https://ss3.4sqi.net/img/categories_v2/food/asian_', 'suffix': '.png'}, 'primary': True}], 'verified': False, 'stats': {'tipCount': 0}, 'price': {'tier': 1, 'message': 'Cheap', 'currency': '$'}, 'likes': {'count': 2, 'groups': [{'type': 'others', 'count': 2, 'items': [{'isSanctioned': False, 'firstName': 'Emma', 'lastName': 'A', 'countryCode': 'US'}, {'isSanctioned': False, 'firstName': 'Jonathan', 'lastName': 'H', 'countryCode': 'US'}]}], 'summary': '2 Likes'}, 'dislike': False, 'ok': False, 'allowMenuUrlEdit': True, 'beenHere': {'count': 0, 'unconfirmedCount': 0, 'marked': False, 'lastCheckinExpiredAt': 0}, 'specials': {'count': 0, 'items': []}, 'photos': {'count': 1, 'groups': [{'type': 'venue', 'name': 'Venue photos', 'count': 1, 'items': [{'id': '5202ad92498ee053c97a6adc', 'createdAt': 1375907218, 'source': {'name': 'Foursquare for iOS', 'url': 'https://foursquare.com/download/#/iphone'}, 'prefix': 'https://fastly.4sqi.net/img/general/', 'suffix': '/59759293_Stlowm40ETazO0vW3PnorozRnx2ZAL-e5B0ytL6G1Ts.jpg', 'width': 720, 'height': 960, 'user': {'isSanctioned': False, 'firstName': 'Emma', 'lastName': 'A', 'countryCode': 'US'}, 'visibility': 'public'}]}]}, 'reasons': {'count': 0, 'items': []}, 'hereNow': {'count': 0, 'summary': 'Nobody here', 'groups': []}, 'createdAt': 1315270274, 'tips': {'count': 0, 'groups': []}, 'shortUrl': 'http://4sq.com/oonJ3m', 'timeZone': 'America/New_York', 'listed': {'count': 0, 'groups': [{'type': 'others', 'name': 'Lists from other people', 'count': 0, 'items': []}]}, 'seasonalHours': [], 'pageUpdates': {'count': 0, 'items': []}, 'inbox': {'count': 0, 'items': []}, 'attributes': {'groups': [{'type': 'price', 'name': 'Price', 'summary': '$', 'count': 1, 'items': [{'displayName': 'Price', 'displayValue': '$', 'priceTier': 1}]}]}, 'bestPhoto': {'id': '5202ad92498ee053c97a6adc', 'createdAt': 1375907218, 'source': {'name': 'Foursquare for iOS', 'url': 'https://foursquare.com/download/#/iphone'}, 'prefix': 'https://fastly.4sqi.net/img/general/', 'suffix': '/59759293_Stlowm40ETazO0vW3PnorozRnx2ZAL-e5B0ytL6G1Ts.jpg', 'width': 720, 'height': 960, 'visibility': 'public'}}}}\n",
      "Empty DataFrame\n",
      "Columns: [ID, Name, Likes, Rating, Tips]\n",
      "Index: []\n",
      "No data available for id= 4e656e8252b1260c14683b4b\n",
      "( 16 / 180 ) processed\n"
     ]
    },
    {
     "name": "stdout",
     "output_type": "stream",
     "text": [
      "{'meta': {'code': 200, 'requestId': '5fc9548076cc650db8d606f8'}, 'response': {'venue': {'id': '4b89b62df964a520ff4c32e3', 'name': 'Sabor Latino Seafood Restaurant', 'contact': {'phone': '7188220899', 'formattedPhone': '(718) 822-0899'}, 'location': {'address': '2161 Starling Ave', 'crossStreet': 'at Purdy St', 'lat': 40.83636550185743, 'lng': -73.85303360278897, 'labeledLatLngs': [{'label': 'display', 'lat': 40.83636550185743, 'lng': -73.85303360278897}], 'postalCode': '10462', 'cc': 'US', 'city': 'Bronx', 'state': 'NY', 'country': 'United States', 'formattedAddress': ['2161 Starling Ave (at Purdy St)', 'Bronx, NY 10462', 'United States']}, 'canonicalUrl': 'https://foursquare.com/v/sabor-latino-seafood-restaurant/4b89b62df964a520ff4c32e3', 'categories': [{'id': '4bf58dd8d48988d145941735', 'name': 'Chinese Restaurant', 'pluralName': 'Chinese Restaurants', 'shortName': 'Chinese', 'icon': {'prefix': 'https://ss3.4sqi.net/img/categories_v2/food/asian_', 'suffix': '.png'}, 'primary': True}], 'verified': False, 'stats': {'tipCount': 8}, 'url': 'http://saborlatinonyc.com', 'price': {'tier': 2, 'message': 'Moderate', 'currency': '$'}, 'hasMenu': True, 'likes': {'count': 5, 'groups': [{'type': 'others', 'count': 5, 'items': [{'isSanctioned': False, 'firstName': 'Sharon', 'lastName': 'M', 'countryCode': 'US'}, {'isSanctioned': False, 'firstName': 'Christine', 'lastName': 'R', 'countryCode': 'US'}, {'isSanctioned': False, 'firstName': 'D', 'lastName': 'H', 'countryCode': 'US'}, {'isSanctioned': False, 'firstName': 'Michelle', 'lastName': 'A', 'countryCode': 'US'}]}], 'summary': '5 Likes'}, 'dislike': False, 'ok': False, 'rating': 7.0, 'ratingColor': 'C5DE35', 'ratingSignals': 12, 'menu': {'type': 'Menu', 'label': 'Menu', 'anchor': 'View Menu', 'url': 'https://foursquare.com/v/sabor-latino-seafood-restaurant/4b89b62df964a520ff4c32e3/menu', 'mobileUrl': 'https://foursquare.com/v/4b89b62df964a520ff4c32e3/device_menu'}, 'allowMenuUrlEdit': True, 'beenHere': {'count': 0, 'unconfirmedCount': 0, 'marked': False, 'lastCheckinExpiredAt': 0}, 'specials': {'count': 0, 'items': []}, 'photos': {'count': 12, 'groups': [{'type': 'venue', 'name': 'Venue photos', 'count': 12, 'items': [{'id': '57e2b828cd107a05fb4207b2', 'createdAt': 1474476072, 'source': {'name': 'Swarm for iOS', 'url': 'https://www.swarmapp.com'}, 'prefix': 'https://fastly.4sqi.net/img/general/', 'suffix': '/2907889_GcQsPMAYjm3ED2j9jR2GRDXr5Ai2s8DGOf-0M_mh0iM.jpg', 'width': 1440, 'height': 1920, 'user': {'isSanctioned': False, 'firstName': 'Eddie', 'lastName': 'Q', 'countryCode': 'US'}, 'visibility': 'public'}]}]}, 'reasons': {'count': 0, 'items': []}, 'hereNow': {'count': 0, 'summary': 'Nobody here', 'groups': []}, 'createdAt': 1267316269, 'tips': {'count': 8, 'groups': [{'type': 'others', 'name': 'All tips', 'count': 8, 'items': [{'id': '4ec1ab5dbe7b04923d447595', 'createdAt': 1321315165, 'text': 'If.its not too crowded go to sabrosura instead...food is way better', 'type': 'user', 'canonicalUrl': 'https://foursquare.com/item/4ec1ab5dbe7b04923d447595', 'lang': 'en', 'likes': {'count': 1, 'groups': [{'type': 'others', 'count': 1, 'items': [{'isSanctioned': False, 'firstName': 'Justice', 'lastName': 'R', 'countryCode': 'US'}]}], 'summary': '1 like'}, 'logView': True, 'agreeCount': 1, 'disagreeCount': 0, 'todo': {'count': 0}, 'user': {'isSanctioned': False, 'firstName': 'Sarah', 'lastName': 'R', 'countryCode': 'US'}}]}]}, 'shortUrl': 'http://4sq.com/bFGwaN', 'timeZone': 'America/New_York', 'listed': {'count': 2, 'groups': [{'type': 'others', 'name': 'Lists from other people', 'count': 2, 'items': [{'id': '4e812625a17cb7be89332b36', 'name': \"Guide to Bronx's best spots\", 'description': '', 'type': 'others', 'user': {'isSanctioned': False, 'firstName': 'Vanita', 'lastName': 'C', 'countryCode': 'US'}, 'editable': False, 'public': True, 'collaborative': False, 'url': '/vanitacyril/list/guide-to-bronxs-best-spots', 'canonicalUrl': 'https://foursquare.com/vanitacyril/list/guide-to-bronxs-best-spots', 'createdAt': 1317086757, 'updatedAt': 1349475191, 'followers': {'count': 4}, 'listItems': {'count': 10, 'items': [{'id': 't4da0603d5970b1f72319581e', 'createdAt': 1317086757}]}}, {'id': '518c79e9498edfc9a4e1fd42', 'name': \"Sweet n' Sour Check-In\", 'description': '', 'type': 'others', 'user': {'isSanctioned': False, 'firstName': 'Markus', 'lastName': 'P', 'countryCode': 'DE'}, 'editable': False, 'public': True, 'collaborative': False, 'url': '/user/2893900/list/sweet-n-sour-checkin', 'canonicalUrl': 'https://foursquare.com/user/2893900/list/sweet-n-sour-checkin', 'createdAt': 1368160745, 'updatedAt': 1391632274, 'photo': {'id': '518c7ac65019d968d03fd79a', 'createdAt': 1368160966, 'prefix': 'https://fastly.4sqi.net/img/general/', 'suffix': '/2893900_js33PbkH7rxYwAQW2-eJshcHnaTEJYPaUIm-TjCqQXk.png', 'width': 300, 'height': 300, 'user': {'isSanctioned': False, 'firstName': 'Markus', 'lastName': 'P', 'countryCode': 'DE'}, 'visibility': 'public'}, 'followers': {'count': 2}, 'listItems': {'count': 55, 'items': [{'id': 'v4b89b62df964a520ff4c32e3', 'createdAt': 1368272753}]}}]}]}, 'popular': {'isOpen': False, 'isLocalHoliday': False, 'timeframes': [{'days': 'Today', 'includesToday': True, 'open': [{'renderedTime': '1:00 PM–3:00 PM'}, {'renderedTime': '5:00 PM–10:00 PM'}], 'segments': []}, {'days': 'Fri', 'open': [{'renderedTime': 'Noon–1:00 PM'}, {'renderedTime': '3:00 PM–11:00 PM'}], 'segments': []}, {'days': 'Sat', 'open': [{'renderedTime': 'Noon–11:00 PM'}], 'segments': []}, {'days': 'Sun', 'open': [{'renderedTime': '1:00 PM–3:00 PM'}, {'renderedTime': '5:00 PM–9:00 PM'}], 'segments': []}, {'days': 'Mon', 'open': [{'renderedTime': '2:00 PM–3:00 PM'}, {'renderedTime': '6:00 PM–Midnight'}], 'segments': []}, {'days': 'Tue', 'open': [{'renderedTime': '1:00 PM–2:00 PM'}, {'renderedTime': '5:00 PM–6:00 PM'}, {'renderedTime': '8:00 PM–10:00 PM'}], 'segments': []}, {'days': 'Wed', 'open': [{'renderedTime': 'Noon–2:00 PM'}, {'renderedTime': '5:00 PM–10:00 PM'}], 'segments': []}]}, 'seasonalHours': [], 'pageUpdates': {'count': 0, 'items': []}, 'inbox': {'count': 0, 'items': []}, 'attributes': {'groups': [{'type': 'price', 'name': 'Price', 'summary': '$$', 'count': 1, 'items': [{'displayName': 'Price', 'displayValue': '$$', 'priceTier': 2}]}, {'type': 'payments', 'name': 'Credit Cards', 'summary': 'Credit Cards', 'count': 7, 'items': [{'displayName': 'Credit Cards', 'displayValue': 'Yes'}]}, {'type': 'drinks', 'name': 'Drinks', 'summary': 'Cocktails', 'count': 5, 'items': [{'displayName': 'Cocktails', 'displayValue': 'Cocktails'}]}]}, 'bestPhoto': {'id': '57e2b828cd107a05fb4207b2', 'createdAt': 1474476072, 'source': {'name': 'Swarm for iOS', 'url': 'https://www.swarmapp.com'}, 'prefix': 'https://fastly.4sqi.net/img/general/', 'suffix': '/2907889_GcQsPMAYjm3ED2j9jR2GRDXr5Ai2s8DGOf-0M_mh0iM.jpg', 'width': 1440, 'height': 1920, 'visibility': 'public'}, 'colors': {'highlightColor': {'photoId': '57e2b828cd107a05fb4207b2', 'value': -6273024}, 'highlightTextColor': {'photoId': '57e2b828cd107a05fb4207b2', 'value': -1}, 'algoVersion': 3}}}}\n",
      "                         ID                             Name  Likes  Rating  \\\n",
      "0  4b89b62df964a520ff4c32e3  Sabor Latino Seafood Restaurant      5     7.0   \n",
      "\n",
      "   Tips  \n",
      "0     8  \n",
      "( 17 / 180 ) processed\n",
      "{'meta': {'code': 200, 'requestId': '5fc95480eb5eb63f470d3088'}, 'response': {'venue': {'id': '4da9c2358154abafc29ba5d8', 'name': 'L & Y Wing Hing Chinese Restaurant', 'contact': {'phone': '7188221616', 'formattedPhone': '(718) 822-1616'}, 'location': {'address': '1661 Metropolitan Ave', 'lat': 40.840734999999995, 'lng': -73.855535, 'labeledLatLngs': [{'label': 'display', 'lat': 40.840734999999995, 'lng': -73.855535}, {'label': 'entrance', 'lat': 40.840599, 'lng': -73.855565}], 'postalCode': '10462', 'cc': 'US', 'city': 'Bronx', 'state': 'NY', 'country': 'United States', 'formattedAddress': ['1661 Metropolitan Ave', 'Bronx, NY 10462', 'United States']}, 'canonicalUrl': 'https://foursquare.com/v/l--y-wing-hing-chinese-restaurant/4da9c2358154abafc29ba5d8', 'categories': [{'id': '4bf58dd8d48988d145941735', 'name': 'Chinese Restaurant', 'pluralName': 'Chinese Restaurants', 'shortName': 'Chinese', 'icon': {'prefix': 'https://ss3.4sqi.net/img/categories_v2/food/asian_', 'suffix': '.png'}, 'primary': True}], 'verified': False, 'stats': {'tipCount': 1}, 'price': {'tier': 1, 'message': 'Cheap', 'currency': '$'}, 'likes': {'count': 0, 'groups': []}, 'dislike': False, 'ok': False, 'allowMenuUrlEdit': True, 'beenHere': {'count': 0, 'unconfirmedCount': 0, 'marked': False, 'lastCheckinExpiredAt': 0}, 'specials': {'count': 0, 'items': []}, 'photos': {'count': 1, 'groups': [{'type': 'venue', 'name': 'Venue photos', 'count': 1, 'items': [{'id': '4f63dce5e4b0aa8f668f048e', 'createdAt': 1331944677, 'source': {'name': 'Foursquare for Android', 'url': 'https://foursquare.com/download/#/android'}, 'prefix': 'https://fastly.4sqi.net/img/general/', 'suffix': '/iQCjimFQCbe3bmZAtU33lAKUpa0BlO_GOMMhIsu0JN8.jpg', 'width': 540, 'height': 720, 'user': {'isSanctioned': False, 'firstName': 'MACK', 'lastName': 'D', 'countryCode': 'US'}, 'visibility': 'public'}]}]}, 'reasons': {'count': 0, 'items': []}, 'hereNow': {'count': 0, 'summary': 'Nobody here', 'groups': []}, 'createdAt': 1302970933, 'tips': {'count': 1, 'groups': [{'type': 'others', 'name': 'All tips', 'count': 1, 'items': [{'id': '4e62666cae60e9edf5bb8136', 'createdAt': 1315071596, 'text': 'Lunch specials $5.50 are available 7 days a week!', 'type': 'user', 'canonicalUrl': 'https://foursquare.com/item/4e62666cae60e9edf5bb8136', 'lang': 'en', 'likes': {'count': 0, 'groups': []}, 'logView': True, 'agreeCount': 0, 'disagreeCount': 0, 'todo': {'count': 0}, 'user': {'isSanctioned': False, 'firstName': 'Eduardo', 'lastName': 'D', 'countryCode': 'US'}}]}]}, 'shortUrl': 'http://4sq.com/eNnoBg', 'timeZone': 'America/New_York', 'listed': {'count': 1, 'groups': [{'type': 'others', 'name': 'Lists from other people', 'count': 1, 'items': [{'id': '53b710d3498e276d06073dd2', 'name': '2014', 'description': '', 'type': 'others', 'user': {'isSanctioned': False, 'firstName': 'Ashley', 'lastName': 'H', 'countryCode': 'US'}, 'editable': False, 'public': True, 'collaborative': False, 'url': '/user/57168893/list/2014', 'canonicalUrl': 'https://foursquare.com/user/57168893/list/2014', 'createdAt': 1404506323, 'updatedAt': 1489146890, 'photo': {'id': '528b74bd498ef5461a8a8ede', 'createdAt': 1384871101, 'prefix': 'https://fastly.4sqi.net/img/general/', 'suffix': '/2617464_UD5llhwwvsQNaB2OcP-bHZMLvySWScq2ZYZ281b67a4.jpg', 'width': 720, 'height': 960, 'user': {'isSanctioned': False, 'firstName': 'Tiffona', 'lastName': 'S', 'countryCode': 'US'}, 'visibility': 'public'}, 'followers': {'count': 0}, 'listItems': {'count': 143, 'items': [{'id': 'v4da9c2358154abafc29ba5d8', 'createdAt': 1404506867}]}}]}]}, 'seasonalHours': [], 'pageUpdates': {'count': 0, 'items': []}, 'inbox': {'count': 0, 'items': []}, 'attributes': {'groups': [{'type': 'price', 'name': 'Price', 'summary': '$', 'count': 1, 'items': [{'displayName': 'Price', 'displayValue': '$', 'priceTier': 1}]}]}, 'bestPhoto': {'id': '4f63dce5e4b0aa8f668f048e', 'createdAt': 1331944677, 'source': {'name': 'Foursquare for Android', 'url': 'https://foursquare.com/download/#/android'}, 'prefix': 'https://fastly.4sqi.net/img/general/', 'suffix': '/iQCjimFQCbe3bmZAtU33lAKUpa0BlO_GOMMhIsu0JN8.jpg', 'width': 540, 'height': 720, 'visibility': 'public'}}}}\n",
      "Empty DataFrame\n",
      "Columns: [ID, Name, Likes, Rating, Tips]\n",
      "Index: []\n",
      "No data available for id= 4da9c2358154abafc29ba5d8\n",
      "( 18 / 180 ) processed\n"
     ]
    },
    {
     "name": "stdout",
     "output_type": "stream",
     "text": [
      "{'meta': {'code': 200, 'requestId': '5fc95480dea0816c869dc227'}, 'response': {'venue': {'id': '4dcdb39352b1f8915b842d57', 'name': 'Joy Garden', 'contact': {'phone': '7185181242', 'formattedPhone': '(718) 518-1242'}, 'location': {'address': '687 Morris Park Ave', 'crossStreet': 'White Plains Rd', 'lat': 40.845357, 'lng': -73.866567, 'labeledLatLngs': [{'label': 'display', 'lat': 40.845357, 'lng': -73.866567}, {'label': 'entrance', 'lat': 40.845284, 'lng': -73.866512}], 'postalCode': '10462', 'cc': 'US', 'city': 'Bronx', 'state': 'NY', 'country': 'United States', 'formattedAddress': ['687 Morris Park Ave (White Plains Rd)', 'Bronx, NY 10462', 'United States']}, 'canonicalUrl': 'https://foursquare.com/v/joy-garden/4dcdb39352b1f8915b842d57', 'categories': [{'id': '4bf58dd8d48988d145941735', 'name': 'Chinese Restaurant', 'pluralName': 'Chinese Restaurants', 'shortName': 'Chinese', 'icon': {'prefix': 'https://ss3.4sqi.net/img/categories_v2/food/asian_', 'suffix': '.png'}, 'primary': True}], 'verified': False, 'stats': {'tipCount': 0}, 'price': {'tier': 1, 'message': 'Cheap', 'currency': '$'}, 'hasMenu': True, 'likes': {'count': 2, 'groups': [{'type': 'others', 'count': 2, 'items': [{'isSanctioned': False, 'firstName': 'Lu', 'lastName': 'C', 'countryCode': 'US'}, {'isSanctioned': False, 'firstName': 'Max', 'lastName': 'N', 'countryCode': 'US'}]}], 'summary': '2 Likes'}, 'dislike': False, 'ok': False, 'menu': {'type': 'Menu', 'label': 'Menu', 'anchor': 'View Menu', 'url': 'https://foursquare.com/v/joy-garden/4dcdb39352b1f8915b842d57/menu', 'mobileUrl': 'https://foursquare.com/v/4dcdb39352b1f8915b842d57/device_menu'}, 'allowMenuUrlEdit': True, 'beenHere': {'count': 0, 'unconfirmedCount': 0, 'marked': False, 'lastCheckinExpiredAt': 0}, 'specials': {'count': 0, 'items': []}, 'photos': {'count': 0, 'groups': []}, 'reasons': {'count': 0, 'items': []}, 'hereNow': {'count': 0, 'summary': 'Nobody here', 'groups': []}, 'createdAt': 1305326483, 'tips': {'count': 0, 'groups': []}, 'shortUrl': 'http://4sq.com/m28svu', 'timeZone': 'America/New_York', 'listed': {'count': 0, 'groups': [{'type': 'others', 'name': 'Lists from other people', 'count': 0, 'items': []}]}, 'seasonalHours': [], 'pageUpdates': {'count': 0, 'items': []}, 'inbox': {'count': 0, 'items': []}, 'attributes': {'groups': [{'type': 'price', 'name': 'Price', 'summary': '$', 'count': 1, 'items': [{'displayName': 'Price', 'displayValue': '$', 'priceTier': 1}]}, {'type': 'payments', 'name': 'Credit Cards', 'summary': 'Credit Cards', 'count': 7, 'items': [{'displayName': 'Credit Cards', 'displayValue': 'Yes (incl. Discover & Visa)'}]}, {'type': 'outdoorSeating', 'name': 'Outdoor Seating', 'count': 1, 'items': [{'displayName': 'Outdoor Seating', 'displayValue': 'No'}]}]}}}}\n",
      "Empty DataFrame\n",
      "Columns: [ID, Name, Likes, Rating, Tips]\n",
      "Index: []\n",
      "No data available for id= 4dcdb39352b1f8915b842d57\n",
      "( 19 / 180 ) processed\n",
      "{'meta': {'code': 200, 'requestId': '5fc954810eaaa81c1bf56711'}, 'response': {'venue': {'id': '4ca4fda4d971b1f77da5f2e0', 'name': 'Golden Phoenix Chinese Restaurant', 'contact': {'phone': '7185488888', 'formattedPhone': '(718) 548-8888'}, 'location': {'address': '5646 Riverdale Ave', 'crossStreet': 'West 258th Street', 'lat': 40.90568876262962, 'lng': -73.90429772559949, 'labeledLatLngs': [{'label': 'display', 'lat': 40.90568876262962, 'lng': -73.90429772559949}, {'label': 'entrance', 'lat': 40.905658, 'lng': -73.90424}], 'postalCode': '10471', 'cc': 'US', 'city': 'Bronx', 'state': 'NY', 'country': 'United States', 'formattedAddress': ['5646 Riverdale Ave (West 258th Street)', 'Bronx, NY 10471', 'United States']}, 'canonicalUrl': 'https://foursquare.com/v/golden-phoenix-chinese-restaurant/4ca4fda4d971b1f77da5f2e0', 'categories': [{'id': '4bf58dd8d48988d145941735', 'name': 'Chinese Restaurant', 'pluralName': 'Chinese Restaurants', 'shortName': 'Chinese', 'icon': {'prefix': 'https://ss3.4sqi.net/img/categories_v2/food/asian_', 'suffix': '.png'}, 'primary': True}], 'verified': False, 'stats': {'tipCount': 1}, 'url': 'http://www.goldenphoenixchinese.com', 'price': {'tier': 1, 'message': 'Cheap', 'currency': '$'}, 'hasMenu': True, 'likes': {'count': 4, 'groups': [{'type': 'others', 'count': 4, 'items': [{'isSanctioned': False, 'firstName': 'Aleks', 'lastName': 'J', 'countryCode': 'HR'}, {'isSanctioned': False, 'firstName': 'Joseph', 'lastName': 'T', 'countryCode': 'US'}, {'isSanctioned': False, 'firstName': 'John', 'lastName': 'B', 'countryCode': 'US'}]}], 'summary': '4 Likes'}, 'dislike': False, 'ok': False, 'rating': 5.7, 'ratingColor': 'FF9600', 'ratingSignals': 9, 'delivery': {'id': '1006807', 'url': 'https://www.seamless.com/menu/golden-phoenix-restaurant-5646-riverdale-ave-bronx/1006807?affiliate=1131&utm_source=foursquare-affiliate-network&utm_medium=affiliate&utm_campaign=1131&utm_content=1006807', 'provider': {'name': 'seamless', 'icon': {'prefix': 'https://fastly.4sqi.net/img/general/cap/', 'sizes': [40, 50], 'name': '/delivery_provider_seamless_20180129.png'}}}, 'menu': {'type': 'Menu', 'label': 'Menu', 'anchor': 'View Menu', 'url': 'https://foursquare.com/v/golden-phoenix-chinese-restaurant/4ca4fda4d971b1f77da5f2e0/menu', 'mobileUrl': 'https://foursquare.com/v/4ca4fda4d971b1f77da5f2e0/device_menu'}, 'allowMenuUrlEdit': True, 'beenHere': {'count': 0, 'unconfirmedCount': 0, 'marked': False, 'lastCheckinExpiredAt': 0}, 'specials': {'count': 0, 'items': []}, 'photos': {'count': 1, 'groups': [{'type': 'venue', 'name': 'Venue photos', 'count': 1, 'items': [{'id': '57237d16498e113c95b9186d', 'createdAt': 1461943574, 'source': {'name': 'Foursquare for iOS', 'url': 'https://foursquare.com/download/#/iphone'}, 'prefix': 'https://fastly.4sqi.net/img/general/', 'suffix': '/16780_p9tq2tI8okRx-RoZXa0J21426mqOSh7nNnj34MPmFp8.jpg', 'width': 1920, 'height': 1440, 'user': {'isSanctioned': False, 'firstName': 'Aleks', 'lastName': 'J', 'countryCode': 'HR'}, 'visibility': 'public'}]}]}, 'reasons': {'count': 0, 'items': []}, 'hereNow': {'count': 0, 'summary': 'Nobody here', 'groups': []}, 'createdAt': 1285881252, 'tips': {'count': 1, 'groups': [{'type': 'others', 'name': 'All tips', 'count': 1, 'items': [{'id': '57237d15498e48c4b91e2a82', 'createdAt': 1461943573, 'text': 'Pretty wholesome lunches!', 'type': 'user', 'canonicalUrl': 'https://foursquare.com/item/57237d15498e48c4b91e2a82', 'photo': {'id': '57237d16498e113c95b9186d', 'createdAt': 1461943574, 'source': {'name': 'Foursquare for iOS', 'url': 'https://foursquare.com/download/#/iphone'}, 'prefix': 'https://fastly.4sqi.net/img/general/', 'suffix': '/16780_p9tq2tI8okRx-RoZXa0J21426mqOSh7nNnj34MPmFp8.jpg', 'width': 1920, 'height': 1440, 'visibility': 'public'}, 'photourl': 'https://fastly.4sqi.net/img/general/original/16780_p9tq2tI8okRx-RoZXa0J21426mqOSh7nNnj34MPmFp8.jpg', 'lang': 'en', 'likes': {'count': 0, 'groups': []}, 'logView': True, 'agreeCount': 1, 'disagreeCount': 0, 'todo': {'count': 0}, 'user': {'isSanctioned': False, 'firstName': 'Aleks', 'lastName': 'J', 'countryCode': 'HR'}, 'authorInteractionType': 'liked'}]}]}, 'shortUrl': 'http://4sq.com/cUN6sg', 'timeZone': 'America/New_York', 'listed': {'count': 0, 'groups': [{'type': 'others', 'name': 'Lists from other people', 'count': 0, 'items': []}]}, 'seasonalHours': [], 'pageUpdates': {'count': 0, 'items': []}, 'inbox': {'count': 0, 'items': []}, 'attributes': {'groups': [{'type': 'price', 'name': 'Price', 'summary': '$', 'count': 1, 'items': [{'displayName': 'Price', 'displayValue': '$', 'priceTier': 1}]}, {'type': 'reservations', 'name': 'Reservations', 'count': 3, 'items': [{'displayName': 'Reservations', 'displayValue': 'No'}]}, {'type': 'payments', 'name': 'Credit Cards', 'summary': 'Credit Cards', 'count': 7, 'items': [{'displayName': 'Credit Cards', 'displayValue': 'Yes (incl. American Express)'}]}, {'type': 'outdoorSeating', 'name': 'Outdoor Seating', 'count': 1, 'items': [{'displayName': 'Outdoor Seating', 'displayValue': 'No'}]}, {'type': 'serves', 'name': 'Menus', 'summary': 'Lunch & Dinner', 'count': 8, 'items': [{'displayName': 'Lunch', 'displayValue': 'Lunch'}, {'displayName': 'Dinner', 'displayValue': 'Dinner'}]}]}, 'bestPhoto': {'id': '57237d16498e113c95b9186d', 'createdAt': 1461943574, 'source': {'name': 'Foursquare for iOS', 'url': 'https://foursquare.com/download/#/iphone'}, 'prefix': 'https://fastly.4sqi.net/img/general/', 'suffix': '/16780_p9tq2tI8okRx-RoZXa0J21426mqOSh7nNnj34MPmFp8.jpg', 'width': 1920, 'height': 1440, 'visibility': 'public'}}}}\n",
      "                         ID                               Name  Likes  Rating  \\\n",
      "0  4ca4fda4d971b1f77da5f2e0  Golden Phoenix Chinese Restaurant      4     5.7   \n",
      "\n",
      "   Tips  \n",
      "0     1  \n",
      "( 20 / 180 ) processed\n"
     ]
    },
    {
     "name": "stdout",
     "output_type": "stream",
     "text": [
      "{'meta': {'code': 200, 'requestId': '5fc954816ef0be321d8f1cb3'}, 'response': {'venue': {'id': '4e4dd9bcbd4101d0d79cbeb3', 'name': 'King Hing', 'contact': {'phone': '7182397723', 'formattedPhone': '(718) 239-7723'}, 'location': {'address': '3227 Westchester Ave', 'lat': 40.852266, 'lng': -73.829225, 'labeledLatLngs': [{'label': 'display', 'lat': 40.852266, 'lng': -73.829225}], 'postalCode': '10461', 'cc': 'US', 'city': 'Bronx', 'state': 'NY', 'country': 'United States', 'formattedAddress': ['3227 Westchester Ave', 'Bronx, NY 10461', 'United States']}, 'canonicalUrl': 'https://foursquare.com/v/king-hing/4e4dd9bcbd4101d0d79cbeb3', 'categories': [{'id': '4bf58dd8d48988d145941735', 'name': 'Chinese Restaurant', 'pluralName': 'Chinese Restaurants', 'shortName': 'Chinese', 'icon': {'prefix': 'https://ss3.4sqi.net/img/categories_v2/food/asian_', 'suffix': '.png'}, 'primary': True}], 'verified': False, 'stats': {'tipCount': 2}, 'price': {'tier': 1, 'message': 'Cheap', 'currency': '$'}, 'hasMenu': True, 'likes': {'count': 0, 'groups': []}, 'dislike': False, 'ok': False, 'menu': {'type': 'Menu', 'label': 'Menu', 'anchor': 'View Menu', 'url': 'https://foursquare.com/v/king-hing/4e4dd9bcbd4101d0d79cbeb3/menu', 'mobileUrl': 'https://foursquare.com/v/4e4dd9bcbd4101d0d79cbeb3/device_menu'}, 'allowMenuUrlEdit': True, 'beenHere': {'count': 0, 'unconfirmedCount': 0, 'marked': False, 'lastCheckinExpiredAt': 0}, 'specials': {'count': 0, 'items': []}, 'photos': {'count': 1, 'groups': [{'type': 'venue', 'name': 'Venue photos', 'count': 1, 'items': [{'id': '525acad0498e5d8e870f4adc', 'createdAt': 1381681872, 'source': {'name': 'Foursquare for Android', 'url': 'https://foursquare.com/download/#/android'}, 'prefix': 'https://fastly.4sqi.net/img/general/', 'suffix': '/7036174_mPCIAj1uJKnFitsEJqIN3LA1moy38IQjN4vRuWk4GZk.jpg', 'width': 960, 'height': 540, 'user': {'isSanctioned': False, 'firstName': 'Mario', 'lastName': 'M', 'countryCode': 'US'}, 'visibility': 'public'}]}]}, 'reasons': {'count': 0, 'items': []}, 'hereNow': {'count': 0, 'summary': 'Nobody here', 'groups': []}, 'createdAt': 1313724860, 'tips': {'count': 2, 'groups': [{'type': 'others', 'name': 'All tips', 'count': 2, 'items': [{'id': '525aeef111d255832230c2b8', 'createdAt': 1381691121, 'text': 'The boneless ribs are done well here. Tender, juicy & sweet', 'type': 'user', 'canonicalUrl': 'https://foursquare.com/item/525aeef111d255832230c2b8', 'lang': 'en', 'likes': {'count': 0, 'groups': []}, 'logView': True, 'agreeCount': 0, 'disagreeCount': 0, 'todo': {'count': 0}, 'user': {'isSanctioned': False, 'firstName': 'Mario', 'lastName': 'M', 'countryCode': 'US'}}]}]}, 'shortUrl': 'http://4sq.com/o37ZAj', 'timeZone': 'America/New_York', 'listed': {'count': 1, 'groups': [{'type': 'others', 'name': 'Lists from other people', 'count': 1, 'items': [{'id': '5148d2c6e4b0a8baa11a8a87', 'name': 'Bookmarks', 'description': '', 'type': 'others', 'user': {'isSanctioned': False, 'firstName': 'Carey (The ACE)', 'lastName': 'H', 'countryCode': 'US'}, 'editable': False, 'public': True, 'collaborative': False, 'url': '/user/41479635/list/bookmarks', 'canonicalUrl': 'https://foursquare.com/user/41479635/list/bookmarks', 'createdAt': 1363727046, 'updatedAt': 1403558774, 'photo': {'id': '51c21a292fc66ed772e6f0c1', 'createdAt': 1371675177, 'prefix': 'https://fastly.4sqi.net/img/general/', 'suffix': '/742542_Lq3CVSNk5VNx9mo7-_dpScUqAlu6n2d5SgycEgBv-h4.jpg', 'width': 555, 'height': 370, 'user': {'isSanctioned': False, 'firstName': 'Time Out New York', 'countryCode': 'US', 'type': 'page'}, 'visibility': 'public'}, 'followers': {'count': 2}, 'listItems': {'count': 200, 'items': [{'id': 'v4e4dd9bcbd4101d0d79cbeb3', 'createdAt': 1368583286}]}}]}]}, 'seasonalHours': [], 'pageUpdates': {'count': 0, 'items': []}, 'inbox': {'count': 0, 'items': []}, 'attributes': {'groups': [{'type': 'price', 'name': 'Price', 'summary': '$', 'count': 1, 'items': [{'displayName': 'Price', 'displayValue': '$', 'priceTier': 1}]}, {'type': 'outdoorSeating', 'name': 'Outdoor Seating', 'count': 1, 'items': [{'displayName': 'Outdoor Seating', 'displayValue': 'No'}]}]}, 'bestPhoto': {'id': '525acad0498e5d8e870f4adc', 'createdAt': 1381681872, 'source': {'name': 'Foursquare for Android', 'url': 'https://foursquare.com/download/#/android'}, 'prefix': 'https://fastly.4sqi.net/img/general/', 'suffix': '/7036174_mPCIAj1uJKnFitsEJqIN3LA1moy38IQjN4vRuWk4GZk.jpg', 'width': 960, 'height': 540, 'visibility': 'public'}, 'colors': {'highlightColor': {'photoId': '525acad0498e5d8e870f4adc', 'value': -13627376}, 'highlightTextColor': {'photoId': '525acad0498e5d8e870f4adc', 'value': -1}, 'algoVersion': 3}}}}\n",
      "Empty DataFrame\n",
      "Columns: [ID, Name, Likes, Rating, Tips]\n",
      "Index: []\n",
      "No data available for id= 4e4dd9bcbd4101d0d79cbeb3\n",
      "( 21 / 180 ) processed\n",
      "{'meta': {'code': 200, 'requestId': '5fc954826d31c0183b8dbcb5'}, 'response': {'venue': {'id': '4d9a695ee5fd6ea8e3096df5', 'name': 'Lucky House Chinese Restaurant', 'contact': {'phone': '7186817430', 'formattedPhone': '(718) 681-7430'}, 'location': {'address': '202 E 167th St', 'lat': 40.83393302779995, 'lng': -73.91667401417777, 'labeledLatLngs': [{'label': 'display', 'lat': 40.83393302779995, 'lng': -73.91667401417777}, {'label': 'entrance', 'lat': 40.833882, 'lng': -73.916574}], 'postalCode': '10456', 'cc': 'US', 'city': 'Bronx', 'state': 'NY', 'country': 'United States', 'formattedAddress': ['202 E 167th St', 'Bronx, NY 10456', 'United States']}, 'canonicalUrl': 'https://foursquare.com/v/lucky-house-chinese-restaurant/4d9a695ee5fd6ea8e3096df5', 'categories': [{'id': '4bf58dd8d48988d145941735', 'name': 'Chinese Restaurant', 'pluralName': 'Chinese Restaurants', 'shortName': 'Chinese', 'icon': {'prefix': 'https://ss3.4sqi.net/img/categories_v2/food/asian_', 'suffix': '.png'}, 'primary': True}], 'verified': False, 'stats': {'tipCount': 2}, 'price': {'tier': 1, 'message': 'Cheap', 'currency': '$'}, 'likes': {'count': 5, 'groups': [{'type': 'others', 'count': 5, 'items': [{'isSanctioned': False, 'firstName': 'Steve', 'lastName': 'P', 'countryCode': 'US'}, {'isSanctioned': False, 'firstName': 'ShyEats', 'lastName': 'N', 'countryCode': 'US'}, {'isSanctioned': False, 'firstName': 'Julissa', 'lastName': 'M', 'countryCode': 'US'}]}], 'summary': '5 Likes'}, 'dislike': False, 'ok': False, 'rating': 7.6, 'ratingColor': 'C5DE35', 'ratingSignals': 8, 'allowMenuUrlEdit': True, 'beenHere': {'count': 0, 'unconfirmedCount': 0, 'marked': False, 'lastCheckinExpiredAt': 0}, 'specials': {'count': 0, 'items': []}, 'photos': {'count': 0, 'groups': []}, 'reasons': {'count': 0, 'items': []}, 'hereNow': {'count': 0, 'summary': 'Nobody here', 'groups': []}, 'createdAt': 1301965150, 'tips': {'count': 2, 'groups': [{'type': 'others', 'name': 'All tips', 'count': 2, 'items': [{'id': '523e4613498e1385843d3d09', 'createdAt': 1379812883, 'text': 'Their sesame chicken is the best', 'type': 'user', 'canonicalUrl': 'https://foursquare.com/item/523e4613498e1385843d3d09', 'lang': 'en', 'likes': {'count': 0, 'groups': []}, 'logView': True, 'agreeCount': 0, 'disagreeCount': 0, 'todo': {'count': 0}, 'user': {'isSanctioned': False, 'firstName': 'Dana', 'lastName': 'M', 'countryCode': 'US'}, 'authorInteractionType': 'liked'}]}]}, 'shortUrl': 'http://4sq.com/elZ7J7', 'timeZone': 'America/New_York', 'listed': {'count': 0, 'groups': [{'type': 'others', 'name': 'Lists from other people', 'count': 0, 'items': []}]}, 'seasonalHours': [], 'pageUpdates': {'count': 0, 'items': []}, 'inbox': {'count': 0, 'items': []}, 'attributes': {'groups': [{'type': 'price', 'name': 'Price', 'summary': '$', 'count': 1, 'items': [{'displayName': 'Price', 'displayValue': '$', 'priceTier': 1}]}, {'type': 'reservations', 'name': 'Reservations', 'count': 3, 'items': [{'displayName': 'Reservations', 'displayValue': 'No'}]}, {'type': 'payments', 'name': 'Credit Cards', 'summary': 'No Credit Cards', 'count': 7, 'items': [{'displayName': 'Credit Cards', 'displayValue': 'No'}]}]}}}}\n",
      "                         ID                            Name  Likes  Rating  \\\n",
      "0  4d9a695ee5fd6ea8e3096df5  Lucky House Chinese Restaurant      5     7.6   \n",
      "\n",
      "   Tips  \n",
      "0     2  \n",
      "( 22 / 180 ) processed\n",
      "{'meta': {'code': 200, 'requestId': '5fc9548282244217e68fc407'}, 'response': {'venue': {'id': '5553702c498ecb85f99d8f37', 'name': 'XIN', 'contact': {'phone': '3476626222', 'formattedPhone': '(347) 662-6222', 'twitter': 'xinbayridge'}, 'location': {'address': '8320 3rd Ave', 'lat': 40.62508203621133, 'lng': -74.0304936920825, 'labeledLatLngs': [{'label': 'display', 'lat': 40.62508203621133, 'lng': -74.0304936920825}, {'label': 'entrance', 'lat': 40.625159, 'lng': -74.030522}], 'postalCode': '11209', 'cc': 'US', 'city': 'Brooklyn', 'state': 'NY', 'country': 'United States', 'formattedAddress': ['8320 3rd Ave', 'Brooklyn, NY 11209', 'United States']}, 'canonicalUrl': 'https://foursquare.com/v/xin/5553702c498ecb85f99d8f37', 'categories': [{'id': '4bf58dd8d48988d145941735', 'name': 'Chinese Restaurant', 'pluralName': 'Chinese Restaurants', 'shortName': 'Chinese', 'icon': {'prefix': 'https://ss3.4sqi.net/img/categories_v2/food/asian_', 'suffix': '.png'}, 'primary': True}], 'verified': False, 'stats': {'tipCount': 4}, 'url': 'http://xin.nyc', 'price': {'tier': 3, 'message': 'Expensive', 'currency': '$'}, 'hasMenu': True, 'likes': {'count': 6, 'groups': [{'type': 'others', 'count': 6, 'items': [{'isSanctioned': False, 'firstName': 'Linda', 'lastName': 'N', 'countryCode': 'US'}, {'isSanctioned': False, 'firstName': 'Dasha', 'lastName': 'E', 'countryCode': 'US'}, {'isSanctioned': False, 'firstName': 'Carissa', 'lastName': 'R', 'countryCode': 'US'}]}], 'summary': '6 Likes'}, 'dislike': False, 'ok': False, 'rating': 7.3, 'ratingColor': 'C5DE35', 'ratingSignals': 11, 'delivery': {'id': '326915', 'url': 'https://www.seamless.com/menu/xin-restaurant-8320-3rd-ave-brooklyn/326915?affiliate=1131&utm_source=foursquare-affiliate-network&utm_medium=affiliate&utm_campaign=1131&utm_content=326915', 'provider': {'name': 'seamless', 'icon': {'prefix': 'https://fastly.4sqi.net/img/general/cap/', 'sizes': [40, 50], 'name': '/delivery_provider_seamless_20180129.png'}}}, 'menu': {'type': 'Menu', 'label': 'Menu', 'anchor': 'View Menu', 'url': 'https://foursquare.com/v/xin/5553702c498ecb85f99d8f37/menu', 'mobileUrl': 'https://foursquare.com/v/5553702c498ecb85f99d8f37/device_menu'}, 'allowMenuUrlEdit': True, 'beenHere': {'count': 0, 'unconfirmedCount': 0, 'marked': False, 'lastCheckinExpiredAt': 0}, 'specials': {'count': 0, 'items': []}, 'photos': {'count': 2, 'groups': [{'type': 'venue', 'name': 'Venue photos', 'count': 2, 'items': [{'id': '587ac21a0393cc1bf1cae567', 'createdAt': 1484440090, 'source': {'name': 'Foursquare for iOS', 'url': 'https://foursquare.com/download/#/iphone'}, 'prefix': 'https://fastly.4sqi.net/img/general/', 'suffix': '/2254066_nCPzCluhrBVoV9MJ19C6lk2uZPhh52reAQpBIOYnvdE.jpg', 'width': 1440, 'height': 1920, 'user': {'isSanctioned': False, 'firstName': 'Heather Anne Princess Of Grand Central', 'lastName': 'P', 'countryCode': 'US'}, 'visibility': 'public'}]}]}, 'reasons': {'count': 0, 'items': []}, 'description': 'Upscale Chinese Restaurant & Bar with a NYC feel.', 'hereNow': {'count': 0, 'summary': 'Nobody here', 'groups': []}, 'createdAt': 1431531564, 'tips': {'count': 4, 'groups': [{'type': 'others', 'name': 'All tips', 'count': 4, 'items': [{'id': '5cd82f0780cb95003468d0b3', 'createdAt': 1557671687, 'text': 'Don’t know, couldn’t get service. I walked in. No one to greet or take you to table. Stood there waiting about 10 minutes. Left and went to Blue Door, and was greeted and served right away!’n', 'type': 'user', 'canonicalUrl': 'https://foursquare.com/item/5cd82f0780cb95003468d0b3', 'lang': 'en', 'likes': {'count': 0, 'groups': []}, 'logView': True, 'agreeCount': 1, 'disagreeCount': 0, 'todo': {'count': 0}, 'user': {'isSanctioned': False, 'firstName': 'Mary', 'lastName': 'J', 'countryCode': 'US'}, 'authorInteractionType': 'disliked'}]}]}, 'shortUrl': 'http://4sq.com/1L23gB7', 'timeZone': 'America/New_York', 'listed': {'count': 4, 'groups': [{'type': 'others', 'name': 'Lists from other people', 'count': 4, 'items': [{'id': '5e14fb592e418a0007f7570b', 'name': 'BROOKLYN - Bay Ridge', 'description': '', 'type': 'others', 'user': {'isSanctioned': False, 'firstName': 'Su', 'lastName': 'K', 'countryCode': 'IT'}, 'editable': False, 'public': True, 'collaborative': False, 'url': '/user/84155931/list/brooklyn--bay-ridge', 'canonicalUrl': 'https://foursquare.com/user/84155931/list/brooklyn--bay-ridge', 'createdAt': 1578433369, 'updatedAt': 1605402681, 'photo': {'id': '511707a0e4b0eb6a9b8a2272', 'createdAt': 1360463776, 'prefix': 'https://fastly.4sqi.net/img/general/', 'suffix': '/43583223_9BkeoH-hlO1zqU8ZEPTHYqShUDX5DqXaufeICZywc-w.jpg', 'width': 717, 'height': 959, 'user': {'isSanctioned': False, 'firstName': 'Safy', 'lastName': 'M', 'countryCode': 'US'}, 'visibility': 'public'}, 'followers': {'count': 0}, 'listItems': {'count': 47, 'items': [{'id': 'v5553702c498ecb85f99d8f37', 'createdAt': 1599176951}]}}, {'id': '5954171c9b04737b544a4457', 'name': 'teddi', 'description': '', 'type': 'others', 'user': {'isSanctioned': False, 'firstName': 'Peijin', 'lastName': 'C', 'countryCode': 'US'}, 'editable': False, 'public': True, 'collaborative': False, 'url': '/peijinc/list/teddi', 'canonicalUrl': 'https://foursquare.com/peijinc/list/teddi', 'createdAt': 1498683164, 'updatedAt': 1569278032, 'photo': {'id': '51d9b770498e4254d518cb9a', 'createdAt': 1373222768, 'prefix': 'https://fastly.4sqi.net/img/general/', 'suffix': '/649448__Nq9sUwQztqImG3JZq3aRaURHrm1VeZWjhgFOmeim-k.jpg', 'width': 720, 'height': 960, 'user': {'isSanctioned': False, 'firstName': 'Helen', 'lastName': 'Z', 'countryCode': 'US'}, 'visibility': 'public'}, 'followers': {'count': 0}, 'listItems': {'count': 33, 'items': [{'id': 'v5553702c498ecb85f99d8f37', 'createdAt': 1501987289}]}}]}]}, 'hours': {'status': 'Open until Midnight', 'richStatus': {'entities': [], 'text': 'Open until Midnight'}, 'isOpen': True, 'isLocalHoliday': False, 'dayData': [], 'timeframes': [{'days': 'Mon–Wed', 'open': [{'renderedTime': '11:30 AM–11:00 PM'}], 'segments': []}, {'days': 'Thu–Sat', 'includesToday': True, 'open': [{'renderedTime': '11:30 AM–Midnight'}], 'segments': []}, {'days': 'Sun', 'open': [{'renderedTime': '11:30 AM–10:00 PM'}], 'segments': []}]}, 'seasonalHours': [], 'defaultHours': {'status': 'Open until Midnight', 'richStatus': {'entities': [], 'text': 'Open until Midnight'}, 'isOpen': True, 'isLocalHoliday': False, 'dayData': [], 'timeframes': [{'days': 'Mon–Wed', 'open': [{'renderedTime': '11:30 AM–11:00 PM'}], 'segments': []}, {'days': 'Thu–Sat', 'includesToday': True, 'open': [{'renderedTime': '11:30 AM–Midnight'}], 'segments': []}, {'days': 'Sun', 'open': [{'renderedTime': '11:30 AM–10:00 PM'}], 'segments': []}]}, 'pageUpdates': {'count': 0, 'items': []}, 'inbox': {'count': 0, 'items': []}, 'attributes': {'groups': [{'type': 'price', 'name': 'Price', 'summary': '$$$', 'count': 1, 'items': [{'displayName': 'Price', 'displayValue': '$$$', 'priceTier': 3}]}, {'type': 'payments', 'name': 'Credit Cards', 'summary': 'Credit Cards', 'count': 7, 'items': [{'displayName': 'Credit Cards', 'displayValue': 'Yes (incl. Discover & Visa)'}]}, {'type': 'serves', 'name': 'Menus', 'summary': 'Dinner', 'count': 8, 'items': [{'displayName': 'Dinner', 'displayValue': 'Dinner'}]}]}, 'bestPhoto': {'id': '587ac21a0393cc1bf1cae567', 'createdAt': 1484440090, 'source': {'name': 'Foursquare for iOS', 'url': 'https://foursquare.com/download/#/iphone'}, 'prefix': 'https://fastly.4sqi.net/img/general/', 'suffix': '/2254066_nCPzCluhrBVoV9MJ19C6lk2uZPhh52reAQpBIOYnvdE.jpg', 'width': 1440, 'height': 1920, 'visibility': 'public'}, 'colors': {'highlightColor': {'photoId': '587ac21a0393cc1bf1cae567', 'value': -9424888}, 'highlightTextColor': {'photoId': '587ac21a0393cc1bf1cae567', 'value': -1}, 'algoVersion': 3}}}}\n",
      "                         ID Name  Likes  Rating  Tips\n",
      "0  5553702c498ecb85f99d8f37  XIN      6     7.3     4\n",
      "( 23 / 180 ) processed\n"
     ]
    },
    {
     "name": "stdout",
     "output_type": "stream",
     "text": [
      "{'meta': {'code': 200, 'requestId': '5fc95482e915b64c931891fe'}, 'response': {'venue': {'id': '4e4cd93fbd413c4cc66ca721', 'name': 'Great Wall Restaurant', 'contact': {'phone': '7188373311', 'formattedPhone': '(718) 837-3311', 'twitter': 'thegreatwallma'}, 'location': {'address': '7614 18th Ave', 'lat': 40.612788, 'lng': -73.99699100000001, 'labeledLatLngs': [{'label': 'display', 'lat': 40.612788, 'lng': -73.99699100000001}, {'label': 'entrance', 'lat': 40.612647, 'lng': -73.996913}], 'postalCode': '11214', 'cc': 'US', 'city': 'Brooklyn', 'state': 'NY', 'country': 'United States', 'formattedAddress': ['7614 18th Ave', 'Brooklyn, NY 11214', 'United States']}, 'canonicalUrl': 'https://foursquare.com/v/great-wall-restaurant/4e4cd93fbd413c4cc66ca721', 'categories': [{'id': '4bf58dd8d48988d145941735', 'name': 'Chinese Restaurant', 'pluralName': 'Chinese Restaurants', 'shortName': 'Chinese', 'icon': {'prefix': 'https://ss3.4sqi.net/img/categories_v2/food/asian_', 'suffix': '.png'}, 'primary': True}], 'verified': False, 'stats': {'tipCount': 0}, 'url': 'http://greatwallbedford.com', 'price': {'tier': 2, 'message': 'Moderate', 'currency': '$'}, 'likes': {'count': 1, 'groups': [{'type': 'others', 'count': 1, 'items': [{'isSanctioned': False, 'firstName': 'ᴡ', 'lastName': 'W', 'countryCode': 'US'}]}], 'summary': '1 Like'}, 'dislike': False, 'ok': False, 'delivery': {'id': '293912', 'url': 'https://www.seamless.com/menu/great-wall-7614-18th-ave-brooklyn/293912?affiliate=1131&utm_source=foursquare-affiliate-network&utm_medium=affiliate&utm_campaign=1131&utm_content=293912', 'provider': {'name': 'seamless', 'icon': {'prefix': 'https://fastly.4sqi.net/img/general/cap/', 'sizes': [40, 50], 'name': '/delivery_provider_seamless_20180129.png'}}}, 'allowMenuUrlEdit': True, 'beenHere': {'count': 0, 'unconfirmedCount': 0, 'marked': False, 'lastCheckinExpiredAt': 0}, 'specials': {'count': 0, 'items': []}, 'photos': {'count': 1, 'groups': [{'type': 'venue', 'name': 'Venue photos', 'count': 1, 'items': [{'id': '504265e1e4b029b249976ae6', 'createdAt': 1346528737, 'source': {'name': 'Foursquare for Android', 'url': 'https://foursquare.com/download/#/android'}, 'prefix': 'https://fastly.4sqi.net/img/general/', 'suffix': '/cG6Fg24z1ziSpQNAYTEYieiP6coPme5IovZhV9g5oIg.jpg', 'width': 720, 'height': 540, 'user': {'isSanctioned': False, 'firstName': 'Alison', 'countryCode': 'US'}, 'visibility': 'public'}]}]}, 'reasons': {'count': 0, 'items': []}, 'hereNow': {'count': 0, 'summary': 'Nobody here', 'groups': []}, 'createdAt': 1313659199, 'tips': {'count': 0, 'groups': []}, 'shortUrl': 'http://4sq.com/ny38NY', 'timeZone': 'America/New_York', 'listed': {'count': 0, 'groups': [{'type': 'others', 'name': 'Lists from other people', 'count': 0, 'items': []}]}, 'seasonalHours': [], 'pageUpdates': {'count': 0, 'items': []}, 'inbox': {'count': 0, 'items': []}, 'attributes': {'groups': [{'type': 'price', 'name': 'Price', 'summary': '$$', 'count': 1, 'items': [{'displayName': 'Price', 'displayValue': '$$', 'priceTier': 2}]}]}, 'bestPhoto': {'id': '504265e1e4b029b249976ae6', 'createdAt': 1346528737, 'source': {'name': 'Foursquare for Android', 'url': 'https://foursquare.com/download/#/android'}, 'prefix': 'https://fastly.4sqi.net/img/general/', 'suffix': '/cG6Fg24z1ziSpQNAYTEYieiP6coPme5IovZhV9g5oIg.jpg', 'width': 720, 'height': 540, 'visibility': 'public'}}}}\n",
      "Empty DataFrame\n",
      "Columns: [ID, Name, Likes, Rating, Tips]\n",
      "Index: []\n",
      "No data available for id= 4e4cd93fbd413c4cc66ca721\n",
      "( 24 / 180 ) processed\n",
      "{'meta': {'code': 200, 'requestId': '5fc9548337f45509dfad2519'}, 'response': {'venue': {'id': '4c2169947e85c928b88aba21', 'name': 'Panda Chinese Restaurant', 'contact': {'phone': '7182592831', 'formattedPhone': '(718) 259-2831', 'twitter': 'pandaexpress'}, 'location': {'address': '7323 20th Ave', 'lat': 40.611388, 'lng': -73.99078399999999, 'labeledLatLngs': [{'label': 'display', 'lat': 40.611388, 'lng': -73.99078399999999}], 'postalCode': '11204', 'cc': 'US', 'city': 'Brooklyn', 'state': 'NY', 'country': 'United States', 'formattedAddress': ['7323 20th Ave', 'Brooklyn, NY 11204', 'United States']}, 'canonicalUrl': 'https://foursquare.com/v/panda-chinese-restaurant/4c2169947e85c928b88aba21', 'categories': [{'id': '4bf58dd8d48988d145941735', 'name': 'Chinese Restaurant', 'pluralName': 'Chinese Restaurants', 'shortName': 'Chinese', 'icon': {'prefix': 'https://ss3.4sqi.net/img/categories_v2/food/asian_', 'suffix': '.png'}, 'primary': True}], 'verified': False, 'stats': {'tipCount': 3}, 'price': {'tier': 1, 'message': 'Cheap', 'currency': '$'}, 'likes': {'count': 2, 'groups': [{'type': 'others', 'count': 2, 'items': [{'isSanctioned': False, 'firstName': 'Ian', 'lastName': 'G', 'countryCode': 'US'}, {'isSanctioned': False, 'firstName': 'Raheem Kareem {{FJ}}', 'countryCode': 'US'}]}], 'summary': '2 Likes'}, 'dislike': False, 'ok': False, 'allowMenuUrlEdit': True, 'beenHere': {'count': 0, 'unconfirmedCount': 0, 'marked': False, 'lastCheckinExpiredAt': 0}, 'specials': {'count': 0, 'items': []}, 'photos': {'count': 1, 'groups': [{'type': 'venue', 'name': 'Venue photos', 'count': 1, 'items': [{'id': '518ea406498e32e3d0f8b875', 'createdAt': 1368302598, 'source': {'name': 'Foursquare for iOS', 'url': 'https://foursquare.com/download/#/iphone'}, 'prefix': 'https://fastly.4sqi.net/img/general/', 'suffix': '/23734536_aUXP_JTWDoEuzANAl1LxjGt1xbC3kUn8SWBfzKbO02E.jpg', 'width': 720, 'height': 537, 'user': {'isSanctioned': False, 'firstName': 'darya', 'lastName': 'b', 'countryCode': 'US'}, 'visibility': 'public'}]}]}, 'reasons': {'count': 0, 'items': []}, 'hereNow': {'count': 0, 'summary': 'Nobody here', 'groups': []}, 'createdAt': 1277258132, 'tips': {'count': 3, 'groups': [{'type': 'others', 'name': 'All tips', 'count': 3, 'items': [{'id': '4d363a024202f04d9eae1632', 'createdAt': 1295399426, 'text': 'I like the old owners food better than the new owners food. Food here taste so blend.', 'type': 'user', 'canonicalUrl': 'https://foursquare.com/item/4d363a024202f04d9eae1632', 'lang': 'en', 'likes': {'count': 0, 'groups': []}, 'logView': True, 'agreeCount': 0, 'disagreeCount': 0, 'todo': {'count': 0}, 'user': {'isSanctioned': False, 'firstName': 'Rich', 'lastName': 'K', 'countryCode': 'US'}}]}]}, 'shortUrl': 'http://4sq.com/cYDYNB', 'timeZone': 'America/New_York', 'listed': {'count': 3, 'groups': [{'type': 'others', 'name': 'Lists from other people', 'count': 3, 'items': [{'id': '52010340498e7e18c4b9ed8f', 'name': \"Sweet n' Sour Check-In ( Worldwide )\", 'description': '', 'type': 'others', 'user': {'isSanctioned': False, 'firstName': 'Jepp', 'lastName': 'P', 'countryCode': 'ID'}, 'editable': False, 'public': True, 'collaborative': False, 'url': '/jepponk/list/sweet-n-sour-checkin--worldwide-', 'canonicalUrl': 'https://foursquare.com/jepponk/list/sweet-n-sour-checkin--worldwide-', 'createdAt': 1375798080, 'updatedAt': 1379934140, 'photo': {'id': '520103928bbd3de19ca57e21', 'createdAt': 1375798162, 'prefix': 'https://fastly.4sqi.net/img/general/', 'suffix': '/5807381_IsY1zjC2F2NfI65k3CDx7pA6poiNMEOJ8rpxfIHMm6c.png', 'width': 240, 'height': 240, 'user': {'isSanctioned': False, 'firstName': 'Jepp', 'lastName': 'P', 'countryCode': 'ID'}, 'visibility': 'public'}, 'followers': {'count': 13}, 'listItems': {'count': 54, 'items': [{'id': 'v4c2169947e85c928b88aba21', 'createdAt': 1379167658}]}}, {'id': '518c79e9498edfc9a4e1fd42', 'name': \"Sweet n' Sour Check-In\", 'description': '', 'type': 'others', 'user': {'isSanctioned': False, 'firstName': 'Markus', 'lastName': 'P', 'countryCode': 'DE'}, 'editable': False, 'public': True, 'collaborative': False, 'url': '/user/2893900/list/sweet-n-sour-checkin', 'canonicalUrl': 'https://foursquare.com/user/2893900/list/sweet-n-sour-checkin', 'createdAt': 1368160745, 'updatedAt': 1391632274, 'photo': {'id': '518c7ac65019d968d03fd79a', 'createdAt': 1368160966, 'prefix': 'https://fastly.4sqi.net/img/general/', 'suffix': '/2893900_js33PbkH7rxYwAQW2-eJshcHnaTEJYPaUIm-TjCqQXk.png', 'width': 300, 'height': 300, 'user': {'isSanctioned': False, 'firstName': 'Markus', 'lastName': 'P', 'countryCode': 'DE'}, 'visibility': 'public'}, 'followers': {'count': 2}, 'listItems': {'count': 55, 'items': [{'id': 'v4c2169947e85c928b88aba21', 'createdAt': 1368272439}]}}]}]}, 'seasonalHours': [], 'pageUpdates': {'count': 0, 'items': []}, 'inbox': {'count': 0, 'items': []}, 'attributes': {'groups': [{'type': 'price', 'name': 'Price', 'summary': '$', 'count': 1, 'items': [{'displayName': 'Price', 'displayValue': '$', 'priceTier': 1}]}]}, 'bestPhoto': {'id': '518ea406498e32e3d0f8b875', 'createdAt': 1368302598, 'source': {'name': 'Foursquare for iOS', 'url': 'https://foursquare.com/download/#/iphone'}, 'prefix': 'https://fastly.4sqi.net/img/general/', 'suffix': '/23734536_aUXP_JTWDoEuzANAl1LxjGt1xbC3kUn8SWBfzKbO02E.jpg', 'width': 720, 'height': 537, 'visibility': 'public'}, 'colors': {'highlightColor': {'photoId': '518ea406498e32e3d0f8b875', 'value': -14655336}, 'highlightTextColor': {'photoId': '518ea406498e32e3d0f8b875', 'value': -1}, 'algoVersion': 3}}}}\n",
      "Empty DataFrame\n",
      "Columns: [ID, Name, Likes, Rating, Tips]\n",
      "Index: []\n",
      "No data available for id= 4c2169947e85c928b88aba21\n",
      "( 25 / 180 ) processed\n"
     ]
    },
    {
     "name": "stdout",
     "output_type": "stream",
     "text": [
      "{'meta': {'code': 200, 'requestId': '5fc954836ef0be321d8f24b8'}, 'response': {'venue': {'id': '4c9257fe7088a143c59fb843', 'name': 'Dragon Garden', 'contact': {'phone': '7182348288', 'formattedPhone': '(718) 234-8288'}, 'location': {'address': '8024 18th Ave', 'lat': 40.61029, 'lng': -73.999592, 'labeledLatLngs': [{'label': 'display', 'lat': 40.61029, 'lng': -73.999592}, {'label': 'entrance', 'lat': 40.610116, 'lng': -73.999472}], 'postalCode': '11214', 'cc': 'US', 'city': 'Brooklyn', 'state': 'NY', 'country': 'United States', 'formattedAddress': ['8024 18th Ave', 'Brooklyn, NY 11214', 'United States']}, 'canonicalUrl': 'https://foursquare.com/v/dragon-garden/4c9257fe7088a143c59fb843', 'categories': [{'id': '4bf58dd8d48988d145941735', 'name': 'Chinese Restaurant', 'pluralName': 'Chinese Restaurants', 'shortName': 'Chinese', 'icon': {'prefix': 'https://ss3.4sqi.net/img/categories_v2/food/asian_', 'suffix': '.png'}, 'primary': True}], 'verified': False, 'stats': {'tipCount': 2}, 'price': {'tier': 1, 'message': 'Cheap', 'currency': '$'}, 'hasMenu': True, 'likes': {'count': 1, 'groups': [{'type': 'others', 'count': 1, 'items': [{'isSanctioned': False, 'firstName': 'Rina', 'lastName': 'z', 'countryCode': 'US'}]}], 'summary': '1 Like'}, 'dislike': False, 'ok': False, 'menu': {'type': 'Menu', 'label': 'Menu', 'anchor': 'View Menu', 'url': 'https://foursquare.com/v/dragon-garden/4c9257fe7088a143c59fb843/menu', 'mobileUrl': 'https://foursquare.com/v/4c9257fe7088a143c59fb843/device_menu'}, 'allowMenuUrlEdit': True, 'beenHere': {'count': 0, 'unconfirmedCount': 0, 'marked': False, 'lastCheckinExpiredAt': 0}, 'specials': {'count': 0, 'items': []}, 'photos': {'count': 0, 'groups': []}, 'reasons': {'count': 0, 'items': []}, 'hereNow': {'count': 0, 'summary': 'Nobody here', 'groups': []}, 'createdAt': 1284659198, 'tips': {'count': 2, 'groups': [{'type': 'others', 'name': 'All tips', 'count': 2, 'items': [{'id': '50b53948498ee9afcd036d02', 'createdAt': 1354053960, 'text': 'Good wings:)', 'type': 'user', 'canonicalUrl': 'https://foursquare.com/item/50b53948498ee9afcd036d02', 'lang': 'en', 'likes': {'count': 0, 'groups': []}, 'logView': True, 'agreeCount': 0, 'disagreeCount': 0, 'todo': {'count': 0}, 'user': {'isSanctioned': False, 'firstName': 'Ariel', 'lastName': 'L', 'countryCode': 'US'}}]}]}, 'shortUrl': 'http://4sq.com/b6r4k7', 'timeZone': 'America/New_York', 'listed': {'count': 0, 'groups': [{'type': 'others', 'name': 'Lists from other people', 'count': 0, 'items': []}]}, 'seasonalHours': [], 'pageUpdates': {'count': 0, 'items': []}, 'inbox': {'count': 0, 'items': []}, 'attributes': {'groups': [{'type': 'price', 'name': 'Price', 'summary': '$', 'count': 1, 'items': [{'displayName': 'Price', 'displayValue': '$', 'priceTier': 1}]}]}}}}\n",
      "Empty DataFrame\n",
      "Columns: [ID, Name, Likes, Rating, Tips]\n",
      "Index: []\n",
      "No data available for id= 4c9257fe7088a143c59fb843\n",
      "( 26 / 180 ) processed\n",
      "{'meta': {'code': 200, 'requestId': '5fc95484e02006393a3b5f13'}, 'response': {'venue': {'id': '4d7171341c01b60ccebe14c7', 'name': 'Nueva Victoria Restaurant', 'contact': {'phone': '7184312938', 'formattedPhone': '(718) 431-2938', 'twitter': 'newvictory'}, 'location': {'address': '4803 5th Ave', 'lat': 40.645984999999996, 'lng': -74.009117, 'labeledLatLngs': [{'label': 'display', 'lat': 40.645984999999996, 'lng': -74.009117}, {'label': 'entrance', 'lat': 40.646028, 'lng': -74.009181}], 'postalCode': '11220', 'cc': 'US', 'city': 'Brooklyn', 'state': 'NY', 'country': 'United States', 'formattedAddress': ['4803 5th Ave', 'Brooklyn, NY 11220', 'United States']}, 'canonicalUrl': 'https://foursquare.com/v/nueva-victoria-restaurant/4d7171341c01b60ccebe14c7', 'categories': [{'id': '4bf58dd8d48988d145941735', 'name': 'Chinese Restaurant', 'pluralName': 'Chinese Restaurants', 'shortName': 'Chinese', 'icon': {'prefix': 'https://ss3.4sqi.net/img/categories_v2/food/asian_', 'suffix': '.png'}, 'primary': True}], 'verified': False, 'stats': {'tipCount': 5}, 'price': {'tier': 1, 'message': 'Cheap', 'currency': '$'}, 'likes': {'count': 2, 'groups': [{'type': 'others', 'count': 2, 'items': [{'isSanctioned': False, 'firstName': 'George', 'lastName': 'L', 'countryCode': 'US'}, {'isSanctioned': False, 'firstName': 'Joey', 'countryCode': 'US'}]}], 'summary': '2 Likes'}, 'dislike': False, 'ok': False, 'rating': 6.1, 'ratingColor': 'FFC800', 'ratingSignals': 8, 'allowMenuUrlEdit': True, 'beenHere': {'count': 0, 'unconfirmedCount': 0, 'marked': False, 'lastCheckinExpiredAt': 0}, 'specials': {'count': 0, 'items': []}, 'photos': {'count': 4, 'groups': [{'type': 'venue', 'name': 'Venue photos', 'count': 4, 'items': [{'id': '544706b5498e7246455ae18b', 'createdAt': 1413940917, 'source': {'name': 'Swarm for Android', 'url': 'https://www.swarmapp.com'}, 'prefix': 'https://fastly.4sqi.net/img/general/', 'suffix': '/17718462_Wnt8EvLrBqoF-mIIEBwmFE6jENnAIbI8Z3CH5KUc81w.jpg', 'width': 541, 'height': 960, 'user': {'isSanctioned': False, 'firstName': 'George', 'lastName': 'L', 'countryCode': 'US'}, 'visibility': 'public'}]}]}, 'reasons': {'count': 0, 'items': []}, 'hereNow': {'count': 0, 'summary': 'Nobody here', 'groups': []}, 'createdAt': 1299280180, 'tips': {'count': 5, 'groups': [{'type': 'others', 'name': 'All tips', 'count': 5, 'items': [{'id': '54362de3498e915cc1d1be34', 'createdAt': 1412836835, 'text': 'This is a neighborhood gem. Love this place.', 'type': 'user', 'canonicalUrl': 'https://foursquare.com/item/54362de3498e915cc1d1be34', 'lang': 'en', 'likes': {'count': 0, 'groups': []}, 'logView': True, 'agreeCount': 0, 'disagreeCount': 0, 'todo': {'count': 0}, 'user': {'isSanctioned': False, 'firstName': 'George', 'lastName': 'L', 'countryCode': 'US'}, 'authorInteractionType': 'liked'}]}]}, 'shortUrl': 'http://4sq.com/hOc2aB', 'timeZone': 'America/New_York', 'listed': {'count': 3, 'groups': [{'type': 'others', 'name': 'Lists from other people', 'count': 3, 'items': [{'id': '5004bef3e4b0e24aa1bf4cf3', 'name': 'faves', 'description': '', 'type': 'others', 'user': {'isSanctioned': False, 'firstName': 'Joey', 'countryCode': 'US'}, 'editable': False, 'public': True, 'collaborative': False, 'url': '/joey2965/list/faves', 'canonicalUrl': 'https://foursquare.com/joey2965/list/faves', 'createdAt': 1342488307, 'updatedAt': 1389000479, 'followers': {'count': 0}, 'listItems': {'count': 7, 'items': [{'id': 'v4d7171341c01b60ccebe14c7', 'createdAt': 1342488308}]}}, {'id': '59f15833a2c00b6e3245ff36', 'name': 'BK', 'description': '', 'type': 'others', 'user': {'isSanctioned': False, 'firstName': 'Raja', 'countryCode': 'US'}, 'editable': False, 'public': True, 'collaborative': False, 'url': '/user/99377055/list/bk', 'canonicalUrl': 'https://foursquare.com/user/99377055/list/bk', 'createdAt': 1508988979, 'updatedAt': 1602813325, 'photo': {'id': '5998549383e38014d88862e9', 'createdAt': 1503155347, 'prefix': 'https://fastly.4sqi.net/img/general/', 'suffix': '/45323752_9zcrqw3CyHbfQRNAUYzCofQtIYyw6Ec__PH6I4PFzPY.jpg', 'width': 1440, 'height': 1920, 'user': {'isSanctioned': False, 'firstName': 'Nicole Rae', 'lastName': 'D', 'countryCode': 'US'}, 'visibility': 'public'}, 'followers': {'count': 0}, 'listItems': {'count': 53, 'items': [{'id': 'v4d7171341c01b60ccebe14c7', 'createdAt': 1535494182}]}}]}]}, 'seasonalHours': [], 'pageUpdates': {'count': 0, 'items': []}, 'inbox': {'count': 0, 'items': []}, 'attributes': {'groups': [{'type': 'price', 'name': 'Price', 'summary': '$', 'count': 1, 'items': [{'displayName': 'Price', 'displayValue': '$', 'priceTier': 1}]}, {'type': 'reservations', 'name': 'Reservations', 'summary': 'Reservations', 'count': 3, 'items': [{'displayName': 'Reservations', 'displayValue': 'Yes'}]}]}, 'bestPhoto': {'id': '544706b5498e7246455ae18b', 'createdAt': 1413940917, 'source': {'name': 'Swarm for Android', 'url': 'https://www.swarmapp.com'}, 'prefix': 'https://fastly.4sqi.net/img/general/', 'suffix': '/17718462_Wnt8EvLrBqoF-mIIEBwmFE6jENnAIbI8Z3CH5KUc81w.jpg', 'width': 541, 'height': 960, 'visibility': 'public'}, 'colors': {'highlightColor': {'photoId': '544706b5498e7246455ae18b', 'value': -7305160}, 'highlightTextColor': {'photoId': '544706b5498e7246455ae18b', 'value': -16777216}, 'algoVersion': 3}}}}\n",
      "                         ID                       Name  Likes  Rating  Tips\n",
      "0  4d7171341c01b60ccebe14c7  Nueva Victoria Restaurant      2     6.1     5\n",
      "( 27 / 180 ) processed\n"
     ]
    },
    {
     "name": "stdout",
     "output_type": "stream",
     "text": [
      "{'meta': {'code': 200, 'requestId': '5fc95484e02006393a3b60b1'}, 'response': {'venue': {'id': '4abd867df964a520d78a20e3', 'name': 'Shang Hai Lee', 'contact': {'phone': '7183496716', 'formattedPhone': '(718) 349-6716'}, 'location': {'address': '157 Franklin St', 'crossStreet': 'India & Java', 'lat': 40.731829236676546, 'lng': -73.95784627979856, 'labeledLatLngs': [{'label': 'display', 'lat': 40.731829236676546, 'lng': -73.95784627979856}], 'postalCode': '11222', 'cc': 'US', 'city': 'Brooklyn', 'state': 'NY', 'country': 'United States', 'formattedAddress': ['157 Franklin St (India & Java)', 'Brooklyn, NY 11222', 'United States']}, 'canonicalUrl': 'https://foursquare.com/v/shang-hai-lee/4abd867df964a520d78a20e3', 'categories': [{'id': '4bf58dd8d48988d145941735', 'name': 'Chinese Restaurant', 'pluralName': 'Chinese Restaurants', 'shortName': 'Chinese', 'icon': {'prefix': 'https://ss3.4sqi.net/img/categories_v2/food/asian_', 'suffix': '.png'}, 'primary': True}], 'verified': False, 'stats': {'tipCount': 13}, 'price': {'tier': 1, 'message': 'Cheap', 'currency': '$'}, 'hasMenu': True, 'likes': {'count': 10, 'groups': [{'type': 'others', 'count': 10, 'items': []}], 'summary': '10 Likes'}, 'dislike': False, 'ok': False, 'rating': 6.4, 'ratingColor': 'FFC800', 'ratingSignals': 25, 'delivery': {'id': '82191', 'url': 'https://www.seamless.com/menu/shanghai-lee-157-franklin-st-brooklyn/82191?affiliate=1131&utm_source=foursquare-affiliate-network&utm_medium=affiliate&utm_campaign=1131&utm_content=82191', 'provider': {'name': 'seamless', 'icon': {'prefix': 'https://fastly.4sqi.net/img/general/cap/', 'sizes': [40, 50], 'name': '/delivery_provider_seamless_20180129.png'}}}, 'menu': {'type': 'Menu', 'label': 'Menu', 'anchor': 'View Menu', 'url': 'https://foursquare.com/v/shang-hai-lee/4abd867df964a520d78a20e3/menu', 'mobileUrl': 'https://foursquare.com/v/4abd867df964a520d78a20e3/device_menu'}, 'allowMenuUrlEdit': True, 'beenHere': {'count': 0, 'unconfirmedCount': 0, 'marked': False, 'lastCheckinExpiredAt': 0}, 'specials': {'count': 0, 'items': []}, 'photos': {'count': 11, 'groups': [{'type': 'venue', 'name': 'Venue photos', 'count': 11, 'items': [{'id': '596bff9c35d3fc5cec37c049', 'createdAt': 1500250012, 'source': {'name': 'Swarm for iOS', 'url': 'https://www.swarmapp.com'}, 'prefix': 'https://fastly.4sqi.net/img/general/', 'suffix': '/222248_LbsOeB4gzgIhLy0zbX61jRAQF2QThzc4XbCkjrsrrGQ.jpg', 'width': 1920, 'height': 1440, 'user': {'isSanctioned': False, 'firstName': 'Peep', 'lastName': 'C', 'countryCode': 'US'}, 'visibility': 'public'}]}]}, 'reasons': {'count': 0, 'items': []}, 'hereNow': {'count': 0, 'summary': 'Nobody here', 'groups': []}, 'createdAt': 1253934717, 'tips': {'count': 13, 'groups': [{'type': 'others', 'name': 'All tips', 'count': 13, 'items': [{'id': '4e361fbab61cddd1cd45552e', 'createdAt': 1312169914, 'text': 'My favorite Chinese restaurant in the neighborhood. No more sketchy meat! Pad thai could be better though.', 'type': 'user', 'canonicalUrl': 'https://foursquare.com/item/4e361fbab61cddd1cd45552e', 'lang': 'en', 'likes': {'count': 1, 'groups': [{'type': 'others', 'count': 1, 'items': [{'isSanctioned': False, 'firstName': 'Henry W.', 'lastName': 'N', 'countryCode': 'US'}]}], 'summary': '1 like'}, 'logView': True, 'agreeCount': 1, 'disagreeCount': 0, 'todo': {'count': 0}, 'user': {'isSanctioned': False, 'firstName': 'Taylor', 'lastName': 'S', 'countryCode': 'US'}}]}]}, 'shortUrl': 'http://4sq.com/7SY52M', 'timeZone': 'America/New_York', 'listed': {'count': 7, 'groups': [{'type': 'others', 'name': 'Lists from other people', 'count': 7, 'items': [{'id': '52d30c1a498e2ed4f64e9bdf', 'name': 'My Favorite Places in Greenpoint, BK', 'description': 'I live in Northern Greenpoint. I eat a lot. I drink a lot. I shop a lot. These are my favorite places to get my fix!', 'type': 'others', 'user': {'isSanctioned': False, 'firstName': 'Ingrid', 'lastName': 'K', 'countryCode': 'US'}, 'editable': False, 'public': True, 'collaborative': False, 'url': '/ingkenyon/list/my-favorite-places-in-greenpoint-bk', 'canonicalUrl': 'https://foursquare.com/ingkenyon/list/my-favorite-places-in-greenpoint-bk', 'createdAt': 1389562906, 'updatedAt': 1392662698, 'followers': {'count': 2}, 'listItems': {'count': 30, 'items': [{'id': 't52d3151511d27d1db9a27501', 'createdAt': 1389565186}]}}, {'id': '52af6bdb498eba412ce261ec', 'name': 'Greenpoint Food', 'description': 'Looking to grab lunch? Afternoon snack? Need a place to take guests for dinner? Consult this list, and feel free to add to it!', 'type': 'others', 'user': {'isSanctioned': False, 'firstName': 'Melanie', 'lastName': 'T', 'countryCode': 'US'}, 'editable': False, 'public': True, 'collaborative': True, 'url': '/melanietravis/list/greenpoint-food', 'canonicalUrl': 'https://foursquare.com/melanietravis/list/greenpoint-food', 'createdAt': 1387228123, 'updatedAt': 1387232807, 'followers': {'count': 22}, 'listItems': {'count': 49, 'items': [{'id': 'v4abd867df964a520d78a20e3', 'createdAt': 1387228932}]}}, {'id': '52b2869a498e30f1533956fa', 'name': 'Greenpoint', 'description': 'Places to try!', 'type': 'others', 'user': {'isSanctioned': False, 'firstName': 'Christopher', 'lastName': 'W', 'countryCode': 'US'}, 'editable': False, 'public': True, 'collaborative': False, 'url': '/chrstphrwrght/list/greenpoint', 'canonicalUrl': 'https://foursquare.com/chrstphrwrght/list/greenpoint', 'createdAt': 1387431578, 'updatedAt': 1387432443, 'followers': {'count': 0}, 'listItems': {'count': 37, 'items': [{'id': 'v4abd867df964a520d78a20e3', 'createdAt': 1387432389}]}}, {'id': '4e98c91455033ea8ab766a10', 'name': 'GreenPoint HotSpots', 'description': '', 'type': 'others', 'user': {'isSanctioned': False, 'firstName': 'Jeff', 'lastName': 'S', 'countryCode': 'US'}, 'editable': False, 'public': True, 'collaborative': False, 'url': '/jeffstevens199/list/greenpoint-hotspots', 'canonicalUrl': 'https://foursquare.com/jeffstevens199/list/greenpoint-hotspots', 'createdAt': 1318635796, 'updatedAt': 1392517431, 'followers': {'count': 34}, 'listItems': {'count': 47, 'items': [{'id': 'v4abd867df964a520d78a20e3', 'createdAt': 1320460784}]}}]}]}, 'hours': {'status': 'Open until 10:45 PM', 'richStatus': {'entities': [], 'text': 'Open until 10:45 PM'}, 'isOpen': True, 'isLocalHoliday': False, 'dayData': [], 'timeframes': [{'days': 'Mon–Thu', 'includesToday': True, 'open': [{'renderedTime': '11:30 AM–10:45 PM'}], 'segments': []}, {'days': 'Fri–Sat', 'open': [{'renderedTime': '11:30 AM–11:45 PM'}], 'segments': []}, {'days': 'Sun', 'open': [{'renderedTime': 'Noon–10:45 PM'}], 'segments': []}]}, 'popular': {'isOpen': False, 'isLocalHoliday': False, 'timeframes': [{'days': 'Today', 'includesToday': True, 'open': [{'renderedTime': 'Noon–4:00 PM'}, {'renderedTime': '7:00 PM–11:00 PM'}], 'segments': []}, {'days': 'Fri', 'open': [{'renderedTime': 'Noon–3:00 PM'}, {'renderedTime': '6:00 PM–Midnight'}], 'segments': []}, {'days': 'Sat', 'open': [{'renderedTime': '5:00 PM–Midnight'}], 'segments': []}, {'days': 'Sun', 'open': [{'renderedTime': '1:00 PM–10:00 PM'}], 'segments': []}, {'days': 'Mon', 'open': [{'renderedTime': 'Noon–2:00 PM'}, {'renderedTime': '6:00 PM–10:00 PM'}], 'segments': []}, {'days': 'Tue', 'open': [{'renderedTime': 'Noon–2:00 PM'}, {'renderedTime': '6:00 PM–11:00 PM'}], 'segments': []}, {'days': 'Wed', 'open': [{'renderedTime': 'Noon–1:00 PM'}, {'renderedTime': '5:00 PM–10:00 PM'}], 'segments': []}]}, 'seasonalHours': [], 'defaultHours': {'status': 'Open until 10:45 PM', 'richStatus': {'entities': [], 'text': 'Open until 10:45 PM'}, 'isOpen': True, 'isLocalHoliday': False, 'dayData': [], 'timeframes': [{'days': 'Mon–Thu', 'includesToday': True, 'open': [{'renderedTime': '11:30 AM–10:45 PM'}], 'segments': []}, {'days': 'Fri–Sat', 'open': [{'renderedTime': '11:30 AM–11:45 PM'}], 'segments': []}, {'days': 'Sun', 'open': [{'renderedTime': 'Noon–10:45 PM'}], 'segments': []}]}, 'pageUpdates': {'count': 0, 'items': []}, 'inbox': {'count': 0, 'items': []}, 'attributes': {'groups': [{'type': 'price', 'name': 'Price', 'summary': '$', 'count': 1, 'items': [{'displayName': 'Price', 'displayValue': '$', 'priceTier': 1}]}, {'type': 'reservations', 'name': 'Reservations', 'count': 3, 'items': [{'displayName': 'Reservations', 'displayValue': 'No'}]}, {'type': 'payments', 'name': 'Credit Cards', 'summary': 'Credit Cards', 'count': 7, 'items': [{'displayName': 'Credit Cards', 'displayValue': 'Yes'}]}, {'type': 'outdoorSeating', 'name': 'Outdoor Seating', 'count': 1, 'items': [{'displayName': 'Outdoor Seating', 'displayValue': 'No'}]}]}, 'bestPhoto': {'id': '596bff9c35d3fc5cec37c049', 'createdAt': 1500250012, 'source': {'name': 'Swarm for iOS', 'url': 'https://www.swarmapp.com'}, 'prefix': 'https://fastly.4sqi.net/img/general/', 'suffix': '/222248_LbsOeB4gzgIhLy0zbX61jRAQF2QThzc4XbCkjrsrrGQ.jpg', 'width': 1920, 'height': 1440, 'visibility': 'public'}, 'colors': {'highlightColor': {'photoId': '596bff9c35d3fc5cec37c049', 'value': -10999800}, 'highlightTextColor': {'photoId': '596bff9c35d3fc5cec37c049', 'value': -1}, 'algoVersion': 3}}}}\n",
      "                         ID           Name  Likes  Rating  Tips\n",
      "0  4abd867df964a520d78a20e3  Shang Hai Lee     10     6.4    13\n",
      "( 28 / 180 ) processed\n"
     ]
    },
    {
     "name": "stdout",
     "output_type": "stream",
     "text": [
      "{'meta': {'code': 200, 'requestId': '5fc954855b23bb2330ddf52f'}, 'response': {'venue': {'id': '4d91f9a1d7b1236a6e343c38', 'name': 'Golden chopsticks', 'contact': {'phone': '7183758340', 'formattedPhone': '(718) 375-8340'}, 'location': {'address': '1986-88 Ocean Ave', 'lat': 40.61322, 'lng': -73.95387, 'labeledLatLngs': [{'label': 'display', 'lat': 40.61322, 'lng': -73.95387}], 'postalCode': '11230', 'cc': 'US', 'city': 'Brooklyn', 'state': 'NY', 'country': 'United States', 'formattedAddress': ['1986-88 Ocean Ave', 'Brooklyn, NY 11230', 'United States']}, 'canonicalUrl': 'https://foursquare.com/v/golden-chopsticks/4d91f9a1d7b1236a6e343c38', 'categories': [{'id': '4bf58dd8d48988d145941735', 'name': 'Chinese Restaurant', 'pluralName': 'Chinese Restaurants', 'shortName': 'Chinese', 'icon': {'prefix': 'https://ss3.4sqi.net/img/categories_v2/food/asian_', 'suffix': '.png'}, 'primary': True}], 'verified': False, 'stats': {'tipCount': 0}, 'price': {'tier': 1, 'message': 'Cheap', 'currency': '$'}, 'likes': {'count': 1, 'groups': [{'type': 'others', 'count': 1, 'items': [{'isSanctioned': False, 'firstName': 'Annika', 'lastName': 'B', 'countryCode': 'US'}]}], 'summary': '1 Like'}, 'dislike': False, 'ok': False, 'allowMenuUrlEdit': True, 'beenHere': {'count': 0, 'unconfirmedCount': 0, 'marked': False, 'lastCheckinExpiredAt': 0}, 'specials': {'count': 0, 'items': []}, 'photos': {'count': 0, 'groups': []}, 'reasons': {'count': 0, 'items': []}, 'hereNow': {'count': 0, 'summary': 'Nobody here', 'groups': []}, 'createdAt': 1301412257, 'tips': {'count': 0, 'groups': []}, 'shortUrl': 'http://4sq.com/ekCecI', 'timeZone': 'America/New_York', 'listed': {'count': 0, 'groups': [{'type': 'others', 'name': 'Lists from other people', 'count': 0, 'items': []}]}, 'seasonalHours': [], 'pageUpdates': {'count': 0, 'items': []}, 'inbox': {'count': 0, 'items': []}, 'attributes': {'groups': [{'type': 'price', 'name': 'Price', 'summary': '$', 'count': 1, 'items': [{'displayName': 'Price', 'displayValue': '$', 'priceTier': 1}]}, {'type': 'payments', 'name': 'Credit Cards', 'summary': 'Credit Cards', 'count': 7, 'items': [{'displayName': 'Credit Cards', 'displayValue': 'Yes'}]}]}}}}\n",
      "Empty DataFrame\n",
      "Columns: [ID, Name, Likes, Rating, Tips]\n",
      "Index: []\n",
      "No data available for id= 4d91f9a1d7b1236a6e343c38\n",
      "( 29 / 180 ) processed\n",
      "{'meta': {'code': 200, 'requestId': '5fc954856d31c0183b8dc9db'}, 'response': {'venue': {'id': '4e6175d1a80951b31816041f', 'name': 'Good Taste Chinese Food', 'contact': {'phone': '7182211112', 'formattedPhone': '(718) 221-1112'}, 'location': {'address': '235 Kingston Ave', 'lat': 40.6719207288499, 'lng': -73.9419622237335, 'labeledLatLngs': [{'label': 'display', 'lat': 40.6719207288499, 'lng': -73.9419622237335}, {'label': 'entrance', 'lat': 40.671888, 'lng': -73.94184}], 'postalCode': '11213', 'cc': 'US', 'city': 'Brooklyn', 'state': 'NY', 'country': 'United States', 'formattedAddress': ['235 Kingston Ave', 'Brooklyn, NY 11213', 'United States']}, 'canonicalUrl': 'https://foursquare.com/v/good-taste-chinese-food/4e6175d1a80951b31816041f', 'categories': [{'id': '4bf58dd8d48988d145941735', 'name': 'Chinese Restaurant', 'pluralName': 'Chinese Restaurants', 'shortName': 'Chinese', 'icon': {'prefix': 'https://ss3.4sqi.net/img/categories_v2/food/asian_', 'suffix': '.png'}, 'primary': True}], 'verified': False, 'stats': {'tipCount': 1}, 'price': {'tier': 1, 'message': 'Cheap', 'currency': '$'}, 'likes': {'count': 0, 'groups': []}, 'dislike': False, 'ok': False, 'allowMenuUrlEdit': True, 'beenHere': {'count': 0, 'unconfirmedCount': 0, 'marked': False, 'lastCheckinExpiredAt': 0}, 'specials': {'count': 0, 'items': []}, 'photos': {'count': 3, 'groups': [{'type': 'venue', 'name': 'Venue photos', 'count': 3, 'items': [{'id': '594eb26131fd145b631ff575', 'createdAt': 1498329697, 'source': {'name': 'Swarm for iOS', 'url': 'https://www.swarmapp.com'}, 'prefix': 'https://fastly.4sqi.net/img/general/', 'suffix': '/12542162_dhcN9blsKcrwqrTCOAj1AcTK_O2hVk6pJZB2XjQ_orM.jpg', 'width': 1440, 'height': 1920, 'user': {'isSanctioned': False, 'firstName': 'Ilya', 'lastName': 'D', 'countryCode': 'US'}, 'visibility': 'public'}]}]}, 'reasons': {'count': 0, 'items': []}, 'hereNow': {'count': 0, 'summary': 'Nobody here', 'groups': []}, 'createdAt': 1315010001, 'tips': {'count': 1, 'groups': [{'type': 'others', 'name': 'All tips', 'count': 1, 'items': [{'id': '553a750c498ef9d53884054b', 'createdAt': 1429894412, 'text': 'Good and cheap. What more could you want?', 'type': 'user', 'canonicalUrl': 'https://foursquare.com/item/553a750c498ef9d53884054b', 'lang': 'en', 'likes': {'count': 0, 'groups': []}, 'logView': True, 'agreeCount': 0, 'disagreeCount': 0, 'todo': {'count': 0}, 'user': {'isSanctioned': False, 'firstName': 'Bill', 'lastName': 'D', 'countryCode': 'US'}}]}]}, 'shortUrl': 'http://4sq.com/oelVYx', 'timeZone': 'America/New_York', 'listed': {'count': 0, 'groups': [{'type': 'others', 'name': 'Lists from other people', 'count': 0, 'items': []}]}, 'popular': {'isOpen': False, 'isLocalHoliday': False, 'timeframes': [{'days': 'Today', 'includesToday': True, 'open': [{'renderedTime': 'Noon–3:00 PM'}, {'renderedTime': '6:00 PM–11:00 PM'}], 'segments': []}, {'days': 'Fri', 'open': [{'renderedTime': '1:00 PM–10:00 PM'}], 'segments': []}, {'days': 'Sat', 'open': [{'renderedTime': '1:00 PM–11:00 PM'}], 'segments': []}, {'days': 'Sun', 'open': [{'renderedTime': 'Noon–10:00 PM'}], 'segments': []}, {'days': 'Mon', 'open': [{'renderedTime': 'Noon–3:00 PM'}, {'renderedTime': '5:00 PM–11:00 PM'}], 'segments': []}, {'days': 'Tue', 'open': [{'renderedTime': '11:00 AM–11:00 PM'}], 'segments': []}, {'days': 'Wed', 'open': [{'renderedTime': '1:00 PM–2:00 PM'}, {'renderedTime': '4:00 PM–11:00 PM'}], 'segments': []}]}, 'seasonalHours': [], 'pageUpdates': {'count': 0, 'items': []}, 'inbox': {'count': 0, 'items': []}, 'attributes': {'groups': [{'type': 'price', 'name': 'Price', 'summary': '$', 'count': 1, 'items': [{'displayName': 'Price', 'displayValue': '$', 'priceTier': 1}]}]}, 'bestPhoto': {'id': '594eb26131fd145b631ff575', 'createdAt': 1498329697, 'source': {'name': 'Swarm for iOS', 'url': 'https://www.swarmapp.com'}, 'prefix': 'https://fastly.4sqi.net/img/general/', 'suffix': '/12542162_dhcN9blsKcrwqrTCOAj1AcTK_O2hVk6pJZB2XjQ_orM.jpg', 'width': 1440, 'height': 1920, 'visibility': 'public'}, 'colors': {'highlightColor': {'photoId': '594eb26131fd145b631ff575', 'value': -15198184}, 'highlightTextColor': {'photoId': '594eb26131fd145b631ff575', 'value': -1}, 'algoVersion': 3}}}}\n",
      "Empty DataFrame\n",
      "Columns: [ID, Name, Likes, Rating, Tips]\n",
      "Index: []\n",
      "No data available for id= 4e6175d1a80951b31816041f\n",
      "( 30 / 180 ) processed\n",
      "{'meta': {'code': 200, 'requestId': '5fc9548582244217e68fd0f1'}, 'response': {'venue': {'id': '4c6b208e0c3ac9b6be76d138', 'name': 'China Express', 'contact': {'phone': '7184622778', 'formattedPhone': '(718) 462-2778'}, 'location': {'address': '4106 Avenue D', 'lat': 40.641422, 'lng': -73.937668, 'labeledLatLngs': [{'label': 'display', 'lat': 40.641422, 'lng': -73.937668}, {'label': 'entrance', 'lat': 40.641507, 'lng': -73.937678}], 'postalCode': '11203', 'cc': 'US', 'city': 'Brooklyn', 'state': 'NY', 'country': 'United States', 'formattedAddress': ['4106 Avenue D', 'Brooklyn, NY 11203', 'United States']}, 'canonicalUrl': 'https://foursquare.com/v/china-express/4c6b208e0c3ac9b6be76d138', 'categories': [{'id': '4bf58dd8d48988d145941735', 'name': 'Chinese Restaurant', 'pluralName': 'Chinese Restaurants', 'shortName': 'Chinese', 'icon': {'prefix': 'https://ss3.4sqi.net/img/categories_v2/food/asian_', 'suffix': '.png'}, 'primary': True}], 'verified': False, 'stats': {'tipCount': 1}, 'url': 'http://chinaexpresstysons.com', 'price': {'tier': 1, 'message': 'Cheap', 'currency': '$'}, 'likes': {'count': 0, 'groups': []}, 'dislike': False, 'ok': False, 'delivery': {'id': '2198248', 'url': 'https://www.seamless.com/menu/china-express-4106-avenue-d-brooklyn/2198248?affiliate=1131&utm_source=foursquare-affiliate-network&utm_medium=affiliate&utm_campaign=1131&utm_content=2198248', 'provider': {'name': 'seamless', 'icon': {'prefix': 'https://fastly.4sqi.net/img/general/cap/', 'sizes': [40, 50], 'name': '/delivery_provider_seamless_20180129.png'}}}, 'allowMenuUrlEdit': True, 'beenHere': {'count': 0, 'unconfirmedCount': 0, 'marked': False, 'lastCheckinExpiredAt': 0}, 'specials': {'count': 0, 'items': []}, 'photos': {'count': 1, 'groups': [{'type': 'venue', 'name': 'Venue photos', 'count': 1, 'items': [{'id': '508ade26498edfd6843c2e47', 'createdAt': 1351278118, 'source': {'name': 'Foursquare for Android', 'url': 'https://foursquare.com/download/#/android'}, 'prefix': 'https://fastly.4sqi.net/img/general/', 'suffix': '/37056227_xAgLi09jAf_0pA8-K2vDbNBlnm0QvKaYJfoMtx6Bv64.jpg', 'width': 540, 'height': 720, 'user': {'isSanctioned': False, 'firstName': 'Starrah', 'lastName': '*', 'countryCode': 'US'}, 'visibility': 'public'}]}]}, 'reasons': {'count': 0, 'items': []}, 'hereNow': {'count': 0, 'summary': 'Nobody here', 'groups': []}, 'createdAt': 1282089102, 'tips': {'count': 1, 'groups': [{'type': 'others', 'name': 'All tips', 'count': 1, 'items': [{'id': '4d1a74da83c5a1cd58e4234e', 'createdAt': 1293579482, 'text': 'Right now they are out of chicken!!! Smh what we gonna do???', 'type': 'user', 'canonicalUrl': 'https://foursquare.com/item/4d1a74da83c5a1cd58e4234e', 'lang': 'en', 'likes': {'count': 0, 'groups': []}, 'logView': True, 'agreeCount': 1, 'disagreeCount': 0, 'todo': {'count': 0}, 'user': {'isSanctioned': False, 'firstName': 'Gabrielle', 'lastName': 'R', 'countryCode': 'US'}}]}]}, 'shortUrl': 'http://4sq.com/aL66nu', 'timeZone': 'America/New_York', 'listed': {'count': 0, 'groups': [{'type': 'others', 'name': 'Lists from other people', 'count': 0, 'items': []}]}, 'seasonalHours': [], 'pageUpdates': {'count': 0, 'items': []}, 'inbox': {'count': 0, 'items': []}, 'attributes': {'groups': [{'type': 'price', 'name': 'Price', 'summary': '$', 'count': 1, 'items': [{'displayName': 'Price', 'displayValue': '$', 'priceTier': 1}]}]}, 'bestPhoto': {'id': '508ade26498edfd6843c2e47', 'createdAt': 1351278118, 'source': {'name': 'Foursquare for Android', 'url': 'https://foursquare.com/download/#/android'}, 'prefix': 'https://fastly.4sqi.net/img/general/', 'suffix': '/37056227_xAgLi09jAf_0pA8-K2vDbNBlnm0QvKaYJfoMtx6Bv64.jpg', 'width': 540, 'height': 720, 'visibility': 'public'}}}}\n",
      "Empty DataFrame\n",
      "Columns: [ID, Name, Likes, Rating, Tips]\n",
      "Index: []\n",
      "No data available for id= 4c6b208e0c3ac9b6be76d138\n",
      "( 31 / 180 ) processed\n"
     ]
    },
    {
     "name": "stdout",
     "output_type": "stream",
     "text": [
      "{'meta': {'code': 200, 'requestId': '5fc9548631a5a81caca35298'}, 'response': {'venue': {'id': '54e39b14498e9c646b42958e', 'name': 'East Wind Snack Shop', 'contact': {'phone': '9292950188', 'formattedPhone': '(929) 295-0188'}, 'location': {'address': '471 16th St', 'crossStreet': 'at Prospect Park West', 'lat': 40.660297, 'lng': -73.980169, 'labeledLatLngs': [{'label': 'display', 'lat': 40.660297, 'lng': -73.980169}], 'postalCode': '11215', 'cc': 'US', 'city': 'Brooklyn', 'state': 'NY', 'country': 'United States', 'formattedAddress': ['471 16th St (at Prospect Park West)', 'Brooklyn, NY 11215', 'United States']}, 'canonicalUrl': 'https://foursquare.com/v/east-wind-snack-shop/54e39b14498e9c646b42958e', 'categories': [{'id': '4bf58dd8d48988d145941735', 'name': 'Chinese Restaurant', 'pluralName': 'Chinese Restaurants', 'shortName': 'Chinese', 'icon': {'prefix': 'https://ss3.4sqi.net/img/categories_v2/food/asian_', 'suffix': '.png'}, 'primary': True}], 'verified': False, 'stats': {'tipCount': 50}, 'url': 'http://www.eastwindsnackshop.com', 'price': {'tier': 1, 'message': 'Cheap', 'currency': '$'}, 'likes': {'count': 142, 'groups': [{'type': 'others', 'count': 142, 'items': []}], 'summary': '142 Likes'}, 'dislike': False, 'ok': False, 'rating': 9.0, 'ratingColor': '00B551', 'ratingSignals': 191, 'delivery': {'id': '465353', 'url': 'https://www.seamless.com/menu/east-wind-snack-shop-471-16th-st-brooklyn/465353?affiliate=1131&utm_source=foursquare-affiliate-network&utm_medium=affiliate&utm_campaign=1131&utm_content=465353', 'provider': {'name': 'seamless', 'icon': {'prefix': 'https://fastly.4sqi.net/img/general/cap/', 'sizes': [40, 50], 'name': '/delivery_provider_seamless_20180129.png'}}}, 'menu': {'type': 'Menu', 'label': 'Menu', 'anchor': 'View Menu', 'url': 'http://www.eastwindsnackshop.com/menu.html', 'mobileUrl': 'http://www.eastwindsnackshop.com/menu.html', 'externalUrl': 'http://www.eastwindsnackshop.com/menu.html'}, 'allowMenuUrlEdit': True, 'beenHere': {'count': 0, 'unconfirmedCount': 0, 'marked': False, 'lastCheckinExpiredAt': 0}, 'specials': {'count': 0, 'items': []}, 'photos': {'count': 70, 'groups': [{'type': 'venue', 'name': 'Venue photos', 'count': 70, 'items': [{'id': '5e2ddb2e37bbde0008841a99', 'createdAt': 1580063534, 'source': {'name': 'Swarm for iOS', 'url': 'https://www.swarmapp.com'}, 'prefix': 'https://fastly.4sqi.net/img/general/', 'suffix': '/19796086_BpF22ZS4e2Osueq8JPb5zUp0fNVI48pg_ZZzrLlSTbo.jpg', 'width': 1440, 'height': 1440, 'user': {'isSanctioned': False, 'firstName': 'Louise', 'lastName': 'G', 'countryCode': 'US'}, 'visibility': 'public'}]}]}, 'reasons': {'count': 1, 'items': [{'summary': 'Lots of people like this place', 'type': 'general', 'reasonName': 'rawLikesReason'}]}, 'hereNow': {'count': 0, 'summary': 'Nobody here', 'groups': []}, 'createdAt': 1424202516, 'tips': {'count': 50, 'groups': [{'type': 'others', 'name': 'All tips', 'count': 50, 'items': [{'id': '56366918498e3c6c855fdbfe', 'createdAt': 1446406424, 'text': \"The aged beef potstickers are worth the extra couple of dollars. I'll most definitely be coming back to try some of the other snacks this place has to offer.\", 'type': 'user', 'canonicalUrl': 'https://foursquare.com/item/56366918498e3c6c855fdbfe', 'lang': 'en', 'likes': {'count': 2, 'groups': [{'type': 'others', 'count': 2, 'items': [{'isSanctioned': False, 'firstName': 'Charles', 'lastName': 'B', 'countryCode': 'US'}, {'isSanctioned': False, 'firstName': 'Saarim', 'lastName': 'Z', 'countryCode': 'US'}]}], 'summary': '2 likes'}, 'logView': True, 'agreeCount': 2, 'disagreeCount': 0, 'todo': {'count': 0}, 'user': {'isSanctioned': False, 'firstName': 'Emily', 'lastName': 'W', 'countryCode': 'US'}, 'authorInteractionType': 'liked'}]}]}, 'shortUrl': 'http://4sq.com/1MuJikw', 'timeZone': 'America/New_York', 'listed': {'count': 266, 'groups': [{'type': 'others', 'name': 'Lists from other people', 'count': 266, 'items': [{'id': '5849c5ec0393cc2b62060ec3', 'name': 'The Best Chinese Food in NYC', 'description': \"Chinese cuisine, whether it's eat in or take-out, is a comfort food for many of us. Whether you're in the mood for dumplings, dan dan noodles, or sautéed string beans, this list has got you covered.\", 'type': 'others', 'user': {'isSanctioned': False, 'firstName': 'Foursquare City Guide', 'countryCode': 'US', 'type': 'page'}, 'editable': False, 'public': True, 'collaborative': False, 'url': '/foursquare/list/the-best-chinese-food-in-nyc', 'canonicalUrl': 'https://foursquare.com/foursquare/list/the-best-chinese-food-in-nyc', 'createdAt': 1481229804, 'updatedAt': 1481668652, 'photo': {'id': '56c8f940498e261ae0222fad', 'createdAt': 1456011584, 'prefix': 'https://fastly.4sqi.net/img/general/', 'suffix': '/85537144_q6Er_IMJVeO5vhXTA0GTO2-bsT2ehHk4avtTftHke6s.jpg', 'width': 1277, 'height': 1920, 'user': {'isSanctioned': False, 'firstName': 'Dan', 'countryCode': 'US'}, 'visibility': 'public'}, 'logView': True, 'guideType': 'bestOf', 'guide': True, 'followers': {'count': 156}, 'listItems': {'count': 25, 'items': [{'id': 't584c9ea05d6ec66be5c965e1', 'createdAt': 1481666506, 'photo': {'id': '558c546f498e6cf035240b09', 'createdAt': 1435260015, 'prefix': 'https://fastly.4sqi.net/img/general/', 'suffix': '/156897_83ePweRFuic8zqUrzpXctaH3fz1TuQkwF4IRHGWSwEo.jpg', 'width': 640, 'height': 640, 'user': {'isSanctioned': False, 'firstName': 'Eric', 'lastName': 'I', 'countryCode': 'US'}, 'visibility': 'public'}}]}}, {'id': '55bd517e498ee17cdd38b9ee', 'name': \"South Brooklyn To-Do's\", 'description': '', 'type': 'others', 'user': {'isSanctioned': False, 'firstName': 'Rachel', 'lastName': 'W', 'countryCode': 'US'}, 'editable': False, 'public': True, 'collaborative': False, 'url': '/relevantrachel/list/south-brooklyn-todos', 'canonicalUrl': 'https://foursquare.com/relevantrachel/list/south-brooklyn-todos', 'createdAt': 1438470526, 'updatedAt': 1606321197, 'photo': {'id': '55721043498e078b23543c42', 'createdAt': 1433538627, 'prefix': 'https://fastly.4sqi.net/img/general/', 'suffix': '/21646809_QsRdi3z2Ekf9NjeasL3UfS3jQp6noxtqoil_58p6zE8.jpg', 'width': 640, 'height': 426, 'user': {'isSanctioned': False, 'firstName': 'Gothamist', 'countryCode': 'US', 'type': 'page'}, 'visibility': 'public'}, 'followers': {'count': 7}, 'listItems': {'count': 159, 'items': [{'id': 't553e25bb498edf7b7a549e54', 'createdAt': 1438470644, 'photo': {'id': '558c546f498e6cf035240b09', 'createdAt': 1435260015, 'prefix': 'https://fastly.4sqi.net/img/general/', 'suffix': '/156897_83ePweRFuic8zqUrzpXctaH3fz1TuQkwF4IRHGWSwEo.jpg', 'width': 640, 'height': 640, 'user': {'isSanctioned': False, 'firstName': 'Eric', 'lastName': 'I', 'countryCode': 'US'}, 'visibility': 'public'}}]}}, {'id': '568ee1ca498e82dce33dbd84', 'name': '50 Restaurants To Try In 2016', 'description': 'Every year I created a list of 50 restaurants in NYC I want to try. Here is my list for 2016.', 'type': 'others', 'user': {'isSanctioned': False, 'firstName': 'Jason', 'lastName': 'F', 'countryCode': 'US'}, 'editable': False, 'public': True, 'collaborative': False, 'url': '/thefeirmanator/list/50-restaurants-to-try-in-2016', 'canonicalUrl': 'https://foursquare.com/thefeirmanator/list/50-restaurants-to-try-in-2016', 'createdAt': 1452204490, 'updatedAt': 1452205025, 'followers': {'count': 8}, 'listItems': {'count': 45, 'items': [{'id': 'v54e39b14498e9c646b42958e', 'createdAt': 1452204731}]}}, {'id': '4f28372fe4b08c1606060c8e', 'name': 'Brooklyn', 'description': '', 'type': 'others', 'user': {'isSanctioned': False, 'firstName': 'Melissa', 'countryCode': 'US'}, 'editable': False, 'public': True, 'collaborative': False, 'url': '/user/20560513/list/brooklyn', 'canonicalUrl': 'https://foursquare.com/user/20560513/list/brooklyn', 'createdAt': 1328035631, 'updatedAt': 1501795487, 'photo': {'id': '5166a6a68055ee64acc73f06', 'createdAt': 1365681830, 'prefix': 'https://fastly.4sqi.net/img/general/', 'suffix': '/742542_WjEIxwgt1bz7mxuFJaBdXMn1sZdMP7EoS7rUlAj5eQU.jpg', 'width': 555, 'height': 370, 'user': {'isSanctioned': False, 'firstName': 'Time Out New York', 'countryCode': 'US', 'type': 'page'}, 'visibility': 'public'}, 'followers': {'count': 20}, 'listItems': {'count': 82, 'items': [{'id': 'v54e39b14498e9c646b42958e', 'createdAt': 1438608489}]}}]}]}, 'hours': {'status': 'Open until 9:00 PM', 'richStatus': {'entities': [], 'text': 'Open until 9:00 PM'}, 'isOpen': True, 'isLocalHoliday': False, 'dayData': [], 'timeframes': [{'days': 'Mon–Sun', 'includesToday': True, 'open': [{'renderedTime': 'Noon–9:00 PM'}], 'segments': []}]}, 'popular': {'isOpen': False, 'isLocalHoliday': False, 'timeframes': [{'days': 'Today', 'includesToday': True, 'open': [{'renderedTime': 'Noon–2:00 PM'}, {'renderedTime': '6:00 PM–9:00 PM'}], 'segments': []}, {'days': 'Fri', 'open': [{'renderedTime': 'Noon–4:00 PM'}, {'renderedTime': '6:00 PM–9:00 PM'}], 'segments': []}, {'days': 'Sat', 'open': [{'renderedTime': 'Noon–9:00 PM'}], 'segments': []}, {'days': 'Sun', 'open': [{'renderedTime': 'Noon–8:00 PM'}], 'segments': []}, {'days': 'Mon', 'open': [{'renderedTime': 'Noon–4:00 PM'}, {'renderedTime': '6:00 PM–9:00 PM'}], 'segments': []}, {'days': 'Tue', 'open': [{'renderedTime': 'Noon–3:00 PM'}, {'renderedTime': '5:00 PM–9:00 PM'}], 'segments': []}, {'days': 'Wed', 'open': [{'renderedTime': 'Noon–9:00 PM'}], 'segments': []}]}, 'seasonalHours': [], 'defaultHours': {'status': 'Open until 9:00 PM', 'richStatus': {'entities': [], 'text': 'Open until 9:00 PM'}, 'isOpen': True, 'isLocalHoliday': False, 'dayData': [], 'timeframes': [{'days': 'Mon–Sun', 'includesToday': True, 'open': [{'renderedTime': 'Noon–9:00 PM'}], 'segments': []}]}, 'pageUpdates': {'count': 0, 'items': []}, 'inbox': {'count': 0, 'items': []}, 'attributes': {'groups': [{'type': 'price', 'name': 'Price', 'summary': '$', 'count': 1, 'items': [{'displayName': 'Price', 'displayValue': '$', 'priceTier': 1}]}, {'type': 'reservations', 'name': 'Reservations', 'count': 3, 'items': [{'displayName': 'Reservations', 'displayValue': 'No'}]}, {'type': 'payments', 'name': 'Credit Cards', 'summary': 'Credit Cards', 'count': 7, 'items': [{'displayName': 'Credit Cards', 'displayValue': 'Yes'}]}, {'type': 'outdoorSeating', 'name': 'Outdoor Seating', 'count': 1, 'items': [{'displayName': 'Outdoor Seating', 'displayValue': 'No'}]}, {'type': 'serves', 'name': 'Menus', 'summary': 'Lunch & Dinner', 'count': 8, 'items': [{'displayName': 'Lunch', 'displayValue': 'Lunch'}, {'displayName': 'Dinner', 'displayValue': 'Dinner'}]}]}, 'bestPhoto': {'id': '5e2ddb2e37bbde0008841a99', 'createdAt': 1580063534, 'source': {'name': 'Swarm for iOS', 'url': 'https://www.swarmapp.com'}, 'prefix': 'https://fastly.4sqi.net/img/general/', 'suffix': '/19796086_BpF22ZS4e2Osueq8JPb5zUp0fNVI48pg_ZZzrLlSTbo.jpg', 'width': 1440, 'height': 1440, 'visibility': 'public'}, 'colors': {'highlightColor': {'photoId': '5e2ddb2e37bbde0008841a99', 'value': -5193520}, 'highlightTextColor': {'photoId': '5e2ddb2e37bbde0008841a99', 'value': -16777216}, 'algoVersion': 3}}}}\n",
      "                         ID                  Name  Likes  Rating  Tips\n",
      "0  54e39b14498e9c646b42958e  East Wind Snack Shop    142     9.0    50\n",
      "( 32 / 180 ) processed\n"
     ]
    },
    {
     "name": "stdout",
     "output_type": "stream",
     "text": [
      "{'meta': {'code': 200, 'requestId': '5fc95487e749390203ac4cf2'}, 'response': {'venue': {'id': '4c06e2470e0a2d7fdf8aec0c', 'name': '#1 Garden Chinese Food', 'contact': {'phone': '7188321795', 'formattedPhone': '(718) 832-1795'}, 'location': {'address': '221 Prospect Park W', 'lat': 40.660248811093595, 'lng': -73.98054235147856, 'labeledLatLngs': [{'label': 'display', 'lat': 40.660248811093595, 'lng': -73.98054235147856}, {'label': 'entrance', 'lat': 40.660106, 'lng': -73.980445}], 'postalCode': '11215', 'cc': 'US', 'city': 'Brooklyn', 'state': 'NY', 'country': 'United States', 'formattedAddress': ['221 Prospect Park W', 'Brooklyn, NY 11215', 'United States']}, 'canonicalUrl': 'https://foursquare.com/v/1-garden-chinese-food/4c06e2470e0a2d7fdf8aec0c', 'categories': [{'id': '4bf58dd8d48988d145941735', 'name': 'Chinese Restaurant', 'pluralName': 'Chinese Restaurants', 'shortName': 'Chinese', 'icon': {'prefix': 'https://ss3.4sqi.net/img/categories_v2/food/asian_', 'suffix': '.png'}, 'primary': True}], 'verified': False, 'stats': {'tipCount': 4}, 'price': {'tier': 1, 'message': 'Cheap', 'currency': '$'}, 'hasMenu': True, 'likes': {'count': 4, 'groups': [{'type': 'others', 'count': 4, 'items': [{'isSanctioned': False, 'firstName': 'Neil', 'lastName': 'H', 'countryCode': 'US'}, {'isSanctioned': False, 'firstName': 'Peter', 'lastName': 'A', 'countryCode': 'MX'}, {'isSanctioned': False, 'firstName': 'Nate', 'lastName': 'P', 'countryCode': 'US'}, {'isSanctioned': False, 'firstName': 'Dan', 'lastName': 'R', 'countryCode': 'US'}]}], 'summary': '4 Likes'}, 'dislike': False, 'ok': False, 'rating': 5.9, 'ratingColor': 'FF9600', 'ratingSignals': 8, 'delivery': {'id': '579814', 'url': 'https://www.seamless.com/menu/number-one-garden-chinese-restaurant-221-prospect-park-w-brooklyn/579814?affiliate=1131&utm_source=foursquare-affiliate-network&utm_medium=affiliate&utm_campaign=1131&utm_content=579814', 'provider': {'name': 'seamless', 'icon': {'prefix': 'https://fastly.4sqi.net/img/general/cap/', 'sizes': [40, 50], 'name': '/delivery_provider_seamless_20180129.png'}}}, 'menu': {'type': 'Menu', 'label': 'Menu', 'anchor': 'View Menu', 'url': 'https://foursquare.com/v/1-garden-chinese-food/4c06e2470e0a2d7fdf8aec0c/menu', 'mobileUrl': 'https://foursquare.com/v/4c06e2470e0a2d7fdf8aec0c/device_menu'}, 'allowMenuUrlEdit': True, 'beenHere': {'count': 0, 'unconfirmedCount': 0, 'marked': False, 'lastCheckinExpiredAt': 0}, 'specials': {'count': 0, 'items': []}, 'photos': {'count': 4, 'groups': [{'type': 'venue', 'name': 'Venue photos', 'count': 4, 'items': [{'id': '4f52a1ca003933e2e6ccae2e', 'createdAt': 1330815434, 'source': {'name': 'Foursquare Web', 'url': 'https://foursquare.com'}, 'prefix': 'https://fastly.4sqi.net/img/general/', 'suffix': '/adpltKTwBH-gdReA1HdZ3qO-ZY2fkeYUhPvj1hCHuIU.jpg', 'width': 533, 'height': 400, 'user': {'isSanctioned': False, 'firstName': '7th.List', 'countryCode': 'US', 'type': 'page'}, 'visibility': 'public'}]}]}, 'reasons': {'count': 0, 'items': []}, 'hereNow': {'count': 0, 'summary': 'Nobody here', 'groups': []}, 'createdAt': 1275519559, 'tips': {'count': 4, 'groups': [{'type': 'others', 'name': 'All tips', 'count': 4, 'items': [{'id': '5137c0e9e4b037f1100ce9fe', 'createdAt': 1362608361, 'text': \"I haven't gotten food poisoning yet, so ya it's a great value and delicious.\", 'type': 'user', 'canonicalUrl': 'https://foursquare.com/item/5137c0e9e4b037f1100ce9fe', 'lang': 'en', 'likes': {'count': 2, 'groups': [{'type': 'others', 'count': 2, 'items': [{'isSanctioned': False, 'firstName': 'Jay', 'lastName': 'L', 'countryCode': 'US'}, {'isSanctioned': False, 'firstName': 'Alex', 'lastName': 'W', 'countryCode': 'US'}]}], 'summary': '2 likes'}, 'logView': True, 'agreeCount': 2, 'disagreeCount': 0, 'todo': {'count': 0}, 'user': {'isSanctioned': False, 'firstName': 'Zack', 'lastName': 'P', 'countryCode': 'IT'}}]}]}, 'shortUrl': 'http://4sq.com/9EcODX', 'timeZone': 'America/New_York', 'listed': {'count': 1, 'groups': [{'type': 'others', 'name': 'Lists from other people', 'count': 1, 'items': [{'id': '508425c1e4b0ad74a937e61d', 'name': 'Places I Like', 'description': '', 'type': 'others', 'user': {'isSanctioned': False, 'firstName': 'Steven', 'lastName': 'B', 'countryCode': 'US'}, 'editable': False, 'public': True, 'collaborative': False, 'url': '/technokrat233/list/places-i-like', 'canonicalUrl': 'https://foursquare.com/technokrat233/list/places-i-like', 'createdAt': 1350837697, 'updatedAt': 1361141312, 'followers': {'count': 0}, 'listItems': {'count': 2, 'items': [{'id': 'v4c06e2470e0a2d7fdf8aec0c', 'createdAt': 1361141312}]}}]}]}, 'popular': {'status': 'Likely open', 'richStatus': {'entities': [], 'text': 'Likely open'}, 'isOpen': True, 'isLocalHoliday': False, 'timeframes': [{'days': 'Today', 'includesToday': True, 'open': [{'renderedTime': '1:00 PM–2:00 PM'}, {'renderedTime': '4:00 PM–11:00 PM'}], 'segments': []}, {'days': 'Fri', 'open': [{'renderedTime': 'Noon–2:00 PM'}, {'renderedTime': '4:00 PM–11:00 PM'}], 'segments': []}, {'days': 'Sat', 'open': [{'renderedTime': 'Noon–2:00 PM'}, {'renderedTime': '4:00 PM–10:00 PM'}], 'segments': []}, {'days': 'Sun', 'open': [{'renderedTime': '2:00 PM–10:00 PM'}], 'segments': []}, {'days': 'Mon', 'open': [{'renderedTime': '1:00 PM–2:00 PM'}, {'renderedTime': '4:00 PM–11:00 PM'}], 'segments': []}, {'days': 'Tue', 'open': [{'renderedTime': 'Noon–11:00 PM'}], 'segments': []}, {'days': 'Wed', 'open': [{'renderedTime': '5:00 PM–10:00 PM'}], 'segments': []}]}, 'seasonalHours': [], 'pageUpdates': {'count': 0, 'items': []}, 'inbox': {'count': 0, 'items': []}, 'attributes': {'groups': [{'type': 'price', 'name': 'Price', 'summary': '$', 'count': 1, 'items': [{'displayName': 'Price', 'displayValue': '$', 'priceTier': 1}]}]}, 'bestPhoto': {'id': '4f52a1ca003933e2e6ccae2e', 'createdAt': 1330815434, 'source': {'name': 'Foursquare Web', 'url': 'https://foursquare.com'}, 'prefix': 'https://fastly.4sqi.net/img/general/', 'suffix': '/adpltKTwBH-gdReA1HdZ3qO-ZY2fkeYUhPvj1hCHuIU.jpg', 'width': 533, 'height': 400, 'visibility': 'public'}, 'colors': {'highlightColor': {'photoId': '4f52a1ca003933e2e6ccae2e', 'value': -13096920}, 'highlightTextColor': {'photoId': '4f52a1ca003933e2e6ccae2e', 'value': -1}, 'algoVersion': 3}}}}\n",
      "                         ID                    Name  Likes  Rating  Tips\n",
      "0  4c06e2470e0a2d7fdf8aec0c  #1 Garden Chinese Food      4     5.9     4\n",
      "( 33 / 180 ) processed\n",
      "{'meta': {'code': 200, 'requestId': '5fc9548785adf10fc1ab057c'}, 'response': {'venue': {'id': '4ba02bb5f964a520485f37e3', 'name': 'Happy Garden', 'contact': {'phone': '7186023800', 'formattedPhone': '(718) 602-3800'}, 'location': {'address': '188 Wilson Ave', 'crossStreet': 'Stockholm', 'lat': 40.69942149172992, 'lng': -73.92342726566497, 'labeledLatLngs': [{'label': 'display', 'lat': 40.69942149172992, 'lng': -73.92342726566497}, {'label': 'entrance', 'lat': 40.699314, 'lng': -73.923495}], 'postalCode': '11237', 'cc': 'US', 'city': 'Brooklyn', 'state': 'NY', 'country': 'United States', 'formattedAddress': ['188 Wilson Ave (Stockholm)', 'Brooklyn, NY 11237', 'United States']}, 'canonicalUrl': 'https://foursquare.com/v/happy-garden/4ba02bb5f964a520485f37e3', 'categories': [{'id': '4bf58dd8d48988d145941735', 'name': 'Chinese Restaurant', 'pluralName': 'Chinese Restaurants', 'shortName': 'Chinese', 'icon': {'prefix': 'https://ss3.4sqi.net/img/categories_v2/food/asian_', 'suffix': '.png'}, 'primary': True}], 'verified': False, 'stats': {'tipCount': 4}, 'price': {'tier': 1, 'message': 'Cheap', 'currency': '$'}, 'likes': {'count': 3, 'groups': [{'type': 'others', 'count': 3, 'items': [{'isSanctioned': False, 'firstName': 'Hedgeil', 'lastName': 'A', 'countryCode': 'US'}, {'isSanctioned': False, 'firstName': 'Michael', 'lastName': 'F', 'countryCode': 'US'}, {'isSanctioned': False, 'firstName': 'Obed', 'countryCode': 'US'}]}], 'summary': '3 Likes'}, 'dislike': False, 'ok': False, 'rating': 5.5, 'ratingColor': 'FF9600', 'ratingSignals': 9, 'allowMenuUrlEdit': True, 'beenHere': {'count': 0, 'unconfirmedCount': 0, 'marked': False, 'lastCheckinExpiredAt': 0}, 'specials': {'count': 0, 'items': []}, 'photos': {'count': 6, 'groups': [{'type': 'venue', 'name': 'Venue photos', 'count': 6, 'items': [{'id': '5e0e29702df3ca0008593b38', 'createdAt': 1577986416, 'source': {'name': 'Swarm for iOS', 'url': 'https://www.swarmapp.com'}, 'prefix': 'https://fastly.4sqi.net/img/general/', 'suffix': '/202182950_tQyq18ZyZiCH-EGoPQQHMtGwg7uDc5xWiIaaqC2jCWQ.jpg', 'width': 1440, 'height': 1440, 'user': {'isSanctioned': False, 'firstName': 'Lucas', 'lastName': 'V', 'countryCode': 'US'}, 'visibility': 'public'}]}]}, 'reasons': {'count': 0, 'items': []}, 'hereNow': {'count': 0, 'summary': 'Nobody here', 'groups': []}, 'createdAt': 1268788149, 'tips': {'count': 4, 'groups': [{'type': 'others', 'name': 'All tips', 'count': 4, 'items': [{'id': '5c202026237dee002c906178', 'createdAt': 1545609254, 'text': 'Fried rice chicken and broccoli is pretty good.', 'type': 'user', 'canonicalUrl': 'https://foursquare.com/item/5c202026237dee002c906178', 'photo': {'id': '5c202035bcbf7a002cd8e578', 'createdAt': 1545609269, 'source': {'name': 'Foursquare for Android', 'url': 'https://foursquare.com/download/#/android'}, 'prefix': 'https://fastly.4sqi.net/img/general/', 'suffix': '/151988700_mK0JdQ8fgqP8EbQc3ET6C_ttnm2D5CFoNSU-4zv0vn4.jpg', 'width': 4032, 'height': 3024, 'visibility': 'public'}, 'photourl': 'https://fastly.4sqi.net/img/general/original/151988700_mK0JdQ8fgqP8EbQc3ET6C_ttnm2D5CFoNSU-4zv0vn4.jpg', 'lang': 'en', 'likes': {'count': 0, 'groups': []}, 'logView': True, 'agreeCount': 0, 'disagreeCount': 0, 'todo': {'count': 0}, 'user': {'isSanctioned': False, 'firstName': 'Hedgeil', 'lastName': 'A', 'countryCode': 'US'}, 'authorInteractionType': 'liked'}]}]}, 'shortUrl': 'http://4sq.com/9K8FyS', 'timeZone': 'America/New_York', 'listed': {'count': 1, 'groups': [{'type': 'others', 'name': 'Lists from other people', 'count': 1, 'items': [{'id': '520bd06b498ee269bf59cb9f', 'name': 'food', 'description': '', 'type': 'others', 'user': {'isSanctioned': False, 'firstName': 'Owen', 'lastName': 'M', 'countryCode': 'US'}, 'editable': False, 'public': True, 'collaborative': False, 'url': '/owenjerome/list/food', 'canonicalUrl': 'https://foursquare.com/owenjerome/list/food', 'createdAt': 1376505963, 'updatedAt': 1467386344, 'photo': {'id': '52850a7b11d25527d4504aa9', 'createdAt': 1384450683, 'prefix': 'https://fastly.4sqi.net/img/general/', 'suffix': '/5492661_sF6s8NDsCYt9x05lJ2rlzvXDXjCVHkXA6six27Dy8v8.jpg', 'width': 2560, 'height': 1920, 'user': {'isSanctioned': False, 'firstName': 'Owen', 'lastName': 'M', 'countryCode': 'US'}, 'visibility': 'public'}, 'followers': {'count': 0}, 'listItems': {'count': 18, 'items': [{'id': 'v4ba02bb5f964a520485f37e3', 'createdAt': 1376859355}]}}]}]}, 'popular': {'isOpen': False, 'isLocalHoliday': False, 'timeframes': [{'days': 'Today', 'includesToday': True, 'open': [{'renderedTime': 'Noon–3:00 PM'}, {'renderedTime': '6:00 PM–9:00 PM'}], 'segments': []}, {'days': 'Fri', 'open': [{'renderedTime': '24 Hours'}], 'segments': []}, {'days': 'Sat–Sun', 'open': [{'renderedTime': '24 Hours'}], 'segments': []}, {'days': 'Mon', 'open': [{'renderedTime': '6:00 AM–7:00 AM'}, {'renderedTime': 'Noon–3:00 PM'}, {'renderedTime': '5:00 PM–Midnight'}], 'segments': []}, {'days': 'Tue', 'open': [{'renderedTime': '2:00 PM–11:00 PM'}], 'segments': []}, {'days': 'Wed', 'open': [{'renderedTime': '24 Hours'}], 'segments': []}]}, 'seasonalHours': [], 'pageUpdates': {'count': 0, 'items': []}, 'inbox': {'count': 0, 'items': []}, 'attributes': {'groups': [{'type': 'price', 'name': 'Price', 'summary': '$', 'count': 1, 'items': [{'displayName': 'Price', 'displayValue': '$', 'priceTier': 1}]}]}, 'bestPhoto': {'id': '5e0e29702df3ca0008593b38', 'createdAt': 1577986416, 'source': {'name': 'Swarm for iOS', 'url': 'https://www.swarmapp.com'}, 'prefix': 'https://fastly.4sqi.net/img/general/', 'suffix': '/202182950_tQyq18ZyZiCH-EGoPQQHMtGwg7uDc5xWiIaaqC2jCWQ.jpg', 'width': 1440, 'height': 1440, 'visibility': 'public'}}}}\n",
      "                         ID          Name  Likes  Rating  Tips\n",
      "0  4ba02bb5f964a520485f37e3  Happy Garden      3     5.5     4\n",
      "( 34 / 180 ) processed\n"
     ]
    },
    {
     "name": "stdout",
     "output_type": "stream",
     "text": [
      "{'meta': {'code': 200, 'requestId': '5fc95488fd895d01ae265f13'}, 'response': {'venue': {'id': '4a9ac078f964a5207c3220e3', 'name': 'Fortune House', 'contact': {'phone': '7188557055', 'formattedPhone': '(718) 855-7055'}, 'location': {'address': '82 Henry St', 'crossStreet': 'btwn Pineapple & Orange St', 'lat': 40.698411434008214, 'lng': -73.99254201285272, 'labeledLatLngs': [{'label': 'display', 'lat': 40.698411434008214, 'lng': -73.99254201285272}, {'label': 'entrance', 'lat': 40.69842, 'lng': -73.992688}], 'postalCode': '11201', 'cc': 'US', 'city': 'Brooklyn', 'state': 'NY', 'country': 'United States', 'formattedAddress': ['82 Henry St (btwn Pineapple & Orange St)', 'Brooklyn, NY 11201', 'United States']}, 'canonicalUrl': 'https://foursquare.com/v/fortune-house/4a9ac078f964a5207c3220e3', 'categories': [{'id': '4bf58dd8d48988d145941735', 'name': 'Chinese Restaurant', 'pluralName': 'Chinese Restaurants', 'shortName': 'Chinese', 'icon': {'prefix': 'https://ss3.4sqi.net/img/categories_v2/food/asian_', 'suffix': '.png'}, 'primary': True}], 'verified': False, 'stats': {'tipCount': 25}, 'url': 'http://fortunehousebrooklyn.com', 'price': {'tier': 1, 'message': 'Cheap', 'currency': '$'}, 'hasMenu': True, 'likes': {'count': 36, 'groups': [{'type': 'others', 'count': 36, 'items': []}], 'summary': '36 Likes'}, 'dislike': False, 'ok': False, 'rating': 6.4, 'ratingColor': 'FFC800', 'ratingSignals': 66, 'delivery': {'id': '350540', 'url': 'https://www.seamless.com/menu/fortune-house-82-henry-st-brooklyn/350540?affiliate=1131&utm_source=foursquare-affiliate-network&utm_medium=affiliate&utm_campaign=1131&utm_content=350540', 'provider': {'name': 'seamless', 'icon': {'prefix': 'https://fastly.4sqi.net/img/general/cap/', 'sizes': [40, 50], 'name': '/delivery_provider_seamless_20180129.png'}}}, 'menu': {'type': 'Menu', 'label': 'Menu', 'anchor': 'View Menu', 'url': 'https://foursquare.com/v/fortune-house/4a9ac078f964a5207c3220e3/menu', 'mobileUrl': 'https://foursquare.com/v/4a9ac078f964a5207c3220e3/device_menu'}, 'allowMenuUrlEdit': True, 'beenHere': {'count': 0, 'unconfirmedCount': 0, 'marked': False, 'lastCheckinExpiredAt': 0}, 'specials': {'count': 0, 'items': []}, 'photos': {'count': 24, 'groups': [{'type': 'venue', 'name': 'Venue photos', 'count': 24, 'items': [{'id': '51b70db6498e156dd012ddc2', 'createdAt': 1370951094, 'source': {'name': 'Instagram', 'url': 'http://instagram.com'}, 'prefix': 'https://fastly.4sqi.net/img/general/', 'suffix': '/120077_1gAL1_OM5hLvi_aZsT0H2zyjWvuF-liG8ZDgvwFap2I.jpg', 'width': 612, 'height': 612, 'user': {'isSanctioned': False, 'firstName': 'Ron', 'lastName': 'V', 'countryCode': 'US'}, 'visibility': 'public'}]}]}, 'reasons': {'count': 1, 'items': [{'summary': 'Lots of people like this place', 'type': 'general', 'reasonName': 'rawLikesReason'}]}, 'hereNow': {'count': 0, 'summary': 'Nobody here', 'groups': []}, 'createdAt': 1251655800, 'tips': {'count': 25, 'groups': [{'type': 'others', 'name': 'All tips', 'count': 25, 'items': [{'id': '4c8fc94e7f3d76b04edccfd2', 'createdAt': 1284491598, 'text': '$6 lunch special is great. I was told they use no MSG. But because of that they use chicken broth for flavoring. just pointing out the note i was told in case you are a vegetarian.', 'type': 'user', 'canonicalUrl': 'https://foursquare.com/item/4c8fc94e7f3d76b04edccfd2', 'lang': 'en', 'likes': {'count': 2, 'groups': [{'type': 'others', 'count': 2, 'items': [{'isSanctioned': False, 'firstName': 'Fatima', 'lastName': 'K', 'countryCode': 'US'}, {'isSanctioned': False, 'firstName': 'David', 'lastName': 'F', 'countryCode': 'US'}]}], 'summary': '2 likes'}, 'logView': True, 'agreeCount': 2, 'disagreeCount': 0, 'todo': {'count': 0}, 'user': {'isSanctioned': False, 'firstName': 'Daiji', 'countryCode': 'US'}, 'authorInteractionType': 'liked'}]}]}, 'shortUrl': 'http://4sq.com/2OkQlM', 'timeZone': 'America/New_York', 'listed': {'count': 10, 'groups': [{'type': 'others', 'name': 'Lists from other people', 'count': 10, 'items': [{'id': '4f499206e4b0bd57aaf15f17', 'name': 'My Favorites', 'description': '', 'type': 'others', 'user': {'isSanctioned': False, 'firstName': 'Nate', 'lastName': 'H', 'countryCode': 'US'}, 'editable': False, 'public': True, 'collaborative': False, 'url': '/user/22499609/list/my-favorites', 'canonicalUrl': 'https://foursquare.com/user/22499609/list/my-favorites', 'createdAt': 1330221574, 'updatedAt': 1361836758, 'followers': {'count': 0}, 'listItems': {'count': 6, 'items': [{'id': 'v4a9ac078f964a5207c3220e3', 'createdAt': 1361380206}]}}, {'id': '5673264b498e672bdbb5712d', 'name': 'NY Normcore Dining', 'description': 'From http://www.grubstreet.com/2015/12/nostalgic-comfort-of-normcore-dining.html', 'entities': [{'indices': [5, 80], 'type': 'url', 'object': {'url': 'http://www.grubstreet.com/2015/12/nostalgic-comfort-of-normcore-dining.html'}}], 'type': 'others', 'user': {'isSanctioned': False, 'firstName': 'Peter', 'lastName': 'R', 'countryCode': 'US'}, 'editable': False, 'public': True, 'collaborative': False, 'url': '/pr1001/list/ny-normcore-dining', 'canonicalUrl': 'https://foursquare.com/pr1001/list/ny-normcore-dining', 'createdAt': 1450387019, 'updatedAt': 1450390212, 'photo': {'id': '5001d8fde4b0645fed123c14', 'createdAt': 1342298365, 'prefix': 'https://fastly.4sqi.net/img/general/', 'suffix': '/8b85LWtkW9kg4DbzeSk7NFwkYwaxycmzKQM56r0z1yU.jpg', 'width': 612, 'height': 612, 'user': {'isSanctioned': False, 'firstName': 'Edward', 'lastName': 'G', 'countryCode': 'US'}, 'visibility': 'public'}, 'followers': {'count': 1}, 'listItems': {'count': 112, 'items': [{'id': 'v4a9ac078f964a5207c3220e3', 'createdAt': 1450387404}]}}, {'id': '56395775498e08359736653a', 'name': 'Delivery', 'description': '', 'type': 'others', 'user': {'isSanctioned': False, 'firstName': 'Bjorn', 'lastName': 'L', 'countryCode': 'US'}, 'editable': False, 'public': True, 'collaborative': False, 'url': '/bjorn/list/delivery', 'canonicalUrl': 'https://foursquare.com/bjorn/list/delivery', 'createdAt': 1446598517, 'updatedAt': 1446599060, 'photo': {'id': '51b70db6498e156dd012ddc2', 'createdAt': 1370951094, 'prefix': 'https://fastly.4sqi.net/img/general/', 'suffix': '/120077_1gAL1_OM5hLvi_aZsT0H2zyjWvuF-liG8ZDgvwFap2I.jpg', 'width': 612, 'height': 612, 'user': {'isSanctioned': False, 'firstName': 'Ron', 'lastName': 'V', 'countryCode': 'US'}, 'visibility': 'public'}, 'followers': {'count': 0}, 'listItems': {'count': 3, 'items': [{'id': 'v4a9ac078f964a5207c3220e3', 'createdAt': 1446598517, 'photo': {'id': '51b70db6498e156dd012ddc2', 'createdAt': 1370951094, 'prefix': 'https://fastly.4sqi.net/img/general/', 'suffix': '/120077_1gAL1_OM5hLvi_aZsT0H2zyjWvuF-liG8ZDgvwFap2I.jpg', 'width': 612, 'height': 612, 'user': {'isSanctioned': False, 'firstName': 'Ron', 'lastName': 'V', 'countryCode': 'US'}, 'visibility': 'public'}}]}}, {'id': '4fd14525e4b0f62cd9fd0feb', 'name': 'Domani Lunch Spots', 'description': 'Because you gotta eat.', 'type': 'others', 'user': {'isSanctioned': False, 'firstName': '✨Song✨', 'countryCode': 'US'}, 'editable': False, 'public': True, 'collaborative': True, 'url': '/user/27554/list/domani-lunch-spots', 'canonicalUrl': 'https://foursquare.com/user/27554/list/domani-lunch-spots', 'createdAt': 1339114789, 'updatedAt': 1412433594, 'followers': {'count': 6}, 'listItems': {'count': 23, 'items': [{'id': 'v4a9ac078f964a5207c3220e3', 'createdAt': 1340819839}]}}]}]}, 'popular': {'status': 'Likely open', 'richStatus': {'entities': [], 'text': 'Likely open'}, 'isOpen': True, 'isLocalHoliday': False, 'timeframes': [{'days': 'Today', 'includesToday': True, 'open': [{'renderedTime': 'Noon–10:00 PM'}], 'segments': []}, {'days': 'Fri', 'open': [{'renderedTime': 'Noon–10:00 PM'}], 'segments': []}, {'days': 'Sat', 'open': [{'renderedTime': '1:00 PM–2:00 PM'}, {'renderedTime': '5:00 PM–11:00 PM'}], 'segments': []}, {'days': 'Sun', 'open': [{'renderedTime': '1:00 PM–10:00 PM'}], 'segments': []}, {'days': 'Mon–Wed', 'open': [{'renderedTime': 'Noon–3:00 PM'}, {'renderedTime': '6:00 PM–10:00 PM'}], 'segments': []}]}, 'seasonalHours': [], 'pageUpdates': {'count': 0, 'items': []}, 'inbox': {'count': 0, 'items': []}, 'attributes': {'groups': [{'type': 'price', 'name': 'Price', 'summary': '$', 'count': 1, 'items': [{'displayName': 'Price', 'displayValue': '$', 'priceTier': 1}]}, {'type': 'reservations', 'name': 'Reservations', 'count': 3, 'items': [{'displayName': 'Reservations', 'displayValue': 'No'}]}, {'type': 'payments', 'name': 'Credit Cards', 'summary': 'Credit Cards', 'count': 7, 'items': [{'displayName': 'Credit Cards', 'displayValue': 'Yes (incl. American Express)'}]}, {'type': 'outdoorSeating', 'name': 'Outdoor Seating', 'count': 1, 'items': [{'displayName': 'Outdoor Seating', 'displayValue': 'No'}]}, {'type': 'serves', 'name': 'Menus', 'summary': 'Lunch & Dinner', 'count': 8, 'items': [{'displayName': 'Lunch', 'displayValue': 'Lunch'}, {'displayName': 'Dinner', 'displayValue': 'Dinner'}]}]}, 'bestPhoto': {'id': '51b70db6498e156dd012ddc2', 'createdAt': 1370951094, 'source': {'name': 'Instagram', 'url': 'http://instagram.com'}, 'prefix': 'https://fastly.4sqi.net/img/general/', 'suffix': '/120077_1gAL1_OM5hLvi_aZsT0H2zyjWvuF-liG8ZDgvwFap2I.jpg', 'width': 612, 'height': 612, 'visibility': 'public'}, 'colors': {'highlightColor': {'photoId': '51b70db6498e156dd012ddc2', 'value': -8363928}, 'highlightTextColor': {'photoId': '51b70db6498e156dd012ddc2', 'value': -1}, 'algoVersion': 3}}}}\n",
      "                         ID           Name  Likes  Rating  Tips\n",
      "0  4a9ac078f964a5207c3220e3  Fortune House     36     6.4    25\n",
      "( 35 / 180 ) processed\n"
     ]
    },
    {
     "name": "stdout",
     "output_type": "stream",
     "text": [
      "{'meta': {'code': 200, 'requestId': '5fc95488dffa6f58c5b98b41'}, 'response': {'venue': {'id': '4a986a9cf964a520e82b20e3', 'name': 'Great Wall Chinese Food', 'contact': {'phone': '7188552630', 'formattedPhone': '(718) 855-2630'}, 'location': {'address': '60 Henry St', 'crossStreet': 'btw Cranberry St and Orange St', 'lat': 40.698983696296274, 'lng': -73.99218529980111, 'labeledLatLngs': [{'label': 'display', 'lat': 40.698983696296274, 'lng': -73.99218529980111}], 'postalCode': '11201', 'cc': 'US', 'city': 'Brooklyn', 'state': 'NY', 'country': 'United States', 'formattedAddress': ['60 Henry St (btw Cranberry St and Orange St)', 'Brooklyn, NY 11201', 'United States']}, 'canonicalUrl': 'https://foursquare.com/v/great-wall-chinese-food/4a986a9cf964a520e82b20e3', 'categories': [{'id': '4bf58dd8d48988d145941735', 'name': 'Chinese Restaurant', 'pluralName': 'Chinese Restaurants', 'shortName': 'Chinese', 'icon': {'prefix': 'https://ss3.4sqi.net/img/categories_v2/food/asian_', 'suffix': '.png'}, 'primary': True}], 'verified': False, 'stats': {'tipCount': 9}, 'price': {'tier': 1, 'message': 'Cheap', 'currency': '$'}, 'likes': {'count': 4, 'groups': [{'type': 'others', 'count': 4, 'items': [{'isSanctioned': False, 'firstName': 'Celes', 'lastName': 'R', 'countryCode': 'AR'}, {'isSanctioned': False, 'firstName': 'Huy', 'lastName': 'V', 'countryCode': 'US'}, {'isSanctioned': False, 'firstName': 'David', 'lastName': 'H', 'countryCode': 'US'}]}], 'summary': '4 Likes'}, 'dislike': False, 'ok': False, 'rating': 5.7, 'ratingColor': 'FF9600', 'ratingSignals': 13, 'allowMenuUrlEdit': True, 'beenHere': {'count': 0, 'unconfirmedCount': 0, 'marked': False, 'lastCheckinExpiredAt': 0}, 'specials': {'count': 0, 'items': []}, 'photos': {'count': 5, 'groups': [{'type': 'venue', 'name': 'Venue photos', 'count': 5, 'items': [{'id': '582f045c6431e52c198219d1', 'createdAt': 1479476316, 'source': {'name': 'Foursquare for iOS', 'url': 'https://foursquare.com/download/#/iphone'}, 'prefix': 'https://fastly.4sqi.net/img/general/', 'suffix': '/16543191_hNBbn_AmNDqF1EaUCqAX7pQmtvEMPCEd4zM1t88dOHY.jpg', 'width': 1440, 'height': 1799, 'user': {'isSanctioned': False, 'firstName': 'Celes', 'lastName': 'R', 'countryCode': 'AR'}, 'visibility': 'public'}]}]}, 'reasons': {'count': 0, 'items': []}, 'hereNow': {'count': 0, 'summary': 'Nobody here', 'groups': []}, 'createdAt': 1251502748, 'tips': {'count': 9, 'groups': [{'type': 'others', 'name': 'All tips', 'count': 9, 'items': [{'id': '51f8565f498e40a71e6bdd40', 'createdAt': 1375229535, 'text': 'Awesome Chinese take-out. Good food and cheap. BTW, no jacket required. :-)', 'type': 'user', 'canonicalUrl': 'https://foursquare.com/item/51f8565f498e40a71e6bdd40', 'lang': 'en', 'likes': {'count': 22, 'groups': [{'type': 'others', 'count': 22, 'items': []}], 'summary': '22 likes'}, 'logView': True, 'agreeCount': 23, 'disagreeCount': 0, 'todo': {'count': 0}, 'user': {'isSanctioned': False, 'firstName': 'Vitus', 'lastName': 'F', 'countryCode': 'US'}}]}]}, 'shortUrl': 'http://4sq.com/dx9FTV', 'timeZone': 'America/New_York', 'listed': {'count': 1, 'groups': [{'type': 'others', 'name': 'Lists from other people', 'count': 1, 'items': [{'id': '55718425498e174ce0d20f16', 'name': 'Home', 'description': '', 'type': 'others', 'user': {'isSanctioned': False, 'firstName': 'Katherine', 'lastName': 'G', 'countryCode': 'US'}, 'editable': False, 'public': True, 'collaborative': False, 'url': '/user/130607635/list/home', 'canonicalUrl': 'https://foursquare.com/user/130607635/list/home', 'createdAt': 1433502757, 'updatedAt': 1433502880, 'followers': {'count': 0}, 'listItems': {'count': 12, 'items': [{'id': 'v4a986a9cf964a520e82b20e3', 'createdAt': 1433502877}]}}]}]}, 'popular': {'isOpen': False, 'isLocalHoliday': False, 'timeframes': [{'days': 'Today', 'includesToday': True, 'open': [{'renderedTime': 'Noon–4:00 PM'}, {'renderedTime': '7:00 PM–11:00 PM'}], 'segments': []}, {'days': 'Fri', 'open': [{'renderedTime': '1:00 PM–4:00 PM'}, {'renderedTime': '6:00 PM–11:00 PM'}], 'segments': []}, {'days': 'Sat', 'open': [{'renderedTime': 'Noon–10:00 PM'}], 'segments': []}, {'days': 'Sun', 'open': [{'renderedTime': 'Noon–3:00 PM'}, {'renderedTime': '6:00 PM–11:00 PM'}], 'segments': []}, {'days': 'Mon', 'open': [{'renderedTime': '11:00 AM–4:00 PM'}, {'renderedTime': '6:00 PM–11:00 PM'}], 'segments': []}, {'days': 'Tue', 'open': [{'renderedTime': '11:00 AM–Noon'}, {'renderedTime': '2:00 PM–3:00 PM'}, {'renderedTime': '5:00 PM–Midnight'}], 'segments': []}, {'days': 'Wed', 'open': [{'renderedTime': 'Noon–2:00 PM'}, {'renderedTime': '5:00 PM–11:00 PM'}], 'segments': []}]}, 'seasonalHours': [], 'pageUpdates': {'count': 0, 'items': []}, 'inbox': {'count': 0, 'items': []}, 'attributes': {'groups': [{'type': 'price', 'name': 'Price', 'summary': '$', 'count': 1, 'items': [{'displayName': 'Price', 'displayValue': '$', 'priceTier': 1}]}, {'type': 'payments', 'name': 'Credit Cards', 'summary': 'Credit Cards', 'count': 7, 'items': [{'displayName': 'Credit Cards', 'displayValue': 'Yes'}]}]}, 'bestPhoto': {'id': '582f045c6431e52c198219d1', 'createdAt': 1479476316, 'source': {'name': 'Foursquare for iOS', 'url': 'https://foursquare.com/download/#/iphone'}, 'prefix': 'https://fastly.4sqi.net/img/general/', 'suffix': '/16543191_hNBbn_AmNDqF1EaUCqAX7pQmtvEMPCEd4zM1t88dOHY.jpg', 'width': 1440, 'height': 1799, 'visibility': 'public'}, 'colors': {'highlightColor': {'photoId': '582f045c6431e52c198219d1', 'value': -4144960}, 'highlightTextColor': {'photoId': '582f045c6431e52c198219d1', 'value': -16777216}, 'algoVersion': 3}}}}\n",
      "                         ID                     Name  Likes  Rating  Tips\n",
      "0  4a986a9cf964a520e82b20e3  Great Wall Chinese Food      4     5.7     9\n",
      "( 36 / 180 ) processed\n",
      "{'meta': {'code': 200, 'requestId': '5fc9548970ed9c382ac2a554'}, 'response': {'venue': {'id': '4b09dc38f964a520cf1e23e3', 'name': 'Ting Hua', 'contact': {'phone': '7188526287', 'formattedPhone': '(718) 852-6287'}, 'location': {'address': '351 Smith St', 'crossStreet': 'at Carroll St.', 'lat': 40.6799366374633, 'lng': -73.99512985321104, 'labeledLatLngs': [{'label': 'display', 'lat': 40.6799366374633, 'lng': -73.99512985321104}, {'label': 'entrance', 'lat': 40.679872, 'lng': -73.994989}], 'postalCode': '11231', 'cc': 'US', 'city': 'Brooklyn', 'state': 'NY', 'country': 'United States', 'formattedAddress': ['351 Smith St (at Carroll St.)', 'Brooklyn, NY 11231', 'United States']}, 'canonicalUrl': 'https://foursquare.com/v/ting-hua/4b09dc38f964a520cf1e23e3', 'categories': [{'id': '4bf58dd8d48988d145941735', 'name': 'Chinese Restaurant', 'pluralName': 'Chinese Restaurants', 'shortName': 'Chinese', 'icon': {'prefix': 'https://ss3.4sqi.net/img/categories_v2/food/asian_', 'suffix': '.png'}, 'primary': True}], 'verified': False, 'stats': {'tipCount': 4}, 'url': 'http://tinghuabrooklyn.com', 'price': {'tier': 1, 'message': 'Cheap', 'currency': '$'}, 'hasMenu': True, 'likes': {'count': 5, 'groups': [{'type': 'others', 'count': 5, 'items': [{'isSanctioned': False, 'firstName': 'Eddy', 'countryCode': 'US'}, {'isSanctioned': False, 'firstName': 'Nick', 'lastName': 'S', 'countryCode': 'US'}, {'isSanctioned': False, 'firstName': 'Judith', 'countryCode': 'US'}, {'isSanctioned': False, 'firstName': 'Eric', 'lastName': 'S', 'countryCode': 'US'}]}], 'summary': '5 Likes'}, 'dislike': False, 'ok': False, 'rating': 5.5, 'ratingColor': 'FF9600', 'ratingSignals': 11, 'delivery': {'id': '291600', 'url': 'https://www.seamless.com/menu/ting-hua-chinese-restaurant-351-smith-st-brooklyn/291600?affiliate=1131&utm_source=foursquare-affiliate-network&utm_medium=affiliate&utm_campaign=1131&utm_content=291600', 'provider': {'name': 'seamless', 'icon': {'prefix': 'https://fastly.4sqi.net/img/general/cap/', 'sizes': [40, 50], 'name': '/delivery_provider_seamless_20180129.png'}}}, 'menu': {'type': 'Menu', 'label': 'Menu', 'anchor': 'View Menu', 'url': 'https://foursquare.com/v/ting-hua/4b09dc38f964a520cf1e23e3/menu', 'mobileUrl': 'https://foursquare.com/v/4b09dc38f964a520cf1e23e3/device_menu'}, 'allowMenuUrlEdit': True, 'beenHere': {'count': 0, 'unconfirmedCount': 0, 'marked': False, 'lastCheckinExpiredAt': 0}, 'specials': {'count': 0, 'items': []}, 'photos': {'count': 6, 'groups': [{'type': 'venue', 'name': 'Venue photos', 'count': 6, 'items': [{'id': '506631f1e4b0890847121514', 'createdAt': 1348874737, 'source': {'name': 'Foursquare for iOS', 'url': 'https://foursquare.com/download/#/iphone'}, 'prefix': 'https://fastly.4sqi.net/img/general/', 'suffix': '/10378861_lX50fHyg1puJrbA2rfZniO3gcXeQohv1qhyJEYZ5Fbs.jpg', 'width': 537, 'height': 720, 'user': {'isSanctioned': False, 'firstName': 'Andrew', 'lastName': 'L', 'countryCode': 'US'}, 'visibility': 'public'}]}]}, 'reasons': {'count': 0, 'items': []}, 'hereNow': {'count': 0, 'summary': 'Nobody here', 'groups': []}, 'createdAt': 1258937400, 'tips': {'count': 4, 'groups': [{'type': 'others', 'name': 'All tips', 'count': 4, 'items': [{'id': '5bdc3c29d176e90025f09f68', 'createdAt': 1541159977, 'text': 'Run of the mill Chinese takeout joint. Standard fare. Nothing too crazy here folks', 'type': 'user', 'canonicalUrl': 'https://foursquare.com/item/5bdc3c29d176e90025f09f68', 'lang': 'en', 'likes': {'count': 0, 'groups': []}, 'logView': True, 'agreeCount': 0, 'disagreeCount': 0, 'todo': {'count': 0}, 'user': {'isSanctioned': False, 'firstName': 'Nicky', 'lastName': 'P', 'countryCode': 'US'}, 'authorInteractionType': 'meh'}]}]}, 'shortUrl': 'http://4sq.com/92CYQi', 'timeZone': 'America/New_York', 'listed': {'count': 1, 'groups': [{'type': 'others', 'name': 'Lists from other people', 'count': 1, 'items': [{'id': '50cbfc77e4b0cbbccd0c78bf', 'name': 'All the restaurants on Smith.', 'description': '', 'type': 'others', 'user': {'isSanctioned': False, 'firstName': 'Lizzie', 'lastName': 'A', 'countryCode': 'US'}, 'editable': False, 'public': True, 'collaborative': False, 'url': '/user/41229689/list/all-the-restaurants-on-smith', 'canonicalUrl': 'https://foursquare.com/user/41229689/list/all-the-restaurants-on-smith', 'createdAt': 1355545719, 'updatedAt': 1375745176, 'photo': {'id': '50761c5ce4b0a4912f2be386', 'createdAt': 1349917788, 'prefix': 'https://fastly.4sqi.net/img/general/', 'suffix': '/44510_tK_CX3ld3CdLudt-k6md7StoX1RL57oTywdr5KhmKFU.jpg', 'width': 540, 'height': 720, 'user': {'isSanctioned': False, 'firstName': 'Caroline', 'lastName': 'C', 'countryCode': 'US'}, 'visibility': 'public'}, 'followers': {'count': 9}, 'listItems': {'count': 30, 'items': [{'id': 'v4b09dc38f964a520cf1e23e3', 'createdAt': 1355545892}]}}]}]}, 'hours': {'status': 'Open until 11:00 PM', 'richStatus': {'entities': [], 'text': 'Open until 11:00 PM'}, 'isOpen': True, 'isLocalHoliday': False, 'dayData': [], 'timeframes': [{'days': 'Mon–Sat', 'includesToday': True, 'open': [{'renderedTime': '11:00 AM–11:00 PM'}], 'segments': []}, {'days': 'Sun', 'open': [{'renderedTime': 'Noon–11:00 PM'}], 'segments': []}]}, 'popular': {'isOpen': False, 'isLocalHoliday': False, 'timeframes': [{'days': 'Today', 'includesToday': True, 'open': [{'renderedTime': '1:00 PM–2:00 PM'}, {'renderedTime': '6:00 PM–10:00 PM'}], 'segments': []}, {'days': 'Fri–Sat', 'open': [{'renderedTime': '1:00 PM–2:00 PM'}, {'renderedTime': '5:00 PM–Midnight'}], 'segments': []}, {'days': 'Sun', 'open': [{'renderedTime': '1:00 PM–2:00 PM'}, {'renderedTime': '5:00 PM–9:00 PM'}], 'segments': []}, {'days': 'Mon', 'open': [{'renderedTime': '5:00 PM–10:00 PM'}], 'segments': []}, {'days': 'Tue', 'open': [{'renderedTime': '2:00 PM–3:00 PM'}, {'renderedTime': '6:00 PM–10:00 PM'}], 'segments': []}, {'days': 'Wed', 'open': [{'renderedTime': '5:00 PM–11:00 PM'}], 'segments': []}]}, 'seasonalHours': [], 'defaultHours': {'status': 'Open until 11:00 PM', 'richStatus': {'entities': [], 'text': 'Open until 11:00 PM'}, 'isOpen': True, 'isLocalHoliday': False, 'dayData': [], 'timeframes': [{'days': 'Mon–Sat', 'includesToday': True, 'open': [{'renderedTime': '11:00 AM–11:00 PM'}], 'segments': []}, {'days': 'Sun', 'open': [{'renderedTime': 'Noon–11:00 PM'}], 'segments': []}]}, 'pageUpdates': {'count': 0, 'items': []}, 'inbox': {'count': 0, 'items': []}, 'attributes': {'groups': [{'type': 'price', 'name': 'Price', 'summary': '$', 'count': 1, 'items': [{'displayName': 'Price', 'displayValue': '$', 'priceTier': 1}]}, {'type': 'reservations', 'name': 'Reservations', 'count': 3, 'items': [{'displayName': 'Reservations', 'displayValue': 'No'}]}, {'type': 'outdoorSeating', 'name': 'Outdoor Seating', 'count': 1, 'items': [{'displayName': 'Outdoor Seating', 'displayValue': 'No'}]}, {'type': 'serves', 'name': 'Menus', 'summary': 'Lunch', 'count': 8, 'items': [{'displayName': 'Lunch', 'displayValue': 'Lunch'}]}]}, 'bestPhoto': {'id': '506631f1e4b0890847121514', 'createdAt': 1348874737, 'source': {'name': 'Foursquare for iOS', 'url': 'https://foursquare.com/download/#/iphone'}, 'prefix': 'https://fastly.4sqi.net/img/general/', 'suffix': '/10378861_lX50fHyg1puJrbA2rfZniO3gcXeQohv1qhyJEYZ5Fbs.jpg', 'width': 537, 'height': 720, 'visibility': 'public'}, 'colors': {'highlightColor': {'photoId': '506631f1e4b0890847121514', 'value': -4669248}, 'highlightTextColor': {'photoId': '506631f1e4b0890847121514', 'value': -16777216}, 'algoVersion': 3}}}}\n",
      "                         ID      Name  Likes  Rating  Tips\n",
      "0  4b09dc38f964a520cf1e23e3  Ting Hua      5     5.5     4\n",
      "( 37 / 180 ) processed\n"
     ]
    },
    {
     "name": "stdout",
     "output_type": "stream",
     "text": [
      "{'meta': {'code': 200, 'requestId': '5fc95489a5b71d40e915dc77'}, 'response': {'venue': {'id': '4c60a7cede6920a15f9d9664', 'name': \"Michael and Ping's\", 'contact': {'phone': '7187880017', 'formattedPhone': '(718) 788-0017', 'facebook': '107321149195', 'facebookUsername': 'michaelandpings', 'facebookName': \"Michael & Ping's - Modern Chinese Take-out\"}, 'location': {'address': '437 3rd Ave', 'crossStreet': 'btwn 7th & 8th St.', 'lat': 40.67216239483681, 'lng': -73.99037941409061, 'labeledLatLngs': [{'label': 'display', 'lat': 40.67216239483681, 'lng': -73.99037941409061}, {'label': 'entrance', 'lat': 40.67216, 'lng': -73.990273}], 'postalCode': '11215', 'cc': 'US', 'city': 'Brooklyn', 'state': 'NY', 'country': 'United States', 'formattedAddress': ['437 3rd Ave (btwn 7th & 8th St.)', 'Brooklyn, NY 11215', 'United States']}, 'canonicalUrl': 'https://foursquare.com/v/michael-and-pings/4c60a7cede6920a15f9d9664', 'categories': [{'id': '4bf58dd8d48988d145941735', 'name': 'Chinese Restaurant', 'pluralName': 'Chinese Restaurants', 'shortName': 'Chinese', 'icon': {'prefix': 'https://ss3.4sqi.net/img/categories_v2/food/asian_', 'suffix': '.png'}, 'primary': True}], 'verified': True, 'stats': {'tipCount': 27}, 'url': 'http://michaelandpings.com', 'price': {'tier': 2, 'message': 'Moderate', 'currency': '$'}, 'hasMenu': True, 'likes': {'count': 30, 'groups': [{'type': 'others', 'count': 30, 'items': []}], 'summary': '30 Likes'}, 'dislike': False, 'ok': False, 'rating': 6.5, 'ratingColor': 'FFC800', 'ratingSignals': 65, 'menu': {'type': 'Menu', 'label': 'Menu', 'anchor': 'View Menu', 'url': 'https://foursquare.com/v/michael-and-pings/4c60a7cede6920a15f9d9664/menu', 'mobileUrl': 'https://foursquare.com/v/4c60a7cede6920a15f9d9664/device_menu'}, 'allowMenuUrlEdit': True, 'beenHere': {'count': 0, 'unconfirmedCount': 0, 'marked': False, 'lastCheckinExpiredAt': 0}, 'specials': {'count': 0, 'items': []}, 'photos': {'count': 27, 'groups': [{'type': 'venue', 'name': 'Venue photos', 'count': 27, 'items': [{'id': '4db1cabdfd28f0dcfa1c1744', 'createdAt': 1303497405, 'source': {'name': 'Foursquare for iOS', 'url': 'https://foursquare.com/download/#/iphone'}, 'prefix': 'https://fastly.4sqi.net/img/general/', 'suffix': '/YKEIVHTWCGSAOL5YL4YIM15145HMFO1VIEQWW32IFYG233CI.jpg', 'width': 537, 'height': 720, 'user': {'isSanctioned': False, 'firstName': 'Keri', 'lastName': 'B', 'countryCode': 'US'}, 'visibility': 'public'}]}]}, 'venuePage': {'id': '56151843'}, 'reasons': {'count': 0, 'items': []}, 'page': {'user': {'isSanctioned': False, 'firstName': \"Michael and Ping's\", 'countryCode': 'US', 'type': 'venuePage', 'venue': {'id': '4c60a7cede6920a15f9d9664'}, 'tips': {'count': 1}, 'lists': {'groups': [{'type': 'created', 'count': 2, 'items': []}]}, 'bio': ''}}, 'hereNow': {'count': 0, 'summary': 'Nobody here', 'groups': []}, 'createdAt': 1281402830, 'tips': {'count': 27, 'groups': [{'type': 'others', 'name': 'All tips', 'count': 27, 'items': [{'id': '4f2494b6e4b0d10db0aac9b9', 'createdAt': 1327797430, 'text': \"I'm not a General Tso's kind of guy, but this is some of the best I've had in New York. The General himself would be proud.\", 'type': 'user', 'canonicalUrl': 'https://foursquare.com/item/4f2494b6e4b0d10db0aac9b9', 'lang': 'en', 'likes': {'count': 7, 'groups': [{'type': 'others', 'count': 7, 'items': [{'isSanctioned': False, 'firstName': 'Ryan', 'lastName': 'T', 'countryCode': 'US'}, {'isSanctioned': False, 'firstName': 'Manos', 'lastName': 'P', 'countryCode': 'US'}, {'isSanctioned': False, 'firstName': 'Jamal', 'lastName': 'I', 'countryCode': 'US'}, {'isSanctioned': False, 'firstName': 'David', 'lastName': 'G', 'countryCode': 'US'}]}], 'summary': '7 likes'}, 'logView': True, 'agreeCount': 7, 'disagreeCount': 0, 'todo': {'count': 3}, 'user': {'isSanctioned': False, 'firstName': 'J Crowley', 'countryCode': 'US'}}]}]}, 'shortUrl': 'http://4sq.com/9t7HKN', 'timeZone': 'America/New_York', 'listed': {'count': 43, 'groups': [{'type': 'others', 'name': 'Lists from other people', 'count': 43, 'items': [{'id': '4e94f7f9dab40cefc959b3e6', 'name': 'Foooodd', 'description': '', 'type': 'others', 'user': {'isSanctioned': False, 'firstName': 'Liz', 'lastName': 'G', 'countryCode': 'US'}, 'editable': False, 'public': True, 'collaborative': False, 'url': '/user/7667092/list/foooodd', 'canonicalUrl': 'https://foursquare.com/user/7667092/list/foooodd', 'createdAt': 1318385657, 'updatedAt': 1426255179, 'photo': {'id': '4d826a1710cc2da10e538cfd', 'createdAt': 1300392471, 'prefix': 'https://fastly.4sqi.net/img/general/', 'suffix': '/Z4KYWUPW2BLPUJ1OJDNXOMSL5203AGOO2JRUKEAUBGXAJLGX.jpg', 'width': 537, 'height': 720, 'user': {'isSanctioned': False, 'firstName': 'Michael', 'lastName': 'G', 'countryCode': 'US'}, 'visibility': 'public'}, 'followers': {'count': 14}, 'listItems': {'count': 139, 'items': [{'id': 'v4c60a7cede6920a15f9d9664', 'createdAt': 1392678635}]}}, {'id': '4e492e1ab61c03d0cd2f0539', 'name': \"Brooklyn's Best - according to J\", 'description': \"For all you Manhattanites lost in my 'hood, be sure to check out and check in at  my favorite spots in Carroll Gardens, Cobble HIll and Red Hook.\", 'type': 'others', 'user': {'isSanctioned': False, 'firstName': 'J Crowley', 'countryCode': 'US'}, 'editable': False, 'public': True, 'collaborative': False, 'url': '/jcro/list/brooklyns-best--according-to-j', 'canonicalUrl': 'https://foursquare.com/jcro/list/brooklyns-best--according-to-j', 'createdAt': 1313418778, 'updatedAt': 1536937547, 'photo': {'id': '4d14f5db55f8a340e865d76a', 'createdAt': 1293219291, 'prefix': 'https://fastly.4sqi.net/img/general/', 'suffix': '/EANMTG1DJRDGS5OPAUOKP0JIAG23CTIJV1IV2B00CVTEVAUB.jpg', 'width': 540, 'height': 403, 'user': {'isSanctioned': False, 'firstName': 'Peter', 'lastName': 'C', 'countryCode': 'US'}, 'visibility': 'public'}, 'followers': {'count': 152}, 'listItems': {'count': 38, 'items': [{'id': 't4f2494b6e4b0d10db0aac9b9', 'createdAt': 1327797372}]}}, {'id': '4ef6239db8f72ebea749e4db', 'name': 'I Must Explore Brooklyn', 'description': 'My to-do list in Brooklyn', 'type': 'others', 'user': {'isSanctioned': False, 'firstName': 'Brad', 'lastName': 'P', 'countryCode': 'KR'}, 'editable': False, 'public': True, 'collaborative': False, 'url': '/user/18227909/list/i-must-explore-brooklyn', 'canonicalUrl': 'https://foursquare.com/user/18227909/list/i-must-explore-brooklyn', 'createdAt': 1324753821, 'updatedAt': 1405549380, 'photo': {'id': '4e3329ad922e2c04660b9909', 'createdAt': 1311975853, 'prefix': 'https://fastly.4sqi.net/img/general/', 'suffix': '/UC4D0WGSS04Q5EJLHCRQC35QV2LOERNXALHTZWRJIJUZLPD2.jpg', 'width': 1280, 'height': 762, 'user': {'isSanctioned': False, 'firstName': 'Scanwiches', 'countryCode': 'US', 'type': 'page'}, 'visibility': 'public'}, 'followers': {'count': 56}, 'listItems': {'count': 117, 'items': [{'id': 't4f2494b6e4b0d10db0aac9b9', 'createdAt': 1338956255}]}}, {'id': '4ed2855a93ad987b4f92f3ee', 'name': 'Places to eat/drink', 'description': '', 'type': 'others', 'user': {'isSanctioned': False, 'firstName': 'James', 'lastName': 'G', 'countryCode': 'US'}, 'editable': False, 'public': True, 'collaborative': False, 'url': '/user/470815/list/places-to-eatdrink', 'canonicalUrl': 'https://foursquare.com/user/470815/list/places-to-eatdrink', 'createdAt': 1322419546, 'updatedAt': 1432600336, 'photo': {'id': '4f732d6ee4b0ee7d4710ad35', 'createdAt': 1332948334, 'prefix': 'https://fastly.4sqi.net/img/general/', 'suffix': '/Xf6aKFxlZiqtzP9FM-HIKS2mZzootJymaxrqb7CkXfU.jpg', 'width': 537, 'height': 720, 'user': {'isSanctioned': False, 'firstName': 'Kat', 'lastName': 'S', 'countryCode': 'US'}, 'visibility': 'public'}, 'followers': {'count': 6}, 'listItems': {'count': 127, 'items': [{'id': 'v4c60a7cede6920a15f9d9664', 'createdAt': 1342397725}]}}]}]}, 'popular': {'status': 'Likely open', 'richStatus': {'entities': [], 'text': 'Likely open'}, 'isOpen': True, 'isLocalHoliday': False, 'timeframes': [{'days': 'Today', 'includesToday': True, 'open': [{'renderedTime': 'Noon–10:00 PM'}], 'segments': []}, {'days': 'Fri', 'open': [{'renderedTime': 'Noon–3:00 PM'}, {'renderedTime': '6:00 PM–11:00 PM'}], 'segments': []}, {'days': 'Sat', 'open': [{'renderedTime': '4:00 PM–11:00 PM'}], 'segments': []}, {'days': 'Sun', 'open': [{'renderedTime': '4:00 PM–9:00 PM'}], 'segments': []}, {'days': 'Mon', 'open': [{'renderedTime': '6:00 PM–10:00 PM'}], 'segments': []}, {'days': 'Tue', 'open': [{'renderedTime': 'Noon–3:00 PM'}, {'renderedTime': '6:00 PM–11:00 PM'}], 'segments': []}, {'days': 'Wed', 'open': [{'renderedTime': 'Noon–2:00 PM'}, {'renderedTime': '5:00 PM–10:00 PM'}], 'segments': []}]}, 'seasonalHours': [], 'pageUpdates': {'count': 0, 'items': []}, 'inbox': {'count': 0, 'items': []}, 'attributes': {'groups': [{'type': 'price', 'name': 'Price', 'summary': '$$', 'count': 1, 'items': [{'displayName': 'Price', 'displayValue': '$$', 'priceTier': 2}]}, {'type': 'outdoorSeating', 'name': 'Outdoor Seating', 'count': 1, 'items': [{'displayName': 'Outdoor Seating', 'displayValue': 'No'}]}]}, 'bestPhoto': {'id': '4db1cabdfd28f0dcfa1c1744', 'createdAt': 1303497405, 'source': {'name': 'Foursquare for iOS', 'url': 'https://foursquare.com/download/#/iphone'}, 'prefix': 'https://fastly.4sqi.net/img/general/', 'suffix': '/YKEIVHTWCGSAOL5YL4YIM15145HMFO1VIEQWW32IFYG233CI.jpg', 'width': 537, 'height': 720, 'visibility': 'public'}, 'colors': {'highlightColor': {'photoId': '4db1cabdfd28f0dcfa1c1744', 'value': -5201728}, 'highlightTextColor': {'photoId': '4db1cabdfd28f0dcfa1c1744', 'value': -16777216}, 'algoVersion': 3}}}}\n",
      "                         ID                Name  Likes  Rating  Tips\n",
      "0  4c60a7cede6920a15f9d9664  Michael and Ping's     30     6.5    27\n",
      "( 38 / 180 ) processed\n"
     ]
    },
    {
     "name": "stdout",
     "output_type": "stream",
     "text": [
      "{'meta': {'code': 200, 'requestId': '5fc95489fd895d01ae26658c'}, 'response': {'venue': {'id': '49bb541ff964a520e3531fe3', 'name': 'Hunan Delight', 'contact': {'phone': '7187891400', 'formattedPhone': '(718) 789-1400'}, 'location': {'address': '752 Union St', 'crossStreet': 'b/t 5th and 6th ave', 'lat': 40.67546106658002, 'lng': -73.97804145177376, 'labeledLatLngs': [{'label': 'display', 'lat': 40.67546106658002, 'lng': -73.97804145177376}, {'label': 'entrance', 'lat': 40.675398, 'lng': -73.978171}], 'postalCode': '11215', 'cc': 'US', 'city': 'Brooklyn', 'state': 'NY', 'country': 'United States', 'formattedAddress': ['752 Union St (b/t 5th and 6th ave)', 'Brooklyn, NY 11215', 'United States']}, 'canonicalUrl': 'https://foursquare.com/v/hunan-delight/49bb541ff964a520e3531fe3', 'categories': [{'id': '4bf58dd8d48988d145941735', 'name': 'Chinese Restaurant', 'pluralName': 'Chinese Restaurants', 'shortName': 'Chinese', 'icon': {'prefix': 'https://ss3.4sqi.net/img/categories_v2/food/asian_', 'suffix': '.png'}, 'primary': True}], 'verified': True, 'stats': {'tipCount': 30}, 'url': 'https://hunandelightbk.com', 'price': {'tier': 2, 'message': 'Moderate', 'currency': '$'}, 'hasMenu': True, 'likes': {'count': 73, 'groups': [{'type': 'others', 'count': 73, 'items': []}], 'summary': '73 Likes'}, 'dislike': False, 'ok': False, 'rating': 7.2, 'ratingColor': 'C5DE35', 'ratingSignals': 115, 'menu': {'type': 'Menu', 'label': 'Menu', 'anchor': 'View Menu', 'url': 'https://foursquare.com/v/hunan-delight/49bb541ff964a520e3531fe3/menu', 'mobileUrl': 'https://foursquare.com/v/49bb541ff964a520e3531fe3/device_menu'}, 'allowMenuUrlEdit': True, 'beenHere': {'count': 0, 'unconfirmedCount': 0, 'marked': False, 'lastCheckinExpiredAt': 0}, 'specials': {'count': 0, 'items': []}, 'photos': {'count': 414, 'groups': [{'type': 'venue', 'name': 'Venue photos', 'count': 414, 'items': [{'id': '501c33a8e4b010b81c851715', 'createdAt': 1344025512, 'source': {'name': 'Foursquare for iOS', 'url': 'https://foursquare.com/download/#/iphone'}, 'prefix': 'https://fastly.4sqi.net/img/general/', 'suffix': '/ODueQ02Bp53bFr2skMKYmLS37h2k6fNqKmWAGgs2__g.jpg', 'width': 720, 'height': 540, 'user': {'isSanctioned': False, 'firstName': 'Rod', 'lastName': 'H', 'countryCode': 'BR'}, 'visibility': 'public'}]}]}, 'venuePage': {'id': '563908921'}, 'reasons': {'count': 1, 'items': [{'summary': 'Lots of people like this place', 'type': 'general', 'reasonName': 'rawLikesReason'}]}, 'description': 'Chinese sit-down restaurant with take out.', 'page': {'user': {'isSanctioned': False, 'firstName': 'Hunan Delight', 'countryCode': 'US', 'type': 'venuePage', 'venue': {'id': '49bb541ff964a520e3531fe3'}, 'tips': {'count': 0}, 'lists': {'groups': [{'type': 'created', 'count': 2, 'items': []}]}, 'bio': ''}}, 'hereNow': {'count': 0, 'summary': 'Nobody here', 'groups': []}, 'createdAt': 1237013535, 'tips': {'count': 30, 'groups': [{'type': 'others', 'name': 'All tips', 'count': 30, 'items': [{'id': '4afe45ec70c603bb8fe08eb4', 'createdAt': 1258178028, 'text': 'By far the best Chinese in the nabe. The crispy shrimp is my goto dish and is insane. I also dream of their fried noodles (comes with soup).', 'type': 'user', 'canonicalUrl': 'https://foursquare.com/item/4afe45ec70c603bb8fe08eb4', 'lang': 'en', 'likes': {'count': 5, 'groups': [{'type': 'others', 'count': 5, 'items': [{'isSanctioned': False, 'firstName': 'Chris', 'lastName': 'R', 'countryCode': 'US'}, {'isSanctioned': False, 'firstName': 'Paul', 'lastName': 'M', 'countryCode': 'US'}, {'isSanctioned': False, 'firstName': 'Christina', 'lastName': 'S', 'countryCode': 'US'}, {'isSanctioned': False, 'firstName': 'Vanessa', 'lastName': 'V', 'countryCode': 'US'}]}], 'summary': '5 likes'}, 'logView': True, 'agreeCount': 5, 'disagreeCount': 0, 'todo': {'count': 11}, 'user': {'isSanctioned': False, 'firstName': \"F'd In Park Slope\", 'countryCode': 'US', 'type': 'page'}}]}]}, 'shortUrl': 'http://4sq.com/5xAtGw', 'timeZone': 'America/New_York', 'listed': {'count': 48, 'groups': [{'type': 'others', 'name': 'Lists from other people', 'count': 48, 'items': [{'id': '5081aa4ce4b0921f5b98fc3a', 'name': 'NY Restaurants', 'description': 'Restaurants I like in New York City, NY.', 'type': 'others', 'user': {'isSanctioned': False, 'firstName': 'Adam', 'lastName': 'L', 'countryCode': 'US'}, 'editable': False, 'public': True, 'collaborative': False, 'url': '/avantsweater/list/ny-restaurants', 'canonicalUrl': 'https://foursquare.com/avantsweater/list/ny-restaurants', 'createdAt': 1350675020, 'updatedAt': 1561819721, 'photo': {'id': '4e9268b54fc6674666f36a45', 'createdAt': 1318217909, 'prefix': 'https://fastly.4sqi.net/img/general/', 'suffix': '/KCROUIMA2GRASDG1QFXOZTSC2VVKFYUMDTSNXBSARMTDRZME.jpg', 'width': 492, 'height': 328, 'user': {'isSanctioned': False, 'firstName': 'Time Out New York', 'countryCode': 'US', 'type': 'page'}, 'visibility': 'public'}, 'followers': {'count': 2}, 'listItems': {'count': 55, 'items': [{'id': 'v49bb541ff964a520e3531fe3', 'createdAt': 1366969560, 'photo': {'id': '501c33a8e4b010b81c851715', 'createdAt': 1344025512, 'prefix': 'https://fastly.4sqi.net/img/general/', 'suffix': '/ODueQ02Bp53bFr2skMKYmLS37h2k6fNqKmWAGgs2__g.jpg', 'width': 720, 'height': 540, 'user': {'isSanctioned': False, 'firstName': 'Rod', 'lastName': 'H', 'countryCode': 'BR'}, 'visibility': 'public'}}]}}, {'id': '4f578767e4b08a52edede7b0', 'name': 'brooklyn', 'description': '', 'type': 'others', 'user': {'isSanctioned': False, 'firstName': 'matt', 'lastName': 'h', 'countryCode': 'US'}, 'editable': False, 'public': True, 'collaborative': False, 'url': '/user/53078/list/brooklyn', 'canonicalUrl': 'https://foursquare.com/user/53078/list/brooklyn', 'createdAt': 1331136359, 'updatedAt': 1579571636, 'photo': {'id': '5030f966e4b0298226ead229', 'createdAt': 1345386854, 'prefix': 'https://fastly.4sqi.net/img/general/', 'suffix': '/Wk-B8XXotM6taNTJX6ZXGjiO0rONafjueY7yG4sLor4.jpg', 'width': 720, 'height': 540, 'user': {'isSanctioned': False, 'firstName': 'Brian', 'lastName': 'L', 'countryCode': 'US'}, 'visibility': 'public'}, 'followers': {'count': 2}, 'listItems': {'count': 121, 'items': [{'id': 'v49bb541ff964a520e3531fe3', 'createdAt': 1345013213}]}}, {'id': '5092a851498ec2f62c469cf4', 'name': 'Park Slope Restaurants', 'description': '', 'type': 'others', 'user': {'isSanctioned': False, 'firstName': 'amber', 'lastName': 'b', 'countryCode': 'US'}, 'editable': False, 'public': True, 'collaborative': False, 'url': '/ambiscuit/list/park-slope-restaurants', 'canonicalUrl': 'https://foursquare.com/ambiscuit/list/park-slope-restaurants', 'createdAt': 1351788625, 'updatedAt': 1377462203, 'followers': {'count': 2}, 'listItems': {'count': 33, 'items': [{'id': 'v49bb541ff964a520e3531fe3', 'createdAt': 1362796908}]}}, {'id': '53699eae498e78ab3ccfce5b', 'name': 'So Hood, BK', 'description': 'A collection of some of the best spots in Carroll Gardens, Cobble Hill, Boerum Hill and environs.', 'type': 'others', 'user': {'isSanctioned': False, 'firstName': 'Victor', 'lastName': 'C', 'countryCode': 'US'}, 'editable': False, 'public': True, 'collaborative': True, 'url': '/victa_co/list/so-hood-bk', 'canonicalUrl': 'https://foursquare.com/victa_co/list/so-hood-bk', 'createdAt': 1399430830, 'updatedAt': 1579148017, 'photo': {'id': '530d6e1b498e546ab9f0415a', 'createdAt': 1393389083, 'prefix': 'https://fastly.4sqi.net/img/general/', 'suffix': '/715320_BctovY8UPryuz0YbYWPYXkAGnyajbpFpjAeVqL99eQM.jpg', 'width': 720, 'height': 720, 'user': {'isSanctioned': False, 'firstName': 'YasPas', 'countryCode': 'US'}, 'visibility': 'public'}, 'followers': {'count': 3}, 'listItems': {'count': 75, 'items': [{'id': 'v49bb541ff964a520e3531fe3', 'createdAt': 1520952731}]}}]}]}, 'hours': {'status': 'Open until 9:00 PM', 'richStatus': {'entities': [], 'text': 'Open until 9:00 PM'}, 'isOpen': True, 'isLocalHoliday': False, 'dayData': [], 'timeframes': [{'days': 'Mon–Sat', 'includesToday': True, 'open': [{'renderedTime': '11:30 AM–9:00 PM'}], 'segments': []}, {'days': 'Sun', 'open': [{'renderedTime': 'Noon–9:00 PM'}], 'segments': []}]}, 'popular': {'isOpen': False, 'isLocalHoliday': False, 'timeframes': [{'days': 'Today', 'includesToday': True, 'open': [{'renderedTime': 'Noon–1:00 PM'}, {'renderedTime': '6:00 PM–10:00 PM'}], 'segments': []}, {'days': 'Fri', 'open': [{'renderedTime': 'Noon–2:00 PM'}, {'renderedTime': '6:00 PM–10:00 PM'}], 'segments': []}, {'days': 'Sat', 'open': [{'renderedTime': 'Noon–11:00 PM'}], 'segments': []}, {'days': 'Sun', 'open': [{'renderedTime': '1:00 PM–10:00 PM'}], 'segments': []}, {'days': 'Mon', 'open': [{'renderedTime': '1:00 PM–2:00 PM'}, {'renderedTime': '5:00 PM–10:00 PM'}], 'segments': []}, {'days': 'Tue', 'open': [{'renderedTime': '1:00 PM–2:00 PM'}, {'renderedTime': '6:00 PM–10:00 PM'}], 'segments': []}, {'days': 'Wed', 'open': [{'renderedTime': '6:00 PM–10:00 PM'}], 'segments': []}]}, 'seasonalHours': [], 'defaultHours': {'status': 'Open until 9:00 PM', 'richStatus': {'entities': [], 'text': 'Open until 9:00 PM'}, 'isOpen': True, 'isLocalHoliday': False, 'dayData': [], 'timeframes': [{'days': 'Mon–Sat', 'includesToday': True, 'open': [{'renderedTime': '11:30 AM–9:00 PM'}], 'segments': []}, {'days': 'Sun', 'open': [{'renderedTime': 'Noon–9:00 PM'}], 'segments': []}]}, 'pageUpdates': {'count': 0, 'items': []}, 'inbox': {'count': 0, 'items': []}, 'attributes': {'groups': [{'type': 'price', 'name': 'Price', 'summary': '$$', 'count': 1, 'items': [{'displayName': 'Price', 'displayValue': '$$', 'priceTier': 2}]}, {'type': 'reservations', 'name': 'Reservations', 'count': 3, 'items': [{'displayName': 'Reservations', 'displayValue': 'No'}]}, {'type': 'payments', 'name': 'Credit Cards', 'summary': 'Credit Cards', 'count': 7, 'items': [{'displayName': 'Credit Cards', 'displayValue': 'Yes (incl. American Express)'}]}, {'type': 'outdoorSeating', 'name': 'Outdoor Seating', 'summary': 'Outdoor Seating', 'count': 1, 'items': [{'displayName': 'Outdoor Seating', 'displayValue': 'Yes'}]}, {'type': 'serves', 'name': 'Menus', 'summary': 'Dinner, Lunch & more', 'count': 8, 'items': [{'displayName': 'Brunch', 'displayValue': 'Brunch'}, {'displayName': 'Lunch', 'displayValue': 'Lunch'}, {'displayName': 'Dinner', 'displayValue': 'Dinner'}]}, {'type': 'drinks', 'name': 'Drinks', 'summary': 'Cocktails', 'count': 5, 'items': [{'displayName': 'Cocktails', 'displayValue': 'Cocktails'}]}]}, 'bestPhoto': {'id': '501c33a8e4b010b81c851715', 'createdAt': 1344025512, 'source': {'name': 'Foursquare for iOS', 'url': 'https://foursquare.com/download/#/iphone'}, 'prefix': 'https://fastly.4sqi.net/img/general/', 'suffix': '/ODueQ02Bp53bFr2skMKYmLS37h2k6fNqKmWAGgs2__g.jpg', 'width': 720, 'height': 540, 'visibility': 'public'}, 'colors': {'highlightColor': {'photoId': '501c33a8e4b010b81c851715', 'value': -2041656}, 'highlightTextColor': {'photoId': '501c33a8e4b010b81c851715', 'value': -16777216}, 'algoVersion': 3}}}}\n",
      "                         ID           Name  Likes  Rating  Tips\n",
      "0  49bb541ff964a520e3531fe3  Hunan Delight     73     7.2    30\n",
      "( 39 / 180 ) processed\n"
     ]
    },
    {
     "name": "stdout",
     "output_type": "stream",
     "text": [
      "{'meta': {'code': 200, 'requestId': '5fc9548a37f45509dfad3f8f'}, 'response': {'venue': {'id': '4c818737d8086dcb1c0f6e52', 'name': 'Wah On', 'contact': {'phone': '7183481730', 'formattedPhone': '(718) 348-1730'}, 'location': {'address': '986 Sutter Ave', 'crossStreet': 'Linwood', 'lat': 40.671129, 'lng': -73.882306, 'labeledLatLngs': [{'label': 'display', 'lat': 40.671129, 'lng': -73.882306}, {'label': 'entrance', 'lat': 40.67119, 'lng': -73.882322}], 'postalCode': '11208', 'cc': 'US', 'city': 'Brooklyn', 'state': 'NY', 'country': 'United States', 'formattedAddress': ['986 Sutter Ave (Linwood)', 'Brooklyn, NY 11208', 'United States']}, 'canonicalUrl': 'https://foursquare.com/v/wah-on/4c818737d8086dcb1c0f6e52', 'categories': [{'id': '4bf58dd8d48988d145941735', 'name': 'Chinese Restaurant', 'pluralName': 'Chinese Restaurants', 'shortName': 'Chinese', 'icon': {'prefix': 'https://ss3.4sqi.net/img/categories_v2/food/asian_', 'suffix': '.png'}, 'primary': True}], 'verified': False, 'stats': {'tipCount': 0}, 'price': {'tier': 1, 'message': 'Cheap', 'currency': '$'}, 'likes': {'count': 2, 'groups': [{'type': 'others', 'count': 2, 'items': [{'isSanctioned': False, 'firstName': 'Kevin', 'lastName': 'M', 'countryCode': 'US'}, {'isSanctioned': False, 'firstName': 'RAN', 'countryCode': 'US'}]}], 'summary': '2 Likes'}, 'dislike': False, 'ok': False, 'allowMenuUrlEdit': True, 'beenHere': {'count': 0, 'unconfirmedCount': 0, 'marked': False, 'lastCheckinExpiredAt': 0}, 'specials': {'count': 0, 'items': []}, 'photos': {'count': 0, 'groups': []}, 'reasons': {'count': 0, 'items': []}, 'hereNow': {'count': 0, 'summary': 'Nobody here', 'groups': []}, 'createdAt': 1283557175, 'tips': {'count': 0, 'groups': []}, 'shortUrl': 'http://4sq.com/at0Eyc', 'timeZone': 'America/New_York', 'listed': {'count': 1, 'groups': [{'type': 'others', 'name': 'Lists from other people', 'count': 1, 'items': [{'id': '52010340498e7e18c4b9ed8f', 'name': \"Sweet n' Sour Check-In ( Worldwide )\", 'description': '', 'type': 'others', 'user': {'isSanctioned': False, 'firstName': 'Jepp', 'lastName': 'P', 'countryCode': 'ID'}, 'editable': False, 'public': True, 'collaborative': False, 'url': '/jepponk/list/sweet-n-sour-checkin--worldwide-', 'canonicalUrl': 'https://foursquare.com/jepponk/list/sweet-n-sour-checkin--worldwide-', 'createdAt': 1375798080, 'updatedAt': 1379934140, 'photo': {'id': '520103928bbd3de19ca57e21', 'createdAt': 1375798162, 'prefix': 'https://fastly.4sqi.net/img/general/', 'suffix': '/5807381_IsY1zjC2F2NfI65k3CDx7pA6poiNMEOJ8rpxfIHMm6c.png', 'width': 240, 'height': 240, 'user': {'isSanctioned': False, 'firstName': 'Jepp', 'lastName': 'P', 'countryCode': 'ID'}, 'visibility': 'public'}, 'followers': {'count': 13}, 'listItems': {'count': 54, 'items': [{'id': 'v4c818737d8086dcb1c0f6e52', 'createdAt': 1379323785}]}}]}]}, 'seasonalHours': [], 'pageUpdates': {'count': 0, 'items': []}, 'inbox': {'count': 0, 'items': []}, 'attributes': {'groups': [{'type': 'price', 'name': 'Price', 'summary': '$', 'count': 1, 'items': [{'displayName': 'Price', 'displayValue': '$', 'priceTier': 1}]}, {'type': 'reservations', 'name': 'Reservations', 'summary': 'Reservations', 'count': 3, 'items': [{'displayName': 'Reservations', 'displayValue': 'Yes'}]}, {'type': 'payments', 'name': 'Credit Cards', 'summary': 'Credit Cards', 'count': 7, 'items': [{'displayName': 'Credit Cards', 'displayValue': 'Yes'}]}, {'type': 'serves', 'name': 'Menus', 'summary': 'Dinner, Lunch & more', 'count': 8, 'items': [{'displayName': 'Brunch', 'displayValue': 'Brunch'}, {'displayName': 'Lunch', 'displayValue': 'Lunch'}, {'displayName': 'Dinner', 'displayValue': 'Dinner'}]}]}}}}\n",
      "Empty DataFrame\n",
      "Columns: [ID, Name, Likes, Rating, Tips]\n",
      "Index: []\n",
      "No data available for id= 4c818737d8086dcb1c0f6e52\n",
      "( 40 / 180 ) processed\n",
      "{'meta': {'code': 200, 'requestId': '5fc9548a037f4c39386e2f9d'}, 'response': {'venue': {'id': '4dd1b576c65b9d071f8c6ac1', 'name': 'Golden Horse Restaurant', 'contact': {'phone': '7186491809', 'formattedPhone': '(718) 649-1809'}, 'location': {'address': '792 New Lots Ave', 'crossStreet': 'Elton Ave', 'lat': 40.666676, 'lng': -73.881236, 'labeledLatLngs': [{'label': 'display', 'lat': 40.666676, 'lng': -73.881236}, {'label': 'entrance', 'lat': 40.666849, 'lng': -73.881326}], 'postalCode': '11208', 'cc': 'US', 'city': 'Brooklyn', 'state': 'NY', 'country': 'United States', 'formattedAddress': ['792 New Lots Ave (Elton Ave)', 'Brooklyn, NY 11208', 'United States']}, 'canonicalUrl': 'https://foursquare.com/v/golden-horse-restaurant/4dd1b576c65b9d071f8c6ac1', 'categories': [{'id': '4bf58dd8d48988d145941735', 'name': 'Chinese Restaurant', 'pluralName': 'Chinese Restaurants', 'shortName': 'Chinese', 'icon': {'prefix': 'https://ss3.4sqi.net/img/categories_v2/food/asian_', 'suffix': '.png'}, 'primary': True}], 'verified': False, 'stats': {'tipCount': 0}, 'price': {'tier': 1, 'message': 'Cheap', 'currency': '$'}, 'likes': {'count': 1, 'groups': [{'type': 'others', 'count': 1, 'items': [{'isSanctioned': False, 'firstName': 'Ifaloranmiwa', 'lastName': 'K', 'countryCode': 'US'}]}], 'summary': '1 Like'}, 'dislike': False, 'ok': False, 'allowMenuUrlEdit': True, 'beenHere': {'count': 0, 'unconfirmedCount': 0, 'marked': False, 'lastCheckinExpiredAt': 0}, 'specials': {'count': 0, 'items': []}, 'photos': {'count': 0, 'groups': []}, 'reasons': {'count': 0, 'items': []}, 'hereNow': {'count': 0, 'summary': 'Nobody here', 'groups': []}, 'createdAt': 1305589110, 'tips': {'count': 0, 'groups': []}, 'shortUrl': 'http://4sq.com/jfV5cF', 'timeZone': 'America/New_York', 'listed': {'count': 1, 'groups': [{'type': 'others', 'name': 'Lists from other people', 'count': 1, 'items': [{'id': '52010340498e7e18c4b9ed8f', 'name': \"Sweet n' Sour Check-In ( Worldwide )\", 'description': '', 'type': 'others', 'user': {'isSanctioned': False, 'firstName': 'Jepp', 'lastName': 'P', 'countryCode': 'ID'}, 'editable': False, 'public': True, 'collaborative': False, 'url': '/jepponk/list/sweet-n-sour-checkin--worldwide-', 'canonicalUrl': 'https://foursquare.com/jepponk/list/sweet-n-sour-checkin--worldwide-', 'createdAt': 1375798080, 'updatedAt': 1379934140, 'photo': {'id': '520103928bbd3de19ca57e21', 'createdAt': 1375798162, 'prefix': 'https://fastly.4sqi.net/img/general/', 'suffix': '/5807381_IsY1zjC2F2NfI65k3CDx7pA6poiNMEOJ8rpxfIHMm6c.png', 'width': 240, 'height': 240, 'user': {'isSanctioned': False, 'firstName': 'Jepp', 'lastName': 'P', 'countryCode': 'ID'}, 'visibility': 'public'}, 'followers': {'count': 13}, 'listItems': {'count': 54, 'items': [{'id': 'v4dd1b576c65b9d071f8c6ac1', 'createdAt': 1379322694}]}}]}]}, 'seasonalHours': [], 'pageUpdates': {'count': 0, 'items': []}, 'inbox': {'count': 0, 'items': []}, 'attributes': {'groups': [{'type': 'price', 'name': 'Price', 'summary': '$', 'count': 1, 'items': [{'displayName': 'Price', 'displayValue': '$', 'priceTier': 1}]}, {'type': 'reservations', 'name': 'Reservations', 'summary': 'Reservations', 'count': 3, 'items': [{'displayName': 'Reservations', 'displayValue': 'Yes'}]}, {'type': 'payments', 'name': 'Credit Cards', 'summary': 'Credit Cards', 'count': 7, 'items': [{'displayName': 'Credit Cards', 'displayValue': 'Yes'}]}, {'type': 'outdoorSeating', 'name': 'Outdoor Seating', 'count': 1, 'items': [{'displayName': 'Outdoor Seating', 'displayValue': 'No'}]}]}}}}\n",
      "Empty DataFrame\n",
      "Columns: [ID, Name, Likes, Rating, Tips]\n",
      "Index: []\n",
      "No data available for id= 4dd1b576c65b9d071f8c6ac1\n",
      "( 41 / 180 ) processed\n",
      "{'meta': {'code': 200, 'requestId': '5fc9548bf853e9681d0644fe'}, 'response': {'venue': {'id': '4c30c43816adc928519cbf9c', 'name': 'China Star', 'contact': {'phone': '7186421755', 'formattedPhone': '(718) 642-1755'}, 'location': {'address': '1370 Pennsylvania Ave', 'lat': 40.64705480105868, 'lng': -73.88368940079879, 'labeledLatLngs': [{'label': 'display', 'lat': 40.64705480105868, 'lng': -73.88368940079879}, {'label': 'entrance', 'lat': 40.647216, 'lng': -73.882264}], 'postalCode': '11239', 'cc': 'US', 'city': 'Brooklyn', 'state': 'NY', 'country': 'United States', 'formattedAddress': ['1370 Pennsylvania Ave', 'Brooklyn, NY 11239', 'United States']}, 'canonicalUrl': 'https://foursquare.com/v/china-star/4c30c43816adc928519cbf9c', 'categories': [{'id': '4bf58dd8d48988d145941735', 'name': 'Chinese Restaurant', 'pluralName': 'Chinese Restaurants', 'shortName': 'Chinese', 'icon': {'prefix': 'https://ss3.4sqi.net/img/categories_v2/food/asian_', 'suffix': '.png'}, 'primary': True}, {'id': '4bf58dd8d48988d142941735', 'name': 'Asian Restaurant', 'pluralName': 'Asian Restaurants', 'shortName': 'Asian', 'icon': {'prefix': 'https://ss3.4sqi.net/img/categories_v2/food/asian_', 'suffix': '.png'}}], 'verified': False, 'stats': {'tipCount': 3}, 'price': {'tier': 1, 'message': 'Cheap', 'currency': '$'}, 'likes': {'count': 1, 'groups': [{'type': 'others', 'count': 1, 'items': [{'isSanctioned': False, 'firstName': 'Liliya', 'lastName': 'K', 'countryCode': 'US'}]}], 'summary': '1 Like'}, 'dislike': False, 'ok': False, 'allowMenuUrlEdit': True, 'beenHere': {'count': 0, 'unconfirmedCount': 0, 'marked': False, 'lastCheckinExpiredAt': 0}, 'specials': {'count': 0, 'items': []}, 'photos': {'count': 1, 'groups': [{'type': 'venue', 'name': 'Venue photos', 'count': 1, 'items': [{'id': '4f91f963e4b03439aa9399ab', 'createdAt': 1334966627, 'source': {'name': 'Foursquare for Android', 'url': 'https://foursquare.com/download/#/android'}, 'prefix': 'https://fastly.4sqi.net/img/general/', 'suffix': '/vauYmHcQ_l9z8P1ocVKch8aXUI6An0-GA3iV-BwaXGw.jpg', 'width': 720, 'height': 540, 'user': {'isSanctioned': False, 'firstName': 'Ian', 'lastName': 'L', 'countryCode': 'US'}, 'visibility': 'public'}]}]}, 'reasons': {'count': 0, 'items': []}, 'hereNow': {'count': 0, 'summary': 'Nobody here', 'groups': []}, 'createdAt': 1278264376, 'tips': {'count': 3, 'groups': [{'type': 'others', 'name': 'All tips', 'count': 3, 'items': [{'id': '4f5f950be4b0a76b71432322', 'createdAt': 1331664139, 'text': \"Don't come here between 230 and 3 too many kids\", 'type': 'user', 'canonicalUrl': 'https://foursquare.com/item/4f5f950be4b0a76b71432322', 'lang': 'en', 'likes': {'count': 1, 'groups': [{'type': 'others', 'count': 1, 'items': []}], 'summary': '1 like'}, 'logView': True, 'agreeCount': 1, 'disagreeCount': 0, 'todo': {'count': 0}, 'user': {'isSanctioned': False, 'firstName': 'Santana Big Papi Santi', 'lastName': 'C', 'countryCode': 'US'}}]}]}, 'shortUrl': 'http://4sq.com/9OsYgN', 'timeZone': 'America/New_York', 'listed': {'count': 0, 'groups': [{'type': 'others', 'name': 'Lists from other people', 'count': 0, 'items': []}]}, 'seasonalHours': [], 'pageUpdates': {'count': 0, 'items': []}, 'inbox': {'count': 0, 'items': []}, 'attributes': {'groups': [{'type': 'price', 'name': 'Price', 'summary': '$', 'count': 1, 'items': [{'displayName': 'Price', 'displayValue': '$', 'priceTier': 1}]}, {'type': 'outdoorSeating', 'name': 'Outdoor Seating', 'count': 1, 'items': [{'displayName': 'Outdoor Seating', 'displayValue': 'No'}]}]}, 'bestPhoto': {'id': '4f91f963e4b03439aa9399ab', 'createdAt': 1334966627, 'source': {'name': 'Foursquare for Android', 'url': 'https://foursquare.com/download/#/android'}, 'prefix': 'https://fastly.4sqi.net/img/general/', 'suffix': '/vauYmHcQ_l9z8P1ocVKch8aXUI6An0-GA3iV-BwaXGw.jpg', 'width': 720, 'height': 540, 'visibility': 'public'}}}}\n",
      "Empty DataFrame\n",
      "Columns: [ID, Name, Likes, Rating, Tips]\n",
      "Index: []\n",
      "No data available for id= 4c30c43816adc928519cbf9c\n",
      "( 42 / 180 ) processed\n"
     ]
    },
    {
     "name": "stdout",
     "output_type": "stream",
     "text": [
      "{'meta': {'code': 200, 'requestId': '5fc9548b79c81d6dc19c3b22'}, 'response': {'venue': {'id': '4c5075d73940be9ae2124a07', 'name': 'new grand wok', 'contact': {'phone': '7186451993', 'formattedPhone': '(718) 645-1993'}, 'location': {'address': '3510 Avenue S', 'lat': 40.609311, 'lng': -73.931668, 'labeledLatLngs': [{'label': 'display', 'lat': 40.609311, 'lng': -73.931668}, {'label': 'entrance', 'lat': 40.609357, 'lng': -73.931719}], 'postalCode': '11234', 'cc': 'US', 'city': 'Brooklyn', 'state': 'NY', 'country': 'United States', 'formattedAddress': ['3510 Avenue S', 'Brooklyn, NY 11234', 'United States']}, 'canonicalUrl': 'https://foursquare.com/v/new-grand-wok/4c5075d73940be9ae2124a07', 'categories': [{'id': '4bf58dd8d48988d145941735', 'name': 'Chinese Restaurant', 'pluralName': 'Chinese Restaurants', 'shortName': 'Chinese', 'icon': {'prefix': 'https://ss3.4sqi.net/img/categories_v2/food/asian_', 'suffix': '.png'}, 'primary': True}], 'verified': False, 'stats': {'tipCount': 2}, 'price': {'tier': 1, 'message': 'Cheap', 'currency': '$'}, 'hasMenu': True, 'likes': {'count': 0, 'groups': []}, 'dislike': False, 'ok': False, 'delivery': {'id': '1048144', 'url': 'https://www.seamless.com/menu/new-grand-wok-chen-3510-ave-s-brooklyn/1048144?affiliate=1131&utm_source=foursquare-affiliate-network&utm_medium=affiliate&utm_campaign=1131&utm_content=1048144', 'provider': {'name': 'seamless', 'icon': {'prefix': 'https://fastly.4sqi.net/img/general/cap/', 'sizes': [40, 50], 'name': '/delivery_provider_seamless_20180129.png'}}}, 'menu': {'type': 'Menu', 'label': 'Menu', 'anchor': 'View Menu', 'url': 'https://foursquare.com/v/new-grand-wok/4c5075d73940be9ae2124a07/menu', 'mobileUrl': 'https://foursquare.com/v/4c5075d73940be9ae2124a07/device_menu'}, 'allowMenuUrlEdit': True, 'beenHere': {'count': 0, 'unconfirmedCount': 0, 'marked': False, 'lastCheckinExpiredAt': 0}, 'specials': {'count': 0, 'items': []}, 'photos': {'count': 1, 'groups': [{'type': 'venue', 'name': 'Venue photos', 'count': 1, 'items': [{'id': '4fcd6047e4b02f8c77a7c3e2', 'createdAt': 1338859591, 'source': {'name': 'Foursquare for iOS', 'url': 'https://foursquare.com/download/#/iphone'}, 'prefix': 'https://fastly.4sqi.net/img/general/', 'suffix': '/zUKnfZLvxutssWlhaXtL_doJsOJ_drQiXKEMcOaknPs.jpg', 'width': 720, 'height': 540, 'user': {'isSanctioned': False, 'firstName': 'joeNYC', 'lastName': 'L', 'countryCode': 'US'}, 'visibility': 'public'}]}]}, 'reasons': {'count': 0, 'items': []}, 'hereNow': {'count': 0, 'summary': 'Nobody here', 'groups': []}, 'createdAt': 1280341463, 'tips': {'count': 2, 'groups': [{'type': 'others', 'name': 'All tips', 'count': 2, 'items': [{'id': '5101ea30e4b052bb78f5aab5', 'createdAt': 1359079984, 'text': 'Definitely ordering from this place again, they take credit card over the phone and the lovely lady threw in a free egg roll.', 'type': 'user', 'canonicalUrl': 'https://foursquare.com/item/5101ea30e4b052bb78f5aab5', 'lang': 'en', 'likes': {'count': 1, 'groups': [{'type': 'others', 'count': 1, 'items': []}], 'summary': '1 like'}, 'logView': True, 'agreeCount': 0, 'disagreeCount': 0, 'todo': {'count': 0}, 'user': {'isSanctioned': False, 'firstName': 'Robert', 'lastName': 'P', 'countryCode': 'US'}}]}]}, 'shortUrl': 'http://4sq.com/bUbEO1', 'timeZone': 'America/New_York', 'listed': {'count': 0, 'groups': [{'type': 'others', 'name': 'Lists from other people', 'count': 0, 'items': []}]}, 'seasonalHours': [], 'pageUpdates': {'count': 0, 'items': []}, 'inbox': {'count': 0, 'items': []}, 'attributes': {'groups': [{'type': 'price', 'name': 'Price', 'summary': '$', 'count': 1, 'items': [{'displayName': 'Price', 'displayValue': '$', 'priceTier': 1}]}]}, 'bestPhoto': {'id': '4fcd6047e4b02f8c77a7c3e2', 'createdAt': 1338859591, 'source': {'name': 'Foursquare for iOS', 'url': 'https://foursquare.com/download/#/iphone'}, 'prefix': 'https://fastly.4sqi.net/img/general/', 'suffix': '/zUKnfZLvxutssWlhaXtL_doJsOJ_drQiXKEMcOaknPs.jpg', 'width': 720, 'height': 540, 'visibility': 'public'}, 'colors': {'highlightColor': {'photoId': '4fcd6047e4b02f8c77a7c3e2', 'value': -15198192}, 'highlightTextColor': {'photoId': '4fcd6047e4b02f8c77a7c3e2', 'value': -1}, 'algoVersion': 3}}}}\n",
      "Empty DataFrame\n",
      "Columns: [ID, Name, Likes, Rating, Tips]\n",
      "Index: []\n",
      "No data available for id= 4c5075d73940be9ae2124a07\n",
      "( 43 / 180 ) processed\n",
      "{'meta': {'code': 200, 'requestId': '5fc9548b79c81d6dc19c3c57'}, 'response': {'venue': {'id': '4a71ff01f964a52016da1fe3', 'name': 'Kum Kau', 'contact': {'phone': '7186381850', 'formattedPhone': '(718) 638-1850'}, 'location': {'address': '463 Myrtle Ave', 'crossStreet': 'btwn Washington Ave & Hall St', 'lat': 40.693373086368084, 'lng': -73.96675330374048, 'labeledLatLngs': [{'label': 'display', 'lat': 40.693373086368084, 'lng': -73.96675330374048}, {'label': 'entrance', 'lat': 40.693463, 'lng': -73.966722}], 'postalCode': '11205', 'cc': 'US', 'city': 'Brooklyn', 'state': 'NY', 'country': 'United States', 'formattedAddress': ['463 Myrtle Ave (btwn Washington Ave & Hall St)', 'Brooklyn, NY 11205', 'United States']}, 'canonicalUrl': 'https://foursquare.com/v/kum-kau/4a71ff01f964a52016da1fe3', 'categories': [{'id': '4bf58dd8d48988d145941735', 'name': 'Chinese Restaurant', 'pluralName': 'Chinese Restaurants', 'shortName': 'Chinese', 'icon': {'prefix': 'https://ss3.4sqi.net/img/categories_v2/food/asian_', 'suffix': '.png'}, 'primary': True}, {'id': '4bf58dd8d48988d1cb941735', 'name': 'Food Truck', 'pluralName': 'Food Trucks', 'shortName': 'Food Truck', 'icon': {'prefix': 'https://ss3.4sqi.net/img/categories_v2/food/streetfood_', 'suffix': '.png'}}], 'verified': False, 'stats': {'tipCount': 77}, 'url': 'http://kumkaubrooklyn.com', 'price': {'tier': 1, 'message': 'Cheap', 'currency': '$'}, 'hasMenu': True, 'likes': {'count': 109, 'groups': [{'type': 'others', 'count': 109, 'items': []}], 'summary': '109 Likes'}, 'dislike': False, 'ok': False, 'rating': 7.9, 'ratingColor': 'C5DE35', 'ratingSignals': 186, 'menu': {'type': 'Menu', 'label': 'Menu', 'anchor': 'View Menu', 'url': 'https://foursquare.com/v/kum-kau/4a71ff01f964a52016da1fe3/menu', 'mobileUrl': 'https://foursquare.com/v/4a71ff01f964a52016da1fe3/device_menu'}, 'allowMenuUrlEdit': True, 'beenHere': {'count': 0, 'unconfirmedCount': 0, 'marked': False, 'lastCheckinExpiredAt': 0}, 'specials': {'count': 0, 'items': []}, 'photos': {'count': 87, 'groups': [{'type': 'venue', 'name': 'Venue photos', 'count': 87, 'items': [{'id': '4f3aa119e4b0f48edbe57e9f', 'createdAt': 1329242393, 'source': {'name': 'Foursquare for Android', 'url': 'https://foursquare.com/download/#/android'}, 'prefix': 'https://fastly.4sqi.net/img/general/', 'suffix': '/KenjPOEX9w0uoIxMmrrQtrlksNqnVP_L-z9MQha8zjA.jpg', 'width': 720, 'height': 431, 'user': {'isSanctioned': False, 'firstName': 'Sam', 'lastName': 'F', 'countryCode': 'US'}, 'visibility': 'public'}]}]}, 'reasons': {'count': 1, 'items': [{'summary': 'Lots of people like this place', 'type': 'general', 'reasonName': 'rawLikesReason'}]}, 'hereNow': {'count': 0, 'summary': 'Nobody here', 'groups': []}, 'createdAt': 1248984833, 'tips': {'count': 77, 'groups': [{'type': 'others', 'name': 'All tips', 'count': 77, 'items': [{'id': '4c9a92bb78fc236a81c43697', 'createdAt': 1285198523, 'text': 'Best chinese food in Bklyn!  Everything is delicious.', 'type': 'user', 'canonicalUrl': 'https://foursquare.com/item/4c9a92bb78fc236a81c43697', 'lang': 'en', 'likes': {'count': 12, 'groups': [{'type': 'others', 'count': 12, 'items': []}], 'summary': '12 likes'}, 'logView': True, 'agreeCount': 12, 'disagreeCount': 0, 'todo': {'count': 5}, 'user': {'isSanctioned': False, 'firstName': 'Miyoshi', 'lastName': 'D', 'countryCode': 'US'}}]}]}, 'shortUrl': 'http://4sq.com/cLrjDL', 'timeZone': 'America/New_York', 'listed': {'count': 55, 'groups': [{'type': 'others', 'name': 'Lists from other people', 'count': 55, 'items': [{'id': '4f24c0d4e4b0617644b59718', 'name': 'Pratt Institute eats', 'description': 'During my four years at Pratt, I was first disappointed that the only fast food place nearby was White Castle (gross) but soon learned that was a blessing. Here were some of my favorite places', 'type': 'others', 'user': {'isSanctioned': False, 'firstName': 'Chris', 'lastName': 'C', 'countryCode': 'US'}, 'editable': False, 'public': True, 'collaborative': True, 'url': '/coldmilk/list/pratt-institute-eats', 'canonicalUrl': 'https://foursquare.com/coldmilk/list/pratt-institute-eats', 'createdAt': 1327808724, 'updatedAt': 1327878248, 'followers': {'count': 12}, 'listItems': {'count': 25, 'items': [{'id': 't4f24c4b5e4b04f6e6997e31e', 'createdAt': 1327809596}]}}, {'id': '57fd61ae498e2c4a9546767c', 'name': 'The Locals Only Guide to Eating & Drinking in NYC', 'description': '', 'type': 'others', 'user': {'isSanctioned': False, 'firstName': 'Bond Street', 'countryCode': 'US', 'type': 'page'}, 'editable': False, 'public': True, 'collaborative': False, 'url': '/p/bond-street/345592827/list/the-locals-only-guide-to-eating--drinking-in-nyc', 'canonicalUrl': 'https://foursquare.com/p/bond-street/345592827/list/the-locals-only-guide-to-eating--drinking-in-nyc', 'createdAt': 1476223406, 'updatedAt': 1476909292, 'photo': {'id': '5172b02de4b076a9b75228b2', 'createdAt': 1366470701, 'prefix': 'https://fastly.4sqi.net/img/general/', 'suffix': '/11433120_pC1NgsODJDeI8LSX58vpF9nNkNPkcpUIRmA2uM9w8qI.jpg', 'width': 612, 'height': 612, 'user': {'isSanctioned': False, 'firstName': 'moya', 'lastName': 'm', 'countryCode': 'US'}, 'visibility': 'public'}, 'logView': True, 'followers': {'count': 17}, 'listItems': {'count': 98, 'items': [{'id': 't57f27b48498eee5d78ed5d7b', 'createdAt': 1476282745, 'photo': {'id': '52f583f911d2f30b1a5cffd7', 'createdAt': 1391821817, 'prefix': 'https://fastly.4sqi.net/img/general/', 'suffix': '/2288822_zPK-OJBJDOoxR1wzdibjpG20X_KGfPzINggsa2goLI0.jpg', 'width': 720, 'height': 960, 'user': {'isSanctioned': False, 'firstName': 'Mike Ambassador', 'lastName': 'B', 'countryCode': 'US'}, 'visibility': 'public'}}]}}, {'id': '4eb6c78ad5fb442a6769d8d1', 'name': 'Best places in NY', 'description': '', 'type': 'others', 'user': {'isSanctioned': False, 'firstName': 'William', 'lastName': 'R', 'countryCode': 'US'}, 'editable': False, 'public': True, 'collaborative': False, 'url': '/user/16138909/list/best-places-in-ny', 'canonicalUrl': 'https://foursquare.com/user/16138909/list/best-places-in-ny', 'createdAt': 1320601482, 'updatedAt': 1417924343, 'followers': {'count': 11}, 'listItems': {'count': 78, 'items': [{'id': 'v4a71ff01f964a52016da1fe3', 'createdAt': 1320601482}]}}, {'id': '5024bb77e4b059829f492e75', 'name': 'New York City', 'description': 'All the things I love about this amazing city. Try them all!', 'type': 'others', 'user': {'isSanctioned': False, 'firstName': 'Devonta', 'countryCode': 'US'}, 'editable': False, 'public': True, 'collaborative': False, 'url': '/fitflyfellow/list/new-york-city', 'canonicalUrl': 'https://foursquare.com/fitflyfellow/list/new-york-city', 'createdAt': 1344584567, 'updatedAt': 1554734775, 'photo': {'id': '4e8dd2541081e3b3546a2b43', 'createdAt': 1317917268, 'prefix': 'https://fastly.4sqi.net/img/general/', 'suffix': '/JSJPKE3ILTTR3YJGBCF1ZQCNMIIAXAH50EUV3BSRGEVNW4TL.jpg', 'width': 492, 'height': 328, 'user': {'isSanctioned': False, 'firstName': 'Time Out New York', 'countryCode': 'US', 'type': 'page'}, 'visibility': 'public'}, 'followers': {'count': 9}, 'listItems': {'count': 86, 'items': [{'id': 'v4a71ff01f964a52016da1fe3', 'createdAt': 1362098566}]}}]}]}, 'popular': {'isOpen': False, 'isLocalHoliday': False, 'timeframes': [{'days': 'Today', 'includesToday': True, 'open': [{'renderedTime': '1:00 PM–3:00 PM'}, {'renderedTime': '6:00 PM–Midnight'}], 'segments': []}, {'days': 'Fri', 'open': [{'renderedTime': '1:00 PM–2:00 AM'}], 'segments': []}, {'days': 'Sat', 'open': [{'renderedTime': '2:00 PM–Midnight'}], 'segments': []}, {'days': 'Sun', 'open': [{'renderedTime': 'Noon–11:00 PM'}], 'segments': []}, {'days': 'Mon', 'open': [{'renderedTime': '6:00 PM–10:00 PM'}], 'segments': []}, {'days': 'Tue', 'open': [{'renderedTime': '1:00 PM–2:00 PM'}, {'renderedTime': '6:00 PM–11:00 PM'}], 'segments': []}, {'days': 'Wed', 'open': [{'renderedTime': 'Noon–4:00 PM'}, {'renderedTime': '6:00 PM–10:00 PM'}], 'segments': []}]}, 'seasonalHours': [], 'pageUpdates': {'count': 0, 'items': []}, 'inbox': {'count': 0, 'items': []}, 'attributes': {'groups': [{'type': 'price', 'name': 'Price', 'summary': '$', 'count': 1, 'items': [{'displayName': 'Price', 'displayValue': '$', 'priceTier': 1}]}, {'type': 'reservations', 'name': 'Reservations', 'count': 3, 'items': [{'displayName': 'Reservations', 'displayValue': 'No'}]}, {'type': 'payments', 'name': 'Credit Cards', 'summary': 'Credit Cards', 'count': 7, 'items': [{'displayName': 'Credit Cards', 'displayValue': 'Yes (incl. Discover & Visa)'}]}, {'type': 'outdoorSeating', 'name': 'Outdoor Seating', 'count': 1, 'items': [{'displayName': 'Outdoor Seating', 'displayValue': 'No'}]}, {'type': 'music', 'name': 'Music', 'count': 3, 'items': [{'displayName': 'Music', 'displayValue': 'No'}]}, {'type': 'serves', 'name': 'Menus', 'summary': 'Lunch & Dinner', 'count': 8, 'items': [{'displayName': 'Lunch', 'displayValue': 'Lunch'}, {'displayName': 'Dinner', 'displayValue': 'Dinner'}]}, {'type': 'parking', 'name': 'Parking', 'summary': 'Street Parking', 'count': 5, 'items': [{'displayName': 'Street Parking', 'displayValue': 'Street'}]}, {'type': 'restroom', 'name': 'Restroom', 'summary': 'Restroom', 'count': 1, 'items': [{'displayName': 'Restroom', 'displayValue': 'Yes'}]}, {'type': 'wheelchairAccessible', 'name': 'Wheelchair Accessible', 'summary': 'Wheelchair Accessible', 'count': 1, 'items': [{'displayName': 'Wheelchair Accessible', 'displayValue': 'Yes'}]}]}, 'bestPhoto': {'id': '4f3aa119e4b0f48edbe57e9f', 'createdAt': 1329242393, 'source': {'name': 'Foursquare for Android', 'url': 'https://foursquare.com/download/#/android'}, 'prefix': 'https://fastly.4sqi.net/img/general/', 'suffix': '/KenjPOEX9w0uoIxMmrrQtrlksNqnVP_L-z9MQha8zjA.jpg', 'width': 720, 'height': 431, 'visibility': 'public'}, 'colors': {'highlightColor': {'photoId': '4f3aa119e4b0f48edbe57e9f', 'value': -14145528}, 'highlightTextColor': {'photoId': '4f3aa119e4b0f48edbe57e9f', 'value': -1}, 'algoVersion': 3}}}}\n",
      "                         ID     Name  Likes  Rating  Tips\n",
      "0  4a71ff01f964a52016da1fe3  Kum Kau    109     7.9    77\n",
      "( 44 / 180 ) processed\n"
     ]
    },
    {
     "name": "stdout",
     "output_type": "stream",
     "text": [
      "{'meta': {'code': 200, 'requestId': '5fc9548bb1c42f0105d3778e'}, 'response': {'venue': {'id': '59da9590e1f0aa52976b8f35', 'name': 'Han Dynasty', 'contact': {}, 'location': {'address': '445 Albee Sq', 'crossStreet': 'Fleet St', 'lat': 40.691333919005594, 'lng': -73.98245632424464, 'labeledLatLngs': [{'label': 'display', 'lat': 40.691333919005594, 'lng': -73.98245632424464}], 'postalCode': '11201', 'cc': 'US', 'city': 'Brooklyn', 'state': 'NY', 'country': 'United States', 'formattedAddress': ['445 Albee Sq (Fleet St)', 'Brooklyn, NY 11201', 'United States']}, 'canonicalUrl': 'https://foursquare.com/v/han-dynasty/59da9590e1f0aa52976b8f35', 'categories': [{'id': '4bf58dd8d48988d145941735', 'name': 'Chinese Restaurant', 'pluralName': 'Chinese Restaurants', 'shortName': 'Chinese', 'icon': {'prefix': 'https://ss3.4sqi.net/img/categories_v2/food/asian_', 'suffix': '.png'}, 'primary': True}, {'id': '4bf58dd8d48988d142941735', 'name': 'Asian Restaurant', 'pluralName': 'Asian Restaurants', 'shortName': 'Asian', 'icon': {'prefix': 'https://ss3.4sqi.net/img/categories_v2/food/asian_', 'suffix': '.png'}}], 'verified': False, 'stats': {'tipCount': 32}, 'price': {'tier': 1, 'message': 'Cheap', 'currency': '$'}, 'likes': {'count': 162, 'groups': [{'type': 'others', 'count': 162, 'items': []}], 'summary': '162 Likes'}, 'dislike': False, 'ok': False, 'rating': 8.6, 'ratingColor': '73CF42', 'ratingSignals': 206, 'delivery': {'id': '916580', 'url': 'https://www.seamless.com/menu/han-dynasty-1-dekalb-ave-brooklyn/916580?affiliate=1131&utm_source=foursquare-affiliate-network&utm_medium=affiliate&utm_campaign=1131&utm_content=916580', 'provider': {'name': 'seamless', 'icon': {'prefix': 'https://fastly.4sqi.net/img/general/cap/', 'sizes': [40, 50], 'name': '/delivery_provider_seamless_20180129.png'}}}, 'allowMenuUrlEdit': True, 'beenHere': {'count': 0, 'unconfirmedCount': 0, 'marked': False, 'lastCheckinExpiredAt': 0}, 'specials': {'count': 0, 'items': []}, 'photos': {'count': 110, 'groups': [{'type': 'venue', 'name': 'Venue photos', 'count': 110, 'items': [{'id': '59ffb0768496ca4e1af5292a', 'createdAt': 1509929078, 'source': {'name': 'Swarm for iOS', 'url': 'https://www.swarmapp.com'}, 'prefix': 'https://fastly.4sqi.net/img/general/', 'suffix': '/7478641_RP_W7qh94iPrfMvPtrB_jrEzY9ZM9nJmEKq-7uwXRj0.jpg', 'width': 1920, 'height': 1440, 'user': {'isSanctioned': False, 'firstName': 'Mike', 'lastName': 'C', 'countryCode': 'US'}, 'visibility': 'public'}]}]}, 'reasons': {'count': 1, 'items': [{'summary': 'Lots of people like this place', 'type': 'general', 'reasonName': 'rawLikesReason'}]}, 'hereNow': {'count': 0, 'summary': 'Nobody here', 'groups': []}, 'createdAt': 1507497360, 'tips': {'count': 32, 'groups': [{'type': 'others', 'name': 'All tips', 'count': 32, 'items': [{'id': '5cb3a98efebf31002c01fb82', 'createdAt': 1555278222, 'text': '👌🏼 Dan Dan Noodles', 'type': 'user', 'canonicalUrl': 'https://foursquare.com/item/5cb3a98efebf31002c01fb82', 'lang': 'la', 'likes': {'count': 0, 'groups': []}, 'logView': True, 'agreeCount': 0, 'disagreeCount': 0, 'todo': {'count': 0}, 'user': {'isSanctioned': False, 'firstName': 'Tyson', 'lastName': 'G', 'countryCode': 'US'}, 'authorInteractionType': 'liked'}]}]}, 'shortUrl': 'http://4sq.com/2fU8reL', 'timeZone': 'America/New_York', 'listed': {'count': 128, 'groups': [{'type': 'others', 'name': 'Lists from other people', 'count': 128, 'items': [{'id': '4e9744eeb634527c67b3d9b2', 'name': 'Brooklyn stuff', 'description': '', 'type': 'others', 'user': {'isSanctioned': False, 'firstName': 'Yvette P', 'countryCode': 'US'}, 'editable': False, 'public': True, 'collaborative': False, 'url': '/lolarobot/list/brooklyn-stuff', 'canonicalUrl': 'https://foursquare.com/lolarobot/list/brooklyn-stuff', 'createdAt': 1318536430, 'updatedAt': 1583921242, 'photo': {'id': '4e545042a8093d27cca4fb89', 'createdAt': 1314148418, 'prefix': 'https://fastly.4sqi.net/img/general/', 'suffix': '/GW0OWYBLFMZWY5TO5BYDD1AXLOQPKBS54MMTZTQSSLSA20SA.jpg', 'width': 537, 'height': 720, 'user': {'isSanctioned': False, 'firstName': 'Alex', 'lastName': 'R', 'countryCode': 'US'}, 'visibility': 'public'}, 'followers': {'count': 72}, 'listItems': {'count': 141, 'items': [{'id': 'v59da9590e1f0aa52976b8f35', 'createdAt': 1518147130}]}}, {'id': '506b9c45e4b07449034cce78', 'name': 'Comida', 'description': '', 'type': 'others', 'user': {'isSanctioned': False, 'firstName': 'James', 'lastName': 'D', 'countryCode': 'US'}, 'editable': False, 'public': True, 'collaborative': False, 'url': '/user/1372925/list/comida', 'canonicalUrl': 'https://foursquare.com/user/1372925/list/comida', 'createdAt': 1349229637, 'updatedAt': 1585486019, 'photo': {'id': '4f3022476b740061f4421f9e', 'createdAt': 1328554567, 'prefix': 'https://fastly.4sqi.net/img/general/', 'suffix': '/MQVXPHH0mTeNi9AuRCO7tAi4PO37CbAVjIzfv7QRF0Q.jpg', 'width': 2048, 'height': 1365, 'user': {'isSanctioned': False, 'firstName': 'Time Out New York', 'countryCode': 'US', 'type': 'page'}, 'visibility': 'public'}, 'followers': {'count': 5}, 'listItems': {'count': 186, 'items': [{'id': 'v59da9590e1f0aa52976b8f35', 'createdAt': 1515881288}]}}, {'id': '5a39795815173e699161a960', 'name': 'The Hottest Restaurants in Brooklyn Right Now', 'description': '', 'type': 'others', 'user': {'isSanctioned': False, 'firstName': 'Eater', 'countryCode': 'US', 'type': 'page'}, 'editable': False, 'public': True, 'collaborative': False, 'url': '/p/eater/3343327/list/the-hottest-restaurants-in-brooklyn-right-now', 'canonicalUrl': 'https://foursquare.com/p/eater/3343327/list/the-hottest-restaurants-in-brooklyn-right-now', 'createdAt': 1513716056, 'updatedAt': 1513783828, 'logView': True, 'guideType': 'bestOf', 'guide': True, 'followers': {'count': 76}, 'listItems': {'count': 12, 'items': [{'id': 't5a3a80e2ff19027e014c510f', 'createdAt': 1513783541}]}}, {'id': '4f610407e4b0fcf22f7d2e38', 'name': 'NYC<3Love', 'description': 'start spreading the news', 'type': 'others', 'user': {'isSanctioned': False, 'firstName': 'Agatha', 'lastName': 'K', 'countryCode': 'BR'}, 'editable': False, 'public': True, 'collaborative': False, 'url': '/user/146453/list/nyc3love', 'canonicalUrl': 'https://foursquare.com/user/146453/list/nyc3love', 'createdAt': 1331758087, 'updatedAt': 1581256617, 'photo': {'id': '4f5f7846e4b0b2ac43ce9c78', 'createdAt': 1331656774, 'prefix': 'https://fastly.4sqi.net/img/general/', 'suffix': '/w8xVKUPL38LfIIjLF7SDDdU62LHEmSq-4t9mA3r0Di8.jpg', 'width': 720, 'height': 540, 'user': {'isSanctioned': False, 'firstName': 'Caroline', 'lastName': 'D', 'countryCode': 'US'}, 'visibility': 'public'}, 'followers': {'count': 6}, 'listItems': {'count': 122, 'items': [{'id': 'v59da9590e1f0aa52976b8f35', 'createdAt': 1530647312}]}}]}]}, 'popular': {'isOpen': False, 'isLocalHoliday': False, 'timeframes': [{'days': 'Today', 'includesToday': True, 'open': [{'renderedTime': 'Noon–1:00 PM'}, {'renderedTime': '6:00 PM–10:00 PM'}], 'segments': []}, {'days': 'Fri', 'open': [{'renderedTime': '5:00 PM–10:00 PM'}], 'segments': []}, {'days': 'Sat–Sun', 'open': [{'renderedTime': 'Noon–10:00 PM'}], 'segments': []}, {'days': 'Mon', 'open': [{'renderedTime': '1:00 PM–2:00 PM'}, {'renderedTime': '5:00 PM–10:00 PM'}], 'segments': []}, {'days': 'Tue', 'open': [{'renderedTime': '6:00 PM–10:00 PM'}], 'segments': []}, {'days': 'Wed', 'open': [{'renderedTime': '5:00 PM–10:00 PM'}], 'segments': []}]}, 'seasonalHours': [], 'pageUpdates': {'count': 0, 'items': []}, 'inbox': {'count': 0, 'items': []}, 'parent': {'id': '594277b586f4cc0f251fc389', 'name': 'DeKalb Market Hall', 'location': {'address': '445 Albee Sq', 'lat': 40.69124975637413, 'lng': -73.98257926844987, 'labeledLatLngs': [{'label': 'display', 'lat': 40.69124975637413, 'lng': -73.98257926844987}], 'postalCode': '11201', 'cc': 'US', 'city': 'Brooklyn', 'state': 'NY', 'country': 'United States', 'formattedAddress': ['445 Albee Sq', 'Brooklyn, NY 11201', 'United States']}, 'categories': [{'id': '4bf58dd8d48988d120951735', 'name': 'Food Court', 'pluralName': 'Food Courts', 'shortName': 'Food Court', 'icon': {'prefix': 'https://ss3.4sqi.net/img/categories_v2/shops/food_foodcourt_', 'suffix': '.png'}, 'primary': True}], 'delivery': {'id': '686638', 'url': 'https://www.seamless.com/menu/forcella-fried-pizza-dekalb-market-hall-445-albee-sq-brooklyn/686638?affiliate=1131&utm_source=foursquare-affiliate-network&utm_medium=affiliate&utm_campaign=1131&utm_content=686638', 'provider': {'name': 'seamless', 'icon': {'prefix': 'https://fastly.4sqi.net/img/general/cap/', 'sizes': [40, 50], 'name': '/delivery_provider_seamless_20180129.png'}}}}, 'hierarchy': [{'name': 'DeKalb Market Hall', 'lang': 'en', 'id': '594277b586f4cc0f251fc389', 'canonicalUrl': 'https://foursquare.com/v/dekalb-market-hall/594277b586f4cc0f251fc389'}, {'name': 'City Point BKLYN', 'lang': 'en', 'id': '4fac219de4b07c3cb7327f48', 'canonicalUrl': 'https://foursquare.com/v/city-point-bklyn/4fac219de4b07c3cb7327f48'}], 'attributes': {'groups': [{'type': 'price', 'name': 'Price', 'summary': '$', 'count': 1, 'items': [{'displayName': 'Price', 'displayValue': '$', 'priceTier': 1}]}, {'type': 'reservations', 'name': 'Reservations', 'summary': 'Reservations', 'count': 3, 'items': [{'displayName': 'Reservations', 'displayValue': 'Yes'}]}, {'type': 'payments', 'name': 'Credit Cards', 'summary': 'Credit Cards', 'count': 7, 'items': [{'displayName': 'Credit Cards', 'displayValue': 'Yes'}]}, {'type': 'outdoorSeating', 'name': 'Outdoor Seating', 'count': 1, 'items': [{'displayName': 'Outdoor Seating', 'displayValue': 'No'}]}, {'type': 'serves', 'name': 'Menus', 'summary': 'Dinner, Lunch & more', 'count': 8, 'items': [{'displayName': 'Brunch', 'displayValue': 'Brunch'}, {'displayName': 'Lunch', 'displayValue': 'Lunch'}, {'displayName': 'Dinner', 'displayValue': 'Dinner'}]}]}, 'bestPhoto': {'id': '59ffb0768496ca4e1af5292a', 'createdAt': 1509929078, 'source': {'name': 'Swarm for iOS', 'url': 'https://www.swarmapp.com'}, 'prefix': 'https://fastly.4sqi.net/img/general/', 'suffix': '/7478641_RP_W7qh94iPrfMvPtrB_jrEzY9ZM9nJmEKq-7uwXRj0.jpg', 'width': 1920, 'height': 1440, 'visibility': 'public'}, 'colors': {'highlightColor': {'photoId': '59ffb0768496ca4e1af5292a', 'value': -14149608}, 'highlightTextColor': {'photoId': '59ffb0768496ca4e1af5292a', 'value': -1}, 'algoVersion': 3}}}}\n",
      "                         ID         Name  Likes  Rating  Tips\n",
      "0  59da9590e1f0aa52976b8f35  Han Dynasty    162     8.6    32\n",
      "( 45 / 180 ) processed\n"
     ]
    },
    {
     "name": "stdout",
     "output_type": "stream",
     "text": [
      "{'meta': {'code': 200, 'requestId': '5fc9548cb1c42f0105d378e7'}, 'response': {'venue': {'id': '5db3649a8d15ba00089b4e9b', 'name': \"Xi'an Famous Foods\", 'contact': {}, 'location': {'address': '54 Willoughby St', 'lat': 40.69217, 'lng': -73.98673, 'labeledLatLngs': [{'label': 'display', 'lat': 40.69217, 'lng': -73.98673}], 'postalCode': '11201', 'cc': 'US', 'city': 'Brooklyn', 'state': 'NY', 'country': 'United States', 'formattedAddress': ['54 Willoughby St', 'Brooklyn, NY 11201', 'United States']}, 'canonicalUrl': 'https://foursquare.com/v/xian-famous-foods/5db3649a8d15ba00089b4e9b', 'categories': [{'id': '4bf58dd8d48988d145941735', 'name': 'Chinese Restaurant', 'pluralName': 'Chinese Restaurants', 'shortName': 'Chinese', 'icon': {'prefix': 'https://ss3.4sqi.net/img/categories_v2/food/asian_', 'suffix': '.png'}, 'primary': True}], 'verified': False, 'stats': {'tipCount': 3}, 'price': {'tier': 1, 'message': 'Cheap', 'currency': '$'}, 'likes': {'count': 9, 'groups': [{'type': 'others', 'count': 9, 'items': [{'isSanctioned': False, 'firstName': 'Crystal', 'countryCode': 'US'}, {'isSanctioned': False, 'firstName': 'Andy', 'lastName': 'S', 'countryCode': 'US'}, {'isSanctioned': False, 'firstName': 'Elham', 'lastName': 'A', 'countryCode': 'US'}, {'isSanctioned': False, 'firstName': 'Brad', 'lastName': 'K', 'countryCode': 'US'}]}], 'summary': '9 Likes'}, 'dislike': False, 'ok': False, 'rating': 8.8, 'ratingColor': '73CF42', 'ratingSignals': 10, 'allowMenuUrlEdit': True, 'beenHere': {'count': 0, 'unconfirmedCount': 0, 'marked': False, 'lastCheckinExpiredAt': 0}, 'specials': {'count': 0, 'items': []}, 'photos': {'count': 6, 'groups': [{'type': 'venue', 'name': 'Venue photos', 'count': 6, 'items': [{'id': '5e63ca1276a2b50008d5d547', 'createdAt': 1583598098, 'source': {'name': 'Swarm for iOS', 'url': 'https://www.swarmapp.com'}, 'prefix': 'https://fastly.4sqi.net/img/general/', 'suffix': '/276818_tgRhPAwFCmK-5daXiv8lq1GGzQ3wyJXEIiYQWU5Rhow.jpg', 'width': 1440, 'height': 1920, 'user': {'isSanctioned': False, 'firstName': 'Mike', 'countryCode': 'US'}, 'visibility': 'public'}]}]}, 'reasons': {'count': 0, 'items': []}, 'hereNow': {'count': 0, 'summary': 'Nobody here', 'groups': []}, 'createdAt': 1572037786, 'tips': {'count': 3, 'groups': [{'type': 'others', 'name': 'All tips', 'count': 3, 'items': [{'id': '5f28d29f53509308e1a5aad2', 'createdAt': 1596510879, 'text': 'Mount Qi noodles are always wonderful. And the lamb dumplings!', 'type': 'user', 'canonicalUrl': 'https://foursquare.com/item/5f28d29f53509308e1a5aad2', 'lang': 'en', 'likes': {'count': 0, 'groups': []}, 'logView': True, 'agreeCount': 0, 'disagreeCount': 0, 'todo': {'count': 0}, 'user': {'isSanctioned': False, 'firstName': 'Crystal', 'countryCode': 'US'}, 'authorInteractionType': 'liked'}]}]}, 'shortUrl': 'https://4sq.com/2Pkw96T', 'timeZone': 'America/New_York', 'listed': {'count': 14, 'groups': [{'type': 'others', 'name': 'Lists from other people', 'count': 14, 'items': [{'id': '55fc4b52498e2d71e804f9ec', 'name': 'Brooklyn Lunch (T)', 'description': '', 'type': 'others', 'user': {'isSanctioned': False, 'firstName': 'Tony', 'lastName': 'W', 'countryCode': 'US'}, 'editable': False, 'public': True, 'collaborative': False, 'url': '/tony_writer/list/brooklyn-lunch-t', 'canonicalUrl': 'https://foursquare.com/tony_writer/list/brooklyn-lunch-t', 'createdAt': 1442597714, 'updatedAt': 1582308202, 'followers': {'count': 0}, 'listItems': {'count': 65, 'items': [{'id': 'v5db3649a8d15ba00089b4e9b', 'createdAt': 1573162131}]}}, {'id': '59a6ea717564f76aa57f9c3d', 'name': 'New York', 'description': '', 'type': 'others', 'user': {'isSanctioned': False, 'firstName': 'Maria', 'lastName': 'K', 'countryCode': 'FI'}, 'editable': False, 'public': True, 'collaborative': False, 'url': '/user/422642521/list/new-york', 'canonicalUrl': 'https://foursquare.com/user/422642521/list/new-york', 'createdAt': 1504111217, 'updatedAt': 1580315444, 'photo': {'id': '525098b6498e756ab7afe17f', 'createdAt': 1381013686, 'prefix': 'https://fastly.4sqi.net/img/general/', 'suffix': '/1362457_SgGDtd4wzvXFd1PlI9o1rLDCe1ghEqz9RVdC9TzkwC4.jpg', 'width': 960, 'height': 720, 'user': {'isSanctioned': False, 'firstName': 'Nadina', 'lastName': 'B', 'countryCode': 'US'}, 'visibility': 'public'}, 'followers': {'count': 2}, 'listItems': {'count': 161, 'items': [{'id': 'v5db3649a8d15ba00089b4e9b', 'createdAt': 1577870936}]}}, {'id': '5ba1363265211f002cfe07d7', 'name': 'Date Night', 'description': '', 'type': 'others', 'user': {'isSanctioned': False, 'firstName': 'Jorge', 'lastName': 'V', 'countryCode': 'US'}, 'editable': False, 'public': True, 'collaborative': False, 'url': '/user/61912580/list/date-night', 'canonicalUrl': 'https://foursquare.com/user/61912580/list/date-night', 'createdAt': 1537291826, 'updatedAt': 1590949342, 'photo': {'id': '502ade52e4b073d9f3fa72d1', 'createdAt': 1344986706, 'prefix': 'https://fastly.4sqi.net/img/general/', 'suffix': '/lJAukb-0hJZiIYvte5SOfqrLuRPaQNlCY-L5rbqOsNQ.jpg', 'width': 612, 'height': 612, 'user': {'isSanctioned': False, 'firstName': 'Tina', 'lastName': 'D', 'countryCode': 'US'}, 'visibility': 'public'}, 'followers': {'count': 1}, 'listItems': {'count': 29, 'items': [{'id': 'v5db3649a8d15ba00089b4e9b', 'createdAt': 1578248498}]}}, {'id': '55c3bf9f498e69107a4c1fa7', 'name': 'North BK Eats', 'description': '', 'type': 'others', 'user': {'isSanctioned': False, 'firstName': 'Dane', 'lastName': 'B', 'countryCode': 'US'}, 'editable': False, 'public': True, 'collaborative': False, 'url': '/thefriendzone/list/north-bk-eats', 'canonicalUrl': 'https://foursquare.com/thefriendzone/list/north-bk-eats', 'createdAt': 1438891935, 'updatedAt': 1602883892, 'photo': {'id': '514a3c22e4b087398fa05a19', 'createdAt': 1363819554, 'prefix': 'https://fastly.4sqi.net/img/general/', 'suffix': '/1249345_GNPmoygWW8ltg5HBLpqfNVGNT-NwK3SvsrvmWBy3FqI.jpg', 'width': 612, 'height': 612, 'user': {'isSanctioned': False, 'firstName': 'Linnea', 'lastName': 'C', 'countryCode': 'US'}, 'visibility': 'public'}, 'followers': {'count': 0}, 'listItems': {'count': 151, 'items': [{'id': 'v5db3649a8d15ba00089b4e9b', 'createdAt': 1576095825}]}}]}]}, 'popular': {'status': 'Likely open', 'richStatus': {'entities': [], 'text': 'Likely open'}, 'isOpen': True, 'isLocalHoliday': False, 'timeframes': [{'days': 'Today', 'includesToday': True, 'open': [{'renderedTime': 'Noon–2:00 PM'}, {'renderedTime': '4:00 PM–9:00 PM'}], 'segments': []}, {'days': 'Fri–Sat', 'open': [{'renderedTime': '11:00 AM–9:00 PM'}], 'segments': []}, {'days': 'Sun', 'open': [{'renderedTime': 'Noon–2:00 PM'}, {'renderedTime': '4:00 PM–8:00 PM'}], 'segments': []}, {'days': 'Mon', 'open': [{'renderedTime': 'Noon–9:00 PM'}], 'segments': []}, {'days': 'Tue', 'open': [{'renderedTime': 'Noon–2:00 PM'}, {'renderedTime': '5:00 PM–9:00 PM'}], 'segments': []}, {'days': 'Wed', 'open': [{'renderedTime': '11:00 AM–3:00 PM'}, {'renderedTime': '5:00 PM–9:00 PM'}], 'segments': []}]}, 'seasonalHours': [], 'pageUpdates': {'count': 0, 'items': []}, 'inbox': {'count': 0, 'items': []}, 'attributes': {'groups': [{'type': 'price', 'name': 'Price', 'summary': '$', 'count': 1, 'items': [{'displayName': 'Price', 'displayValue': '$', 'priceTier': 1}]}, {'type': 'serves', 'name': 'Menus', 'summary': 'Dinner, Lunch & more', 'count': 8, 'items': [{'displayName': 'Brunch', 'displayValue': 'Brunch'}, {'displayName': 'Lunch', 'displayValue': 'Lunch'}, {'displayName': 'Dinner', 'displayValue': 'Dinner'}]}]}, 'bestPhoto': {'id': '5e63ca1276a2b50008d5d547', 'createdAt': 1583598098, 'source': {'name': 'Swarm for iOS', 'url': 'https://www.swarmapp.com'}, 'prefix': 'https://fastly.4sqi.net/img/general/', 'suffix': '/276818_tgRhPAwFCmK-5daXiv8lq1GGzQ3wyJXEIiYQWU5Rhow.jpg', 'width': 1440, 'height': 1920, 'visibility': 'public'}, 'colors': {'highlightColor': {'photoId': '5e63ca1276a2b50008d5d547', 'value': -1513256}, 'highlightTextColor': {'photoId': '5e63ca1276a2b50008d5d547', 'value': -16777216}, 'algoVersion': 3}}}}\n",
      "                         ID                Name  Likes  Rating  Tips\n",
      "0  5db3649a8d15ba00089b4e9b  Xi'an Famous Foods      9     8.8     3\n",
      "( 46 / 180 ) processed\n",
      "{'meta': {'code': 200, 'requestId': '5fc9548c7c1f474e4774e90c'}, 'response': {'venue': {'id': '585d72449f25836f2b2b7a1b', 'name': 'Xifu Food', 'contact': {'phone': '7182378886', 'formattedPhone': '(718) 237-8886'}, 'location': {'address': '318 Livingston St', 'lat': 40.688027, 'lng': -73.982088, 'labeledLatLngs': [{'label': 'display', 'lat': 40.688027, 'lng': -73.982088}, {'label': 'entrance', 'lat': 40.688057, 'lng': -73.982014}], 'postalCode': '11217', 'cc': 'US', 'city': 'Brooklyn', 'state': 'NY', 'country': 'United States', 'formattedAddress': ['318 Livingston St', 'Brooklyn, NY 11217', 'United States']}, 'canonicalUrl': 'https://foursquare.com/v/xifu-food/585d72449f25836f2b2b7a1b', 'categories': [{'id': '4bf58dd8d48988d145941735', 'name': 'Chinese Restaurant', 'pluralName': 'Chinese Restaurants', 'shortName': 'Chinese', 'icon': {'prefix': 'https://ss3.4sqi.net/img/categories_v2/food/asian_', 'suffix': '.png'}, 'primary': True}, {'id': '4bf58dd8d48988d108941735', 'name': 'Dumpling Restaurant', 'pluralName': 'Dumpling Restaurants', 'shortName': 'Dumplings', 'icon': {'prefix': 'https://ss3.4sqi.net/img/categories_v2/food/dumplings_', 'suffix': '.png'}}], 'verified': False, 'stats': {'tipCount': 13}, 'price': {'tier': 1, 'message': 'Cheap', 'currency': '$'}, 'likes': {'count': 28, 'groups': [{'type': 'others', 'count': 28, 'items': []}], 'summary': '28 Likes'}, 'dislike': False, 'ok': False, 'rating': 8.1, 'ratingColor': '73CF42', 'ratingSignals': 41, 'delivery': {'id': '2027857', 'url': 'https://www.seamless.com/menu/xifu-food-318-livingston-st-new-york/2027857?affiliate=1131&utm_source=foursquare-affiliate-network&utm_medium=affiliate&utm_campaign=1131&utm_content=2027857', 'provider': {'name': 'seamless', 'icon': {'prefix': 'https://fastly.4sqi.net/img/general/cap/', 'sizes': [40, 50], 'name': '/delivery_provider_seamless_20180129.png'}}}, 'allowMenuUrlEdit': True, 'beenHere': {'count': 0, 'unconfirmedCount': 0, 'marked': False, 'lastCheckinExpiredAt': 0}, 'specials': {'count': 0, 'items': []}, 'photos': {'count': 10, 'groups': [{'type': 'venue', 'name': 'Venue photos', 'count': 10, 'items': [{'id': '5e02abe5728a7d0008055a46', 'createdAt': 1577233381, 'source': {'name': 'Swarm for iOS', 'url': 'https://www.swarmapp.com'}, 'prefix': 'https://fastly.4sqi.net/img/general/', 'suffix': '/238317_HMdOiq9M4PVegL4DwZ0ZWj3Wfvc9KtZOYli7vWAV_pE.jpg', 'width': 1440, 'height': 1440, 'user': {'isSanctioned': False, 'firstName': 'greenie', 'lastName': 'm', 'countryCode': 'US'}, 'visibility': 'public'}]}]}, 'reasons': {'count': 0, 'items': []}, 'hereNow': {'count': 0, 'summary': 'Nobody here', 'groups': []}, 'createdAt': 1482519108, 'tips': {'count': 13, 'groups': [{'type': 'others', 'name': 'All tips', 'count': 13, 'items': [{'id': '5d9cea303c996e00079dfbd9', 'createdAt': 1570564656, 'text': 'Dumplings are ok I guess', 'type': 'user', 'canonicalUrl': 'https://foursquare.com/item/5d9cea303c996e00079dfbd9', 'lang': 'en', 'likes': {'count': 0, 'groups': []}, 'logView': True, 'agreeCount': 0, 'disagreeCount': 0, 'todo': {'count': 0}, 'user': {'isSanctioned': False, 'firstName': 'David', 'lastName': 'W', 'countryCode': 'US'}, 'authorInteractionType': 'disliked'}]}]}, 'shortUrl': 'http://4sq.com/2ileCvv', 'timeZone': 'America/New_York', 'listed': {'count': 53, 'groups': [{'type': 'others', 'name': 'Lists from other people', 'count': 53, 'items': [{'id': '5a99ac5175a6ea025d59e30b', 'name': 'New York 2018', 'description': '', 'type': 'others', 'user': {'isSanctioned': False, 'firstName': 'Ollie', 'lastName': 'M', 'countryCode': 'GB'}, 'editable': False, 'public': True, 'collaborative': True, 'url': '/olliejpmartin/list/new-york-2018', 'canonicalUrl': 'https://foursquare.com/olliejpmartin/list/new-york-2018', 'createdAt': 1520020561, 'updatedAt': 1533817637, 'photo': {'id': '502f9ecfe4b0648637b520f7', 'createdAt': 1345298127, 'prefix': 'https://fastly.4sqi.net/img/general/', 'suffix': '/RG-XRePA152FmPZLbw6bd9u1dueI78aqS4LzXDrj72g.jpg', 'width': 640, 'height': 480, 'user': {'isSanctioned': False, 'firstName': 'Megan', 'lastName': 'E', 'countryCode': 'US'}, 'visibility': 'public'}, 'followers': {'count': 1}, 'listItems': {'count': 37, 'items': [{'id': 'v585d72449f25836f2b2b7a1b', 'createdAt': 1533640224}]}}, {'id': '5ba6cb9e491be7002cbd5571', 'name': 'New hood', 'description': '', 'type': 'others', 'user': {'isSanctioned': False, 'firstName': 'Allie', 'lastName': 'J', 'countryCode': 'US'}, 'editable': False, 'public': True, 'collaborative': True, 'url': '/user/67203983/list/new-hood', 'canonicalUrl': 'https://foursquare.com/user/67203983/list/new-hood', 'createdAt': 1537657758, 'updatedAt': 1582059986, 'photo': {'id': '4fb13fc2e4b0771d8373cd56', 'createdAt': 1337016258, 'prefix': 'https://fastly.4sqi.net/img/general/', 'suffix': '/5H4Ptf7NFHUpiciETIwyO_HRWtPe8z93RZ2LSUcgcNk.jpg', 'width': 720, 'height': 540, 'user': {'isSanctioned': False, 'firstName': 'Juliana', 'lastName': '蔡', 'countryCode': 'TH'}, 'visibility': 'public'}, 'followers': {'count': 1}, 'listItems': {'count': 26, 'items': [{'id': 'v585d72449f25836f2b2b7a1b', 'createdAt': 1554216146}]}}, {'id': '57f01746498e608c3d9aaa1b', 'name': 'NYC', 'description': '', 'type': 'others', 'user': {'isSanctioned': False, 'firstName': 'Funfun', 'lastName': 'H', 'countryCode': 'US'}, 'editable': False, 'public': True, 'collaborative': False, 'url': '/user/47963574/list/nyc', 'canonicalUrl': 'https://foursquare.com/user/47963574/list/nyc', 'createdAt': 1475352390, 'updatedAt': 1530922463, 'followers': {'count': 1}, 'listItems': {'count': 147, 'items': [{'id': 'v585d72449f25836f2b2b7a1b', 'createdAt': 1523630447}]}}, {'id': '5a763df3dd8442362ecdfa0e', 'name': 'NYC - Where to eat 2', 'description': '', 'type': 'others', 'user': {'isSanctioned': False, 'firstName': 'Desiree', 'lastName': 'B', 'countryCode': 'US'}, 'editable': False, 'public': True, 'collaborative': False, 'url': '/user/13517/list/nyc--where-to-eat-2', 'canonicalUrl': 'https://foursquare.com/user/13517/list/nyc--where-to-eat-2', 'createdAt': 1517698547, 'updatedAt': 1582984492, 'photo': {'id': '5a6fb736d8096e5cf4760176', 'createdAt': 1517270838, 'prefix': 'https://fastly.4sqi.net/img/general/', 'suffix': '/30792_I1hQn3_2IhKfvioY-C1kpjV-gWztFBTfxnKkrI5BKko.jpg', 'width': 1440, 'height': 1920, 'user': {'isSanctioned': False, 'firstName': 'Sarah', 'countryCode': 'US'}, 'visibility': 'public'}, 'followers': {'count': 0}, 'listItems': {'count': 58, 'items': [{'id': 'v585d72449f25836f2b2b7a1b', 'createdAt': 1549721766}]}}]}]}, 'hours': {'status': 'Open until 8:30 PM', 'richStatus': {'entities': [], 'text': 'Open until 8:30 PM'}, 'isOpen': True, 'isLocalHoliday': False, 'dayData': [], 'timeframes': [{'days': 'Mon–Fri', 'includesToday': True, 'open': [{'renderedTime': '10:00 AM–8:30 PM'}], 'segments': []}, {'days': 'Sat–Sun', 'open': [{'renderedTime': '11:00 AM–8:30 PM'}], 'segments': []}]}, 'popular': {'isOpen': False, 'isLocalHoliday': False, 'timeframes': [{'days': 'Today', 'includesToday': True, 'open': [{'renderedTime': 'Noon–3:00 PM'}, {'renderedTime': '5:00 PM–9:00 PM'}], 'segments': []}, {'days': 'Fri–Sat', 'open': [{'renderedTime': '11:00 AM–9:00 PM'}], 'segments': []}, {'days': 'Sun', 'open': [{'renderedTime': '11:00 AM–8:00 PM'}], 'segments': []}, {'days': 'Mon', 'open': [{'renderedTime': '11:00 AM–9:00 PM'}], 'segments': []}, {'days': 'Tue', 'open': [{'renderedTime': 'Noon–4:00 PM'}, {'renderedTime': '6:00 PM–9:00 PM'}], 'segments': []}, {'days': 'Wed', 'open': [{'renderedTime': '11:00 AM–9:00 PM'}], 'segments': []}]}, 'seasonalHours': [], 'defaultHours': {'status': 'Open until 8:30 PM', 'richStatus': {'entities': [], 'text': 'Open until 8:30 PM'}, 'isOpen': True, 'isLocalHoliday': False, 'dayData': [], 'timeframes': [{'days': 'Mon–Fri', 'includesToday': True, 'open': [{'renderedTime': '10:00 AM–8:30 PM'}], 'segments': []}, {'days': 'Sat–Sun', 'open': [{'renderedTime': '11:00 AM–8:30 PM'}], 'segments': []}]}, 'pageUpdates': {'count': 0, 'items': []}, 'inbox': {'count': 0, 'items': []}, 'attributes': {'groups': [{'type': 'price', 'name': 'Price', 'summary': '$', 'count': 1, 'items': [{'displayName': 'Price', 'displayValue': '$', 'priceTier': 1}]}, {'type': 'reservations', 'name': 'Reservations', 'count': 3, 'items': [{'displayName': 'Reservations', 'displayValue': 'No'}]}, {'type': 'payments', 'name': 'Credit Cards', 'summary': 'Credit Cards', 'count': 7, 'items': [{'displayName': 'Credit Cards', 'displayValue': 'Yes'}]}, {'type': 'outdoorSeating', 'name': 'Outdoor Seating', 'count': 1, 'items': [{'displayName': 'Outdoor Seating', 'displayValue': 'No'}]}, {'type': 'serves', 'name': 'Menus', 'summary': 'Dinner, Lunch & more', 'count': 8, 'items': [{'displayName': 'Brunch', 'displayValue': 'Brunch'}, {'displayName': 'Lunch', 'displayValue': 'Lunch'}, {'displayName': 'Dinner', 'displayValue': 'Dinner'}]}]}, 'bestPhoto': {'id': '5e02abe5728a7d0008055a46', 'createdAt': 1577233381, 'source': {'name': 'Swarm for iOS', 'url': 'https://www.swarmapp.com'}, 'prefix': 'https://fastly.4sqi.net/img/general/', 'suffix': '/238317_HMdOiq9M4PVegL4DwZ0ZWj3Wfvc9KtZOYli7vWAV_pE.jpg', 'width': 1440, 'height': 1440, 'visibility': 'public'}, 'colors': {'highlightColor': {'photoId': '5e02abe5728a7d0008055a46', 'value': -14671840}, 'highlightTextColor': {'photoId': '5e02abe5728a7d0008055a46', 'value': -1}, 'algoVersion': 3}}}}\n",
      "                         ID       Name  Likes  Rating  Tips\n",
      "0  585d72449f25836f2b2b7a1b  Xifu Food     28     8.1    13\n",
      "( 47 / 180 ) processed\n"
     ]
    },
    {
     "name": "stdout",
     "output_type": "stream",
     "text": [
      "{'meta': {'code': 200, 'requestId': '5fc9548de208c61b160f44fa'}, 'response': {'venue': {'id': '585d72449f25836f2b2b7a1b', 'name': 'Xifu Food', 'contact': {'phone': '7182378886', 'formattedPhone': '(718) 237-8886'}, 'location': {'address': '318 Livingston St', 'lat': 40.688027, 'lng': -73.982088, 'labeledLatLngs': [{'label': 'display', 'lat': 40.688027, 'lng': -73.982088}, {'label': 'entrance', 'lat': 40.688057, 'lng': -73.982014}], 'postalCode': '11217', 'cc': 'US', 'city': 'Brooklyn', 'state': 'NY', 'country': 'United States', 'formattedAddress': ['318 Livingston St', 'Brooklyn, NY 11217', 'United States']}, 'canonicalUrl': 'https://foursquare.com/v/xifu-food/585d72449f25836f2b2b7a1b', 'categories': [{'id': '4bf58dd8d48988d145941735', 'name': 'Chinese Restaurant', 'pluralName': 'Chinese Restaurants', 'shortName': 'Chinese', 'icon': {'prefix': 'https://ss3.4sqi.net/img/categories_v2/food/asian_', 'suffix': '.png'}, 'primary': True}, {'id': '4bf58dd8d48988d108941735', 'name': 'Dumpling Restaurant', 'pluralName': 'Dumpling Restaurants', 'shortName': 'Dumplings', 'icon': {'prefix': 'https://ss3.4sqi.net/img/categories_v2/food/dumplings_', 'suffix': '.png'}}], 'verified': False, 'stats': {'tipCount': 13}, 'price': {'tier': 1, 'message': 'Cheap', 'currency': '$'}, 'likes': {'count': 28, 'groups': [{'type': 'others', 'count': 28, 'items': []}], 'summary': '28 Likes'}, 'dislike': False, 'ok': False, 'rating': 8.1, 'ratingColor': '73CF42', 'ratingSignals': 41, 'delivery': {'id': '2027857', 'url': 'https://www.seamless.com/menu/xifu-food-318-livingston-st-new-york/2027857?affiliate=1131&utm_source=foursquare-affiliate-network&utm_medium=affiliate&utm_campaign=1131&utm_content=2027857', 'provider': {'name': 'seamless', 'icon': {'prefix': 'https://fastly.4sqi.net/img/general/cap/', 'sizes': [40, 50], 'name': '/delivery_provider_seamless_20180129.png'}}}, 'allowMenuUrlEdit': True, 'beenHere': {'count': 0, 'unconfirmedCount': 0, 'marked': False, 'lastCheckinExpiredAt': 0}, 'specials': {'count': 0, 'items': []}, 'photos': {'count': 10, 'groups': [{'type': 'venue', 'name': 'Venue photos', 'count': 10, 'items': [{'id': '5e02abe5728a7d0008055a46', 'createdAt': 1577233381, 'source': {'name': 'Swarm for iOS', 'url': 'https://www.swarmapp.com'}, 'prefix': 'https://fastly.4sqi.net/img/general/', 'suffix': '/238317_HMdOiq9M4PVegL4DwZ0ZWj3Wfvc9KtZOYli7vWAV_pE.jpg', 'width': 1440, 'height': 1440, 'user': {'isSanctioned': False, 'firstName': 'greenie', 'lastName': 'm', 'countryCode': 'US'}, 'visibility': 'public'}]}]}, 'reasons': {'count': 0, 'items': []}, 'hereNow': {'count': 0, 'summary': 'Nobody here', 'groups': []}, 'createdAt': 1482519108, 'tips': {'count': 13, 'groups': [{'type': 'others', 'name': 'All tips', 'count': 13, 'items': [{'id': '5d9cea303c996e00079dfbd9', 'createdAt': 1570564656, 'text': 'Dumplings are ok I guess', 'type': 'user', 'canonicalUrl': 'https://foursquare.com/item/5d9cea303c996e00079dfbd9', 'lang': 'en', 'likes': {'count': 0, 'groups': []}, 'logView': True, 'agreeCount': 0, 'disagreeCount': 0, 'todo': {'count': 0}, 'user': {'isSanctioned': False, 'firstName': 'David', 'lastName': 'W', 'countryCode': 'US'}, 'authorInteractionType': 'disliked'}]}]}, 'shortUrl': 'http://4sq.com/2ileCvv', 'timeZone': 'America/New_York', 'listed': {'count': 53, 'groups': [{'type': 'others', 'name': 'Lists from other people', 'count': 53, 'items': [{'id': '5a99ac5175a6ea025d59e30b', 'name': 'New York 2018', 'description': '', 'type': 'others', 'user': {'isSanctioned': False, 'firstName': 'Ollie', 'lastName': 'M', 'countryCode': 'GB'}, 'editable': False, 'public': True, 'collaborative': True, 'url': '/olliejpmartin/list/new-york-2018', 'canonicalUrl': 'https://foursquare.com/olliejpmartin/list/new-york-2018', 'createdAt': 1520020561, 'updatedAt': 1533817637, 'photo': {'id': '502f9ecfe4b0648637b520f7', 'createdAt': 1345298127, 'prefix': 'https://fastly.4sqi.net/img/general/', 'suffix': '/RG-XRePA152FmPZLbw6bd9u1dueI78aqS4LzXDrj72g.jpg', 'width': 640, 'height': 480, 'user': {'isSanctioned': False, 'firstName': 'Megan', 'lastName': 'E', 'countryCode': 'US'}, 'visibility': 'public'}, 'followers': {'count': 1}, 'listItems': {'count': 37, 'items': [{'id': 'v585d72449f25836f2b2b7a1b', 'createdAt': 1533640224}]}}, {'id': '5ba6cb9e491be7002cbd5571', 'name': 'New hood', 'description': '', 'type': 'others', 'user': {'isSanctioned': False, 'firstName': 'Allie', 'lastName': 'J', 'countryCode': 'US'}, 'editable': False, 'public': True, 'collaborative': True, 'url': '/user/67203983/list/new-hood', 'canonicalUrl': 'https://foursquare.com/user/67203983/list/new-hood', 'createdAt': 1537657758, 'updatedAt': 1582059986, 'photo': {'id': '4fb13fc2e4b0771d8373cd56', 'createdAt': 1337016258, 'prefix': 'https://fastly.4sqi.net/img/general/', 'suffix': '/5H4Ptf7NFHUpiciETIwyO_HRWtPe8z93RZ2LSUcgcNk.jpg', 'width': 720, 'height': 540, 'user': {'isSanctioned': False, 'firstName': 'Juliana', 'lastName': '蔡', 'countryCode': 'TH'}, 'visibility': 'public'}, 'followers': {'count': 1}, 'listItems': {'count': 26, 'items': [{'id': 'v585d72449f25836f2b2b7a1b', 'createdAt': 1554216146}]}}, {'id': '57f01746498e608c3d9aaa1b', 'name': 'NYC', 'description': '', 'type': 'others', 'user': {'isSanctioned': False, 'firstName': 'Funfun', 'lastName': 'H', 'countryCode': 'US'}, 'editable': False, 'public': True, 'collaborative': False, 'url': '/user/47963574/list/nyc', 'canonicalUrl': 'https://foursquare.com/user/47963574/list/nyc', 'createdAt': 1475352390, 'updatedAt': 1530922463, 'followers': {'count': 1}, 'listItems': {'count': 147, 'items': [{'id': 'v585d72449f25836f2b2b7a1b', 'createdAt': 1523630447}]}}, {'id': '5a763df3dd8442362ecdfa0e', 'name': 'NYC - Where to eat 2', 'description': '', 'type': 'others', 'user': {'isSanctioned': False, 'firstName': 'Desiree', 'lastName': 'B', 'countryCode': 'US'}, 'editable': False, 'public': True, 'collaborative': False, 'url': '/user/13517/list/nyc--where-to-eat-2', 'canonicalUrl': 'https://foursquare.com/user/13517/list/nyc--where-to-eat-2', 'createdAt': 1517698547, 'updatedAt': 1582984492, 'photo': {'id': '5a6fb736d8096e5cf4760176', 'createdAt': 1517270838, 'prefix': 'https://fastly.4sqi.net/img/general/', 'suffix': '/30792_I1hQn3_2IhKfvioY-C1kpjV-gWztFBTfxnKkrI5BKko.jpg', 'width': 1440, 'height': 1920, 'user': {'isSanctioned': False, 'firstName': 'Sarah', 'countryCode': 'US'}, 'visibility': 'public'}, 'followers': {'count': 0}, 'listItems': {'count': 58, 'items': [{'id': 'v585d72449f25836f2b2b7a1b', 'createdAt': 1549721766}]}}]}]}, 'hours': {'status': 'Open until 8:30 PM', 'richStatus': {'entities': [], 'text': 'Open until 8:30 PM'}, 'isOpen': True, 'isLocalHoliday': False, 'dayData': [], 'timeframes': [{'days': 'Mon–Fri', 'includesToday': True, 'open': [{'renderedTime': '10:00 AM–8:30 PM'}], 'segments': []}, {'days': 'Sat–Sun', 'open': [{'renderedTime': '11:00 AM–8:30 PM'}], 'segments': []}]}, 'popular': {'isOpen': False, 'isLocalHoliday': False, 'timeframes': [{'days': 'Today', 'includesToday': True, 'open': [{'renderedTime': 'Noon–3:00 PM'}, {'renderedTime': '5:00 PM–9:00 PM'}], 'segments': []}, {'days': 'Fri–Sat', 'open': [{'renderedTime': '11:00 AM–9:00 PM'}], 'segments': []}, {'days': 'Sun', 'open': [{'renderedTime': '11:00 AM–8:00 PM'}], 'segments': []}, {'days': 'Mon', 'open': [{'renderedTime': '11:00 AM–9:00 PM'}], 'segments': []}, {'days': 'Tue', 'open': [{'renderedTime': 'Noon–4:00 PM'}, {'renderedTime': '6:00 PM–9:00 PM'}], 'segments': []}, {'days': 'Wed', 'open': [{'renderedTime': '11:00 AM–9:00 PM'}], 'segments': []}]}, 'seasonalHours': [], 'defaultHours': {'status': 'Open until 8:30 PM', 'richStatus': {'entities': [], 'text': 'Open until 8:30 PM'}, 'isOpen': True, 'isLocalHoliday': False, 'dayData': [], 'timeframes': [{'days': 'Mon–Fri', 'includesToday': True, 'open': [{'renderedTime': '10:00 AM–8:30 PM'}], 'segments': []}, {'days': 'Sat–Sun', 'open': [{'renderedTime': '11:00 AM–8:30 PM'}], 'segments': []}]}, 'pageUpdates': {'count': 0, 'items': []}, 'inbox': {'count': 0, 'items': []}, 'attributes': {'groups': [{'type': 'price', 'name': 'Price', 'summary': '$', 'count': 1, 'items': [{'displayName': 'Price', 'displayValue': '$', 'priceTier': 1}]}, {'type': 'reservations', 'name': 'Reservations', 'count': 3, 'items': [{'displayName': 'Reservations', 'displayValue': 'No'}]}, {'type': 'payments', 'name': 'Credit Cards', 'summary': 'Credit Cards', 'count': 7, 'items': [{'displayName': 'Credit Cards', 'displayValue': 'Yes'}]}, {'type': 'outdoorSeating', 'name': 'Outdoor Seating', 'count': 1, 'items': [{'displayName': 'Outdoor Seating', 'displayValue': 'No'}]}, {'type': 'serves', 'name': 'Menus', 'summary': 'Dinner, Lunch & more', 'count': 8, 'items': [{'displayName': 'Brunch', 'displayValue': 'Brunch'}, {'displayName': 'Lunch', 'displayValue': 'Lunch'}, {'displayName': 'Dinner', 'displayValue': 'Dinner'}]}]}, 'bestPhoto': {'id': '5e02abe5728a7d0008055a46', 'createdAt': 1577233381, 'source': {'name': 'Swarm for iOS', 'url': 'https://www.swarmapp.com'}, 'prefix': 'https://fastly.4sqi.net/img/general/', 'suffix': '/238317_HMdOiq9M4PVegL4DwZ0ZWj3Wfvc9KtZOYli7vWAV_pE.jpg', 'width': 1440, 'height': 1440, 'visibility': 'public'}, 'colors': {'highlightColor': {'photoId': '5e02abe5728a7d0008055a46', 'value': -14671840}, 'highlightTextColor': {'photoId': '5e02abe5728a7d0008055a46', 'value': -1}, 'algoVersion': 3}}}}\n",
      "                         ID       Name  Likes  Rating  Tips\n",
      "0  585d72449f25836f2b2b7a1b  Xifu Food     28     8.1    13\n",
      "( 48 / 180 ) processed\n"
     ]
    },
    {
     "name": "stdout",
     "output_type": "stream",
     "text": [
      "{'meta': {'code': 200, 'requestId': '5fc9548da5b71d40e915ea80'}, 'response': {'venue': {'id': '4f4464ed19836ed00193d4a6', 'name': 'Good Taste Chinese Restaurant', 'contact': {'phone': '7184856868', 'formattedPhone': '(718) 485-6868'}, 'location': {'address': '126 Hull St', 'lat': 40.679237, 'lng': -73.910843, 'labeledLatLngs': [{'label': 'display', 'lat': 40.679237, 'lng': -73.910843}, {'label': 'entrance', 'lat': 40.679221, 'lng': -73.9109}], 'postalCode': '11233', 'cc': 'US', 'city': 'Brooklyn', 'state': 'NY', 'country': 'United States', 'formattedAddress': ['126 Hull St', 'Brooklyn, NY 11233', 'United States']}, 'canonicalUrl': 'https://foursquare.com/v/good-taste-chinese-restaurant/4f4464ed19836ed00193d4a6', 'categories': [{'id': '4bf58dd8d48988d145941735', 'name': 'Chinese Restaurant', 'pluralName': 'Chinese Restaurants', 'shortName': 'Chinese', 'icon': {'prefix': 'https://ss3.4sqi.net/img/categories_v2/food/asian_', 'suffix': '.png'}, 'primary': True}], 'verified': False, 'stats': {'tipCount': 0}, 'price': {'tier': 1, 'message': 'Cheap', 'currency': '$'}, 'likes': {'count': 0, 'groups': []}, 'dislike': False, 'ok': False, 'allowMenuUrlEdit': True, 'beenHere': {'count': 0, 'unconfirmedCount': 0, 'marked': False, 'lastCheckinExpiredAt': 0}, 'specials': {'count': 0, 'items': []}, 'photos': {'count': 0, 'groups': []}, 'reasons': {'count': 0, 'items': []}, 'hereNow': {'count': 0, 'summary': 'Nobody here', 'groups': []}, 'createdAt': 1329882349, 'tips': {'count': 0, 'groups': []}, 'shortUrl': 'http://4sq.com/JiRC5z', 'timeZone': 'America/New_York', 'listed': {'count': 0, 'groups': [{'type': 'others', 'name': 'Lists from other people', 'count': 0, 'items': []}]}, 'seasonalHours': [], 'pageUpdates': {'count': 0, 'items': []}, 'inbox': {'count': 0, 'items': []}, 'attributes': {'groups': [{'type': 'price', 'name': 'Price', 'summary': '$', 'count': 1, 'items': [{'displayName': 'Price', 'displayValue': '$', 'priceTier': 1}]}]}}}}\n",
      "Empty DataFrame\n",
      "Columns: [ID, Name, Likes, Rating, Tips]\n",
      "Index: []\n",
      "No data available for id= 4f4464ed19836ed00193d4a6\n",
      "( 49 / 180 ) processed\n",
      "{'meta': {'code': 200, 'requestId': '5fc9548deb5eb63f470d615c'}, 'response': {'venue': {'id': '58df00318cfe546addb99246', 'name': 'Birds of a Feather', 'contact': {'phone': '7189696800', 'formattedPhone': '(718) 969-6800', 'instagram': 'birdsofafeatherbk'}, 'location': {'address': '191 Grand St', 'crossStreet': 'btwn Bedford & Driggs Ave', 'lat': 40.71426224260337, 'lng': -73.96057226233967, 'labeledLatLngs': [{'label': 'display', 'lat': 40.71426224260337, 'lng': -73.96057226233967}, {'label': 'entrance', 'lat': 40.714297, 'lng': -73.960548}], 'postalCode': '11211', 'cc': 'US', 'city': 'Brooklyn', 'state': 'NY', 'country': 'United States', 'formattedAddress': ['191 Grand St (btwn Bedford & Driggs Ave)', 'Brooklyn, NY 11211', 'United States']}, 'canonicalUrl': 'https://foursquare.com/v/birds-of-a-feather/58df00318cfe546addb99246', 'categories': [{'id': '4bf58dd8d48988d145941735', 'name': 'Chinese Restaurant', 'pluralName': 'Chinese Restaurants', 'shortName': 'Chinese', 'icon': {'prefix': 'https://ss3.4sqi.net/img/categories_v2/food/asian_', 'suffix': '.png'}, 'primary': True}, {'id': '52af3b773cf9994f4e043c03', 'name': 'Szechuan Restaurant', 'pluralName': 'Szechuan Restaurants', 'shortName': 'Szechuan', 'icon': {'prefix': 'https://ss3.4sqi.net/img/categories_v2/food/asian_', 'suffix': '.png'}}], 'verified': False, 'stats': {'tipCount': 75}, 'url': 'http://birdsofafeatherny.com', 'price': {'tier': 1, 'message': 'Cheap', 'currency': '$'}, 'likes': {'count': 352, 'groups': [{'type': 'others', 'count': 352, 'items': []}], 'summary': '352 Likes'}, 'dislike': False, 'ok': False, 'rating': 9.0, 'ratingColor': '00B551', 'ratingSignals': 455, 'delivery': {'id': '405465', 'url': 'https://www.seamless.com/menu/birds-of-a-feather-191-grand-st-brooklyn/405465?affiliate=1131&utm_source=foursquare-affiliate-network&utm_medium=affiliate&utm_campaign=1131&utm_content=405465', 'provider': {'name': 'seamless', 'icon': {'prefix': 'https://fastly.4sqi.net/img/general/cap/', 'sizes': [40, 50], 'name': '/delivery_provider_seamless_20180129.png'}}}, 'menu': {'type': 'Menu', 'label': 'Menu', 'anchor': 'View Menu', 'url': 'https://www.scribd.com/document/344301970/Birds-of-a-Feather-Menu-for-Soft-Opening', 'mobileUrl': 'https://www.scribd.com/document/344301970/Birds-of-a-Feather-Menu-for-Soft-Opening', 'externalUrl': 'https://www.scribd.com/document/344301970/Birds-of-a-Feather-Menu-for-Soft-Opening'}, 'allowMenuUrlEdit': True, 'beenHere': {'count': 0, 'unconfirmedCount': 0, 'marked': False, 'lastCheckinExpiredAt': 0}, 'specials': {'count': 0, 'items': []}, 'photos': {'count': 196, 'groups': [{'type': 'venue', 'name': 'Venue photos', 'count': 196, 'items': [{'id': '5a2de45a947c051bc366933b', 'createdAt': 1512957018, 'source': {'name': 'Swarm for iOS', 'url': 'https://www.swarmapp.com'}, 'prefix': 'https://fastly.4sqi.net/img/general/', 'suffix': '/697943_8T6-K5b9Ixufuh-x-4JAwUDhPAKW-QpkGUvitbdD9ag.jpg', 'width': 1440, 'height': 1440, 'user': {'isSanctioned': False, 'firstName': 'Noah', 'lastName': 'W', 'countryCode': 'US'}, 'visibility': 'public'}]}]}, 'reasons': {'count': 1, 'items': [{'summary': 'Lots of people like this place', 'type': 'general', 'reasonName': 'rawLikesReason'}]}, 'description': 'Authentic Sichuan Cruisine served in a clean and modern space', 'hereNow': {'count': 2, 'summary': '2 people are here', 'groups': [{'type': 'others', 'name': 'Other people here', 'count': 2, 'items': []}]}, 'createdAt': 1491009585, 'tips': {'count': 75, 'groups': [{'type': 'others', 'name': 'All tips', 'count': 75, 'items': [{'id': '5d9a4e8ce419930007adda6d', 'createdAt': 1570393740, 'text': 'NYT recommends sliced pork belly on pickled mustard greens; spicy soft-shell crab; braised beef for two; double-cooked pork; steamed czi ba; rice wine soup with rice balls.', 'type': 'user', 'canonicalUrl': 'https://foursquare.com/item/5d9a4e8ce419930007adda6d', 'lang': 'en', 'likes': {'count': 0, 'groups': []}, 'logView': True, 'agreeCount': 0, 'disagreeCount': 0, 'todo': {'count': 0}, 'user': {'isSanctioned': False, 'firstName': 'Stephen', 'lastName': 'P', 'countryCode': 'TW'}}]}]}, 'shortUrl': 'http://4sq.com/2ol96Mk', 'timeZone': 'America/New_York', 'listed': {'count': 881, 'groups': [{'type': 'others', 'name': 'Lists from other people', 'count': 881, 'items': [{'id': '5907873b419a9e2ce9dc2864', 'name': 'Foursquare Finds', 'description': 'Insider tips from Foursquare employees around the world, updated every month.', 'type': 'others', 'user': {'isSanctioned': False, 'firstName': 'Foursquare City Guide', 'countryCode': 'US', 'type': 'page'}, 'editable': False, 'public': True, 'collaborative': False, 'url': '/foursquare/list/foursquare-finds', 'canonicalUrl': 'https://foursquare.com/foursquare/list/foursquare-finds', 'createdAt': 1493665595, 'updatedAt': 1501711893, 'photo': {'id': '53668208498ef1db24c84757', 'createdAt': 1399226888, 'prefix': 'https://fastly.4sqi.net/img/general/', 'suffix': '/131064_9yNEBrBbbK7ScO3JRwuuDsBfqG2uIx3u9MA2NEPbGqQ.jpg', 'width': 719, 'height': 960, 'user': {'isSanctioned': False, 'firstName': 'Jesse', 'lastName': 'T', 'countryCode': 'US'}, 'visibility': 'public'}, 'logView': True, 'followers': {'count': 58}, 'listItems': {'count': 41, 'items': [{'id': 't595840b7efa82a7a957a8c58', 'createdAt': 1501711518, 'photo': {'id': '5956df1ef62f2b5d408df215', 'createdAt': 1498865438, 'prefix': 'https://fastly.4sqi.net/img/general/', 'suffix': '/48452634_rkHCwLy_QbQq_HgeyAiL2YPCvDavcH1UPzO3aKJ8Els.jpg', 'width': 1440, 'height': 1920, 'user': {'isSanctioned': False, 'firstName': 'Trevor', 'lastName': 'D', 'countryCode': 'US'}, 'visibility': 'public'}}]}}, {'id': '4e87d3adbe7b195e36dce876', 'name': 'CBM in NYC', 'description': 'Mostly Manhattan! For Williamsburg, Brooklyn tips see CBM in Williamsburg.', 'type': 'others', 'user': {'isSanctioned': False, 'firstName': 'CBM \\ue12b', 'countryCode': 'US'}, 'editable': False, 'public': True, 'collaborative': False, 'url': '/cbm/list/cbm-in-nyc', 'canonicalUrl': 'https://foursquare.com/cbm/list/cbm-in-nyc', 'createdAt': 1317524397, 'updatedAt': 1579652312, 'photo': {'id': '5084541ae4b0921f5d50b0ba', 'createdAt': 1350849562, 'prefix': 'https://fastly.4sqi.net/img/general/', 'suffix': '/3925830_mkZKZba1Jo4PhEnGQpb1Qc6nX6oEKmBy5wRFWHBdSSQ.jpg', 'width': 540, 'height': 720, 'user': {'isSanctioned': False, 'firstName': 'Todd', 'lastName': 'S', 'countryCode': 'DE'}, 'visibility': 'public'}, 'followers': {'count': 45}, 'listItems': {'count': 59, 'items': [{'id': 'v58df00318cfe546addb99246', 'createdAt': 1579652312}]}}, {'id': '4e7c15fac65b61966e8dd8c6', 'name': 'Williamsburg To-Do (or Return)', 'description': '', 'type': 'others', 'user': {'isSanctioned': False, 'firstName': 'Christopherr', 'lastName': 'C', 'countryCode': 'US'}, 'editable': False, 'public': True, 'collaborative': False, 'url': '/thethese/list/williamsburg-todo-or-return', 'canonicalUrl': 'https://foursquare.com/thethese/list/williamsburg-todo-or-return', 'createdAt': 1316754938, 'updatedAt': 1582527834, 'photo': {'id': '50bd8628e4b0895ab4edc3bb', 'createdAt': 1354597928, 'prefix': 'https://fastly.4sqi.net/img/general/', 'suffix': '/649187_Ti-8Wb4LaDH3BaVMtoKMz8HAX4CaCYfbqWGXAXtu30c.jpg', 'width': 612, 'height': 612, 'user': {'isSanctioned': False, 'firstName': 'Jenny', 'lastName': 'S', 'countryCode': 'US'}, 'visibility': 'public'}, 'followers': {'count': 182}, 'listItems': {'count': 126, 'items': [{'id': 'v58df00318cfe546addb99246', 'createdAt': 1500136821}]}}, {'id': '4f066f8ee5fa76365a2b7e45', 'name': 'Favorite NYC restaurants', 'description': 'My favorites range from formal French service to rogue smokers in the dining room under buzzing florescent lights. It all boils down to the food.', 'type': 'others', 'user': {'isSanctioned': False, 'firstName': 'Dan', 'lastName': 'K', 'countryCode': 'US'}, 'editable': False, 'public': True, 'collaborative': False, 'url': '/user/23355/list/favorite-nyc-restaurants', 'canonicalUrl': 'https://foursquare.com/user/23355/list/favorite-nyc-restaurants', 'createdAt': 1325821838, 'updatedAt': 1583544816, 'photo': {'id': '4dff811aa12d231074fa4ef3', 'createdAt': 1308590362, 'prefix': 'https://fastly.4sqi.net/img/general/', 'suffix': '/VQILTMF2AJDZISBGICA4W3RAZSPQGFOAGTK2MEUMAVTDLOQL.jpg', 'width': 537, 'height': 720, 'user': {'isSanctioned': False, 'firstName': 'Anna', 'lastName': 'G', 'countryCode': 'US'}, 'visibility': 'public'}, 'followers': {'count': 65}, 'listItems': {'count': 180, 'items': [{'id': 'v58df00318cfe546addb99246', 'createdAt': 1501879799}]}}]}]}, 'hours': {'status': 'Closed until 6:00 PM', 'richStatus': {'entities': [], 'text': 'Closed until 6:00 PM'}, 'isOpen': False, 'isLocalHoliday': False, 'dayData': [], 'timeframes': [{'days': 'Mon–Thu', 'includesToday': True, 'open': [{'renderedTime': 'Noon–4:00 PM'}, {'renderedTime': '6:00 PM–10:30 PM'}], 'segments': []}, {'days': 'Fri', 'open': [{'renderedTime': 'Noon–4:00 PM'}, {'renderedTime': '6:00 PM–11:30 PM'}], 'segments': []}, {'days': 'Sat', 'open': [{'renderedTime': 'Noon–11:30 PM'}], 'segments': []}, {'days': 'Sun', 'open': [{'renderedTime': 'Noon–10:30 PM'}], 'segments': []}]}, 'popular': {'isOpen': False, 'isLocalHoliday': False, 'timeframes': [{'days': 'Today', 'includesToday': True, 'open': [{'renderedTime': '6:00 PM–10:00 PM'}], 'segments': []}, {'days': 'Fri', 'open': [{'renderedTime': 'Noon–1:00 PM'}, {'renderedTime': '6:00 PM–11:00 PM'}], 'segments': []}, {'days': 'Sat', 'open': [{'renderedTime': 'Noon–11:00 PM'}], 'segments': []}, {'days': 'Sun', 'open': [{'renderedTime': 'Noon–10:00 PM'}], 'segments': []}, {'days': 'Mon', 'open': [{'renderedTime': '6:00 PM–10:00 PM'}], 'segments': []}, {'days': 'Tue', 'open': [{'renderedTime': '1:00 PM–2:00 PM'}, {'renderedTime': '6:00 PM–10:00 PM'}], 'segments': []}, {'days': 'Wed', 'open': [{'renderedTime': '6:00 PM–10:00 PM'}], 'segments': []}]}, 'seasonalHours': [], 'defaultHours': {'status': 'Closed until 6:00 PM', 'richStatus': {'entities': [], 'text': 'Closed until 6:00 PM'}, 'isOpen': False, 'isLocalHoliday': False, 'dayData': [], 'timeframes': [{'days': 'Mon–Thu', 'includesToday': True, 'open': [{'renderedTime': 'Noon–4:00 PM'}, {'renderedTime': '6:00 PM–10:30 PM'}], 'segments': []}, {'days': 'Fri', 'open': [{'renderedTime': 'Noon–4:00 PM'}, {'renderedTime': '6:00 PM–11:30 PM'}], 'segments': []}, {'days': 'Sat', 'open': [{'renderedTime': 'Noon–11:30 PM'}], 'segments': []}, {'days': 'Sun', 'open': [{'renderedTime': 'Noon–10:30 PM'}], 'segments': []}]}, 'pageUpdates': {'count': 0, 'items': []}, 'inbox': {'count': 0, 'items': []}, 'attributes': {'groups': [{'type': 'price', 'name': 'Price', 'summary': '$', 'count': 1, 'items': [{'displayName': 'Price', 'displayValue': '$', 'priceTier': 1}]}, {'type': 'reservations', 'name': 'Reservations', 'summary': 'Reservations', 'count': 3, 'items': [{'displayName': 'Reservations', 'displayValue': 'Yes'}]}, {'type': 'payments', 'name': 'Credit Cards', 'summary': 'Credit Cards', 'count': 7, 'items': [{'displayName': 'Credit Cards', 'displayValue': 'Yes (incl. Discover & Visa)'}]}, {'type': 'outdoorSeating', 'name': 'Outdoor Seating', 'count': 1, 'items': [{'displayName': 'Outdoor Seating', 'displayValue': 'No'}]}, {'type': 'serves', 'name': 'Menus', 'summary': 'Dessert, Brunch & more', 'count': 8, 'items': [{'displayName': 'Brunch', 'displayValue': 'Brunch'}, {'displayName': 'Lunch', 'displayValue': 'Lunch'}, {'displayName': 'Dinner', 'displayValue': 'Dinner'}, {'displayName': 'Dessert', 'displayValue': 'Dessert'}]}, {'type': 'drinks', 'name': 'Drinks', 'summary': 'Wine & BYO', 'count': 5, 'items': [{'displayName': 'Wine', 'displayValue': 'Wine'}, {'displayName': 'BYO', 'displayValue': 'BYO'}]}, {'type': 'diningOptions', 'name': 'Dining Options', 'summary': 'Take-out & Delivery', 'count': 5, 'items': [{'displayName': 'Take-out', 'displayValue': 'Take-out'}, {'displayName': 'Delivery', 'displayValue': 'Delivery'}]}, {'type': 'parking', 'name': 'Parking', 'summary': 'Street Parking', 'count': 5, 'items': [{'displayName': 'Street Parking', 'displayValue': 'Street'}]}, {'type': 'restroom', 'name': 'Restroom', 'summary': 'Restroom', 'count': 1, 'items': [{'displayName': 'Restroom', 'displayValue': 'Yes'}]}, {'type': 'wheelchairAccessible', 'name': 'Wheelchair Accessible', 'summary': 'Wheelchair Accessible', 'count': 1, 'items': [{'displayName': 'Wheelchair Accessible', 'displayValue': 'Yes'}]}]}, 'bestPhoto': {'id': '5a2de45a947c051bc366933b', 'createdAt': 1512957018, 'source': {'name': 'Swarm for iOS', 'url': 'https://www.swarmapp.com'}, 'prefix': 'https://fastly.4sqi.net/img/general/', 'suffix': '/697943_8T6-K5b9Ixufuh-x-4JAwUDhPAKW-QpkGUvitbdD9ag.jpg', 'width': 1440, 'height': 1440, 'visibility': 'public'}, 'colors': {'highlightColor': {'photoId': '5a2de45a947c051bc366933b', 'value': -13625344}, 'highlightTextColor': {'photoId': '5a2de45a947c051bc366933b', 'value': -1}, 'algoVersion': 3}}}}\n",
      "                         ID                Name  Likes  Rating  Tips\n",
      "0  58df00318cfe546addb99246  Birds of a Feather    352     9.0    75\n",
      "( 50 / 180 ) processed\n"
     ]
    },
    {
     "name": "stdout",
     "output_type": "stream",
     "text": [
      "{'meta': {'code': 429, 'errorType': 'quota_exceeded', 'errorDetail': 'Quota exceeded', 'requestId': '5fc9548edffa6f58c5b99f47'}, 'response': {}}\n"
     ]
    },
    {
     "ename": "KeyError",
     "evalue": "'venue'",
     "output_type": "error",
     "traceback": [
      "\u001b[0;31m---------------------------------------------------------------------------\u001b[0m",
      "\u001b[0;31mKeyError\u001b[0m                                  Traceback (most recent call last)",
      "\u001b[0;32m<ipython-input-42-b2e11eb21eba>\u001b[0m in \u001b[0;36m<module>\u001b[0;34m\u001b[0m\n\u001b[1;32m      5\u001b[0m     \u001b[0mBorough\u001b[0m\u001b[0;34m,\u001b[0m\u001b[0mNeighborhood\u001b[0m\u001b[0;34m,\u001b[0m\u001b[0mID\u001b[0m\u001b[0;34m,\u001b[0m\u001b[0mName\u001b[0m\u001b[0;34m=\u001b[0m\u001b[0mrow\u001b[0m\u001b[0;34m\u001b[0m\u001b[0;34m\u001b[0m\u001b[0m\n\u001b[1;32m      6\u001b[0m     \u001b[0;32mtry\u001b[0m\u001b[0;34m:\u001b[0m\u001b[0;34m\u001b[0m\u001b[0;34m\u001b[0m\u001b[0m\n\u001b[0;32m----> 7\u001b[0;31m         \u001b[0mvenue_details\u001b[0m\u001b[0;34m=\u001b[0m\u001b[0mget_venue_details\u001b[0m\u001b[0;34m(\u001b[0m\u001b[0mID\u001b[0m\u001b[0;34m)\u001b[0m\u001b[0;34m\u001b[0m\u001b[0;34m\u001b[0m\u001b[0m\n\u001b[0m\u001b[1;32m      8\u001b[0m         \u001b[0mprint\u001b[0m\u001b[0;34m(\u001b[0m\u001b[0mvenue_details\u001b[0m\u001b[0;34m)\u001b[0m\u001b[0;34m\u001b[0m\u001b[0;34m\u001b[0m\u001b[0m\n\u001b[1;32m      9\u001b[0m         \u001b[0mid\u001b[0m\u001b[0;34m,\u001b[0m\u001b[0mname\u001b[0m\u001b[0;34m,\u001b[0m\u001b[0mlikes\u001b[0m\u001b[0;34m,\u001b[0m\u001b[0mrating\u001b[0m\u001b[0;34m,\u001b[0m\u001b[0mtips\u001b[0m\u001b[0;34m=\u001b[0m\u001b[0mvenue_details\u001b[0m\u001b[0;34m.\u001b[0m\u001b[0mvalues\u001b[0m\u001b[0;34m.\u001b[0m\u001b[0mtolist\u001b[0m\u001b[0;34m(\u001b[0m\u001b[0;34m)\u001b[0m\u001b[0;34m[\u001b[0m\u001b[0;36m0\u001b[0m\u001b[0;34m]\u001b[0m\u001b[0;34m\u001b[0m\u001b[0;34m\u001b[0m\u001b[0m\n",
      "\u001b[0;32m<ipython-input-16-84733b02a2aa>\u001b[0m in \u001b[0;36mget_venue_details\u001b[0;34m(venue_id)\u001b[0m\n\u001b[1;32m     48\u001b[0m     \u001b[0mresults\u001b[0m \u001b[0;34m=\u001b[0m \u001b[0mrequests\u001b[0m\u001b[0;34m.\u001b[0m\u001b[0mget\u001b[0m\u001b[0;34m(\u001b[0m\u001b[0murl\u001b[0m\u001b[0;34m)\u001b[0m\u001b[0;34m.\u001b[0m\u001b[0mjson\u001b[0m\u001b[0;34m(\u001b[0m\u001b[0;34m)\u001b[0m\u001b[0;34m\u001b[0m\u001b[0;34m\u001b[0m\u001b[0m\n\u001b[1;32m     49\u001b[0m     \u001b[0mprint\u001b[0m\u001b[0;34m(\u001b[0m\u001b[0mresults\u001b[0m\u001b[0;34m)\u001b[0m\u001b[0;34m\u001b[0m\u001b[0;34m\u001b[0m\u001b[0m\n\u001b[0;32m---> 50\u001b[0;31m     \u001b[0mvenue_data\u001b[0m\u001b[0;34m=\u001b[0m\u001b[0mresults\u001b[0m\u001b[0;34m[\u001b[0m\u001b[0;34m'response'\u001b[0m\u001b[0;34m]\u001b[0m\u001b[0;34m[\u001b[0m\u001b[0;34m'venue'\u001b[0m\u001b[0;34m]\u001b[0m\u001b[0;34m\u001b[0m\u001b[0;34m\u001b[0m\u001b[0m\n\u001b[0m\u001b[1;32m     51\u001b[0m     \u001b[0mvenue_details\u001b[0m\u001b[0;34m=\u001b[0m\u001b[0;34m[\u001b[0m\u001b[0;34m]\u001b[0m\u001b[0;34m\u001b[0m\u001b[0;34m\u001b[0m\u001b[0m\n\u001b[1;32m     52\u001b[0m     \u001b[0;32mtry\u001b[0m\u001b[0;34m:\u001b[0m\u001b[0;34m\u001b[0m\u001b[0;34m\u001b[0m\u001b[0m\n",
      "\u001b[0;31mKeyError\u001b[0m: 'venue'"
     ]
    }
   ],
   "source": [
    "column_names=['Borough', 'Neighborhood', 'ID','Name','Likes','Rating','Tips']\n",
    "chinese_rest_stats_ny=pd.DataFrame(columns=column_names)\n",
    "count=1\n",
    "for row in df_c.values.tolist():\n",
    "    Borough,Neighborhood,ID,Name=row\n",
    "    try:\n",
    "        venue_details=get_venue_details(ID)\n",
    "        print(venue_details)\n",
    "        id,name,likes,rating,tips=venue_details.values.tolist()[0]\n",
    "    except IndexError:\n",
    "        print('No data available for id=',ID)\n",
    "        # we will assign 0 value for these resturants as they may have been \n",
    "        #recently opened or details does not exist in FourSquare Database\n",
    "        id,name,likes,rating,tips=[0]*5\n",
    "    print('(',count,'/',len(df_c),')','processed')\n",
    "    chinese_rest_stats_ny = chinese_rest_stats_ny.append({'Borough': Borough,\n",
    "                                                'Neighborhood': Neighborhood, \n",
    "                                                'ID': id,\n",
    "                                                'Name' : name,\n",
    "                                                'Likes' : likes,\n",
    "                                                'Rating' : rating,\n",
    "                                                'Tips' : tips\n",
    "                                               }, ignore_index=True)\n",
    "    count+=1\n"
   ]
  },
  {
   "cell_type": "code",
   "execution_count": 43,
   "metadata": {},
   "outputs": [
    {
     "data": {
      "text/html": [
       "<div>\n",
       "<style scoped>\n",
       "    .dataframe tbody tr th:only-of-type {\n",
       "        vertical-align: middle;\n",
       "    }\n",
       "\n",
       "    .dataframe tbody tr th {\n",
       "        vertical-align: top;\n",
       "    }\n",
       "\n",
       "    .dataframe thead th {\n",
       "        text-align: right;\n",
       "    }\n",
       "</style>\n",
       "<table border=\"1\" class=\"dataframe\">\n",
       "  <thead>\n",
       "    <tr style=\"text-align: right;\">\n",
       "      <th></th>\n",
       "      <th>Borough</th>\n",
       "      <th>Neighborhood</th>\n",
       "      <th>ID</th>\n",
       "      <th>Name</th>\n",
       "      <th>Likes</th>\n",
       "      <th>Rating</th>\n",
       "      <th>Tips</th>\n",
       "    </tr>\n",
       "  </thead>\n",
       "  <tbody>\n",
       "    <tr>\n",
       "      <th>45</th>\n",
       "      <td>Brooklyn</td>\n",
       "      <td>Downtown</td>\n",
       "      <td>5db3649a8d15ba00089b4e9b</td>\n",
       "      <td>Xi'an Famous Foods</td>\n",
       "      <td>9</td>\n",
       "      <td>8.8</td>\n",
       "      <td>3</td>\n",
       "    </tr>\n",
       "    <tr>\n",
       "      <th>46</th>\n",
       "      <td>Brooklyn</td>\n",
       "      <td>Downtown</td>\n",
       "      <td>585d72449f25836f2b2b7a1b</td>\n",
       "      <td>Xifu Food</td>\n",
       "      <td>28</td>\n",
       "      <td>8.1</td>\n",
       "      <td>13</td>\n",
       "    </tr>\n",
       "    <tr>\n",
       "      <th>47</th>\n",
       "      <td>Brooklyn</td>\n",
       "      <td>Boerum Hill</td>\n",
       "      <td>585d72449f25836f2b2b7a1b</td>\n",
       "      <td>Xifu Food</td>\n",
       "      <td>28</td>\n",
       "      <td>8.1</td>\n",
       "      <td>13</td>\n",
       "    </tr>\n",
       "    <tr>\n",
       "      <th>48</th>\n",
       "      <td>Brooklyn</td>\n",
       "      <td>Ocean Hill</td>\n",
       "      <td>0</td>\n",
       "      <td>0</td>\n",
       "      <td>0</td>\n",
       "      <td>0</td>\n",
       "      <td>0</td>\n",
       "    </tr>\n",
       "    <tr>\n",
       "      <th>49</th>\n",
       "      <td>Brooklyn</td>\n",
       "      <td>North Side</td>\n",
       "      <td>58df00318cfe546addb99246</td>\n",
       "      <td>Birds of a Feather</td>\n",
       "      <td>352</td>\n",
       "      <td>9</td>\n",
       "      <td>75</td>\n",
       "    </tr>\n",
       "  </tbody>\n",
       "</table>\n",
       "</div>"
      ],
      "text/plain": [
       "     Borough Neighborhood                        ID                Name Likes  \\\n",
       "45  Brooklyn     Downtown  5db3649a8d15ba00089b4e9b  Xi'an Famous Foods     9   \n",
       "46  Brooklyn     Downtown  585d72449f25836f2b2b7a1b           Xifu Food    28   \n",
       "47  Brooklyn  Boerum Hill  585d72449f25836f2b2b7a1b           Xifu Food    28   \n",
       "48  Brooklyn   Ocean Hill                         0                   0     0   \n",
       "49  Brooklyn   North Side  58df00318cfe546addb99246  Birds of a Feather   352   \n",
       "\n",
       "   Rating Tips  \n",
       "45    8.8    3  \n",
       "46    8.1   13  \n",
       "47    8.1   13  \n",
       "48      0    0  \n",
       "49      9   75  "
      ]
     },
     "execution_count": 43,
     "metadata": {},
     "output_type": "execute_result"
    }
   ],
   "source": [
    "chinese_rest_stats_ny.tail()"
   ]
  },
  {
   "cell_type": "code",
   "execution_count": 79,
   "metadata": {},
   "outputs": [],
   "source": [
    "chinese_rest_stats_ny.to_csv('chinese_rest2.csv') # As I move through this project I continue to save data to a .csv file"
   ]
  },
  {
   "cell_type": "code",
   "execution_count": 44,
   "metadata": {},
   "outputs": [
    {
     "name": "stdout",
     "output_type": "stream",
     "text": [
      "<class 'pandas.core.frame.DataFrame'>\n",
      "RangeIndex: 50 entries, 0 to 49\n",
      "Data columns (total 7 columns):\n",
      " #   Column        Non-Null Count  Dtype \n",
      "---  ------        --------------  ----- \n",
      " 0   Borough       50 non-null     object\n",
      " 1   Neighborhood  50 non-null     object\n",
      " 2   ID            50 non-null     object\n",
      " 3   Name          50 non-null     object\n",
      " 4   Likes         50 non-null     object\n",
      " 5   Rating        50 non-null     object\n",
      " 6   Tips          50 non-null     object\n",
      "dtypes: object(7)\n",
      "memory usage: 2.9+ KB\n"
     ]
    }
   ],
   "source": [
    "chinese_rest_stats_ny.info()"
   ]
  },
  {
   "cell_type": "code",
   "execution_count": 48,
   "metadata": {},
   "outputs": [
    {
     "name": "stdout",
     "output_type": "stream",
     "text": [
      "<class 'pandas.core.frame.DataFrame'>\n",
      "RangeIndex: 50 entries, 0 to 49\n",
      "Data columns (total 7 columns):\n",
      " #   Column        Non-Null Count  Dtype  \n",
      "---  ------        --------------  -----  \n",
      " 0   Borough       50 non-null     object \n",
      " 1   Neighborhood  50 non-null     object \n",
      " 2   ID            50 non-null     object \n",
      " 3   Name          50 non-null     object \n",
      " 4   Likes         50 non-null     float64\n",
      " 5   Rating        50 non-null     float64\n",
      " 6   Tips          50 non-null     float64\n",
      "dtypes: float64(3), object(4)\n",
      "memory usage: 2.9+ KB\n"
     ]
    }
   ],
   "source": [
    "chinese_rest_stats_ny['Likes'] = chinese_rest_stats_ny['Likes'].astype('float64')\n",
    "chinese_rest_stats_ny['Tips'] = chinese_rest_stats_ny['Tips'].astype('float64')\n",
    "chinese_rest_stats_ny['Rating'] = chinese_rest_stats_ny['Rating'].astype('float64')\n",
    "chinese_rest_stats_ny.info()"
   ]
  },
  {
   "cell_type": "code",
   "execution_count": 49,
   "metadata": {},
   "outputs": [
    {
     "data": {
      "text/html": [
       "<div>\n",
       "<style scoped>\n",
       "    .dataframe tbody tr th:only-of-type {\n",
       "        vertical-align: middle;\n",
       "    }\n",
       "\n",
       "    .dataframe tbody tr th {\n",
       "        vertical-align: top;\n",
       "    }\n",
       "\n",
       "    .dataframe thead th {\n",
       "        text-align: right;\n",
       "    }\n",
       "</style>\n",
       "<table border=\"1\" class=\"dataframe\">\n",
       "  <thead>\n",
       "    <tr style=\"text-align: right;\">\n",
       "      <th></th>\n",
       "      <th>Likes</th>\n",
       "      <th>Rating</th>\n",
       "      <th>Tips</th>\n",
       "    </tr>\n",
       "  </thead>\n",
       "  <tbody>\n",
       "    <tr>\n",
       "      <th>count</th>\n",
       "      <td>50.000000</td>\n",
       "      <td>50.00000</td>\n",
       "      <td>50.000000</td>\n",
       "    </tr>\n",
       "    <tr>\n",
       "      <th>mean</th>\n",
       "      <td>20.740000</td>\n",
       "      <td>3.25800</td>\n",
       "      <td>8.220000</td>\n",
       "    </tr>\n",
       "    <tr>\n",
       "      <th>std</th>\n",
       "      <td>58.948892</td>\n",
       "      <td>3.64832</td>\n",
       "      <td>17.386706</td>\n",
       "    </tr>\n",
       "    <tr>\n",
       "      <th>min</th>\n",
       "      <td>0.000000</td>\n",
       "      <td>0.00000</td>\n",
       "      <td>0.000000</td>\n",
       "    </tr>\n",
       "    <tr>\n",
       "      <th>25%</th>\n",
       "      <td>0.000000</td>\n",
       "      <td>0.00000</td>\n",
       "      <td>0.000000</td>\n",
       "    </tr>\n",
       "    <tr>\n",
       "      <th>50%</th>\n",
       "      <td>0.000000</td>\n",
       "      <td>0.00000</td>\n",
       "      <td>0.000000</td>\n",
       "    </tr>\n",
       "    <tr>\n",
       "      <th>75%</th>\n",
       "      <td>6.000000</td>\n",
       "      <td>6.65000</td>\n",
       "      <td>7.250000</td>\n",
       "    </tr>\n",
       "    <tr>\n",
       "      <th>max</th>\n",
       "      <td>352.000000</td>\n",
       "      <td>9.00000</td>\n",
       "      <td>77.000000</td>\n",
       "    </tr>\n",
       "  </tbody>\n",
       "</table>\n",
       "</div>"
      ],
      "text/plain": [
       "            Likes    Rating       Tips\n",
       "count   50.000000  50.00000  50.000000\n",
       "mean    20.740000   3.25800   8.220000\n",
       "std     58.948892   3.64832  17.386706\n",
       "min      0.000000   0.00000   0.000000\n",
       "25%      0.000000   0.00000   0.000000\n",
       "50%      0.000000   0.00000   0.000000\n",
       "75%      6.000000   6.65000   7.250000\n",
       "max    352.000000   9.00000  77.000000"
      ]
     },
     "execution_count": 49,
     "metadata": {},
     "output_type": "execute_result"
    }
   ],
   "source": [
    "chinese_rest_stats_ny.describe()"
   ]
  },
  {
   "cell_type": "code",
   "execution_count": 52,
   "metadata": {},
   "outputs": [
    {
     "data": {
      "text/plain": [
       "Borough                         Brooklyn\n",
       "Neighborhood                  North Side\n",
       "ID              58df00318cfe546addb99246\n",
       "Name                  Birds of a Feather\n",
       "Likes                                352\n",
       "Rating                                 9\n",
       "Tips                                  75\n",
       "Name: 49, dtype: object"
      ]
     },
     "execution_count": 52,
     "metadata": {},
     "output_type": "execute_result"
    }
   ],
   "source": [
    "\n",
    "# Resturant with maximum Likes\n",
    "chinese_rest_stats_ny.iloc[chinese_rest_stats_ny['Likes'].idxmax()]"
   ]
  },
  {
   "cell_type": "code",
   "execution_count": 53,
   "metadata": {},
   "outputs": [
    {
     "data": {
      "text/plain": [
       "Borough                         Brooklyn\n",
       "Neighborhood             Windsor Terrace\n",
       "ID              54e39b14498e9c646b42958e\n",
       "Name                East Wind Snack Shop\n",
       "Likes                                142\n",
       "Rating                                 9\n",
       "Tips                                  50\n",
       "Name: 31, dtype: object"
      ]
     },
     "execution_count": 53,
     "metadata": {},
     "output_type": "execute_result"
    }
   ],
   "source": [
    "# Resturant with maximum Ratings\n",
    "chinese_rest_stats_ny.iloc[chinese_rest_stats_ny['Rating'].idxmax()]"
   ]
  },
  {
   "cell_type": "code",
   "execution_count": 55,
   "metadata": {},
   "outputs": [
    {
     "data": {
      "text/plain": [
       "Borough                         Brooklyn\n",
       "Neighborhood                Clinton Hill\n",
       "ID              4a71ff01f964a52016da1fe3\n",
       "Name                             Kum Kau\n",
       "Likes                                109\n",
       "Rating                               7.9\n",
       "Tips                                  77\n",
       "Name: 43, dtype: object"
      ]
     },
     "execution_count": 55,
     "metadata": {},
     "output_type": "execute_result"
    }
   ],
   "source": [
    "# Resturant with maximum Tips\n",
    "chinese_rest_stats_ny.iloc[chinese_rest_stats_ny['Tips'].idxmax()]"
   ]
  },
  {
   "cell_type": "markdown",
   "metadata": {},
   "source": [
    "### Now let's identify and visualize neighborhood with the maximum average rating of restaurants"
   ]
  },
  {
   "cell_type": "code",
   "execution_count": 70,
   "metadata": {},
   "outputs": [
    {
     "data": {
      "text/html": [
       "<div>\n",
       "<style scoped>\n",
       "    .dataframe tbody tr th:only-of-type {\n",
       "        vertical-align: middle;\n",
       "    }\n",
       "\n",
       "    .dataframe tbody tr th {\n",
       "        vertical-align: top;\n",
       "    }\n",
       "\n",
       "    .dataframe thead th {\n",
       "        text-align: right;\n",
       "    }\n",
       "</style>\n",
       "<table border=\"1\" class=\"dataframe\">\n",
       "  <thead>\n",
       "    <tr style=\"text-align: right;\">\n",
       "      <th></th>\n",
       "      <th>Neighborhood</th>\n",
       "      <th>Average Rating</th>\n",
       "    </tr>\n",
       "  </thead>\n",
       "  <tbody>\n",
       "    <tr>\n",
       "      <th>25</th>\n",
       "      <td>North Side</td>\n",
       "      <td>9.00</td>\n",
       "    </tr>\n",
       "    <tr>\n",
       "      <th>11</th>\n",
       "      <td>Downtown</td>\n",
       "      <td>8.50</td>\n",
       "    </tr>\n",
       "    <tr>\n",
       "      <th>3</th>\n",
       "      <td>Boerum Hill</td>\n",
       "      <td>8.10</td>\n",
       "    </tr>\n",
       "    <tr>\n",
       "      <th>7</th>\n",
       "      <td>Clinton Hill</td>\n",
       "      <td>7.90</td>\n",
       "    </tr>\n",
       "    <tr>\n",
       "      <th>31</th>\n",
       "      <td>Pelham Parkway</td>\n",
       "      <td>7.60</td>\n",
       "    </tr>\n",
       "    <tr>\n",
       "      <th>9</th>\n",
       "      <td>Concourse</td>\n",
       "      <td>7.60</td>\n",
       "    </tr>\n",
       "    <tr>\n",
       "      <th>37</th>\n",
       "      <td>Windsor Terrace</td>\n",
       "      <td>7.45</td>\n",
       "    </tr>\n",
       "    <tr>\n",
       "      <th>0</th>\n",
       "      <td>Bay Ridge</td>\n",
       "      <td>7.30</td>\n",
       "    </tr>\n",
       "    <tr>\n",
       "      <th>28</th>\n",
       "      <td>Park Slope</td>\n",
       "      <td>7.20</td>\n",
       "    </tr>\n",
       "    <tr>\n",
       "      <th>15</th>\n",
       "      <td>Eastchester</td>\n",
       "      <td>6.70</td>\n",
       "    </tr>\n",
       "  </tbody>\n",
       "</table>\n",
       "</div>"
      ],
      "text/plain": [
       "       Neighborhood  Average Rating\n",
       "25       North Side            9.00\n",
       "11         Downtown            8.50\n",
       "3       Boerum Hill            8.10\n",
       "7      Clinton Hill            7.90\n",
       "31   Pelham Parkway            7.60\n",
       "9         Concourse            7.60\n",
       "37  Windsor Terrace            7.45\n",
       "0         Bay Ridge            7.30\n",
       "28       Park Slope            7.20\n",
       "15      Eastchester            6.70"
      ]
     },
     "execution_count": 70,
     "metadata": {},
     "output_type": "execute_result"
    }
   ],
   "source": [
    "ny_neighborhood_stats=chinese_rest_stats_ny.groupby('Neighborhood',as_index=False).mean()[['Neighborhood','Rating']]\n",
    "ny_neighborhood_stats.columns=['Neighborhood','Average Rating']\n",
    "ny_neighborhood_stats.sort_values(['Average Rating'],ascending=False).head(10)"
   ]
  },
  {
   "cell_type": "markdown",
   "metadata": {},
   "source": [
    "\n",
    "Above are the top neighborhoods with the highest average ratings of chinese restaurants."
   ]
  },
  {
   "cell_type": "code",
   "execution_count": 71,
   "metadata": {},
   "outputs": [
    {
     "data": {
      "text/html": [
       "<div>\n",
       "<style scoped>\n",
       "    .dataframe tbody tr th:only-of-type {\n",
       "        vertical-align: middle;\n",
       "    }\n",
       "\n",
       "    .dataframe tbody tr th {\n",
       "        vertical-align: top;\n",
       "    }\n",
       "\n",
       "    .dataframe thead th {\n",
       "        text-align: right;\n",
       "    }\n",
       "</style>\n",
       "<table border=\"1\" class=\"dataframe\">\n",
       "  <thead>\n",
       "    <tr style=\"text-align: right;\">\n",
       "      <th></th>\n",
       "      <th>Borough</th>\n",
       "      <th>Average Rating</th>\n",
       "    </tr>\n",
       "  </thead>\n",
       "  <tbody>\n",
       "    <tr>\n",
       "      <th>1</th>\n",
       "      <td>Brooklyn</td>\n",
       "      <td>4.357143</td>\n",
       "    </tr>\n",
       "    <tr>\n",
       "      <th>0</th>\n",
       "      <td>Bronx</td>\n",
       "      <td>1.859091</td>\n",
       "    </tr>\n",
       "  </tbody>\n",
       "</table>\n",
       "</div>"
      ],
      "text/plain": [
       "    Borough  Average Rating\n",
       "1  Brooklyn        4.357143\n",
       "0     Bronx        1.859091"
      ]
     },
     "execution_count": 71,
     "metadata": {},
     "output_type": "execute_result"
    }
   ],
   "source": [
    "ny_borough_stats=chinese_rest_stats_ny.groupby('Borough',as_index=False).mean()[['Borough','Rating']]\n",
    "ny_borough_stats.columns=['Borough','Average Rating']\n",
    "ny_borough_stats.sort_values(['Average Rating'],ascending=False).head()"
   ]
  },
  {
   "cell_type": "markdown",
   "metadata": {},
   "source": [
    "\n",
    "Similarly these are the average ratings of Japanese Restaurants for each Borough"
   ]
  },
  {
   "cell_type": "markdown",
   "metadata": {},
   "source": [
    "## Visuals "
   ]
  },
  {
   "cell_type": "code",
   "execution_count": 72,
   "metadata": {},
   "outputs": [
    {
     "data": {
      "image/png": "[encoded data removed]",
      "text/plain": [
       "<Figure size 900x500 with 1 Axes>"
      ]
     },
     "metadata": {
      "needs_background": "light"
     },
     "output_type": "display_data"
    }
   ],
   "source": [
    "plt.figure(figsize=(9,5), dpi = 100)\n",
    "plt.title('Average rating of Chinese Restaurants for each Borough')\n",
    "plt.xlabel('Borough', fontsize = 15)\n",
    "plt.ylabel('Average Rating', fontsize=15)\n",
    "chinese_rest_stats_ny.groupby('Borough').mean()['Rating'].plot(kind='bar', color=clr)\n",
    "plt.legend()\n",
    "plt.show()"
   ]
  },
  {
   "cell_type": "markdown",
   "metadata": {},
   "source": [
    "\n",
    "We will consider all the neighborhoods with average rating greater or equal 8.0 to visualize on a map"
   ]
  },
  {
   "cell_type": "code",
   "execution_count": 73,
   "metadata": {},
   "outputs": [
    {
     "data": {
      "text/html": [
       "<div>\n",
       "<style scoped>\n",
       "    .dataframe tbody tr th:only-of-type {\n",
       "        vertical-align: middle;\n",
       "    }\n",
       "\n",
       "    .dataframe tbody tr th {\n",
       "        vertical-align: top;\n",
       "    }\n",
       "\n",
       "    .dataframe thead th {\n",
       "        text-align: right;\n",
       "    }\n",
       "</style>\n",
       "<table border=\"1\" class=\"dataframe\">\n",
       "  <thead>\n",
       "    <tr style=\"text-align: right;\">\n",
       "      <th></th>\n",
       "      <th>Neighborhood</th>\n",
       "      <th>Average Rating</th>\n",
       "    </tr>\n",
       "  </thead>\n",
       "  <tbody>\n",
       "    <tr>\n",
       "      <th>0</th>\n",
       "      <td>Bay Ridge</td>\n",
       "      <td>7.30</td>\n",
       "    </tr>\n",
       "    <tr>\n",
       "      <th>3</th>\n",
       "      <td>Boerum Hill</td>\n",
       "      <td>8.10</td>\n",
       "    </tr>\n",
       "    <tr>\n",
       "      <th>7</th>\n",
       "      <td>Clinton Hill</td>\n",
       "      <td>7.90</td>\n",
       "    </tr>\n",
       "    <tr>\n",
       "      <th>9</th>\n",
       "      <td>Concourse</td>\n",
       "      <td>7.60</td>\n",
       "    </tr>\n",
       "    <tr>\n",
       "      <th>11</th>\n",
       "      <td>Downtown</td>\n",
       "      <td>8.50</td>\n",
       "    </tr>\n",
       "    <tr>\n",
       "      <th>25</th>\n",
       "      <td>North Side</td>\n",
       "      <td>9.00</td>\n",
       "    </tr>\n",
       "    <tr>\n",
       "      <th>28</th>\n",
       "      <td>Park Slope</td>\n",
       "      <td>7.20</td>\n",
       "    </tr>\n",
       "    <tr>\n",
       "      <th>31</th>\n",
       "      <td>Pelham Parkway</td>\n",
       "      <td>7.60</td>\n",
       "    </tr>\n",
       "    <tr>\n",
       "      <th>37</th>\n",
       "      <td>Windsor Terrace</td>\n",
       "      <td>7.45</td>\n",
       "    </tr>\n",
       "  </tbody>\n",
       "</table>\n",
       "</div>"
      ],
      "text/plain": [
       "       Neighborhood  Average Rating\n",
       "0         Bay Ridge            7.30\n",
       "3       Boerum Hill            8.10\n",
       "7      Clinton Hill            7.90\n",
       "9         Concourse            7.60\n",
       "11         Downtown            8.50\n",
       "25       North Side            9.00\n",
       "28       Park Slope            7.20\n",
       "31   Pelham Parkway            7.60\n",
       "37  Windsor Terrace            7.45"
      ]
     },
     "execution_count": 73,
     "metadata": {},
     "output_type": "execute_result"
    }
   ],
   "source": [
    "ny_neighborhood_stats=ny_neighborhood_stats[ny_neighborhood_stats['Average Rating']>=7.0]\n",
    "ny_neighborhood_stats"
   ]
  },
  {
   "cell_type": "code",
   "execution_count": 74,
   "metadata": {},
   "outputs": [
    {
     "data": {
      "text/html": [
       "<div>\n",
       "<style scoped>\n",
       "    .dataframe tbody tr th:only-of-type {\n",
       "        vertical-align: middle;\n",
       "    }\n",
       "\n",
       "    .dataframe tbody tr th {\n",
       "        vertical-align: top;\n",
       "    }\n",
       "\n",
       "    .dataframe thead th {\n",
       "        text-align: right;\n",
       "    }\n",
       "</style>\n",
       "<table border=\"1\" class=\"dataframe\">\n",
       "  <thead>\n",
       "    <tr style=\"text-align: right;\">\n",
       "      <th></th>\n",
       "      <th>Borough</th>\n",
       "      <th>Neighborhood</th>\n",
       "      <th>Latitude</th>\n",
       "      <th>Longitude</th>\n",
       "      <th>Average Rating</th>\n",
       "    </tr>\n",
       "  </thead>\n",
       "  <tbody>\n",
       "    <tr>\n",
       "      <th>0</th>\n",
       "      <td>Brooklyn</td>\n",
       "      <td>Bay Ridge</td>\n",
       "      <td>40.625801</td>\n",
       "      <td>-74.030621</td>\n",
       "      <td>7.30</td>\n",
       "    </tr>\n",
       "    <tr>\n",
       "      <th>1</th>\n",
       "      <td>Brooklyn</td>\n",
       "      <td>Boerum Hill</td>\n",
       "      <td>40.685683</td>\n",
       "      <td>-73.983748</td>\n",
       "      <td>8.10</td>\n",
       "    </tr>\n",
       "    <tr>\n",
       "      <th>2</th>\n",
       "      <td>Brooklyn</td>\n",
       "      <td>Clinton Hill</td>\n",
       "      <td>40.693229</td>\n",
       "      <td>-73.967843</td>\n",
       "      <td>7.90</td>\n",
       "    </tr>\n",
       "    <tr>\n",
       "      <th>3</th>\n",
       "      <td>Bronx</td>\n",
       "      <td>Concourse</td>\n",
       "      <td>40.834284</td>\n",
       "      <td>-73.915589</td>\n",
       "      <td>7.60</td>\n",
       "    </tr>\n",
       "    <tr>\n",
       "      <th>4</th>\n",
       "      <td>Brooklyn</td>\n",
       "      <td>Downtown</td>\n",
       "      <td>40.690844</td>\n",
       "      <td>-73.983463</td>\n",
       "      <td>8.50</td>\n",
       "    </tr>\n",
       "    <tr>\n",
       "      <th>5</th>\n",
       "      <td>Brooklyn</td>\n",
       "      <td>North Side</td>\n",
       "      <td>40.714823</td>\n",
       "      <td>-73.958809</td>\n",
       "      <td>9.00</td>\n",
       "    </tr>\n",
       "    <tr>\n",
       "      <th>6</th>\n",
       "      <td>Brooklyn</td>\n",
       "      <td>Park Slope</td>\n",
       "      <td>40.672321</td>\n",
       "      <td>-73.977050</td>\n",
       "      <td>7.20</td>\n",
       "    </tr>\n",
       "    <tr>\n",
       "      <th>7</th>\n",
       "      <td>Bronx</td>\n",
       "      <td>Pelham Parkway</td>\n",
       "      <td>40.857413</td>\n",
       "      <td>-73.854756</td>\n",
       "      <td>7.60</td>\n",
       "    </tr>\n",
       "    <tr>\n",
       "      <th>8</th>\n",
       "      <td>Brooklyn</td>\n",
       "      <td>Windsor Terrace</td>\n",
       "      <td>40.656946</td>\n",
       "      <td>-73.980073</td>\n",
       "      <td>7.45</td>\n",
       "    </tr>\n",
       "  </tbody>\n",
       "</table>\n",
       "</div>"
      ],
      "text/plain": [
       "    Borough     Neighborhood   Latitude  Longitude  Average Rating\n",
       "0  Brooklyn        Bay Ridge  40.625801 -74.030621            7.30\n",
       "1  Brooklyn      Boerum Hill  40.685683 -73.983748            8.10\n",
       "2  Brooklyn     Clinton Hill  40.693229 -73.967843            7.90\n",
       "3     Bronx        Concourse  40.834284 -73.915589            7.60\n",
       "4  Brooklyn         Downtown  40.690844 -73.983463            8.50\n",
       "5  Brooklyn       North Side  40.714823 -73.958809            9.00\n",
       "6  Brooklyn       Park Slope  40.672321 -73.977050            7.20\n",
       "7     Bronx   Pelham Parkway  40.857413 -73.854756            7.60\n",
       "8  Brooklyn  Windsor Terrace  40.656946 -73.980073            7.45"
      ]
     },
     "execution_count": 74,
     "metadata": {},
     "output_type": "execute_result"
    }
   ],
   "source": [
    "\n",
    "ny_neighborhood_stats=pd.merge(ny_neighborhood_stats,ny_data, on='Neighborhood')\n",
    "ny_neighborhood_stats=ny_neighborhood_stats[['Borough','Neighborhood','Latitude','Longitude','Average Rating']]\n",
    "ny_neighborhood_stats"
   ]
  },
  {
   "cell_type": "markdown",
   "metadata": {},
   "source": [
    "Now we will show this data on a map"
   ]
  },
  {
   "cell_type": "code",
   "execution_count": 75,
   "metadata": {},
   "outputs": [],
   "source": [
    "\n",
    "# create map and display it\n",
    "ny_map = folium.Map(location=geo_location('New York'), zoom_start=12)\n",
    "# instantiate a feature group for the ratings in the dataframe\n",
    "rating = folium.map.FeatureGroup()\n",
    "\n",
    "# loop through the ratings and add each to the neighborhood feature group\n",
    "for lat, lng, in ny_neighborhood_stats[['Latitude','Longitude']].values:\n",
    "    rating.add_child(\n",
    "        folium.CircleMarker(\n",
    "            [lat, lng],\n",
    "            radius=10, # define how big you want the circle markers to be\n",
    "            color='yellow',\n",
    "            fill=True,\n",
    "            fill_color='blue',\n",
    "            fill_opacity=0.6\n",
    "        )\n",
    "    )"
   ]
  },
  {
   "cell_type": "markdown",
   "metadata": {},
   "source": [
    "Let's add a new field to dataframe for labeling purpose"
   ]
  },
  {
   "cell_type": "code",
   "execution_count": null,
   "metadata": {},
   "outputs": [],
   "source": []
  },
  {
   "cell_type": "code",
   "execution_count": 77,
   "metadata": {},
   "outputs": [
    {
     "data": {
      "text/html": [
       "<div style=\"width:100%;\"><div style=\"position:relative;width:100%;height:0;padding-bottom:60%;\"><span style=\"color:#565656\">Make this Notebook Trusted to load map: File -> Trust Notebook</span><iframe src=\"about:blank\" style=\"position:absolute;width:100%;height:100%;left:0;top:0;border:none !important;\" data-html=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 onload=\"this.contentDocument.open();this.contentDocument.write(atob(this.getAttribute('data-html')));this.contentDocument.close();\" allowfullscreen webkitallowfullscreen mozallowfullscreen></iframe></div></div>"
      ],
      "text/plain": [
       "<folium.folium.Map at 0x7fd0a57d8dd0>"
      ]
     },
     "execution_count": 77,
     "metadata": {},
     "output_type": "execute_result"
    }
   ],
   "source": [
    "\n",
    "ny_neighborhood_stats['Label']=ny_neighborhood_stats['Neighborhood']+', '+ny_neighborhood_stats['Borough']+'('+ny_neighborhood_stats['Average Rating'].map(str)+')'\n",
    "# add pop-up text to each marker on the map\n",
    "for lat, lng, label in ny_neighborhood_stats[['Latitude','Longitude','Label']].values:\n",
    "    folium.Marker([lat, lng], popup=label).add_to(ny_map)        \n",
    "# add ratings to map\n",
    "ny_map.add_child(rating)"
   ]
  },
  {
   "cell_type": "code",
   "execution_count": null,
   "metadata": {},
   "outputs": [],
   "source": []
  }
 ],
 "metadata": {
  "kernelspec": {
   "display_name": "Python 3",
   "language": "python",
   "name": "python3"
  },
  "language_info": {
   "codemirror_mode": {
    "name": "ipython",
    "version": 3
   },
   "file_extension": ".py",
   "mimetype": "text/x-python",
   "name": "python",
   "nbconvert_exporter": "python",
   "pygments_lexer": "ipython3",
   "version": "3.7.6"
  }
 },
 "nbformat": 4,
 "nbformat_minor": 4
}
